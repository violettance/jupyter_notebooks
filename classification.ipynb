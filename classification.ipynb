{
 "cells": [
  {
   "cell_type": "markdown",
   "metadata": {},
   "source": [
    "## Income Prediction Based on Demographic and Socioeconomic Factors"
   ]
  },
  {
   "cell_type": "markdown",
   "metadata": {},
   "source": [
    "Description: Predict whether income exceeds $50K/yr based on census data."
   ]
  },
  {
   "cell_type": "markdown",
   "metadata": {},
   "source": [
    "### Summary\n",
    "\n",
    "[The dataset](https://data.world/uci/adult) is sourced from the Data World website.\n"
   ]
  },
  {
   "cell_type": "markdown",
   "metadata": {},
   "source": [
    "| Metric                                   | Value   | Description                                                                                                     |\n",
    "|------------------------------------------|---------|-----------------------------------------------------------------------------------------------------------------|\n",
    "| Accuracy                                 | 0.8524  | The overall accuracy of the model is approximately 85.24%. It indicates the proportion of correctly classified instances. A higher value suggests better performance. |\n",
    "| Precision (<=50K)                        | 0.88    | The precision for instances labeled as <=50K is 0.88. Precision represents the proportion of true positive predictions over the total predicted instances for that class. |\n",
    "| Recall (<=50K)                           | 0.93    | The recall (sensitivity) for instances labeled as <=50K is 0.93. Recall represents the proportion of true positive predictions over the total actual instances of that class. |\n",
    "| F1-Score (<=50K)                         | 0.90    | The F1-score for instances labeled as <=50K is 0.90. The F1-score is the harmonic mean of precision and recall, providing a balance between the two metrics. |\n",
    "| Precision (>50K)                         | 0.73    | The precision for instances labeled as >50K is 0.73. This means that the model is correct about 73% of the time when predicting >50K. |\n",
    "| Recall (>50K)                            | 0.63    | The recall (sensitivity) for instances labeled as >50K is 0.63. The model identifies about 63% of the actual >50K instances in the dataset. |\n",
    "| F1-Score (>50K)                          | 0.68    | The F1-score for instances labeled as >50K is 0.68. The F1-score takes into account both precision and recall for a class. |\n",
    "| Macro-Average F1-Score                   | 0.79    | The macro-average F1-score considers both classes equally and is 0.79. It provides an overall measure of the model's performance without considering class imbalance. |\n",
    "| Weighted-Average F1-Score                | 0.85    | The weighted-average F1-score is 0.85, considering class proportions in the test set. It indicates the F1-score when each class is weighted by the number of instances. |\n",
    "| Confusion Matrix (<=50K True Positives)  | 4549    | There were 4549 instances correctly predicted as <=50K (true positives). |\n",
    "| Confusion Matrix (<=50K False Positives) | 363     | There were 363 instances incorrectly predicted as >50K when they actually belong to <=50K (false positives). |\n",
    "| Confusion Matrix (<=50K False Negatives) | 598     | There were 598 instances incorrectly predicted as <=50K when they actually belong to >50K (false negatives). |\n",
    "| Confusion Matrix (>50K True Positives)   | 1002    | There were 1002 instances correctly predicted as >50K (true positives). |\n",
    "| Support (<=50K)                          | 4912    | There are 4912 instances labeled as <=50K in the test set. The support represents the number of instances in each class. |\n",
    "| Support (>50K)                           | 1600    | There are 1600 instances labeled as >50K in the test set. The support represents the number of instances in each class. |\n"
   ]
  },
  {
   "cell_type": "markdown",
   "metadata": {},
   "source": [
    "### Importing Libraries"
   ]
  },
  {
   "cell_type": "code",
   "execution_count": 22,
   "metadata": {},
   "outputs": [],
   "source": [
    "import pandas as pd\n",
    "import numpy as np\n",
    "from sklearn.model_selection import train_test_split\n",
    "from sklearn.ensemble import RandomForestClassifier\n",
    "from sklearn.metrics import accuracy_score, classification_report, confusion_matrix\n",
    "from pycaret.classification import setup, compare_models, pull, save_model"
   ]
  },
  {
   "cell_type": "markdown",
   "metadata": {},
   "source": [
    "### Read Dataset"
   ]
  },
  {
   "cell_type": "code",
   "execution_count": 23,
   "metadata": {},
   "outputs": [],
   "source": [
    "# Read csv data\n",
    "df = pd.read_csv(\"assets/input/adult.data.csv\")"
   ]
  },
  {
   "cell_type": "markdown",
   "metadata": {},
   "source": [
    "### Data Cleaning"
   ]
  },
  {
   "cell_type": "code",
   "execution_count": 24,
   "metadata": {},
   "outputs": [],
   "source": [
    "# List of column names in the 'columns_list' variable\n",
    "columns_list = [\"age\", \"workclass\", \"final_weight\", \"education\", \"education_num\",\n",
    "                \"marital_status\", \"occupation\", \"relationship\", \"race\", \"sex\",\n",
    "                \"capital_gain\", \"capital_loss\", \"hours_per_week\", \"native_country\", \"income_flag\"]\n",
    "\n",
    "# Assign column names to the DataFrame\n",
    "df.columns = columns_list"
   ]
  },
  {
   "cell_type": "markdown",
   "metadata": {},
   "source": [
    "### Data Profiling"
   ]
  },
  {
   "cell_type": "code",
   "execution_count": 25,
   "metadata": {},
   "outputs": [
    {
     "data": {
      "text/plain": [
       "age               0\n",
       "workclass         0\n",
       "final_weight      0\n",
       "education         0\n",
       "education_num     0\n",
       "marital_status    0\n",
       "occupation        0\n",
       "relationship      0\n",
       "race              0\n",
       "sex               0\n",
       "capital_gain      0\n",
       "capital_loss      0\n",
       "hours_per_week    0\n",
       "native_country    0\n",
       "income_flag       0\n",
       "dtype: int64"
      ]
     },
     "execution_count": 25,
     "metadata": {},
     "output_type": "execute_result"
    }
   ],
   "source": [
    "# Checking Nan values\n",
    "df.isnull().sum()"
   ]
  },
  {
   "cell_type": "markdown",
   "metadata": {},
   "source": [
    "### Update Dataset"
   ]
  },
  {
   "cell_type": "code",
   "execution_count": 26,
   "metadata": {},
   "outputs": [],
   "source": [
    "# Updated data\n",
    "df.to_csv(\"assets/output/adult.updated.data.csv\")"
   ]
  },
  {
   "cell_type": "markdown",
   "metadata": {},
   "source": [
    "### Classification Models"
   ]
  },
  {
   "cell_type": "markdown",
   "metadata": {},
   "source": [
    "#### Random Forest Classifier with Scikit-learn"
   ]
  },
  {
   "cell_type": "code",
   "execution_count": 27,
   "metadata": {},
   "outputs": [
    {
     "data": {
      "text/plain": [
       "RandomForestClassifier(bootstrap=True, ccp_alpha=0.0, class_weight=None,\n",
       "                       criterion='gini', max_depth=None, max_features='auto',\n",
       "                       max_leaf_nodes=None, max_samples=None,\n",
       "                       min_impurity_decrease=0.0, min_samples_leaf=1,\n",
       "                       min_samples_split=2, min_weight_fraction_leaf=0.0,\n",
       "                       n_estimators=100, n_jobs=None, oob_score=False,\n",
       "                       random_state=26, verbose=0, warm_start=False)"
      ]
     },
     "execution_count": 27,
     "metadata": {},
     "output_type": "execute_result"
    }
   ],
   "source": [
    "# Split the data into features (X) and the target variable (y)\n",
    "X = df.drop(\"income_flag\", axis=1)\n",
    "y = df[\"income_flag\"]\n",
    "\n",
    "# Convert categorical variables into numerical using one-hot encoding\n",
    "X = pd.get_dummies(X)\n",
    "\n",
    "# Split the data into training and testing sets (80% train, 20% test)\n",
    "X_train, X_test, y_train, y_test = train_test_split(X, y, test_size=0.2, random_state=42)\n",
    "\n",
    "# Initialize the Random Forest Classifier\n",
    "rf_classifier = RandomForestClassifier(random_state=26)\n",
    "\n",
    "# Train the classifier on the training data\n",
    "rf_classifier.fit(X_train, y_train)"
   ]
  },
  {
   "cell_type": "code",
   "execution_count": 28,
   "metadata": {},
   "outputs": [
    {
     "name": "stdout",
     "output_type": "stream",
     "text": [
      "Accuracy: 0.8513513513513513\n",
      "Classification Report:\n",
      "              precision    recall  f1-score   support\n",
      "\n",
      "       <=50K       0.88      0.93      0.90      4912\n",
      "        >50K       0.73      0.62      0.67      1600\n",
      "\n",
      "    accuracy                           0.85      6512\n",
      "   macro avg       0.81      0.78      0.79      6512\n",
      "weighted avg       0.85      0.85      0.85      6512\n",
      "\n",
      "Confusion Matrix:\n",
      "[[4544  368]\n",
      " [ 600 1000]]\n"
     ]
    }
   ],
   "source": [
    "# Make predictions on the test set\n",
    "y_pred = rf_classifier.predict(X_test)\n",
    "\n",
    "# Calculate accuracy\n",
    "accuracy = accuracy_score(y_test, y_pred)\n",
    "print(\"Accuracy:\", accuracy)\n",
    "\n",
    "# Generate a classification report\n",
    "print(\"Classification Report:\")\n",
    "print(classification_report(y_test, y_pred))\n",
    "\n",
    "# Generate a confusion matrix\n",
    "print(\"Confusion Matrix:\")\n",
    "print(confusion_matrix(y_test, y_pred))"
   ]
  },
  {
   "cell_type": "code",
   "execution_count": 29,
   "metadata": {},
   "outputs": [
    {
     "name": "stdout",
     "output_type": "stream",
     "text": [
      "Predicted income_flag:  <=50K\n"
     ]
    }
   ],
   "source": [
    "# Test data\n",
    "test_data = {\n",
    "    'age': 26,\n",
    "    'workclass': 'Private',\n",
    "    'fnlwgt': 220000,\n",
    "    'education': 'Bachelors',\n",
    "    'education-num': 13,\n",
    "    'marital-status': 'Never-married',\n",
    "    'occupation': 'Exec-managerial',\n",
    "    'relationship': 'Unmarried',\n",
    "    'race': 'White',\n",
    "    'sex': 'Female',\n",
    "    'capital-gain': 1000,\n",
    "    'capital-loss': 0,\n",
    "    'hours-per-week': 40,\n",
    "    'native-country': 'United-States'\n",
    "}\n",
    "\n",
    "# Convert test_data into a DataFrame\n",
    "test_df = pd.DataFrame([test_data])\n",
    "\n",
    "# Perform one-hot encoding on categorical variables\n",
    "# It turns the categorical variables (like workclass, education, etc.) into numerical values \n",
    "test_df = pd.get_dummies(test_df)\n",
    "\n",
    "# Reorder the columns in test_df to match the order in X_train\n",
    "test_df = test_df.reindex(columns=X.columns, fill_value=0)\n",
    "\n",
    "# Make predictions using the trained classifier\n",
    "predicted_income_flag = rf_classifier.predict(test_df)\n",
    "\n",
    "print(\"Predicted income_flag:\", predicted_income_flag[0])"
   ]
  },
  {
   "cell_type": "code",
   "execution_count": 30,
   "metadata": {},
   "outputs": [
    {
     "name": "stdout",
     "output_type": "stream",
     "text": [
      "Feature Importances (sorted):\n",
      "final_weight: 0.15869161250893546\n",
      "age: 0.14994870525551138\n",
      "capital_gain: 0.08989217050517943\n",
      "hours_per_week: 0.08419702596996338\n",
      "education_num: 0.06497283981034216\n",
      "marital_status_ Married-civ-spouse: 0.06032166859796757\n",
      "relationship_ Husband: 0.0469934847724404\n",
      "capital_loss: 0.029190669150899188\n",
      "marital_status_ Never-married: 0.025085614159032207\n",
      "occupation_ Exec-managerial: 0.017101752742056636\n",
      "occupation_ Prof-specialty: 0.015393901167747684\n",
      "education_ Bachelors: 0.011551074101349867\n",
      "workclass_ Private: 0.010942326848439972\n",
      "relationship_ Wife: 0.010905235625377811\n",
      "sex_ Male: 0.009887746466086504\n",
      "relationship_ Not-in-family: 0.009415809915141243\n",
      "education_ Masters: 0.008834668454587196\n",
      "sex_ Female: 0.00879540872152152\n",
      "workclass_ Self-emp-not-inc: 0.008478988233719502\n",
      "relationship_ Own-child: 0.008253070829760413\n",
      "marital_status_ Divorced: 0.008039229775370693\n",
      "occupation_ Other-service: 0.008006755750143767\n",
      "education_ HS-grad: 0.007661301399558045\n",
      "occupation_ Sales: 0.007343874554384137\n",
      "occupation_ Craft-repair: 0.006818611590251531\n",
      "race_ White: 0.006519142966246717\n",
      "native_country_ United-States: 0.0062641972048241784\n",
      "occupation_ Adm-clerical: 0.005833941830029751\n",
      "workclass_ Local-gov: 0.005697522448669528\n",
      "workclass_ Self-emp-inc: 0.005606918359287293\n",
      "workclass_ Federal-gov: 0.005306901599687781\n",
      "education_ Some-college: 0.0051002144424185875\n",
      "workclass_ State-gov: 0.0046943816998548625\n",
      "occupation_ Tech-support: 0.004656081880601689\n",
      "race_ Black: 0.004616661584037857\n",
      "relationship_ Unmarried: 0.004383404709959868\n",
      "occupation_ Farming-fishing: 0.004360624680859528\n",
      "occupation_ Transport-moving: 0.004334344030398334\n",
      "education_ Prof-school: 0.00428394035200561\n",
      "occupation_ Machine-op-inspct: 0.0040751950190452005\n",
      "education_ Doctorate: 0.003656740288152271\n",
      "occupation_ Handlers-cleaners: 0.003228901858201238\n",
      "race_ Asian-Pac-Islander: 0.0032254533699198453\n",
      "education_ Assoc-voc: 0.0032166582478202472\n",
      "occupation_ Protective-serv: 0.0031374307651808467\n",
      "native_country_ ?: 0.0025637772705595723\n",
      "education_ Assoc-acdm: 0.0024925725335710747\n",
      "occupation_ ?: 0.0021033802814890614\n",
      "education_ 11th: 0.002033094967875812\n",
      "native_country_ Mexico: 0.001925882668174963\n",
      "workclass_ ?: 0.0019133974457466087\n",
      "education_ 7th-8th: 0.0019087475952212086\n",
      "marital_status_ Separated: 0.001716252563854808\n",
      "marital_status_ Widowed: 0.0015694478802848698\n",
      "education_ 10th: 0.0014927931867672827\n",
      "education_ 9th: 0.0013209962902674458\n",
      "relationship_ Other-relative: 0.001315233315195131\n",
      "race_ Amer-Indian-Eskimo: 0.0012590477450264703\n",
      "native_country_ Germany: 0.001160358253678458\n",
      "native_country_ Canada: 0.0009980220912730628\n",
      "native_country_ Philippines: 0.0009161484539659293\n",
      "native_country_ England: 0.0009117689953651502\n",
      "race_ Other: 0.0008538770883307724\n",
      "marital_status_ Married-spouse-absent: 0.0008454953386636655\n",
      "education_ 12th: 0.0008253461697420642\n",
      "native_country_ Cuba: 0.0007800759591615964\n",
      "education_ 5th-6th: 0.0007262300436760986\n",
      "native_country_ India: 0.0007123446985132393\n",
      "native_country_ Italy: 0.0007042524439522863\n",
      "native_country_ China: 0.000514653519793812\n",
      "native_country_ South: 0.000501468474584381\n",
      "native_country_ Japan: 0.0004993692769636492\n",
      "native_country_ Iran: 0.0004623717721017484\n",
      "native_country_ Puerto-Rico: 0.00046018764614312184\n",
      "native_country_ Jamaica: 0.00042528705208294917\n",
      "native_country_ Vietnam: 0.00034216128197003744\n",
      "native_country_ Cambodia: 0.0003287573764538889\n",
      "native_country_ Poland: 0.00031992745109429437\n",
      "native_country_ France: 0.00031679740898747096\n",
      "native_country_ Taiwan: 0.0003144848163927766\n",
      "native_country_ Greece: 0.0003104197119790605\n",
      "marital_status_ Married-AF-spouse: 0.00029432265185515445\n",
      "native_country_ El-Salvador: 0.00026149105387936335\n",
      "native_country_ Columbia: 0.00023963985381131694\n",
      "native_country_ Ireland: 0.00022848637388085292\n",
      "education_ 1st-4th: 0.0001999879309003627\n",
      "native_country_ Portugal: 0.00019224478144599404\n",
      "native_country_ Hungary: 0.00017429462512777127\n",
      "native_country_ Haiti: 0.0001739431294502056\n",
      "native_country_ Yugoslavia: 0.00016496784224527634\n",
      "native_country_ Guatemala: 0.00016354746509189457\n",
      "native_country_ Dominican-Republic: 0.0001434210976090445\n",
      "native_country_ Nicaragua: 0.0001410274399985413\n",
      "native_country_ Hong: 0.00013964741583536632\n",
      "occupation_ Priv-house-serv: 0.00010585344387135923\n",
      "native_country_ Ecuador: 0.00010493653613626841\n",
      "native_country_ Trinadad&Tobago: 8.53135772234054e-05\n",
      "native_country_ Scotland: 7.826857470732824e-05\n",
      "native_country_ Thailand: 6.964808392500274e-05\n",
      "native_country_ Laos: 6.388442306462481e-05\n",
      "workclass_ Without-pay: 5.687806169858823e-05\n",
      "native_country_ Peru: 5.5472849425508616e-05\n",
      "education_ Preschool: 4.7058039396407336e-05\n",
      "occupation_ Armed-Forces: 1.7756549641986416e-05\n",
      "native_country_ Outlying-US(Guam-USVI-etc): 1.7356996808211817e-05\n",
      "native_country_ Honduras: 1.0504005062608586e-05\n",
      "workclass_ Never-worked: 3.4115667397807685e-06\n",
      "native_country_ Holand-Netherlands: 2.3192948543401046e-09\n"
     ]
    }
   ],
   "source": [
    "# Get the feature importances\n",
    "feature_importances = rf_classifier.feature_importances_\n",
    "\n",
    "# Get the indices that would sort the importances array in descending order\n",
    "sorted_indices = np.argsort(feature_importances)[::-1]\n",
    "\n",
    "# Print feature importances in descending order\n",
    "print(\"Feature Importances (sorted):\")\n",
    "for index in sorted_indices:\n",
    "    print(f\"{X.columns[index]}: {feature_importances[index]}\")"
   ]
  },
  {
   "cell_type": "markdown",
   "metadata": {},
   "source": [
    "#### PyCaret"
   ]
  },
  {
   "cell_type": "code",
   "execution_count": 31,
   "metadata": {},
   "outputs": [
    {
     "data": {
      "text/html": [
       "<style type=\"text/css\">\n",
       "#T_20bb3_row11_col1 {\n",
       "  background-color: lightgreen;\n",
       "}\n",
       "</style>\n",
       "<table id=\"T_20bb3_\">\n",
       "  <thead>\n",
       "    <tr>\n",
       "      <th class=\"blank level0\" >&nbsp;</th>\n",
       "      <th class=\"col_heading level0 col0\" >Description</th>\n",
       "      <th class=\"col_heading level0 col1\" >Value</th>\n",
       "    </tr>\n",
       "  </thead>\n",
       "  <tbody>\n",
       "    <tr>\n",
       "      <th id=\"T_20bb3_level0_row0\" class=\"row_heading level0 row0\" >0</th>\n",
       "      <td id=\"T_20bb3_row0_col0\" class=\"data row0 col0\" >Session id</td>\n",
       "      <td id=\"T_20bb3_row0_col1\" class=\"data row0 col1\" >123</td>\n",
       "    </tr>\n",
       "    <tr>\n",
       "      <th id=\"T_20bb3_level0_row1\" class=\"row_heading level0 row1\" >1</th>\n",
       "      <td id=\"T_20bb3_row1_col0\" class=\"data row1 col0\" >Target</td>\n",
       "      <td id=\"T_20bb3_row1_col1\" class=\"data row1 col1\" >income_flag</td>\n",
       "    </tr>\n",
       "    <tr>\n",
       "      <th id=\"T_20bb3_level0_row2\" class=\"row_heading level0 row2\" >2</th>\n",
       "      <td id=\"T_20bb3_row2_col0\" class=\"data row2 col0\" >Target type</td>\n",
       "      <td id=\"T_20bb3_row2_col1\" class=\"data row2 col1\" >Binary</td>\n",
       "    </tr>\n",
       "    <tr>\n",
       "      <th id=\"T_20bb3_level0_row3\" class=\"row_heading level0 row3\" >3</th>\n",
       "      <td id=\"T_20bb3_row3_col0\" class=\"data row3 col0\" >Target mapping</td>\n",
       "      <td id=\"T_20bb3_row3_col1\" class=\"data row3 col1\" > <=50K: 0,  >50K: 1</td>\n",
       "    </tr>\n",
       "    <tr>\n",
       "      <th id=\"T_20bb3_level0_row4\" class=\"row_heading level0 row4\" >4</th>\n",
       "      <td id=\"T_20bb3_row4_col0\" class=\"data row4 col0\" >Original data shape</td>\n",
       "      <td id=\"T_20bb3_row4_col1\" class=\"data row4 col1\" >(32560, 15)</td>\n",
       "    </tr>\n",
       "    <tr>\n",
       "      <th id=\"T_20bb3_level0_row5\" class=\"row_heading level0 row5\" >5</th>\n",
       "      <td id=\"T_20bb3_row5_col0\" class=\"data row5 col0\" >Transformed data shape</td>\n",
       "      <td id=\"T_20bb3_row5_col1\" class=\"data row5 col1\" >(32560, 67)</td>\n",
       "    </tr>\n",
       "    <tr>\n",
       "      <th id=\"T_20bb3_level0_row6\" class=\"row_heading level0 row6\" >6</th>\n",
       "      <td id=\"T_20bb3_row6_col0\" class=\"data row6 col0\" >Transformed train set shape</td>\n",
       "      <td id=\"T_20bb3_row6_col1\" class=\"data row6 col1\" >(22792, 67)</td>\n",
       "    </tr>\n",
       "    <tr>\n",
       "      <th id=\"T_20bb3_level0_row7\" class=\"row_heading level0 row7\" >7</th>\n",
       "      <td id=\"T_20bb3_row7_col0\" class=\"data row7 col0\" >Transformed test set shape</td>\n",
       "      <td id=\"T_20bb3_row7_col1\" class=\"data row7 col1\" >(9768, 67)</td>\n",
       "    </tr>\n",
       "    <tr>\n",
       "      <th id=\"T_20bb3_level0_row8\" class=\"row_heading level0 row8\" >8</th>\n",
       "      <td id=\"T_20bb3_row8_col0\" class=\"data row8 col0\" >Ordinal features</td>\n",
       "      <td id=\"T_20bb3_row8_col1\" class=\"data row8 col1\" >1</td>\n",
       "    </tr>\n",
       "    <tr>\n",
       "      <th id=\"T_20bb3_level0_row9\" class=\"row_heading level0 row9\" >9</th>\n",
       "      <td id=\"T_20bb3_row9_col0\" class=\"data row9 col0\" >Numeric features</td>\n",
       "      <td id=\"T_20bb3_row9_col1\" class=\"data row9 col1\" >6</td>\n",
       "    </tr>\n",
       "    <tr>\n",
       "      <th id=\"T_20bb3_level0_row10\" class=\"row_heading level0 row10\" >10</th>\n",
       "      <td id=\"T_20bb3_row10_col0\" class=\"data row10 col0\" >Categorical features</td>\n",
       "      <td id=\"T_20bb3_row10_col1\" class=\"data row10 col1\" >8</td>\n",
       "    </tr>\n",
       "    <tr>\n",
       "      <th id=\"T_20bb3_level0_row11\" class=\"row_heading level0 row11\" >11</th>\n",
       "      <td id=\"T_20bb3_row11_col0\" class=\"data row11 col0\" >Preprocess</td>\n",
       "      <td id=\"T_20bb3_row11_col1\" class=\"data row11 col1\" >True</td>\n",
       "    </tr>\n",
       "    <tr>\n",
       "      <th id=\"T_20bb3_level0_row12\" class=\"row_heading level0 row12\" >12</th>\n",
       "      <td id=\"T_20bb3_row12_col0\" class=\"data row12 col0\" >Imputation type</td>\n",
       "      <td id=\"T_20bb3_row12_col1\" class=\"data row12 col1\" >simple</td>\n",
       "    </tr>\n",
       "    <tr>\n",
       "      <th id=\"T_20bb3_level0_row13\" class=\"row_heading level0 row13\" >13</th>\n",
       "      <td id=\"T_20bb3_row13_col0\" class=\"data row13 col0\" >Numeric imputation</td>\n",
       "      <td id=\"T_20bb3_row13_col1\" class=\"data row13 col1\" >mean</td>\n",
       "    </tr>\n",
       "    <tr>\n",
       "      <th id=\"T_20bb3_level0_row14\" class=\"row_heading level0 row14\" >14</th>\n",
       "      <td id=\"T_20bb3_row14_col0\" class=\"data row14 col0\" >Categorical imputation</td>\n",
       "      <td id=\"T_20bb3_row14_col1\" class=\"data row14 col1\" >mode</td>\n",
       "    </tr>\n",
       "    <tr>\n",
       "      <th id=\"T_20bb3_level0_row15\" class=\"row_heading level0 row15\" >15</th>\n",
       "      <td id=\"T_20bb3_row15_col0\" class=\"data row15 col0\" >Maximum one-hot encoding</td>\n",
       "      <td id=\"T_20bb3_row15_col1\" class=\"data row15 col1\" >25</td>\n",
       "    </tr>\n",
       "    <tr>\n",
       "      <th id=\"T_20bb3_level0_row16\" class=\"row_heading level0 row16\" >16</th>\n",
       "      <td id=\"T_20bb3_row16_col0\" class=\"data row16 col0\" >Encoding method</td>\n",
       "      <td id=\"T_20bb3_row16_col1\" class=\"data row16 col1\" >None</td>\n",
       "    </tr>\n",
       "    <tr>\n",
       "      <th id=\"T_20bb3_level0_row17\" class=\"row_heading level0 row17\" >17</th>\n",
       "      <td id=\"T_20bb3_row17_col0\" class=\"data row17 col0\" >Fold Generator</td>\n",
       "      <td id=\"T_20bb3_row17_col1\" class=\"data row17 col1\" >StratifiedKFold</td>\n",
       "    </tr>\n",
       "    <tr>\n",
       "      <th id=\"T_20bb3_level0_row18\" class=\"row_heading level0 row18\" >18</th>\n",
       "      <td id=\"T_20bb3_row18_col0\" class=\"data row18 col0\" >Fold Number</td>\n",
       "      <td id=\"T_20bb3_row18_col1\" class=\"data row18 col1\" >10</td>\n",
       "    </tr>\n",
       "    <tr>\n",
       "      <th id=\"T_20bb3_level0_row19\" class=\"row_heading level0 row19\" >19</th>\n",
       "      <td id=\"T_20bb3_row19_col0\" class=\"data row19 col0\" >CPU Jobs</td>\n",
       "      <td id=\"T_20bb3_row19_col1\" class=\"data row19 col1\" >-1</td>\n",
       "    </tr>\n",
       "    <tr>\n",
       "      <th id=\"T_20bb3_level0_row20\" class=\"row_heading level0 row20\" >20</th>\n",
       "      <td id=\"T_20bb3_row20_col0\" class=\"data row20 col0\" >Use GPU</td>\n",
       "      <td id=\"T_20bb3_row20_col1\" class=\"data row20 col1\" >False</td>\n",
       "    </tr>\n",
       "    <tr>\n",
       "      <th id=\"T_20bb3_level0_row21\" class=\"row_heading level0 row21\" >21</th>\n",
       "      <td id=\"T_20bb3_row21_col0\" class=\"data row21 col0\" >Log Experiment</td>\n",
       "      <td id=\"T_20bb3_row21_col1\" class=\"data row21 col1\" >False</td>\n",
       "    </tr>\n",
       "    <tr>\n",
       "      <th id=\"T_20bb3_level0_row22\" class=\"row_heading level0 row22\" >22</th>\n",
       "      <td id=\"T_20bb3_row22_col0\" class=\"data row22 col0\" >Experiment Name</td>\n",
       "      <td id=\"T_20bb3_row22_col1\" class=\"data row22 col1\" >clf-default-name</td>\n",
       "    </tr>\n",
       "    <tr>\n",
       "      <th id=\"T_20bb3_level0_row23\" class=\"row_heading level0 row23\" >23</th>\n",
       "      <td id=\"T_20bb3_row23_col0\" class=\"data row23 col0\" >USI</td>\n",
       "      <td id=\"T_20bb3_row23_col1\" class=\"data row23 col1\" >7e49</td>\n",
       "    </tr>\n",
       "  </tbody>\n",
       "</table>\n"
      ],
      "text/plain": [
       "<pandas.io.formats.style.Styler at 0x7fbba354df10>"
      ]
     },
     "metadata": {},
     "output_type": "display_data"
    }
   ],
   "source": [
    "s = setup(df, target = 'income_flag', session_id = 123)"
   ]
  },
  {
   "cell_type": "code",
   "execution_count": null,
   "metadata": {},
   "outputs": [],
   "source": [
    "# Functional API\n",
    "best = compare_models()"
   ]
  },
  {
   "cell_type": "code",
   "execution_count": null,
   "metadata": {},
   "outputs": [
    {
     "data": {
      "application/vnd.jupyter.widget-view+json": {
       "model_id": "e0b02f906000450f8e6b01b51b0317b6",
       "version_major": 2,
       "version_minor": 0
      },
      "text/plain": [
       "interactive(children=(ToggleButtons(description='Plot Type:', icons=('',), options=(('Pipeline Plot', 'pipelin…"
      ]
     },
     "metadata": {},
     "output_type": "display_data"
    }
   ],
   "source": [
    "# Model evaluation by feature importance\n",
    "s.evaluate_model(best)"
   ]
  },
  {
   "cell_type": "code",
   "execution_count": null,
   "metadata": {},
   "outputs": [
    {
     "data": {
      "text/html": [],
      "text/plain": [
       "<IPython.core.display.HTML object>"
      ]
     },
     "metadata": {},
     "output_type": "display_data"
    },
    {
     "data": {
      "image/png": "[encoded data removed]",
      "text/plain": [
       "<Figure size 800x550 with 1 Axes>"
      ]
     },
     "metadata": {},
     "output_type": "display_data"
    }
   ],
   "source": [
    "# Best model graph\n",
    "s.plot_model(best, plot = 'auc')"
   ]
  },
  {
   "cell_type": "code",
   "execution_count": null,
   "metadata": {},
   "outputs": [
    {
     "data": {
      "text/html": [],
      "text/plain": [
       "<IPython.core.display.HTML object>"
      ]
     },
     "metadata": {},
     "output_type": "display_data"
    },
    {
     "data": {
      "image/png": "[encoded data removed]",
      "text/plain": [
       "<Figure size 800x550 with 1 Axes>"
      ]
     },
     "metadata": {},
     "output_type": "display_data"
    }
   ],
   "source": [
    "# Confusion matrix\n",
    "s.plot_model(best, plot = 'confusion_matrix')"
   ]
  },
  {
   "cell_type": "code",
   "execution_count": null,
   "metadata": {},
   "outputs": [],
   "source": [
    "# Prediction of the best model\n",
    "s.predict_model(best)"
   ]
  },
  {
   "cell_type": "code",
   "execution_count": null,
   "metadata": {},
   "outputs": [],
   "source": [
    "# Apply the model to the input data and generate predictions\n",
    "predictions = s.predict_model(best, data=df)\n",
    "predictions.head()"
   ]
  }
 ],
 "metadata": {
  "kernelspec": {
   "display_name": "Python 3",
   "language": "python",
   "name": "python3"
  },
  "language_info": {
   "codemirror_mode": {
    "name": "ipython",
    "version": 3
   },
   "file_extension": ".py",
   "mimetype": "text/x-python",
   "name": "python",
   "nbconvert_exporter": "python",
   "pygments_lexer": "ipython3",
   "version": "3.9.13"
  },
  "orig_nbformat": 4
 },
 "nbformat": 4,
 "nbformat_minor": 2
}

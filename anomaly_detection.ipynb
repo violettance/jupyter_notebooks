{
 "cells": [
  {
   "cell_type": "markdown",
   "metadata": {},
   "source": [
    "### Importing Libraries"
   ]
  },
  {
   "cell_type": "code",
   "execution_count": 3,
   "metadata": {},
   "outputs": [],
   "source": [
    "import pandas as pd\n",
    "from pycaret.anomaly import AnomalyExperiment"
   ]
  },
  {
   "cell_type": "markdown",
   "metadata": {},
   "source": [
    "### Reading Dataset"
   ]
  },
  {
   "cell_type": "code",
   "execution_count": 4,
   "metadata": {},
   "outputs": [],
   "source": [
    "# Read csv data\n",
    "df = pd.read_csv(\"assets/input/sleep_data.csv\", sep=\";\")"
   ]
  },
  {
   "cell_type": "markdown",
   "metadata": {},
   "source": [
    "### Data Cleaning"
   ]
  },
  {
   "cell_type": "code",
   "execution_count": 5,
   "metadata": {},
   "outputs": [
    {
     "data": {
      "text/plain": [
       "Start                 0\n",
       "End                   0\n",
       "Sleep quality         0\n",
       "Time in bed           0\n",
       "Wake up             641\n",
       "Sleep Notes         235\n",
       "Heart rate          725\n",
       "Activity (steps)      0\n",
       "dtype: int64"
      ]
     },
     "execution_count": 5,
     "metadata": {},
     "output_type": "execute_result"
    }
   ],
   "source": [
    "df.isnull().sum()"
   ]
  },
  {
   "cell_type": "code",
   "execution_count": 6,
   "metadata": {},
   "outputs": [],
   "source": [
    "# Exploring column\n",
    "df[\"Wake up\"].unique()\n",
    "\n",
    "# Replace the smiley values with the corresponding numerical values\n",
    "df[\"Wake up\"].replace({\":)\": 1, \":|\": 0, \":(\": -1}, inplace=True)\n",
    "\n",
    "# Fill NaN values with 0\n",
    "df[\"Wake up\"].fillna(0, inplace=True)"
   ]
  },
  {
   "cell_type": "code",
   "execution_count": 7,
   "metadata": {},
   "outputs": [],
   "source": [
    "# Fill the NaN values in the 'Sleep Notes' column with 0.\n",
    "df['Sleep Notes'].fillna(0, inplace=True)\n",
    "\n",
    "# Drop the 'Heart rate' column.\n",
    "df.drop('Heart rate', axis=1, inplace=True)"
   ]
  },
  {
   "cell_type": "markdown",
   "metadata": {},
   "source": [
    "### PyCaret"
   ]
  },
  {
   "cell_type": "code",
   "execution_count": 8,
   "metadata": {},
   "outputs": [
    {
     "data": {
      "text/html": [
       "<style type=\"text/css\">\n",
       "#T_8ca0c_row5_col1 {\n",
       "  background-color: lightgreen;\n",
       "}\n",
       "</style>\n",
       "<table id=\"T_8ca0c\">\n",
       "  <thead>\n",
       "    <tr>\n",
       "      <th class=\"blank level0\" >&nbsp;</th>\n",
       "      <th id=\"T_8ca0c_level0_col0\" class=\"col_heading level0 col0\" >Description</th>\n",
       "      <th id=\"T_8ca0c_level0_col1\" class=\"col_heading level0 col1\" >Value</th>\n",
       "    </tr>\n",
       "  </thead>\n",
       "  <tbody>\n",
       "    <tr>\n",
       "      <th id=\"T_8ca0c_level0_row0\" class=\"row_heading level0 row0\" >0</th>\n",
       "      <td id=\"T_8ca0c_row0_col0\" class=\"data row0 col0\" >Session id</td>\n",
       "      <td id=\"T_8ca0c_row0_col1\" class=\"data row0 col1\" >123</td>\n",
       "    </tr>\n",
       "    <tr>\n",
       "      <th id=\"T_8ca0c_level0_row1\" class=\"row_heading level0 row1\" >1</th>\n",
       "      <td id=\"T_8ca0c_row1_col0\" class=\"data row1 col0\" >Original data shape</td>\n",
       "      <td id=\"T_8ca0c_row1_col1\" class=\"data row1 col1\" >(887, 7)</td>\n",
       "    </tr>\n",
       "    <tr>\n",
       "      <th id=\"T_8ca0c_level0_row2\" class=\"row_heading level0 row2\" >2</th>\n",
       "      <td id=\"T_8ca0c_row2_col0\" class=\"data row2 col0\" >Transformed data shape</td>\n",
       "      <td id=\"T_8ca0c_row2_col1\" class=\"data row2 col1\" >(887, 2104)</td>\n",
       "    </tr>\n",
       "    <tr>\n",
       "      <th id=\"T_8ca0c_level0_row3\" class=\"row_heading level0 row3\" >3</th>\n",
       "      <td id=\"T_8ca0c_row3_col0\" class=\"data row3 col0\" >Numeric features</td>\n",
       "      <td id=\"T_8ca0c_row3_col1\" class=\"data row3 col1\" >2</td>\n",
       "    </tr>\n",
       "    <tr>\n",
       "      <th id=\"T_8ca0c_level0_row4\" class=\"row_heading level0 row4\" >4</th>\n",
       "      <td id=\"T_8ca0c_row4_col0\" class=\"data row4 col0\" >Categorical features</td>\n",
       "      <td id=\"T_8ca0c_row4_col1\" class=\"data row4 col1\" >5</td>\n",
       "    </tr>\n",
       "    <tr>\n",
       "      <th id=\"T_8ca0c_level0_row5\" class=\"row_heading level0 row5\" >5</th>\n",
       "      <td id=\"T_8ca0c_row5_col0\" class=\"data row5 col0\" >Preprocess</td>\n",
       "      <td id=\"T_8ca0c_row5_col1\" class=\"data row5 col1\" >True</td>\n",
       "    </tr>\n",
       "    <tr>\n",
       "      <th id=\"T_8ca0c_level0_row6\" class=\"row_heading level0 row6\" >6</th>\n",
       "      <td id=\"T_8ca0c_row6_col0\" class=\"data row6 col0\" >Imputation type</td>\n",
       "      <td id=\"T_8ca0c_row6_col1\" class=\"data row6 col1\" >simple</td>\n",
       "    </tr>\n",
       "    <tr>\n",
       "      <th id=\"T_8ca0c_level0_row7\" class=\"row_heading level0 row7\" >7</th>\n",
       "      <td id=\"T_8ca0c_row7_col0\" class=\"data row7 col0\" >Numeric imputation</td>\n",
       "      <td id=\"T_8ca0c_row7_col1\" class=\"data row7 col1\" >mean</td>\n",
       "    </tr>\n",
       "    <tr>\n",
       "      <th id=\"T_8ca0c_level0_row8\" class=\"row_heading level0 row8\" >8</th>\n",
       "      <td id=\"T_8ca0c_row8_col0\" class=\"data row8 col0\" >Categorical imputation</td>\n",
       "      <td id=\"T_8ca0c_row8_col1\" class=\"data row8 col1\" >mode</td>\n",
       "    </tr>\n",
       "    <tr>\n",
       "      <th id=\"T_8ca0c_level0_row9\" class=\"row_heading level0 row9\" >9</th>\n",
       "      <td id=\"T_8ca0c_row9_col0\" class=\"data row9 col0\" >Maximum one-hot encoding</td>\n",
       "      <td id=\"T_8ca0c_row9_col1\" class=\"data row9 col1\" >-1</td>\n",
       "    </tr>\n",
       "    <tr>\n",
       "      <th id=\"T_8ca0c_level0_row10\" class=\"row_heading level0 row10\" >10</th>\n",
       "      <td id=\"T_8ca0c_row10_col0\" class=\"data row10 col0\" >Encoding method</td>\n",
       "      <td id=\"T_8ca0c_row10_col1\" class=\"data row10 col1\" >None</td>\n",
       "    </tr>\n",
       "    <tr>\n",
       "      <th id=\"T_8ca0c_level0_row11\" class=\"row_heading level0 row11\" >11</th>\n",
       "      <td id=\"T_8ca0c_row11_col0\" class=\"data row11 col0\" >CPU Jobs</td>\n",
       "      <td id=\"T_8ca0c_row11_col1\" class=\"data row11 col1\" >-1</td>\n",
       "    </tr>\n",
       "    <tr>\n",
       "      <th id=\"T_8ca0c_level0_row12\" class=\"row_heading level0 row12\" >12</th>\n",
       "      <td id=\"T_8ca0c_row12_col0\" class=\"data row12 col0\" >Use GPU</td>\n",
       "      <td id=\"T_8ca0c_row12_col1\" class=\"data row12 col1\" >False</td>\n",
       "    </tr>\n",
       "    <tr>\n",
       "      <th id=\"T_8ca0c_level0_row13\" class=\"row_heading level0 row13\" >13</th>\n",
       "      <td id=\"T_8ca0c_row13_col0\" class=\"data row13 col0\" >Log Experiment</td>\n",
       "      <td id=\"T_8ca0c_row13_col1\" class=\"data row13 col1\" >False</td>\n",
       "    </tr>\n",
       "    <tr>\n",
       "      <th id=\"T_8ca0c_level0_row14\" class=\"row_heading level0 row14\" >14</th>\n",
       "      <td id=\"T_8ca0c_row14_col0\" class=\"data row14 col0\" >Experiment Name</td>\n",
       "      <td id=\"T_8ca0c_row14_col1\" class=\"data row14 col1\" >anomaly-default-name</td>\n",
       "    </tr>\n",
       "    <tr>\n",
       "      <th id=\"T_8ca0c_level0_row15\" class=\"row_heading level0 row15\" >15</th>\n",
       "      <td id=\"T_8ca0c_row15_col0\" class=\"data row15 col0\" >USI</td>\n",
       "      <td id=\"T_8ca0c_row15_col1\" class=\"data row15 col1\" >a1a6</td>\n",
       "    </tr>\n",
       "  </tbody>\n",
       "</table>\n"
      ],
      "text/plain": [
       "<pandas.io.formats.style.Styler at 0x7faa0ab246a0>"
      ]
     },
     "metadata": {},
     "output_type": "display_data"
    },
    {
     "data": {
      "text/plain": [
       "<pycaret.anomaly.oop.AnomalyExperiment at 0x7faa09a01940>"
      ]
     },
     "execution_count": 8,
     "metadata": {},
     "output_type": "execute_result"
    }
   ],
   "source": [
    "# Setup model\n",
    "s = AnomalyExperiment()\n",
    "s.setup(df, session_id = 123)"
   ]
  },
  {
   "cell_type": "code",
   "execution_count": 9,
   "metadata": {},
   "outputs": [
    {
     "data": {
      "text/html": [],
      "text/plain": [
       "<IPython.core.display.HTML object>"
      ]
     },
     "metadata": {},
     "output_type": "display_data"
    },
    {
     "data": {
      "text/html": [],
      "text/plain": [
       "<IPython.core.display.HTML object>"
      ]
     },
     "metadata": {},
     "output_type": "display_data"
    },
    {
     "data": {
      "application/vnd.jupyter.widget-view+json": {
       "model_id": "d6f13377b2b644ae99fb24793afeb884",
       "version_major": 2,
       "version_minor": 0
      },
      "text/plain": [
       "Processing:   0%|          | 0/3 [00:00<?, ?it/s]"
      ]
     },
     "metadata": {},
     "output_type": "display_data"
    },
    {
     "data": {
      "text/html": [
       "<div>\n",
       "<style scoped>\n",
       "    .dataframe tbody tr th:only-of-type {\n",
       "        vertical-align: middle;\n",
       "    }\n",
       "\n",
       "    .dataframe tbody tr th {\n",
       "        vertical-align: top;\n",
       "    }\n",
       "\n",
       "    .dataframe thead th {\n",
       "        text-align: right;\n",
       "    }\n",
       "</style>\n",
       "<table border=\"1\" class=\"dataframe\">\n",
       "  <thead>\n",
       "    <tr style=\"text-align: right;\">\n",
       "      <th></th>\n",
       "      <th>Name</th>\n",
       "      <th>Reference</th>\n",
       "    </tr>\n",
       "    <tr>\n",
       "      <th>ID</th>\n",
       "      <th></th>\n",
       "      <th></th>\n",
       "    </tr>\n",
       "  </thead>\n",
       "  <tbody>\n",
       "    <tr>\n",
       "      <th>abod</th>\n",
       "      <td>Angle-base Outlier Detection</td>\n",
       "      <td>pyod.models.abod.ABOD</td>\n",
       "    </tr>\n",
       "    <tr>\n",
       "      <th>cluster</th>\n",
       "      <td>Clustering-Based Local Outlier</td>\n",
       "      <td>pycaret.internal.patches.pyod.CBLOFForceToDouble</td>\n",
       "    </tr>\n",
       "    <tr>\n",
       "      <th>cof</th>\n",
       "      <td>Connectivity-Based Local Outlier</td>\n",
       "      <td>pyod.models.cof.COF</td>\n",
       "    </tr>\n",
       "    <tr>\n",
       "      <th>iforest</th>\n",
       "      <td>Isolation Forest</td>\n",
       "      <td>pyod.models.iforest.IForest</td>\n",
       "    </tr>\n",
       "    <tr>\n",
       "      <th>histogram</th>\n",
       "      <td>Histogram-based Outlier Detection</td>\n",
       "      <td>pyod.models.hbos.HBOS</td>\n",
       "    </tr>\n",
       "    <tr>\n",
       "      <th>knn</th>\n",
       "      <td>K-Nearest Neighbors Detector</td>\n",
       "      <td>pyod.models.knn.KNN</td>\n",
       "    </tr>\n",
       "    <tr>\n",
       "      <th>lof</th>\n",
       "      <td>Local Outlier Factor</td>\n",
       "      <td>pyod.models.lof.LOF</td>\n",
       "    </tr>\n",
       "    <tr>\n",
       "      <th>svm</th>\n",
       "      <td>One-class SVM detector</td>\n",
       "      <td>pyod.models.ocsvm.OCSVM</td>\n",
       "    </tr>\n",
       "    <tr>\n",
       "      <th>pca</th>\n",
       "      <td>Principal Component Analysis</td>\n",
       "      <td>pyod.models.pca.PCA</td>\n",
       "    </tr>\n",
       "    <tr>\n",
       "      <th>mcd</th>\n",
       "      <td>Minimum Covariance Determinant</td>\n",
       "      <td>pyod.models.mcd.MCD</td>\n",
       "    </tr>\n",
       "    <tr>\n",
       "      <th>sod</th>\n",
       "      <td>Subspace Outlier Detection</td>\n",
       "      <td>pyod.models.sod.SOD</td>\n",
       "    </tr>\n",
       "    <tr>\n",
       "      <th>sos</th>\n",
       "      <td>Stochastic Outlier Selection</td>\n",
       "      <td>pyod.models.sos.SOS</td>\n",
       "    </tr>\n",
       "  </tbody>\n",
       "</table>\n",
       "</div>"
      ],
      "text/plain": [
       "                                        Name  \\\n",
       "ID                                             \n",
       "abod            Angle-base Outlier Detection   \n",
       "cluster       Clustering-Based Local Outlier   \n",
       "cof         Connectivity-Based Local Outlier   \n",
       "iforest                     Isolation Forest   \n",
       "histogram  Histogram-based Outlier Detection   \n",
       "knn             K-Nearest Neighbors Detector   \n",
       "lof                     Local Outlier Factor   \n",
       "svm                   One-class SVM detector   \n",
       "pca             Principal Component Analysis   \n",
       "mcd           Minimum Covariance Determinant   \n",
       "sod               Subspace Outlier Detection   \n",
       "sos             Stochastic Outlier Selection   \n",
       "\n",
       "                                                  Reference  \n",
       "ID                                                           \n",
       "abod                                  pyod.models.abod.ABOD  \n",
       "cluster    pycaret.internal.patches.pyod.CBLOFForceToDouble  \n",
       "cof                                     pyod.models.cof.COF  \n",
       "iforest                         pyod.models.iforest.IForest  \n",
       "histogram                             pyod.models.hbos.HBOS  \n",
       "knn                                     pyod.models.knn.KNN  \n",
       "lof                                     pyod.models.lof.LOF  \n",
       "svm                                 pyod.models.ocsvm.OCSVM  \n",
       "pca                                     pyod.models.pca.PCA  \n",
       "mcd                                     pyod.models.mcd.MCD  \n",
       "sod                                     pyod.models.sod.SOD  \n",
       "sos                                     pyod.models.sos.SOS  "
      ]
     },
     "execution_count": 9,
     "metadata": {},
     "output_type": "execute_result"
    }
   ],
   "source": [
    "# Create model\n",
    "iforest = s.create_model('iforest')\n",
    "\n",
    "s.models()"
   ]
  },
  {
   "cell_type": "code",
   "execution_count": 10,
   "metadata": {},
   "outputs": [
    {
     "data": {
      "text/html": [],
      "text/plain": [
       "<IPython.core.display.HTML object>"
      ]
     },
     "metadata": {},
     "output_type": "display_data"
    },
    {
     "data": {
      "application/vnd.plotly.v1+json": {
       "config": {
        "plotlyServerURL": "https://plot.ly"
       },
       "data": [
        {
         "customdata": [
          [
           "2014-12-29 22:57:49"
          ],
          [
           "2014-12-30 21:17:50"
          ],
          [
           "2014-12-30 22:42:49"
          ],
          [
           "2014-12-31 22:31:01"
          ],
          [
           "2015-01-01 22:12:10"
          ],
          [
           "2015-01-03 00:34:57"
          ],
          [
           "2015-01-04 00:23:06"
          ],
          [
           "2015-01-04 21:34:44"
          ],
          [
           "2015-01-05 21:32:25"
          ],
          [
           "2015-01-06 21:24:56"
          ],
          [
           "2015-01-07 20:59:58"
          ],
          [
           "2015-01-08 22:58:18"
          ],
          [
           "2015-01-09 22:27:58"
          ],
          [
           "2015-01-10 22:38:24"
          ],
          [
           "2015-01-11 22:12:07"
          ],
          [
           "2015-01-12 21:01:46"
          ],
          [
           "2015-01-13 22:14:29"
          ],
          [
           "2015-01-14 21:48:26"
          ],
          [
           "2015-01-15 21:32:07"
          ],
          [
           "2015-01-17 02:11:57"
          ],
          [
           "2015-01-17 23:55:16"
          ],
          [
           "2015-01-18 21:51:53"
          ],
          [
           "2015-01-19 05:06:38"
          ],
          [
           "2015-01-19 21:45:19"
          ],
          [
           "2015-01-20 21:42:37"
          ],
          [
           "2015-01-21 22:34:35"
          ],
          [
           "2015-01-25 20:55:02"
          ],
          [
           "2015-01-26 22:36:21"
          ],
          [
           "2015-01-28 21:43:16"
          ],
          [
           "2015-01-29 22:23:40"
          ],
          [
           "2015-01-31 00:13:46"
          ],
          [
           "2015-02-01 21:55:59"
          ],
          [
           "2015-02-02 22:30:35"
          ],
          [
           "2015-02-03 22:47:33"
          ],
          [
           "2015-02-04 23:03:06"
          ],
          [
           "2015-02-08 22:30:34"
          ],
          [
           "2015-02-09 21:55:43"
          ],
          [
           "2015-02-10 22:20:46"
          ],
          [
           "2015-02-11 21:53:45"
          ],
          [
           "2015-02-12 22:34:54"
          ],
          [
           "2015-02-15 22:16:27"
          ],
          [
           "2015-02-17 00:02:30"
          ],
          [
           "2015-02-17 22:20:00"
          ],
          [
           "2015-02-19 22:39:45"
          ],
          [
           "2015-02-21 00:31:24"
          ],
          [
           "2015-02-21 22:54:00"
          ],
          [
           "2015-02-22 22:18:00"
          ],
          [
           "2015-02-24 22:30:11"
          ],
          [
           "2015-02-26 01:22:32"
          ],
          [
           "2015-02-26 21:42:32"
          ],
          [
           "2015-03-01 20:14:26"
          ],
          [
           "2015-03-03 21:47:16"
          ],
          [
           "2015-03-04 20:53:47"
          ],
          [
           "2015-03-05 22:29:33"
          ],
          [
           "2015-03-08 22:54:58"
          ],
          [
           "2015-03-09 21:28:08"
          ],
          [
           "2015-03-10 22:17:17"
          ],
          [
           "2015-03-11 21:39:44"
          ],
          [
           "2015-03-12 21:44:36"
          ],
          [
           "2015-03-15 21:50:56"
          ],
          [
           "2015-03-16 21:48:42"
          ],
          [
           "2015-03-17 23:57:46"
          ],
          [
           "2015-03-21 01:10:15"
          ],
          [
           "2015-03-22 23:07:46"
          ],
          [
           "2015-03-24 22:11:07"
          ],
          [
           "2015-03-25 22:00:06"
          ],
          [
           "2015-03-26 21:23:43"
          ],
          [
           "2015-03-30 22:30:48"
          ],
          [
           "2015-03-31 22:17:15"
          ],
          [
           "2015-04-04 23:13:30"
          ],
          [
           "2015-04-06 21:22:37"
          ],
          [
           "2015-04-07 21:17:36"
          ],
          [
           "2015-04-08 22:09:38"
          ],
          [
           "2015-04-09 21:56:08"
          ],
          [
           "2015-04-10 23:51:30"
          ],
          [
           "2015-04-11 23:16:56"
          ],
          [
           "2015-04-12 22:04:59"
          ],
          [
           "2015-04-13 22:19:39"
          ],
          [
           "2015-04-15 00:28:55"
          ],
          [
           "2015-04-16 23:20:50"
          ],
          [
           "2015-04-17 23:50:04"
          ],
          [
           "2015-04-20 22:37:59"
          ],
          [
           "2015-04-22 21:31:35"
          ],
          [
           "2015-04-23 21:46:46"
          ],
          [
           "2015-04-25 22:53:27"
          ],
          [
           "2015-04-26 21:51:16"
          ],
          [
           "2015-04-27 21:35:56"
          ],
          [
           "2015-04-28 21:41:45"
          ],
          [
           "2015-04-30 23:13:44"
          ],
          [
           "2015-05-01 22:20:45"
          ],
          [
           "2015-05-05 22:23:26"
          ],
          [
           "2015-05-06 21:47:25"
          ],
          [
           "2015-05-07 21:22:59"
          ],
          [
           "2015-05-09 01:58:47"
          ],
          [
           "2015-05-10 22:11:42"
          ],
          [
           "2015-05-11 21:57:02"
          ],
          [
           "2015-05-12 22:04:51"
          ],
          [
           "2015-05-14 22:49:01"
          ],
          [
           "2015-05-17 21:03:11"
          ],
          [
           "2015-05-18 22:39:06"
          ],
          [
           "2015-05-20 22:22:50"
          ],
          [
           "2015-05-21 22:47:04"
          ],
          [
           "2015-05-24 00:01:49"
          ],
          [
           "2015-05-24 22:58:17"
          ],
          [
           "2015-05-25 22:05:49"
          ],
          [
           "2015-05-26 22:18:17"
          ],
          [
           "2015-05-28 23:10:34"
          ],
          [
           "2015-05-31 23:16:56"
          ],
          [
           "2015-06-01 22:20:07"
          ],
          [
           "2015-06-03 22:19:31"
          ],
          [
           "2015-06-04 22:20:19"
          ],
          [
           "2015-06-05 03:45:52"
          ],
          [
           "2015-06-07 22:01:10"
          ],
          [
           "2015-06-08 21:57:12"
          ],
          [
           "2015-06-09 21:07:02"
          ],
          [
           "2015-06-10 21:12:48"
          ],
          [
           "2015-06-11 22:54:00"
          ],
          [
           "2015-06-14 22:38:25"
          ],
          [
           "2015-06-15 22:31:51"
          ],
          [
           "2015-06-16 22:21:15"
          ],
          [
           "2015-06-17 21:28:17"
          ],
          [
           "2015-06-18 22:26:07"
          ],
          [
           "2015-06-22 21:54:38"
          ],
          [
           "2015-06-23 22:09:26"
          ],
          [
           "2015-06-24 04:58:36"
          ],
          [
           "2015-06-24 22:37:23"
          ],
          [
           "2015-07-11 22:29:21"
          ],
          [
           "2015-07-19 21:38:23"
          ],
          [
           "2015-07-20 22:01:21"
          ],
          [
           "2015-07-21 22:02:34"
          ],
          [
           "2015-07-23 22:29:37"
          ],
          [
           "2015-07-26 22:29:51"
          ],
          [
           "2015-07-28 21:32:08"
          ],
          [
           "2015-07-29 23:06:06"
          ],
          [
           "2015-07-30 21:40:08"
          ],
          [
           "2015-08-01 01:41:20"
          ],
          [
           "2015-08-01 22:55:10"
          ],
          [
           "2015-08-02 23:45:43"
          ],
          [
           "2015-08-03 00:26:02"
          ],
          [
           "2015-08-03 21:46:15"
          ],
          [
           "2015-08-04 21:17:10"
          ],
          [
           "2015-08-05 21:35:13"
          ],
          [
           "2015-08-08 00:19:09"
          ],
          [
           "2015-08-10 00:01:12"
          ],
          [
           "2015-08-10 21:11:19"
          ],
          [
           "2015-08-15 23:41:21"
          ],
          [
           "2015-08-16 21:44:20"
          ],
          [
           "2015-08-17 22:13:05"
          ],
          [
           "2015-08-18 22:33:21"
          ],
          [
           "2015-08-19 21:48:50"
          ],
          [
           "2015-08-20 22:36:23"
          ],
          [
           "2015-08-21 21:52:41"
          ],
          [
           "2015-08-22 21:59:47"
          ],
          [
           "2015-08-23 21:59:05"
          ],
          [
           "2015-08-25 21:57:25"
          ],
          [
           "2015-08-26 21:14:31"
          ],
          [
           "2015-08-27 21:19:00"
          ],
          [
           "2015-08-28 22:01:03"
          ],
          [
           "2015-08-30 22:00:05"
          ],
          [
           "2015-08-31 22:14:35"
          ],
          [
           "2015-09-01 22:00:12"
          ],
          [
           "2015-09-02 23:36:43"
          ],
          [
           "2015-09-05 22:54:41"
          ],
          [
           "2015-09-07 22:45:57"
          ],
          [
           "2015-09-08 22:03:28"
          ],
          [
           "2015-09-09 22:40:40"
          ],
          [
           "2015-09-10 22:10:47"
          ],
          [
           "2015-09-12 00:06:20"
          ],
          [
           "2015-09-13 22:03:28"
          ],
          [
           "2015-09-14 22:33:49"
          ],
          [
           "2015-09-15 22:14:42"
          ],
          [
           "2015-09-16 21:59:14"
          ],
          [
           "2015-09-17 22:57:35"
          ],
          [
           "2015-09-19 00:31:33"
          ],
          [
           "2015-09-19 22:01:37"
          ],
          [
           "2015-09-20 22:07:26"
          ],
          [
           "2015-09-22 21:34:08"
          ],
          [
           "2015-09-23 21:37:35"
          ],
          [
           "2015-09-24 22:37:41"
          ],
          [
           "2015-09-27 22:57:29"
          ],
          [
           "2015-09-28 21:12:50"
          ],
          [
           "2015-09-29 22:54:50"
          ],
          [
           "2015-09-30 23:57:47"
          ],
          [
           "2015-10-03 00:09:08"
          ],
          [
           "2015-10-11 00:27:25"
          ],
          [
           "2015-10-12 21:59:10"
          ],
          [
           "2015-10-13 22:19:10"
          ],
          [
           "2015-10-14 05:00:29"
          ],
          [
           "2015-10-14 22:40:34"
          ],
          [
           "2015-10-15 22:12:48"
          ],
          [
           "2015-10-17 00:45:53"
          ],
          [
           "2015-10-18 21:52:46"
          ],
          [
           "2015-10-20 21:38:02"
          ],
          [
           "2015-10-21 22:41:23"
          ],
          [
           "2015-10-22 21:46:35"
          ],
          [
           "2015-10-24 00:32:20"
          ],
          [
           "2015-10-24 22:38:13"
          ],
          [
           "2015-10-26 23:09:15"
          ],
          [
           "2015-10-27 21:34:17"
          ],
          [
           "2015-10-28 22:28:47"
          ],
          [
           "2015-10-29 22:30:45"
          ],
          [
           "2015-10-31 01:01:48"
          ],
          [
           "2015-11-02 22:00:53"
          ],
          [
           "2015-11-03 22:46:00"
          ],
          [
           "2015-11-04 22:49:17"
          ],
          [
           "2015-11-05 21:36:52"
          ],
          [
           "2015-11-07 00:19:42"
          ],
          [
           "2015-11-08 23:28:38"
          ],
          [
           "2015-11-09 21:59:54"
          ],
          [
           "2015-11-10 22:56:22"
          ],
          [
           "2015-11-11 22:57:35"
          ],
          [
           "2015-11-13 22:59:58"
          ],
          [
           "2015-11-15 22:17:12"
          ],
          [
           "2015-11-18 22:07:28"
          ],
          [
           "2015-11-19 23:10:23"
          ],
          [
           "2015-11-22 21:57:39"
          ],
          [
           "2015-11-23 22:15:24"
          ],
          [
           "2015-11-24 22:33:40"
          ],
          [
           "2015-11-25 23:26:02"
          ],
          [
           "2015-11-26 22:25:29"
          ],
          [
           "2015-11-28 01:20:50"
          ],
          [
           "2015-11-29 22:20:20"
          ],
          [
           "2015-11-30 21:23:47"
          ],
          [
           "2015-12-01 23:03:32"
          ],
          [
           "2015-12-02 22:19:31"
          ],
          [
           "2015-12-03 22:51:20"
          ],
          [
           "2015-12-06 22:10:17"
          ],
          [
           "2015-12-07 21:20:30"
          ],
          [
           "2015-12-08 22:17:33"
          ],
          [
           "2015-12-09 21:57:33"
          ],
          [
           "2015-12-13 00:08:26"
          ],
          [
           "2015-12-13 22:07:01"
          ],
          [
           "2015-12-15 22:32:48"
          ],
          [
           "2015-12-16 22:20:47"
          ],
          [
           "2015-12-17 21:07:49"
          ],
          [
           "2015-12-20 22:19:20"
          ],
          [
           "2015-12-21 22:06:14"
          ],
          [
           "2015-12-22 21:41:31"
          ],
          [
           "2015-12-23 22:33:13"
          ],
          [
           "2015-12-29 22:44:12"
          ],
          [
           "2016-01-01 23:53:45"
          ],
          [
           "2016-01-02 23:49:43"
          ],
          [
           "2016-01-03 21:44:08"
          ],
          [
           "2016-01-04 22:17:03"
          ],
          [
           "2016-01-05 22:18:45"
          ],
          [
           "2016-01-13 22:44:29"
          ],
          [
           "2016-01-14 22:10:58"
          ],
          [
           "2016-01-17 22:00:46"
          ],
          [
           "2016-01-18 21:56:26"
          ],
          [
           "2016-01-19 22:46:50"
          ],
          [
           "2016-01-20 21:13:40"
          ],
          [
           "2016-01-21 21:33:27"
          ],
          [
           "2016-01-22 22:17:12"
          ],
          [
           "2016-01-24 22:06:59"
          ],
          [
           "2016-01-25 22:27:55"
          ],
          [
           "2016-01-26 22:58:16"
          ],
          [
           "2016-01-27 22:02:27"
          ],
          [
           "2016-01-28 22:11:17"
          ],
          [
           "2016-01-29 21:47:34"
          ],
          [
           "2016-01-31 22:58:22"
          ],
          [
           "2016-02-01 22:02:40"
          ],
          [
           "2016-02-02 21:47:43"
          ],
          [
           "2016-02-03 22:54:38"
          ],
          [
           "2016-02-04 22:17:56"
          ],
          [
           "2016-02-05 23:45:36"
          ],
          [
           "2016-02-06 22:55:30"
          ],
          [
           "2016-02-08 00:44:15"
          ],
          [
           "2016-02-08 22:43:49"
          ],
          [
           "2016-02-09 21:57:50"
          ],
          [
           "2016-02-13 23:41:34"
          ],
          [
           "2016-02-14 22:07:58"
          ],
          [
           "2016-02-15 22:07:07"
          ],
          [
           "2016-02-16 22:20:30"
          ],
          [
           "2016-02-17 21:33:26"
          ],
          [
           "2016-02-18 22:47:46"
          ],
          [
           "2016-02-20 23:12:47"
          ],
          [
           "2016-02-22 22:04:12"
          ],
          [
           "2016-02-23 22:18:26"
          ],
          [
           "2016-02-24 21:59:00"
          ],
          [
           "2016-02-26 00:15:25"
          ],
          [
           "2016-02-27 23:33:23"
          ],
          [
           "2016-02-28 22:19:47"
          ],
          [
           "2016-02-29 21:55:44"
          ],
          [
           "2016-03-01 23:22:16"
          ],
          [
           "2016-03-02 22:15:14"
          ],
          [
           "2016-03-03 22:01:33"
          ],
          [
           "2016-03-05 23:20:01"
          ],
          [
           "2016-03-06 23:08:20"
          ],
          [
           "2016-03-07 22:50:22"
          ],
          [
           "2016-03-08 21:40:38"
          ],
          [
           "2016-03-09 22:40:25"
          ],
          [
           "2016-03-10 21:35:17"
          ],
          [
           "2016-03-12 01:33:16"
          ],
          [
           "2016-03-12 23:44:03"
          ],
          [
           "2016-03-13 22:47:36"
          ],
          [
           "2016-03-14 22:16:43"
          ],
          [
           "2016-03-15 22:41:40"
          ],
          [
           "2016-03-16 22:25:40"
          ],
          [
           "2016-03-17 22:46:35"
          ],
          [
           "2016-03-18 22:17:45"
          ],
          [
           "2016-03-20 22:13:36"
          ],
          [
           "2016-03-21 22:37:03"
          ],
          [
           "2016-03-22 21:22:46"
          ],
          [
           "2016-03-23 22:06:49"
          ],
          [
           "2016-03-27 23:28:20"
          ],
          [
           "2016-03-28 23:32:44"
          ],
          [
           "2016-03-29 23:12:02"
          ],
          [
           "2016-03-30 22:58:49"
          ],
          [
           "2016-03-31 22:47:19"
          ],
          [
           "2016-04-02 21:20:49"
          ],
          [
           "2016-04-03 21:44:29"
          ],
          [
           "2016-04-04 21:23:59"
          ],
          [
           "2016-04-05 21:13:24"
          ],
          [
           "2016-04-06 23:00:14"
          ],
          [
           "2016-04-07 21:48:56"
          ],
          [
           "2016-04-09 00:51:24"
          ],
          [
           "2016-04-09 22:59:45"
          ],
          [
           "2016-04-10 22:04:13"
          ],
          [
           "2016-04-11 22:35:10"
          ],
          [
           "2016-04-12 22:18:30"
          ],
          [
           "2016-04-13 22:27:46"
          ],
          [
           "2016-04-14 21:43:30"
          ],
          [
           "2016-04-15 22:38:27"
          ],
          [
           "2016-04-17 21:34:35"
          ],
          [
           "2016-04-19 21:21:02"
          ],
          [
           "2016-04-20 21:25:56"
          ],
          [
           "2016-04-21 21:54:28"
          ],
          [
           "2016-04-22 05:37:46"
          ],
          [
           "2016-04-23 00:46:44"
          ],
          [
           "2016-04-24 22:30:35"
          ],
          [
           "2016-04-25 22:07:57"
          ],
          [
           "2016-04-26 22:48:24"
          ],
          [
           "2016-04-27 22:24:10"
          ],
          [
           "2016-04-28 22:23:37"
          ],
          [
           "2016-04-29 22:47:32"
          ],
          [
           "2016-05-01 21:27:20"
          ],
          [
           "2016-05-02 21:50:53"
          ],
          [
           "2016-05-03 22:19:12"
          ],
          [
           "2016-05-04 22:16:31"
          ],
          [
           "2016-05-05 22:20:43"
          ],
          [
           "2016-05-06 23:07:56"
          ],
          [
           "2016-05-07 23:20:36"
          ],
          [
           "2016-05-08 23:44:12"
          ],
          [
           "2016-05-09 22:10:46"
          ],
          [
           "2016-05-10 23:10:06"
          ],
          [
           "2016-05-11 22:43:49"
          ],
          [
           "2016-05-12 23:50:20"
          ],
          [
           "2016-05-13 23:08:55"
          ],
          [
           "2016-05-15 21:34:13"
          ],
          [
           "2016-05-16 21:34:47"
          ],
          [
           "2016-05-17 20:53:27"
          ],
          [
           "2016-05-18 22:26:07"
          ],
          [
           "2016-05-20 00:00:10"
          ],
          [
           "2016-05-20 23:14:26"
          ],
          [
           "2016-05-23 22:34:58"
          ],
          [
           "2016-05-24 22:00:00"
          ],
          [
           "2016-05-25 22:21:34"
          ],
          [
           "2016-05-26 22:08:30"
          ],
          [
           "2016-05-28 00:19:46"
          ],
          [
           "2016-05-29 22:04:35"
          ],
          [
           "2016-05-30 22:07:42"
          ],
          [
           "2016-05-31 23:02:52"
          ],
          [
           "2016-06-01 23:01:17"
          ],
          [
           "2016-06-02 22:51:43"
          ],
          [
           "2016-06-05 22:33:14"
          ],
          [
           "2016-06-06 23:26:26"
          ],
          [
           "2016-06-07 22:32:35"
          ],
          [
           "2016-06-08 21:56:14"
          ],
          [
           "2016-06-09 22:07:31"
          ],
          [
           "2016-06-11 22:42:30"
          ],
          [
           "2016-06-12 22:52:30"
          ],
          [
           "2016-06-13 22:03:24"
          ],
          [
           "2016-06-14 22:32:22"
          ],
          [
           "2016-06-16 00:46:59"
          ],
          [
           "2016-06-16 22:06:06"
          ],
          [
           "2016-06-17 23:28:36"
          ],
          [
           "2016-06-19 23:00:43"
          ],
          [
           "2016-06-20 22:34:58"
          ],
          [
           "2016-06-21 22:11:24"
          ],
          [
           "2016-06-22 22:41:04"
          ],
          [
           "2016-06-23 22:32:02"
          ],
          [
           "2016-06-26 22:16:19"
          ],
          [
           "2016-06-27 23:48:29"
          ],
          [
           "2016-06-28 23:10:25"
          ],
          [
           "2016-06-29 22:32:29"
          ],
          [
           "2016-07-01 23:32:46"
          ],
          [
           "2016-07-03 21:49:41"
          ],
          [
           "2016-07-04 21:39:08"
          ],
          [
           "2016-07-05 22:48:36"
          ],
          [
           "2016-07-06 22:13:30"
          ],
          [
           "2016-07-07 22:53:15"
          ],
          [
           "2016-07-10 22:18:13"
          ],
          [
           "2016-07-11 21:24:42"
          ],
          [
           "2016-07-12 22:02:38"
          ],
          [
           "2016-07-13 23:13:10"
          ],
          [
           "2016-07-14 22:39:55"
          ],
          [
           "2016-07-16 00:32:25"
          ],
          [
           "2016-07-16 23:20:56"
          ],
          [
           "2016-07-17 22:23:36"
          ],
          [
           "2016-07-18 22:57:22"
          ],
          [
           "2016-07-19 22:36:11"
          ],
          [
           "2016-07-20 22:25:37"
          ],
          [
           "2016-07-21 23:07:32"
          ],
          [
           "2016-07-22 22:20:48"
          ],
          [
           "2016-07-23 23:47:33"
          ],
          [
           "2016-07-24 22:45:58"
          ],
          [
           "2016-07-25 21:54:39"
          ],
          [
           "2016-07-26 23:03:39"
          ],
          [
           "2016-07-27 22:49:44"
          ],
          [
           "2016-07-28 22:25:20"
          ],
          [
           "2016-08-16 22:05:56"
          ],
          [
           "2016-08-17 22:42:29"
          ],
          [
           "2016-08-18 21:58:44"
          ],
          [
           "2016-08-20 22:04:29"
          ],
          [
           "2016-08-21 22:08:40"
          ],
          [
           "2016-08-22 22:13:35"
          ],
          [
           "2016-08-23 23:08:06"
          ],
          [
           "2016-08-24 21:51:35"
          ],
          [
           "2016-08-25 22:06:03"
          ],
          [
           "2016-08-26 23:49:26"
          ],
          [
           "2016-08-27 23:52:04"
          ],
          [
           "2016-08-28 22:52:01"
          ],
          [
           "2016-08-29 22:10:33"
          ],
          [
           "2016-08-30 22:21:42"
          ],
          [
           "2016-08-31 22:33:07"
          ],
          [
           "2016-09-01 23:08:05"
          ],
          [
           "2016-09-02 22:38:01"
          ],
          [
           "2016-09-04 23:28:38"
          ],
          [
           "2016-09-05 21:00:08"
          ],
          [
           "2016-09-06 22:11:10"
          ],
          [
           "2016-09-07 22:31:00"
          ],
          [
           "2016-09-08 22:28:57"
          ],
          [
           "2016-09-10 00:45:06"
          ],
          [
           "2016-09-10 22:44:13"
          ],
          [
           "2016-09-11 23:05:56"
          ],
          [
           "2016-09-12 22:46:00"
          ],
          [
           "2016-09-13 21:55:44"
          ],
          [
           "2016-09-14 22:26:52"
          ],
          [
           "2016-09-17 22:26:00"
          ],
          [
           "2016-09-18 22:28:43"
          ],
          [
           "2016-09-19 22:14:12"
          ],
          [
           "2016-09-20 22:39:22"
          ],
          [
           "2016-09-21 22:11:55"
          ],
          [
           "2016-09-22 22:26:20"
          ],
          [
           "2016-09-25 22:53:08"
          ],
          [
           "2016-09-26 22:17:19"
          ],
          [
           "2016-09-27 22:22:09"
          ],
          [
           "2016-09-28 23:10:52"
          ],
          [
           "2016-09-29 22:50:50"
          ],
          [
           "2016-10-01 00:06:21"
          ],
          [
           "2016-10-01 23:23:45"
          ],
          [
           "2016-10-02 23:29:07"
          ],
          [
           "2016-10-03 22:24:38"
          ],
          [
           "2016-10-04 21:53:10"
          ],
          [
           "2016-10-05 22:33:02"
          ],
          [
           "2016-10-07 00:07:25"
          ],
          [
           "2016-10-07 23:18:12"
          ],
          [
           "2016-10-10 22:38:44"
          ],
          [
           "2016-10-11 22:28:30"
          ],
          [
           "2016-10-12 22:48:24"
          ],
          [
           "2016-10-13 22:26:35"
          ],
          [
           "2016-10-15 23:00:24"
          ],
          [
           "2016-10-16 22:52:39"
          ],
          [
           "2016-10-17 22:53:05"
          ],
          [
           "2016-10-18 22:34:56"
          ],
          [
           "2016-10-19 22:13:21"
          ],
          [
           "2016-10-20 22:14:18"
          ],
          [
           "2016-10-22 01:38:50"
          ],
          [
           "2016-10-23 00:07:46"
          ],
          [
           "2016-10-23 22:21:35"
          ],
          [
           "2016-10-24 23:04:24"
          ],
          [
           "2016-10-25 22:48:36"
          ],
          [
           "2016-10-26 22:55:13"
          ],
          [
           "2016-10-27 23:03:27"
          ],
          [
           "2016-10-29 00:16:28"
          ],
          [
           "2016-10-30 22:46:10"
          ],
          [
           "2016-11-01 22:19:52"
          ],
          [
           "2016-11-02 22:52:01"
          ],
          [
           "2016-11-04 00:13:27"
          ],
          [
           "2016-11-04 22:49:41"
          ],
          [
           "2016-11-06 21:58:25"
          ],
          [
           "2016-11-07 22:16:20"
          ],
          [
           "2016-11-08 22:51:28"
          ],
          [
           "2016-11-09 22:37:37"
          ],
          [
           "2016-11-10 23:58:36"
          ],
          [
           "2016-11-11 23:25:33"
          ],
          [
           "2016-11-15 22:14:54"
          ],
          [
           "2016-11-16 23:10:58"
          ],
          [
           "2016-11-17 23:15:24"
          ],
          [
           "2016-11-18 23:37:14"
          ],
          [
           "2016-11-19 23:47:47"
          ],
          [
           "2016-11-20 23:00:56"
          ],
          [
           "2016-11-21 22:38:54"
          ],
          [
           "2016-11-22 21:26:49"
          ],
          [
           "2016-11-23 22:44:23"
          ],
          [
           "2016-11-24 22:00:35"
          ],
          [
           "2016-11-25 23:09:40"
          ],
          [
           "2016-11-27 22:01:16"
          ],
          [
           "2016-11-28 22:35:53"
          ],
          [
           "2016-11-29 23:33:57"
          ],
          [
           "2016-11-30 21:12:34"
          ],
          [
           "2016-12-01 05:14:26"
          ],
          [
           "2016-12-01 21:40:00"
          ],
          [
           "2016-12-04 01:18:30"
          ],
          [
           "2016-12-04 21:45:14"
          ],
          [
           "2016-12-05 21:44:42"
          ],
          [
           "2016-12-06 22:13:52"
          ],
          [
           "2016-12-07 22:46:53"
          ],
          [
           "2016-12-08 23:32:15"
          ],
          [
           "2016-12-09 22:48:02"
          ],
          [
           "2016-12-11 01:07:36"
          ],
          [
           "2016-12-11 22:14:46"
          ],
          [
           "2016-12-12 22:56:32"
          ],
          [
           "2016-12-13 22:02:53"
          ],
          [
           "2016-12-14 21:57:40"
          ],
          [
           "2016-12-15 21:29:37"
          ],
          [
           "2016-12-18 22:35:39"
          ],
          [
           "2016-12-19 21:49:28"
          ],
          [
           "2016-12-20 23:48:48"
          ],
          [
           "2016-12-21 23:56:08"
          ],
          [
           "2016-12-22 23:07:02"
          ],
          [
           "2016-12-27 23:17:04"
          ],
          [
           "2016-12-30 23:25:36"
          ],
          [
           "2017-01-02 22:35:54"
          ],
          [
           "2017-01-03 05:11:12"
          ],
          [
           "2017-01-03 21:47:36"
          ],
          [
           "2017-01-04 22:40:41"
          ],
          [
           "2017-01-05 22:39:33"
          ],
          [
           "2017-01-06 23:14:42"
          ],
          [
           "2017-01-08 00:34:09"
          ],
          [
           "2017-01-08 22:07:26"
          ],
          [
           "2017-01-09 22:42:26"
          ],
          [
           "2017-01-10 22:20:00"
          ],
          [
           "2017-01-11 22:14:13"
          ],
          [
           "2017-01-12 22:13:43"
          ],
          [
           "2017-01-13 23:27:43"
          ],
          [
           "2017-01-15 23:25:52"
          ],
          [
           "2017-01-16 21:58:38"
          ],
          [
           "2017-01-17 05:12:01"
          ],
          [
           "2017-01-17 22:23:54"
          ],
          [
           "2017-01-18 22:22:23"
          ],
          [
           "2017-01-19 22:14:59"
          ],
          [
           "2017-01-20 23:07:08"
          ],
          [
           "2017-01-21 23:12:38"
          ],
          [
           "2017-01-22 22:03:13"
          ],
          [
           "2017-01-23 22:34:02"
          ],
          [
           "2017-01-24 22:55:44"
          ],
          [
           "2017-01-25 20:54:01"
          ],
          [
           "2017-01-26 22:12:44"
          ],
          [
           "2017-01-27 04:58:17"
          ],
          [
           "2017-01-27 23:22:46"
          ],
          [
           "2017-01-30 23:27:29"
          ],
          [
           "2017-01-31 22:44:33"
          ],
          [
           "2017-02-01 22:41:03"
          ],
          [
           "2017-02-02 22:19:54"
          ],
          [
           "2017-02-03 23:58:49"
          ],
          [
           "2017-02-04 23:45:02"
          ],
          [
           "2017-02-05 22:53:55"
          ],
          [
           "2017-02-06 22:30:15"
          ],
          [
           "2017-02-07 23:34:51"
          ],
          [
           "2017-02-08 23:46:48"
          ],
          [
           "2017-02-09 22:31:43"
          ],
          [
           "2017-02-10 05:00:41"
          ],
          [
           "2017-02-10 22:37:33"
          ],
          [
           "2017-02-12 21:49:33"
          ],
          [
           "2017-02-13 21:51:58"
          ],
          [
           "2017-02-14 05:02:55"
          ],
          [
           "2017-02-14 23:17:25"
          ],
          [
           "2017-02-15 22:36:26"
          ],
          [
           "2017-02-16 22:33:17"
          ],
          [
           "2017-02-17 23:49:14"
          ],
          [
           "2017-02-19 00:28:17"
          ],
          [
           "2017-02-19 22:12:40"
          ],
          [
           "2017-02-20 22:43:58"
          ],
          [
           "2017-02-21 23:14:34"
          ],
          [
           "2017-02-22 21:30:46"
          ],
          [
           "2017-02-23 22:15:13"
          ],
          [
           "2017-02-24 05:34:46"
          ],
          [
           "2017-02-25 02:46:24"
          ],
          [
           "2017-02-26 00:40:06"
          ],
          [
           "2017-02-27 22:16:11"
          ],
          [
           "2017-02-28 21:39:30"
          ],
          [
           "2017-03-01 05:43:20"
          ],
          [
           "2017-03-01 22:23:16"
          ],
          [
           "2017-03-02 22:22:27"
          ],
          [
           "2017-03-05 00:12:24"
          ],
          [
           "2017-03-05 22:01:00"
          ],
          [
           "2017-03-06 22:01:27"
          ],
          [
           "2017-03-07 22:13:31"
          ],
          [
           "2017-03-08 21:13:09"
          ],
          [
           "2017-03-09 21:48:29"
          ],
          [
           "2017-03-10 22:42:49"
          ],
          [
           "2017-03-12 22:39:47"
          ],
          [
           "2017-03-13 21:20:30"
          ],
          [
           "2017-03-14 21:06:21"
          ],
          [
           "2017-03-15 22:33:27"
          ],
          [
           "2017-03-16 22:33:05"
          ],
          [
           "2017-03-17 22:55:16"
          ],
          [
           "2017-03-18 22:26:50"
          ],
          [
           "2017-03-20 00:02:06"
          ],
          [
           "2017-03-20 23:35:25"
          ],
          [
           "2017-03-21 23:20:23"
          ],
          [
           "2017-03-22 22:02:27"
          ],
          [
           "2017-03-23 22:20:49"
          ],
          [
           "2017-03-25 23:19:31"
          ],
          [
           "2017-03-26 22:03:26"
          ],
          [
           "2017-03-27 21:19:26"
          ],
          [
           "2017-03-28 22:29:53"
          ],
          [
           "2017-03-29 22:29:26"
          ],
          [
           "2017-03-30 22:42:12"
          ],
          [
           "2017-04-01 02:10:07"
          ],
          [
           "2017-04-01 21:22:18"
          ],
          [
           "2017-04-02 22:01:10"
          ],
          [
           "2017-04-03 21:58:04"
          ],
          [
           "2017-04-04 22:01:48"
          ],
          [
           "2017-04-05 23:45:02"
          ],
          [
           "2017-04-06 23:12:55"
          ],
          [
           "2017-04-08 00:00:47"
          ],
          [
           "2017-04-10 00:52:01"
          ],
          [
           "2017-04-10 22:21:48"
          ],
          [
           "2017-04-11 06:03:43"
          ],
          [
           "2017-04-11 22:39:32"
          ],
          [
           "2017-04-12 21:42:46"
          ],
          [
           "2017-04-13 23:52:36"
          ],
          [
           "2017-04-14 21:45:29"
          ],
          [
           "2017-04-15 23:23:33"
          ],
          [
           "2017-04-17 00:06:45"
          ],
          [
           "2017-04-17 22:12:26"
          ],
          [
           "2017-04-18 22:43:50"
          ],
          [
           "2017-04-19 21:39:14"
          ],
          [
           "2017-04-20 22:15:07"
          ],
          [
           "2017-04-21 22:36:25"
          ],
          [
           "2017-04-23 00:53:51"
          ],
          [
           "2017-04-23 22:31:31"
          ],
          [
           "2017-04-24 23:07:26"
          ],
          [
           "2017-04-25 22:20:09"
          ],
          [
           "2017-04-26 22:25:19"
          ],
          [
           "2017-04-27 22:48:26"
          ],
          [
           "2017-04-28 23:39:58"
          ],
          [
           "2017-04-29 23:39:22"
          ],
          [
           "2017-04-30 22:28:38"
          ],
          [
           "2017-05-01 22:00:53"
          ],
          [
           "2017-05-02 21:47:56"
          ],
          [
           "2017-05-03 22:59:05"
          ],
          [
           "2017-05-04 22:37:37"
          ],
          [
           "2017-05-06 00:25:02"
          ],
          [
           "2017-05-07 21:51:42"
          ],
          [
           "2017-05-08 22:28:29"
          ],
          [
           "2017-05-09 23:33:31"
          ],
          [
           "2017-05-10 06:04:51"
          ],
          [
           "2017-05-10 22:43:36"
          ],
          [
           "2017-05-11 21:52:42"
          ],
          [
           "2017-05-13 00:42:34"
          ],
          [
           "2017-05-14 00:04:29"
          ],
          [
           "2017-05-14 21:57:30"
          ],
          [
           "2017-05-15 22:55:59"
          ],
          [
           "2017-05-16 22:41:34"
          ],
          [
           "2017-05-17 22:44:16"
          ],
          [
           "2017-05-18 23:17:42"
          ],
          [
           "2017-05-20 01:04:03"
          ],
          [
           "2017-05-22 22:29:18"
          ],
          [
           "2017-05-24 00:14:39"
          ],
          [
           "2017-05-24 22:09:30"
          ],
          [
           "2017-05-25 22:19:48"
          ],
          [
           "2017-05-28 00:18:11"
          ],
          [
           "2017-05-28 22:37:11"
          ],
          [
           "2017-05-29 22:28:43"
          ],
          [
           "2017-05-30 21:59:14"
          ],
          [
           "2017-05-31 22:26:34"
          ],
          [
           "2017-06-01 22:59:29"
          ],
          [
           "2017-06-02 22:05:31"
          ],
          [
           "2017-06-03 21:56:57"
          ],
          [
           "2017-06-04 23:14:35"
          ],
          [
           "2017-06-05 22:30:09"
          ],
          [
           "2017-06-06 21:38:46"
          ],
          [
           "2017-06-07 22:54:08"
          ],
          [
           "2017-06-08 21:47:22"
          ],
          [
           "2017-06-10 00:07:56"
          ],
          [
           "2017-06-11 22:18:20"
          ],
          [
           "2017-06-12 21:44:54"
          ],
          [
           "2017-06-13 22:18:02"
          ],
          [
           "2017-06-14 22:34:54"
          ],
          [
           "2017-06-15 22:19:07"
          ],
          [
           "2017-06-18 05:01:21"
          ],
          [
           "2017-06-18 07:35:10"
          ],
          [
           "2017-06-18 22:22:20"
          ],
          [
           "2017-06-19 22:57:14"
          ],
          [
           "2017-06-20 22:31:36"
          ],
          [
           "2017-06-21 06:16:05"
          ],
          [
           "2017-06-21 22:32:49"
          ],
          [
           "2017-06-22 23:37:40"
          ],
          [
           "2017-06-23 23:26:37"
          ],
          [
           "2017-06-25 22:08:35"
          ],
          [
           "2017-06-26 21:24:01"
          ],
          [
           "2017-06-27 21:52:15"
          ],
          [
           "2017-06-28 21:53:16"
          ],
          [
           "2017-06-29 22:32:41"
          ],
          [
           "2017-07-03 00:31:28"
          ],
          [
           "2017-07-03 22:37:36"
          ],
          [
           "2017-07-04 22:07:02"
          ],
          [
           "2017-07-05 21:48:16"
          ],
          [
           "2017-07-06 22:33:57"
          ],
          [
           "2017-07-09 22:36:36"
          ],
          [
           "2017-07-10 22:25:58"
          ],
          [
           "2017-07-11 21:39:56"
          ],
          [
           "2017-07-12 23:12:08"
          ],
          [
           "2017-07-13 22:30:55"
          ],
          [
           "2017-07-15 01:10:44"
          ],
          [
           "2017-07-16 02:12:50"
          ],
          [
           "2017-07-16 22:08:10"
          ],
          [
           "2017-07-17 22:51:14"
          ],
          [
           "2017-07-18 22:00:00"
          ],
          [
           "2017-07-19 21:45:40"
          ],
          [
           "2017-07-22 01:06:17"
          ],
          [
           "2017-07-22 23:13:07"
          ],
          [
           "2017-07-23 21:57:52"
          ],
          [
           "2017-07-25 05:34:23"
          ],
          [
           "2017-07-25 22:04:25"
          ],
          [
           "2017-07-26 22:29:46"
          ],
          [
           "2017-07-27 21:53:02"
          ],
          [
           "2017-07-28 23:29:02"
          ],
          [
           "2017-07-29 22:00:52"
          ],
          [
           "2017-07-30 23:20:22"
          ],
          [
           "2017-07-31 22:39:28"
          ],
          [
           "2017-08-01 23:15:08"
          ],
          [
           "2017-08-02 22:32:50"
          ],
          [
           "2017-08-03 23:14:21"
          ],
          [
           "2017-08-04 22:59:14"
          ],
          [
           "2017-08-05 23:37:59"
          ],
          [
           "2017-08-06 23:03:23"
          ],
          [
           "2017-08-07 23:14:29"
          ],
          [
           "2017-08-08 22:34:04"
          ],
          [
           "2017-08-09 23:22:48"
          ],
          [
           "2017-08-12 22:58:37"
          ],
          [
           "2017-08-13 22:46:18"
          ],
          [
           "2017-08-14 22:32:46"
          ],
          [
           "2017-08-15 21:56:15"
          ],
          [
           "2017-08-16 22:01:52"
          ],
          [
           "2017-08-17 20:36:10"
          ],
          [
           "2017-08-25 23:37:21"
          ],
          [
           "2017-08-27 22:15:33"
          ],
          [
           "2017-08-28 22:03:24"
          ],
          [
           "2017-08-30 23:01:16"
          ],
          [
           "2017-08-31 23:01:05"
          ],
          [
           "2017-09-01 22:33:45"
          ],
          [
           "2017-09-03 00:46:32"
          ],
          [
           "2017-09-03 23:07:20"
          ],
          [
           "2017-09-04 22:49:42"
          ],
          [
           "2017-09-05 22:38:20"
          ],
          [
           "2017-09-06 22:02:41"
          ],
          [
           "2017-09-07 22:26:23"
          ],
          [
           "2017-09-09 21:24:16"
          ],
          [
           "2017-09-11 22:39:00"
          ],
          [
           "2017-09-12 22:03:48"
          ],
          [
           "2017-09-13 23:43:45"
          ],
          [
           "2017-09-14 22:06:34"
          ],
          [
           "2017-09-16 00:18:13"
          ],
          [
           "2017-09-17 22:50:59"
          ],
          [
           "2017-09-18 22:19:43"
          ],
          [
           "2017-09-19 22:16:47"
          ],
          [
           "2017-09-20 22:04:28"
          ],
          [
           "2017-09-21 22:23:28"
          ],
          [
           "2017-09-24 21:44:24"
          ],
          [
           "2017-09-25 22:17:38"
          ],
          [
           "2017-09-26 23:01:43"
          ],
          [
           "2017-09-27 22:06:02"
          ],
          [
           "2017-09-28 23:36:21"
          ],
          [
           "2017-09-29 23:14:44"
          ],
          [
           "2017-10-01 00:03:39"
          ],
          [
           "2017-10-01 21:44:19"
          ],
          [
           "2017-10-02 22:55:18"
          ],
          [
           "2017-10-03 21:41:07"
          ],
          [
           "2017-10-04 22:44:21"
          ],
          [
           "2017-10-05 21:24:20"
          ],
          [
           "2017-10-06 22:56:47"
          ],
          [
           "2017-10-07 21:57:55"
          ],
          [
           "2017-10-09 22:27:21"
          ],
          [
           "2017-10-10 22:23:41"
          ],
          [
           "2017-10-11 22:32:30"
          ],
          [
           "2017-10-12 22:22:18"
          ],
          [
           "2017-10-13 23:03:57"
          ],
          [
           "2017-10-14 22:58:56"
          ],
          [
           "2017-10-15 22:47:15"
          ],
          [
           "2017-10-16 21:51:31"
          ],
          [
           "2017-10-17 21:41:00"
          ],
          [
           "2017-10-19 00:01:27"
          ],
          [
           "2017-10-19 21:13:33"
          ],
          [
           "2017-10-21 00:05:16"
          ],
          [
           "2017-10-22 00:25:34"
          ],
          [
           "2017-10-22 21:50:11"
          ],
          [
           "2017-10-23 22:18:50"
          ],
          [
           "2017-10-24 22:15:22"
          ],
          [
           "2017-10-25 21:55:37"
          ],
          [
           "2017-10-27 01:50:09"
          ],
          [
           "2017-10-28 22:51:22"
          ],
          [
           "2017-10-29 22:26:09"
          ],
          [
           "2017-10-30 22:52:29"
          ],
          [
           "2017-10-31 23:29:23"
          ],
          [
           "2017-11-02 21:25:12"
          ],
          [
           "2017-11-03 23:23:48"
          ],
          [
           "2017-11-05 22:30:18"
          ],
          [
           "2017-11-06 22:08:49"
          ],
          [
           "2017-11-07 21:01:59"
          ],
          [
           "2017-11-08 23:11:50"
          ],
          [
           "2017-11-09 22:04:06"
          ],
          [
           "2017-11-10 23:29:46"
          ],
          [
           "2017-11-11 23:06:26"
          ],
          [
           "2017-11-12 23:39:58"
          ],
          [
           "2017-11-14 21:16:47"
          ],
          [
           "2017-11-15 21:23:57"
          ],
          [
           "2017-11-16 22:33:27"
          ],
          [
           "2017-11-17 23:08:36"
          ],
          [
           "2017-11-19 21:58:13"
          ],
          [
           "2017-11-20 22:26:32"
          ],
          [
           "2017-11-21 22:26:00"
          ],
          [
           "2017-11-22 22:34:51"
          ],
          [
           "2017-11-23 22:56:54"
          ],
          [
           "2017-11-25 23:14:12"
          ],
          [
           "2017-11-26 22:10:04"
          ],
          [
           "2017-11-27 22:36:02"
          ],
          [
           "2017-11-28 22:54:56"
          ],
          [
           "2017-11-29 22:33:33"
          ],
          [
           "2017-11-30 20:54:34"
          ],
          [
           "2017-12-03 23:10:31"
          ],
          [
           "2017-12-04 21:20:58"
          ],
          [
           "2017-12-05 22:56:23"
          ],
          [
           "2017-12-06 21:56:53"
          ],
          [
           "2017-12-07 22:04:25"
          ],
          [
           "2017-12-09 23:39:39"
          ],
          [
           "2017-12-10 22:16:12"
          ],
          [
           "2017-12-11 21:47:09"
          ],
          [
           "2017-12-12 22:09:55"
          ],
          [
           "2017-12-14 22:47:44"
          ],
          [
           "2017-12-17 21:35:13"
          ],
          [
           "2017-12-18 21:39:40"
          ],
          [
           "2017-12-19 22:05:48"
          ],
          [
           "2017-12-20 21:30:02"
          ],
          [
           "2017-12-21 22:10:42"
          ],
          [
           "2017-12-26 21:19:56"
          ],
          [
           "2017-12-29 00:06:23"
          ],
          [
           "2017-12-29 22:00:17"
          ],
          [
           "2018-01-01 21:30:48"
          ],
          [
           "2018-01-02 22:31:35"
          ],
          [
           "2018-01-03 20:28:55"
          ],
          [
           "2018-01-04 22:19:49"
          ],
          [
           "2018-01-06 23:13:54"
          ],
          [
           "2018-01-07 22:09:01"
          ],
          [
           "2018-01-08 22:53:56"
          ],
          [
           "2018-01-09 22:22:48"
          ],
          [
           "2018-01-10 21:31:25"
          ],
          [
           "2018-01-11 21:54:18"
          ],
          [
           "2018-01-12 21:50:07"
          ],
          [
           "2018-01-13 22:07:20"
          ],
          [
           "2018-01-14 22:02:09"
          ],
          [
           "2018-01-15 22:45:03"
          ],
          [
           "2018-01-16 22:09:46"
          ],
          [
           "2018-01-17 22:45:11"
          ],
          [
           "2018-01-18 22:46:26"
          ],
          [
           "2018-01-19 22:21:24"
          ],
          [
           "2018-01-20 23:44:10"
          ],
          [
           "2018-01-21 22:04:55"
          ],
          [
           "2018-01-22 23:15:57"
          ],
          [
           "2018-01-23 21:41:50"
          ],
          [
           "2018-01-24 20:58:39"
          ],
          [
           "2018-01-25 23:17:03"
          ],
          [
           "2018-01-26 22:13:41"
          ],
          [
           "2018-01-28 01:21:47"
          ],
          [
           "2018-01-28 21:30:54"
          ],
          [
           "2018-01-29 21:37:33"
          ],
          [
           "2018-01-30 22:18:44"
          ],
          [
           "2018-01-31 22:29:56"
          ],
          [
           "2018-02-01 21:25:06"
          ],
          [
           "2018-02-03 02:20:39"
          ],
          [
           "2018-02-03 08:32:14"
          ],
          [
           "2018-02-03 22:29:00"
          ],
          [
           "2018-02-04 23:09:25"
          ],
          [
           "2018-02-05 22:02:05"
          ],
          [
           "2018-02-06 21:44:05"
          ],
          [
           "2018-02-07 23:18:52"
          ],
          [
           "2018-02-08 22:41:38"
          ],
          [
           "2018-02-09 23:07:55"
          ],
          [
           "2018-02-11 22:44:25"
          ],
          [
           "2018-02-12 21:54:14"
          ],
          [
           "2018-02-13 23:49:19"
          ],
          [
           "2018-02-14 21:24:05"
          ],
          [
           "2018-02-15 21:36:32"
          ],
          [
           "2018-02-16 22:52:29"
          ]
         ],
         "hovertemplate": "0=%{x}<br>1=%{y}<br>2=%{z}<br>Feature=%{customdata[0]}<br>Anomaly=%{marker.color}<extra></extra>",
         "legendgroup": "",
         "marker": {
          "color": [
           0,
           0,
           0,
           0,
           0,
           0,
           0,
           0,
           0,
           0,
           0,
           0,
           0,
           0,
           0,
           0,
           0,
           0,
           0,
           0,
           0,
           0,
           0,
           0,
           0,
           0,
           0,
           0,
           0,
           1,
           0,
           0,
           0,
           0,
           0,
           1,
           0,
           0,
           1,
           0,
           0,
           0,
           0,
           1,
           0,
           0,
           0,
           0,
           0,
           0,
           0,
           0,
           0,
           0,
           0,
           0,
           0,
           0,
           0,
           0,
           0,
           0,
           0,
           0,
           0,
           0,
           0,
           0,
           0,
           0,
           0,
           0,
           0,
           0,
           0,
           0,
           1,
           0,
           0,
           0,
           0,
           1,
           0,
           0,
           0,
           0,
           0,
           0,
           0,
           0,
           0,
           0,
           0,
           0,
           0,
           0,
           0,
           0,
           0,
           0,
           0,
           0,
           0,
           0,
           0,
           0,
           0,
           0,
           0,
           0,
           0,
           0,
           0,
           0,
           0,
           0,
           0,
           0,
           0,
           0,
           0,
           1,
           0,
           0,
           0,
           1,
           0,
           0,
           0,
           0,
           1,
           0,
           0,
           1,
           0,
           1,
           0,
           0,
           0,
           1,
           0,
           0,
           0,
           0,
           0,
           0,
           0,
           0,
           0,
           0,
           0,
           0,
           0,
           0,
           0,
           0,
           0,
           0,
           0,
           1,
           0,
           0,
           0,
           0,
           0,
           0,
           0,
           0,
           0,
           0,
           0,
           0,
           0,
           0,
           0,
           0,
           0,
           1,
           0,
           0,
           0,
           0,
           0,
           0,
           0,
           0,
           0,
           0,
           0,
           0,
           0,
           0,
           0,
           0,
           1,
           1,
           0,
           0,
           0,
           0,
           0,
           0,
           0,
           0,
           0,
           1,
           0,
           0,
           0,
           0,
           0,
           0,
           0,
           0,
           0,
           0,
           0,
           0,
           0,
           0,
           0,
           0,
           1,
           0,
           0,
           0,
           0,
           0,
           0,
           0,
           0,
           0,
           0,
           0,
           0,
           0,
           0,
           0,
           0,
           0,
           0,
           0,
           0,
           0,
           0,
           0,
           0,
           0,
           0,
           0,
           0,
           0,
           0,
           0,
           0,
           0,
           0,
           0,
           0,
           0,
           1,
           0,
           0,
           1,
           0,
           0,
           0,
           1,
           0,
           0,
           0,
           0,
           0,
           0,
           1,
           0,
           0,
           0,
           0,
           0,
           0,
           0,
           0,
           0,
           0,
           0,
           0,
           0,
           0,
           0,
           0,
           0,
           0,
           0,
           0,
           0,
           0,
           0,
           0,
           0,
           0,
           0,
           0,
           0,
           0,
           0,
           0,
           0,
           0,
           0,
           0,
           0,
           0,
           0,
           0,
           0,
           0,
           0,
           0,
           0,
           1,
           0,
           0,
           0,
           0,
           0,
           0,
           0,
           0,
           0,
           0,
           0,
           0,
           0,
           0,
           0,
           0,
           0,
           0,
           0,
           0,
           0,
           0,
           0,
           0,
           0,
           0,
           0,
           0,
           0,
           0,
           0,
           0,
           0,
           0,
           0,
           0,
           0,
           0,
           0,
           0,
           0,
           0,
           0,
           0,
           0,
           1,
           0,
           0,
           0,
           0,
           0,
           0,
           0,
           0,
           0,
           0,
           0,
           0,
           0,
           0,
           0,
           1,
           0,
           0,
           1,
           0,
           0,
           0,
           0,
           0,
           0,
           0,
           0,
           0,
           0,
           0,
           0,
           0,
           1,
           0,
           0,
           0,
           0,
           0,
           0,
           0,
           0,
           0,
           0,
           0,
           0,
           0,
           0,
           0,
           0,
           0,
           0,
           0,
           0,
           0,
           0,
           0,
           0,
           0,
           0,
           0,
           0,
           0,
           0,
           0,
           0,
           0,
           0,
           0,
           0,
           0,
           1,
           0,
           0,
           0,
           0,
           0,
           0,
           0,
           0,
           0,
           0,
           0,
           0,
           0,
           0,
           0,
           0,
           0,
           0,
           1,
           1,
           0,
           0,
           0,
           0,
           0,
           0,
           1,
           0,
           0,
           0,
           0,
           0,
           0,
           0,
           0,
           0,
           0,
           0,
           0,
           0,
           0,
           0,
           0,
           0,
           0,
           0,
           0,
           0,
           0,
           0,
           0,
           0,
           0,
           0,
           0,
           0,
           0,
           0,
           0,
           0,
           0,
           0,
           0,
           0,
           0,
           0,
           0,
           0,
           0,
           0,
           0,
           0,
           0,
           0,
           0,
           0,
           0,
           0,
           0,
           0,
           0,
           0,
           0,
           0,
           0,
           0,
           0,
           0,
           0,
           0,
           0,
           0,
           0,
           0,
           0,
           0,
           0,
           0,
           0,
           0,
           0,
           0,
           0,
           0,
           0,
           0,
           0,
           0,
           0,
           0,
           0,
           0,
           0,
           0,
           0,
           0,
           0,
           0,
           1,
           0,
           0,
           0,
           0,
           0,
           0,
           0,
           0,
           0,
           0,
           0,
           0,
           0,
           0,
           0,
           0,
           0,
           0,
           0,
           0,
           0,
           0,
           1,
           0,
           0,
           0,
           0,
           0,
           0,
           0,
           0,
           0,
           0,
           1,
           0,
           0,
           0,
           0,
           1,
           0,
           0,
           0,
           0,
           0,
           0,
           0,
           0,
           0,
           0,
           0,
           0,
           0,
           0,
           0,
           0,
           0,
           0,
           0,
           0,
           0,
           0,
           0,
           0,
           0,
           0,
           0,
           0,
           0,
           0,
           0,
           0,
           1,
           0,
           0,
           0,
           0,
           0,
           0,
           0,
           0,
           0,
           0,
           0,
           0,
           0,
           0,
           0,
           0,
           0,
           0,
           1,
           0,
           0,
           0,
           0,
           0,
           0,
           0,
           0,
           0,
           0,
           0,
           0,
           0,
           0,
           0,
           0,
           0,
           0,
           0,
           0,
           0,
           0,
           0,
           0,
           0,
           0,
           0,
           0,
           0,
           0,
           0,
           0,
           0,
           0,
           0,
           0,
           0,
           0,
           0,
           0,
           0,
           0,
           0,
           0,
           0,
           0,
           0,
           0,
           0,
           0,
           0,
           0,
           0,
           0,
           0,
           0,
           0,
           0,
           0,
           0,
           0,
           0,
           0,
           0,
           0,
           0,
           0,
           0,
           0,
           1,
           1,
           1,
           0,
           0,
           0,
           0,
           0,
           0,
           0,
           0,
           0,
           0,
           0,
           0,
           0,
           0,
           0,
           0,
           0,
           0,
           0,
           0,
           0,
           0,
           0,
           0,
           0,
           0,
           0,
           0,
           0,
           0,
           0,
           0,
           0,
           0,
           0,
           0,
           0,
           0,
           0,
           0,
           0,
           1,
           0,
           0,
           0,
           0,
           0,
           0,
           0,
           0,
           0,
           0,
           0,
           0,
           0,
           0,
           0,
           0,
           1,
           0,
           0,
           0,
           0,
           0,
           0,
           0,
           0,
           0,
           0,
           0,
           0,
           0,
           0,
           0,
           0,
           0,
           0,
           0,
           0,
           0,
           0,
           0,
           0,
           0,
           0,
           0,
           0,
           0,
           0,
           0,
           0,
           0,
           0,
           0,
           0,
           0,
           0,
           0,
           0,
           0,
           0,
           1,
           0,
           0,
           0,
           0,
           0,
           0,
           0,
           0,
           0,
           0,
           0,
           0,
           0,
           0,
           0,
           0,
           0,
           0,
           0,
           0,
           0,
           0,
           0,
           0,
           0,
           0,
           0,
           1,
           0,
           0,
           0,
           0,
           0,
           0,
           0,
           0,
           1,
           0,
           0,
           0,
           0,
           0,
           0,
           0,
           0,
           0,
           0,
           0,
           0,
           0,
           0,
           0,
           0,
           0,
           0,
           0,
           0,
           0,
           0,
           0,
           0,
           0,
           0,
           0,
           0
          ],
          "coloraxis": "coloraxis",
          "opacity": 0.7,
          "symbol": "circle"
         },
         "mode": "markers",
         "name": "",
         "scene": "scene",
         "showlegend": false,
         "type": "scatter3d",
         "x": [
          -3.6852074,
          -7.7910395,
          -3.6496615,
          -3.4129605,
          -10.819317,
          -11.502565,
          -11.465381,
          -12.475447,
          -6.620554,
          -7.6510425,
          -11.66368,
          -9.665016,
          -5.9818397,
          -10.318235,
          -11.756317,
          -11.671569,
          -11.798045,
          -4.1328,
          -12.802981,
          -11.220593,
          -8.038623,
          -15.949367,
          -3.2775013,
          -5.2418556,
          -3.8949535,
          -5.370689,
          -16.127197,
          -6.6895547,
          -12.449266,
          -6.823903,
          -11.720389,
          -11.0026045,
          -11.840641,
          -10.691119,
          -10.585095,
          -11.317638,
          -18.44983,
          -17.853188,
          -7.020052,
          -7.0387273,
          -17.336706,
          -7.860819,
          -8.897261,
          -10.898566,
          -8.078144,
          -9.746222,
          -15.986556,
          -12.910041,
          -7.3081527,
          -11.438744,
          -17.928732,
          -4.4909596,
          -15.275243,
          -9.720468,
          -16.677841,
          -10.603127,
          -8.67028,
          -10.362814,
          -7.8823285,
          -3.7868958,
          -10.1127,
          -11.100884,
          -17.335382,
          -9.858577,
          -18.27754,
          -7.1267586,
          -9.858655,
          -10.665945,
          -8.781456,
          -11.397812,
          -13.242456,
          -12.167055,
          -12.01278,
          -5.1489997,
          -11.16617,
          -12.526995,
          -12.635517,
          -11.063088,
          -9.7816725,
          -8.8990135,
          -15.134289,
          -10.36266,
          -11.293209,
          -15.061912,
          -11.798377,
          -10.823572,
          -10.752571,
          -10.925808,
          -11.287707,
          -10.406864,
          -6.766576,
          -12.445418,
          -11.47029,
          -14.9516735,
          -6.128193,
          -9.018362,
          -10.531092,
          -13.570973,
          -7.525945,
          -2.7923162,
          -10.779809,
          -8.311016,
          -11.214545,
          -12.968386,
          -11.565702,
          -6.9743323,
          -9.788366,
          -14.946067,
          -6.7487283,
          -12.301539,
          -19.15765,
          -3.109292,
          -19.118393,
          -7.215481,
          -6.7618265,
          -8.679564,
          -11.451192,
          -9.22054,
          -4.136195,
          -14.702527,
          -15.988053,
          -11.609803,
          -11.467959,
          -6.4413066,
          -3.0382063,
          -7.4389753,
          -14.401332,
          -16.69486,
          -6.2232504,
          -5.562603,
          -7.6753597,
          -11.9158745,
          -14.6660185,
          -6.3804903,
          -12.829104,
          -8.930274,
          -11.808739,
          -7.826708,
          -12.821054,
          -7.04967,
          -9.780905,
          -7.7783237,
          -11.803342,
          -16.350126,
          -8.074519,
          -18.111477,
          -15.950061,
          -3.4258268,
          -9.719265,
          -9.019355,
          -16.691252,
          -14.814546,
          -17.803083,
          -7.227514,
          -19.858175,
          -14.148101,
          -4.070114,
          -11.786781,
          -18.102049,
          -17.311825,
          -12.160259,
          -17.136251,
          -16.153399,
          -12.854221,
          -10.104595,
          -6.940546,
          -8.961359,
          -9.647198,
          -15.433232,
          -6.7659674,
          -9.303304,
          -4.9809422,
          -7.5147038,
          -16.80171,
          -17.414463,
          -6.03289,
          -9.775975,
          -8.845229,
          -8.329547,
          -11.223306,
          -11.440874,
          -12.497433,
          -4.9204483,
          -12.662959,
          -13.897738,
          -12.180226,
          -12.320447,
          -3.1092978,
          -9.654442,
          -6.6299872,
          -10.970261,
          -20.101662,
          -9.443107,
          -10.960539,
          -4.9808702,
          -9.344644,
          -9.2199745,
          -10.72959,
          -10.67875,
          -8.522317,
          -9.292492,
          -13.03046,
          -5.919856,
          -5.1419315,
          -2.7740653,
          -8.163871,
          -6.8209395,
          -12.90785,
          -4.130441,
          -7.701388,
          -10.963208,
          -13.593073,
          -10.803654,
          -6.1652513,
          -4.3381205,
          -10.151755,
          -8.313829,
          -5.381719,
          -6.9766746,
          -9.794576,
          -2.1618018,
          -12.238681,
          -5.899563,
          -8.944675,
          -10.446563,
          -10.918963,
          -9.715791,
          -8.629057,
          -14.201646,
          -8.073802,
          -17.20235,
          -15.770602,
          -5.164725,
          -10.563365,
          -6.055317,
          -5.6434026,
          -6.2491794,
          -8.038984,
          -13.15332,
          -21.673353,
          -8.008579,
          -11.683915,
          -16.698978,
          -6.3448477,
          -10.324438,
          -5.992399,
          -4.1884804,
          -6.194831,
          -11.170214,
          -5.137055,
          -6.337837,
          -5.5813613,
          -9.024267,
          -3.7284362,
          -18.306038,
          -6.4903026,
          -9.77879,
          -6.1488776,
          -3.5869315,
          -20.735088,
          -7.999539,
          -10.377134,
          -9.027334,
          -5.5071464,
          -19.086191,
          -11.089239,
          -7.6050744,
          -8.1725645,
          -10.542776,
          -19.682413,
          -7.603872,
          -6.6078305,
          -8.519389,
          -4.6697993,
          -8.622954,
          -17.550575,
          -19.325111,
          -5.0698953,
          -8.577595,
          -9.322842,
          -18.473795,
          -11.083068,
          -10.631116,
          -9.7899885,
          -3.603562,
          -10.792448,
          -11.005396,
          -8.731159,
          -8.476245,
          -9.30441,
          -10.235735,
          -9.423993,
          -12.687594,
          -10.086761,
          -8.266083,
          -9.265402,
          -3.8976731,
          -8.9253645,
          -8.688363,
          -16.905653,
          -20.873547,
          -20.873665,
          -8.001073,
          -2.7639332,
          -19.072647,
          -5.1450543,
          -10.578281,
          -2.1643646,
          -4.9413314,
          -20.074148,
          -20.104462,
          -19.243042,
          -8.880202,
          -4.178047,
          -3.9748724,
          -0.7059885,
          -3.9065385,
          -11.763907,
          -4.246373,
          -3.7247539,
          -8.152431,
          -4.431409,
          -8.668812,
          -9.312728,
          -4.8599358,
          -3.9547868,
          -4.2674966,
          -3.5094814,
          -2.7709374,
          -11.759679,
          -4.75037,
          -8.1002245,
          -7.2931185,
          -3.6072419,
          -10.308578,
          -5.7591505,
          -7.817373,
          -9.426034,
          -5.9114256,
          -4.993118,
          -4.79844,
          -7.9899287,
          -7.223896,
          -6.312141,
          -8.093541,
          -3.8900132,
          -5.9235954,
          -6.0330844,
          -11.764214,
          -7.8236756,
          -8.246462,
          -8.512125,
          -6.8792005,
          -8.306213,
          -19.31693,
          -8.962462,
          -12.972828,
          -8.61306,
          -10.227026,
          -20.23057,
          -5.824379,
          -8.572999,
          -12.433673,
          -10.150492,
          -5.5494246,
          -8.518284,
          -10.901768,
          -6.8809624,
          -5.0671716,
          -10.710965,
          -9.594451,
          -8.263378,
          -7.6043096,
          -5.859077,
          -6.1065526,
          -5.0703278,
          -18.418413,
          -8.2458,
          -8.237726,
          -10.166726,
          -8.419265,
          -19.671743,
          -5.302747,
          -10.956159,
          -6.3221297,
          -18.113626,
          -2.7912376,
          -8.183897,
          -5.1451945,
          -7.8281674,
          -7.6312585,
          -19.317472,
          -9.685823,
          -7.5505385,
          -10.945039,
          -5.6306076,
          -6.16318,
          -9.721819,
          -6.898445,
          -4.924708,
          -10.867871,
          -10.166634,
          -6.1619215,
          -20.673403,
          -18.41778,
          -8.824786,
          -8.417043,
          -10.759372,
          -4.5751786,
          -19.62243,
          -6.82109,
          12.067586,
          5.473777,
          16.51242,
          6.34193,
          4.7818346,
          6.473715,
          4.7978544,
          4.487848,
          5.631875,
          8.420352,
          24.536533,
          5.495362,
          6.1953397,
          6.319246,
          7.004219,
          7.516782,
          2.4658663,
          3.9445033,
          12.675208,
          7.884273,
          11.2781725,
          10.7629795,
          10.800145,
          3.5684228,
          11.454075,
          9.337214,
          23.080547,
          3.3799725,
          3.8944473,
          26.787586,
          25.791248,
          8.629091,
          17.070007,
          1.7685604,
          21.148903,
          11.189724,
          25.965559,
          12.626901,
          12.009108,
          7.4688926,
          21.761898,
          24.082193,
          20.10165,
          20.070383,
          20.778585,
          26.103046,
          28.563078,
          25.234398,
          23.313852,
          19.140345,
          3.049975,
          6.24953,
          24.728277,
          25.798172,
          17.854689,
          11.766219,
          9.702752,
          15.126239,
          10.042165,
          18.661451,
          10.359713,
          23.250631,
          16.914165,
          20.49907,
          3.706859,
          6.1562605,
          5.0848465,
          25.247179,
          10.637708,
          10.238608,
          10.58607,
          11.8862295,
          22.181086,
          13.289918,
          2.4065702,
          7.486983,
          4.7009616,
          8.136247,
          9.392128,
          3.4668052,
          3.0877707,
          8.946698,
          26.324547,
          24.870886,
          10.748003,
          8.748719,
          2.081967,
          13.149065,
          5.643989,
          5.470787,
          6.0883274,
          6.942347,
          4.8489547,
          7.481472,
          11.179787,
          14.444342,
          25.214548,
          22.737978,
          7.2264357,
          8.234872,
          0.16184698,
          11.742904,
          5.904753,
          6.249859,
          11.739403,
          5.906486,
          4.861862,
          12.636698,
          19.781656,
          8.570084,
          6.4881887,
          6.4782023,
          7.9888644,
          7.284236,
          5.2793374,
          26.480997,
          15.138669,
          25.771538,
          4.492845,
          0.53603184,
          12.287431,
          4.3246284,
          4.978645,
          17.301577,
          28.046808,
          27.347605,
          5.9745054,
          6.308464,
          0.55474705,
          9.813274,
          3.8151014,
          6.9346924,
          7.0992246,
          6.154013,
          6.9199853,
          5.230094,
          8.2923155,
          6.146153,
          5.9039006,
          6.4788766,
          5.360388,
          8.297943,
          13.31396,
          4.786007,
          4.4134293,
          10.581955,
          14.309573,
          13.976604,
          8.244374,
          6.481323,
          28.31019,
          28.482235,
          4.790817,
          5.2000732,
          8.835591,
          8.268706,
          5.401363,
          8.700391,
          4.609702,
          5.226604,
          5.0386486,
          1.4347147,
          12.745487,
          7.811255,
          6.6078324,
          9.085228,
          8.852285,
          9.372939,
          5.9139752,
          4.3709216,
          12.176891,
          12.55027,
          9.4520445,
          9.219803,
          10.992191,
          0.69810164,
          6.786344,
          10.708862,
          5.20441,
          11.77635,
          4.104405,
          3.2336755,
          9.793007,
          9.457812,
          22.612682,
          15.751074,
          25.676764,
          1.0333142,
          4.12681,
          5.8255796,
          4.4856467,
          11.342664,
          15.848121,
          5.923633,
          5.258879,
          14.413294,
          15.305618,
          14.99928,
          20.154058,
          23.124643,
          6.222929,
          4.24406,
          3.531796,
          19.344511,
          16.302567,
          28.602037,
          20.695936,
          2.8821766,
          27.126417,
          -2.8619082,
          6.7913203,
          3.0004575,
          2.19752,
          7.363413,
          6.702865,
          3.0109255,
          1.9931664,
          9.863992,
          18.059134,
          16.20146,
          17.531445,
          5.2248173,
          4.600084,
          25.197084,
          18.966238,
          12.888551,
          9.588155,
          4.574828,
          4.1483374,
          13.797969,
          26.75337,
          6.5152225,
          10.6098175,
          8.472308,
          26.959242,
          6.410163,
          20.426214,
          8.448047,
          -3.465059,
          4.185771,
          6.267379,
          5.884774,
          4.634991,
          5.8485074,
          14.719693,
          4.4489813,
          10.518593,
          0.050412912,
          7.758965,
          21.568377,
          28.805483,
          6.0779734,
          7.5092263,
          5.51887,
          4.0388856,
          14.752125,
          9.751617,
          10.432895,
          7.1547656,
          4.024295,
          18.241253,
          10.939486,
          15.629925,
          7.72036,
          26.401918,
          0.9316425,
          24.919834,
          9.87452,
          25.476486,
          22.673695,
          7.402282,
          10.837119,
          27.88801,
          2.5004313,
          7.5472584,
          10.27761,
          10.90995,
          -3.079351,
          6.8957987,
          11.967613,
          0.00974813,
          4.9805393,
          9.540137,
          21.578297,
          15.678451,
          7.6874743,
          28.566492,
          25.942734,
          13.559785,
          10.527105,
          26.256086,
          27.607077,
          6.9417195,
          8.357781,
          11.312628,
          6.3028913,
          7.5555735,
          6.063598,
          8.850778,
          6.971033,
          7.241905,
          6.9522076,
          0.5681593,
          7.5986047,
          6.752836,
          9.404528,
          8.286659,
          4.7464933,
          4.1253204,
          6.8830447,
          5.50155,
          3.1904829,
          3.433552,
          2.809349,
          7.030458,
          5.918304,
          2.8107023,
          6.757984,
          5.1360345,
          4.9874907,
          12.031712,
          6.1274605,
          7.520144,
          9.843083,
          16.57926,
          6.793061,
          22.186926,
          13.646447,
          26.670063,
          28.237196,
          5.5760922,
          5.1231275,
          5.3066807,
          12.058748,
          7.5173893,
          4.4805036,
          4.0293264,
          21.319702,
          7.488265,
          7.4465227,
          3.7136765,
          27.58242,
          8.847551,
          8.770487,
          6.5490913,
          6.523996,
          11.457351,
          6.090987,
          7.8587694,
          7.184587,
          8.209915,
          7.001292,
          7.052639,
          3.2184713,
          25.071344,
          7.394597,
          4.8537865,
          9.127382,
          5.1326027,
          8.288528,
          6.497098,
          11.167385,
          7.57682,
          7.1837935,
          3.9105608,
          6.738402,
          8.255321,
          8.191665,
          5.0338182,
          1.4949975,
          1.5795004,
          7.148407,
          12.202594,
          5.8043213,
          6.838633,
          2.4191885,
          8.578417,
          -0.51197606,
          7.0681167,
          10.906574,
          7.1581607,
          5.930278,
          7.6828732,
          2.8744514,
          3.2524557,
          13.84772,
          22.786009,
          6.6373444,
          2.0003333,
          8.559167,
          6.4192615,
          0.3220771,
          9.546474,
          3.3053164,
          8.036733,
          4.4400077,
          6.646845,
          -0.44213036,
          -1.3536679,
          1.7915479,
          5.6878405,
          6.8858986,
          10.197058,
          23.687805,
          14.103533,
          7.9508624,
          7.8793874,
          -1.3544261,
          -2.784214,
          10.253534,
          -3.5643377,
          -5.141265,
          5.667433,
          9.103716,
          4.9010086,
          9.84248,
          1.0345271,
          -3.30447,
          -0.2524048,
          13.194097,
          11.468097,
          4.3489184,
          8.175501,
          -0.53762484,
          5.4299254,
          6.8922215,
          2.8476026,
          1.0521218,
          7.7155685,
          -0.8662505,
          4.227845,
          1.8734512,
          -0.7705262,
          7.8965807,
          4.2959127,
          3.579347,
          4.4658513,
          7.0015693,
          9.185732,
          -0.864914,
          9.177259,
          3.8765945,
          22.253923,
          4.531804,
          8.802808,
          9.781019,
          23.67551,
          6.70736,
          12.713299,
          -1.4007566,
          3.9277208,
          5.358782,
          7.483981,
          4.110432,
          3.5489717,
          10.60398,
          -1.3207601,
          0.35625884,
          8.149987,
          3.4309733,
          5.9122252,
          6.8797736,
          0.97850066,
          1.0481185,
          4.9995494,
          16.522278,
          7.8718314,
          4.430526,
          -0.084465235,
          8.25149,
          3.911546,
          -0.68576115,
          -0.20417075,
          5.386578,
          9.901209,
          4.174773
         ],
         "y": [
          3.0447512,
          -4.776893,
          4.4116626,
          4.342546,
          4.9009643,
          5.0442233,
          -1.6473063,
          -2.8097558,
          5.908451,
          -2.5178463,
          4.2132463,
          7.4364004,
          5.516385,
          7.513708,
          -1.3028632,
          -0.6061422,
          3.2726088,
          6.072018,
          0.402066,
          5.185488,
          4.7361975,
          -0.1775886,
          2.6740658,
          -0.6466478,
          4.0017786,
          6.5592055,
          0.560764,
          -2.6252038,
          4.239911,
          6.0347037,
          3.6834583,
          6.146876,
          0.75235945,
          4.9317427,
          -3.4264414,
          7.0114865,
          1.6781969,
          0.34373763,
          6.230709,
          6.124206,
          -1.2073727,
          4.46427,
          8.500796,
          5.004449,
          7.192834,
          2.684104,
          0.57986766,
          5.727895,
          6.3364816,
          -1.9235554,
          0.8322135,
          2.1504514,
          2.714963,
          3.0888374,
          2.8117936,
          7.4971566,
          3.5621443,
          5.526198,
          7.0198784,
          2.2578306,
          5.2837214,
          7.8880053,
          -1.2107786,
          5.527589,
          1.2692959,
          3.8170004,
          -1.5420744,
          -7.090742,
          3.0158904,
          6.970024,
          4.727997,
          0.12832491,
          0.4145497,
          4.9410315,
          0.0642257,
          6.605549,
          6.389695,
          -2.1050112,
          4.8433146,
          3.6373322,
          2.6151755,
          5.5284514,
          4.890973,
          1.9288276,
          3.2730303,
          -3.824315,
          -0.1394637,
          -8.832938,
          4.856706,
          -7.9100065,
          3.4920778,
          0.59354,
          -0.6239008,
          2.8284252,
          4.0013676,
          -0.64454335,
          -0.53404254,
          4.479302,
          3.3870907,
          2.4649222,
          -0.8825358,
          2.1765394,
          -7.238628,
          8.963226,
          3.598613,
          6.1186695,
          4.845654,
          1.9228857,
          3.5900629,
          9.237246,
          -17.955088,
          2.9345865,
          2.8465042,
          5.6813483,
          3.4908867,
          1.9559778,
          -9.15624,
          6.7615094,
          6.076866,
          3.0673428,
          1.583527,
          -8.199722,
          -5.6146097,
          3.8001115,
          3.2466822,
          1.6044155,
          -0.95756084,
          2.8071258,
          9.732067,
          5.9450555,
          1.3581085,
          -8.350684,
          2.0861661,
          3.8638818,
          -8.014078,
          5.4374995,
          -9.721431,
          -4.8542995,
          -8.030498,
          1.0111274,
          4.8514423,
          4.6314125,
          -9.729106,
          1.0259101,
          7.194473,
          1.4943575,
          -0.1798927,
          1.2132939,
          3.0080462,
          -5.947647,
          2.8209162,
          -0.6957642,
          -0.69629383,
          1.1834699,
          -0.5415838,
          -1.2728348,
          3.6213248,
          3.1361315,
          0.796529,
          2.464136,
          1.7819853,
          2.654747,
          0.53541,
          5.8568854,
          0.22147302,
          2.379884,
          5.39446,
          -9.688561,
          -0.8717113,
          0.59844893,
          -8.626066,
          4.8218727,
          4.0350194,
          1.064947,
          0.78306764,
          5.731309,
          4.849816,
          5.2353745,
          0.791666,
          0.50055724,
          -1.9229118,
          -0.15516654,
          8.718718,
          -6.827858,
          -0.61160654,
          0.32987937,
          -8.459597,
          2.9347785,
          -1.2814173,
          5.964299,
          5.393639,
          -0.42465347,
          7.440641,
          5.4234996,
          4.8240724,
          5.380301,
          6.7655354,
          5.6109905,
          -5.075027,
          -2.2835574,
          -1.5192208,
          3.014623,
          1.8554921,
          -0.3899301,
          2.8280811,
          0.24542452,
          4.170858,
          5.736789,
          6.056292,
          2.9395087,
          4.6362553,
          7.2281876,
          4.892325,
          -6.685427,
          3.6648655,
          0.058621608,
          2.176665,
          6.9172673,
          6.122194,
          4.8880277,
          3.700033,
          1.5706253,
          2.1858237,
          3.049103,
          5.391134,
          -3.9981794,
          3.1014006,
          1.8566359,
          3.8954706,
          2.6206915,
          2.6314447,
          0.6691369,
          -0.4289223,
          3.028994,
          0.2693125,
          -1.5030942,
          -6.7367597,
          3.3896768,
          5.05599,
          0.40221572,
          5.6031613,
          3.4040234,
          2.8159618,
          -3.3314931,
          -5.692496,
          -2.2265403,
          3.3144765,
          2.1200104,
          -3.4303205,
          -0.3815276,
          5.7357016,
          -2.4766471,
          -5.2673244,
          1.2775452,
          0.7589105,
          2.0242867,
          2.738984,
          2.1365318,
          5.7947907,
          -1.9807026,
          2.996684,
          -6.9142175,
          -5.270815,
          -1.2774466,
          1.2045424,
          -1.409444,
          7.349391,
          0.24263406,
          -6.3459315,
          0.899597,
          -2.0782924,
          -8.872969,
          -8.534789,
          -1.0046784,
          0.10272113,
          2.6879783,
          1.8832502,
          -5.85573,
          -3.2131033,
          -1.95126,
          1.2251111,
          -0.9984959,
          -2.4866524,
          -3.4519215,
          0.8789962,
          -2.5793502,
          -1.760814,
          8.370372,
          -1.0695634,
          -2.9734535,
          -1.8452849,
          -2.058715,
          -6.689567,
          -0.30046162,
          -3.0203376,
          -3.3110945,
          1.4743303,
          -9.417979,
          6.3106604,
          0.3268745,
          1.5003734,
          1.5004003,
          7.0616283,
          2.8388538,
          -0.40753654,
          -0.29972458,
          -5.9254146,
          3.6358202,
          5.8492336,
          -0.5132711,
          -0.42423812,
          0.11236503,
          -9.577032,
          3.3161378,
          -4.226748,
          0.56858706,
          -3.1518898,
          -1.5378401,
          -4.032184,
          1.276802,
          0.19946799,
          -4.3252783,
          6.897146,
          5.751276,
          4.0369763,
          -4.2357974,
          3.634142,
          4.155005,
          2.8234844,
          -0.16332906,
          -5.1642237,
          1.2151853,
          3.5841873,
          0.88213223,
          4.09023,
          -9.671822,
          -7.7395754,
          -5.281659,
          1.8660485,
          5.2788577,
          -4.5343533,
          4.878107,
          7.175148,
          1.7017722,
          1.1910421,
          4.0237274,
          1.8712441,
          0.24987677,
          -0.16225718,
          -7.741755,
          -5.2554417,
          -2.645184,
          -8.693725,
          -10.38534,
          2.7166011,
          -9.42963,
          -7.854603,
          -8.037641,
          -7.0244203,
          0.57159555,
          -1.8102154,
          -8.729783,
          -7.1641283,
          -7.821081,
          -9.414091,
          -8.53733,
          -9.02395,
          -8.693573,
          -5.5773444,
          -0.91565686,
          -0.30948767,
          -3.0197196,
          7.34864,
          2.1045823,
          2.9729142,
          3.9830928,
          -1.1546811,
          -5.253681,
          -5.216888,
          -6.749997,
          -7.261303,
          1.2251593,
          -0.4826396,
          -9.058265,
          0.21853599,
          -0.5011593,
          4.3901997,
          -7.880585,
          -0.29899278,
          -12.115521,
          -6.3797874,
          1.8925409,
          -6.6418805,
          -6.406413,
          -4.9710846,
          -1.2511283,
          -6.2847767,
          -12.092373,
          -8.696317,
          -0.26421097,
          -9.029468,
          -6.7495756,
          -6.2825418,
          0.10578218,
          -1.1559875,
          -9.446464,
          -7.268683,
          -4.5856853,
          -0.120610595,
          0.06845526,
          -3.9623835,
          -2.6853077,
          -1.8393241,
          1.1163377,
          2.323314,
          -9.521118,
          6.8843927,
          -11.272627,
          -6.3936524,
          3.0250196,
          7.7224817,
          -0.2673916,
          1.1389654,
          8.064003,
          4.7393847,
          7.736644,
          10.450164,
          -12.759357,
          -9.692473,
          -1.4003276,
          6.908035,
          -3.0050745,
          -3.801057,
          -3.4313903,
          -12.42664,
          -4.52083,
          3.84583,
          2.2844896,
          -12.295353,
          -11.651728,
          -3.4242125,
          -2.2882473,
          6.1903973,
          2.5551026,
          -9.89939,
          2.5305667,
          -4.575278,
          -0.3788274,
          -3.283517,
          -3.2164156,
          9.762484,
          1.8130469,
          0.69189334,
          3.2028472,
          2.6477451,
          2.7332006,
          -0.49938026,
          -3.1186962,
          0.13859949,
          1.653659,
          2.538229,
          -12.184604,
          4.00101,
          -1.0750934,
          -1.1296555,
          2.7589042,
          -2.5235353,
          2.892412,
          0.08393181,
          -3.2757776,
          2.606076,
          -0.7365114,
          1.9161555,
          1.4949566,
          2.0485122,
          -12.976766,
          9.774194,
          -7.361821,
          -1.4638517,
          -2.8798468,
          -2.3708074,
          -3.1192768,
          -3.0057628,
          2.50188,
          -2.0156243,
          -12.103475,
          10.855562,
          -8.697149,
          5.3444843,
          3.7693226,
          -12.039863,
          -12.688253,
          1.4158113,
          -1.5232917,
          -0.53945595,
          -2.3566468,
          7.366099,
          -11.297347,
          -0.51656216,
          -4.8328047,
          1.79886,
          1.6923199,
          11.333803,
          -4.92553,
          8.860805,
          -3.0857806,
          1.050195,
          -1.9699643,
          1.493572,
          10.046429,
          5.6863465,
          -8.146542,
          -4.1208625,
          -1.8901883,
          5.92032,
          -4.2950115,
          -2.554085,
          -11.1123,
          -2.9304397,
          3.0153885,
          6.9045796,
          9.524152,
          2.7334146,
          11.07154,
          11.206203,
          0.7121726,
          -1.7463351,
          1.552967,
          -0.8117783,
          -5.660827,
          -8.722313,
          -3.4299734,
          -12.057116,
          -10.048356,
          2.2931535,
          -4.3326635,
          -4.0717726,
          9.227332,
          8.683362,
          -8.0140915,
          -1.1132642,
          -13.075644,
          11.584976,
          6.469413,
          7.865224,
          10.720256,
          -1.3321248,
          3.028004,
          6.085967,
          6.558978,
          9.14371,
          -4.258184,
          9.490406,
          -0.73284864,
          -10.542201,
          -6.7357526,
          -3.7793834,
          0.73827803,
          -0.17253861,
          10.25532,
          4.8625817,
          -3.4596858,
          -3.9545834,
          -2.0790205,
          -8.748876,
          3.3546066,
          3.2295492,
          -0.124109656,
          8.107952,
          -3.633827,
          -6.189252,
          -2.7266765,
          -10.732796,
          -1.438151,
          9.092915,
          6.491867,
          4.9972124,
          5.166714,
          -0.9090818,
          7.037075,
          -9.582942,
          -1.8781848,
          -2.4069653,
          1.9262325,
          -1.2419354,
          -3.4532197,
          -8.211425,
          9.893114,
          -4.3841662,
          1.6771319,
          -3.5146716,
          -8.742889,
          -13.064546,
          0.8736432,
          4.2831464,
          2.4407423,
          2.1341252,
          -1.805257,
          -9.776974,
          -8.617156,
          0.8402955,
          -11.916213,
          -3.7606964,
          0.99785274,
          -0.7593654,
          -0.61710465,
          -0.65248835,
          1.6613798,
          0.73521775,
          2.0938802,
          0.9228899,
          9.841806,
          -8.139225,
          -11.87638,
          2.250439,
          2.2162387,
          -3.8400257,
          3.179518,
          -11.518407,
          -2.52625,
          3.6083188,
          5.6476216,
          -12.315823,
          -12.142282,
          10.328662,
          10.189189,
          -12.515017,
          -12.30038,
          -0.12061732,
          2.787328,
          1.7745953,
          1.8714902,
          -9.134738,
          -5.958737,
          -1.1548195,
          3.1007416,
          -1.8208247,
          -2.3462386,
          -2.8571494,
          -9.353442,
          -0.9540308,
          -3.0718951,
          10.657815,
          -4.2955275,
          3.6892667,
          -2.113197,
          7.073914,
          2.6074898,
          2.2178879,
          3.526082,
          -7.5577273,
          7.552802,
          5.1699915,
          -3.490906,
          3.9586773,
          -0.05993741,
          -12.591775,
          -3.86672,
          -5.775132,
          7.8399243,
          2.9161313,
          -3.7079828,
          3.3386564,
          9.392743,
          2.1939528,
          -13.057214,
          0.5971804,
          -1.8161483,
          -3.7910554,
          8.927606,
          -11.657034,
          2.027735,
          -3.4600458,
          1.1514044,
          9.829944,
          -0.84278727,
          -9.201712,
          -1.4420773,
          -1.6487267,
          -0.5111403,
          1.6133806,
          11.538473,
          -3.645842,
          -3.361305,
          -11.419744,
          9.796528,
          -3.572985,
          -3.2671113,
          3.530438,
          10.385558,
          -4.0725994,
          -6.9363384,
          -2.36872,
          2.8762317,
          2.4820292,
          0.5608326,
          8.1538925,
          -3.2437575,
          -1.5919333,
          -1.4424955,
          -1.5044537,
          -2.6660962,
          -3.8463109,
          7.2824016,
          8.240037,
          -4.0389776,
          3.2960095,
          10.384187,
          1.6839237,
          4.3610473,
          11.231881,
          10.243017,
          7.9500427,
          -7.2762427,
          7.6604366,
          3.339562,
          -2.0513997,
          9.159423,
          -7.634455,
          -12.155916,
          10.707347,
          2.744131,
          -12.849221,
          -12.547026,
          -11.7061,
          10.276412,
          -0.3113284,
          -12.889107,
          10.758262,
          -6.402406,
          -10.36631,
          -3.712248,
          8.857272,
          8.415899,
          0.5605367,
          1.625454,
          11.102607,
          1.8717523,
          0.17740631,
          -1.1388159,
          -4.209943,
          3.7587194,
          -3.356818,
          -6.773082,
          -2.117734,
          10.900161,
          -4.2955246,
          -12.545946,
          1.8025694,
          11.496091,
          8.870141,
          -10.963131,
          -3.77283,
          2.4918382,
          2.275106,
          8.616869,
          10.822824,
          -2.9158237,
          0.3651315,
          10.172961,
          8.642994,
          10.213141,
          11.34981,
          10.395886,
          -12.5318775,
          -0.18926781,
          9.602352,
          -8.530528,
          0.55781406,
          -8.254723,
          8.56523,
          1.2415735,
          -4.2490783,
          11.069318,
          9.417659,
          -13.268363,
          3.8766243,
          4.407053,
          9.731099,
          -4.4152346,
          -10.301482,
          -9.921849,
          7.0911865,
          -3.9013038,
          -3.2439055,
          5.202554,
          -12.736193,
          4.4229484,
          -5.637566,
          10.161029,
          -2.6880877,
          9.749457,
          5.522426,
          9.182035,
          -12.117741,
          -13.201217,
          0.00861929,
          1.0166779,
          10.886655,
          -11.760617,
          8.869182,
          1.1236054,
          -7.6648836,
          2.170752,
          -11.796457,
          4.1632905,
          -12.697327,
          2.100475,
          -4.6233535,
          -3.1163604,
          -10.683726,
          -4.005831,
          6.136237,
          -2.3390028,
          1.6825023,
          -0.74361265,
          6.401676,
          10.653256,
          -3.1163645,
          3.747816,
          -1.0003859,
          3.1945093,
          4.9960074,
          -2.5158021,
          3.0792956,
          -5.0817904,
          -0.35764602,
          -8.736712,
          2.8438594,
          -6.4374294,
          -2.373224,
          -3.3866317,
          -12.781132,
          10.808631,
          -5.6601624,
          -5.7459116,
          10.06067,
          -12.889484,
          -10.45487,
          11.408717,
          -5.190215,
          -10.179366,
          -10.608967,
          -4.3228464,
          11.335025,
          -11.848637,
          -12.125533,
          -11.582061,
          8.584081,
          0.5044254,
          -4.4037757,
          -0.30682594,
          -10.309649,
          1.1955569,
          -7.717907,
          6.1009593,
          -3.0333142,
          0.9564471,
          8.150509,
          -2.5845518,
          -3.0150938,
          -11.11428,
          -7.7824783,
          10.400252,
          -11.105809,
          -11.929323,
          -1.7688264,
          -3.1840456,
          -6.566118,
          10.616439,
          -13.31996,
          -3.4448473,
          10.128799,
          -7.885453,
          -9.961545,
          -9.673231,
          2.4924572,
          10.919937,
          -10.811063,
          -5.3173704,
          7.3461485,
          -12.563327,
          -4.7402325,
          -5.0010214,
          -3.3314898,
          -2.8926427,
          -10.43889
         ],
         "z": [
          -6.914182,
          5.2663364,
          -4.42184,
          -3.2441363,
          -3.4079602,
          -6.2073307,
          -0.39442602,
          -2.0098941,
          6.4373126,
          -3.7526376,
          2.704374,
          -6.2244296,
          -3.9207723,
          -4.1417465,
          -0.8769527,
          -4.868131,
          -5.1132545,
          4.511349,
          -0.91287273,
          -6.004915,
          -6.247788,
          2.2928317,
          -6.4201193,
          2.4762151,
          6.298336,
          2.0910985,
          -0.1179564,
          -1.6205978,
          1.9404091,
          3.7507064,
          1.5865262,
          -8.618812,
          -0.82666504,
          -3.6775742,
          -6.4776053,
          -3.2414255,
          -1.2186346,
          3.007356,
          3.7983081,
          6.246342,
          0.86957186,
          6.848506,
          -4.2610073,
          0.84024537,
          4.1527753,
          -7.9154987,
          0.23640856,
          -2.2098496,
          -4.9166484,
          -5.2214637,
          0.8917582,
          5.125509,
          -3.0105953,
          -4.6719046,
          0.6776347,
          -4.2791915,
          -2.1800623,
          -0.60911083,
          4.0852485,
          -6.386381,
          -4.8011193,
          3.958571,
          0.86944515,
          -5.0257573,
          2.9170632,
          4.4474335,
          -6.07927,
          -2.6363146,
          2.8482633,
          -3.1673534,
          -4.3182774,
          -1.7983285,
          0.49558774,
          6.6325626,
          -5.3189764,
          -4.7412124,
          -4.6812234,
          -3.5572178,
          5.00474,
          -2.4434116,
          -3.7820168,
          -0.6080427,
          0.75692934,
          -2.4890435,
          -5.114059,
          -6.9286194,
          -4.4632173,
          -1.8440346,
          0.9834154,
          -0.7680331,
          1.4602365,
          -7.5768385,
          -6.274344,
          -3.2032666,
          4.920073,
          -5.498245,
          -6.1192026,
          -4.196501,
          -7.016753,
          -6.600829,
          -5.3756413,
          5.8599696,
          0.45643255,
          -2.3383641,
          -2.8510256,
          6.3943105,
          5.0160813,
          4.135229,
          4.49506,
          -5.387856,
          1.2370317,
          -6.598692,
          1.2596153,
          6.5234156,
          1.4632041,
          -6.915774,
          0.45439312,
          -2.4025424,
          4.521756,
          -2.2865868,
          2.0724385,
          -1.0683398,
          -0.70246917,
          4.707621,
          -5.769782,
          -2.986412,
          -4.2733264,
          0.6881301,
          3.7588289,
          2.2556295,
          -3.9245644,
          -2.2056477,
          -3.3406405,
          9.67844,
          0.14658189,
          2.0478137,
          -1.200481,
          5.228385,
          0.16312546,
          -3.3034759,
          5.0295205,
          6.8152413,
          -1.1993465,
          3.005115,
          4.1592355,
          2.9386852,
          2.2982223,
          4.93282,
          8.657808,
          -1.2398115,
          0.69172704,
          -4.1083293,
          2.6691911,
          -0.0050445003,
          2.107406,
          -4.447992,
          -4.3770847,
          -2.6069045,
          2.9584372,
          2.9627032,
          -1.8123366,
          2.9502816,
          -0.08630318,
          -4.552683,
          -5.4990826,
          2.057441,
          1.9342778,
          -0.5497538,
          4.285091,
          -2.0467696,
          -2.5010283,
          6.6527147,
          4.4021573,
          1.8548023,
          5.516583,
          2.7929327,
          5.029015,
          1.9474986,
          -0.6656292,
          -1.4247307,
          -5.2124553,
          -7.5690894,
          6.923621,
          -1.7269452,
          -4.13556,
          -8.309867,
          -1.3035058,
          -6.5987554,
          -4.271234,
          3.5077257,
          -5.78999,
          1.5174512,
          -6.136542,
          -0.7256839,
          6.6555743,
          1.4980704,
          -2.3722982,
          -1.0569388,
          -0.51308566,
          -3.1994624,
          -3.9281938,
          -7.7597466,
          1.153376,
          2.6946387,
          1.3945477,
          2.7737842,
          1.4828589,
          -2.2071447,
          4.546765,
          2.1451085,
          -3.3121588,
          -7.1874804,
          -3.4214156,
          -3.2430005,
          3.3812032,
          -0.38274512,
          5.8615856,
          2.1473365,
          6.398928,
          4.941977,
          4.2558436,
          -1.6995586,
          6.927502,
          2.962544,
          -5.4243236,
          -7.1154137,
          -4.66679,
          -5.907412,
          -3.9264667,
          -6.782184,
          2.8989618,
          0.7988314,
          3.2166731,
          2.387919,
          5.5192003,
          1.5972471,
          -3.1291823,
          -1.4340682,
          -4.385674,
          -1.7513577,
          -3.9126377,
          -2.7718034,
          0.696801,
          -2.6294074,
          0.3586045,
          -0.47551677,
          3.131026,
          3.5207577,
          -1.285609,
          2.7044473,
          -3.8869944,
          -7.811141,
          -0.61319643,
          4.537133,
          0.6493027,
          1.9363093,
          2.6613162,
          3.719292,
          4.233847,
          -0.6721615,
          -0.85784584,
          1.3706456,
          -0.6117938,
          -2.8690288,
          2.4664946,
          0.7550388,
          -5.7451205,
          2.788336,
          0.8419335,
          -0.04360595,
          0.9690897,
          0.13622323,
          -2.1757312,
          -2.5181878,
          2.5847867,
          0.18723625,
          -1.1462846,
          3.7479506,
          -4.104501,
          -4.3553553,
          -1.1407645,
          1.7966733,
          -3.4190874,
          -5.557428,
          1.4771103,
          -4.930226,
          1.5732629,
          -4.32852,
          -5.285289,
          -4.489958,
          0.80469006,
          -5.843922,
          -1.7383888,
          -0.028612731,
          -5.2012963,
          -3.4743614,
          4.6878576,
          0.941756,
          -4.8942637,
          -0.5505089,
          0.2698359,
          0.26987377,
          -4.48321,
          1.403722,
          -1.7335529,
          -3.4547868,
          0.6150747,
          4.206806,
          1.4952617,
          -0.5193486,
          1.5179726,
          -0.59046894,
          -0.8343485,
          3.1319523,
          -0.17276669,
          2.9614654,
          4.4365396,
          1.257412,
          2.6285365,
          4.5434756,
          2.7539933,
          3.101649,
          -2.846185,
          -5.225816,
          1.0970881,
          -0.2158294,
          -3.5463977,
          -3.9523072,
          1.3914853,
          1.0383793,
          0.5819679,
          5.0149307,
          -1.170714,
          1.4788268,
          5.2451715,
          -2.9217358,
          2.4712646,
          -0.48040128,
          1.1627481,
          -0.014540464,
          1.7626395,
          -6.1835732,
          -4.2135005,
          0.86023974,
          5.0468326,
          6.2827682,
          1.1751,
          5.451723,
          1.0391507,
          2.4763238,
          1.6964235,
          0.27476946,
          0.16135123,
          3.8345697,
          1.0868034,
          0.85999537,
          0.51245534,
          2.4497137,
          1.6023107,
          -0.90039355,
          1.3569447,
          -1.9335741,
          3.9221175,
          -0.6503359,
          0.16170612,
          -2.1763287,
          1.8588778,
          0.16134071,
          1.1039997,
          1.0983716,
          2.1026511,
          -5.2035756,
          -5.746699,
          6.9030733,
          1.15277,
          1.0476491,
          0.17045613,
          1.6974055,
          1.6979495,
          -2.792335,
          0.47995588,
          1.0296857,
          -2.4521224,
          1.6741517,
          -1.9853178,
          2.6713362,
          -4.193324,
          2.4729738,
          -3.4525201,
          -1.4489363,
          -1.2179312,
          -1.1547049,
          3.1744306,
          -1.2111253,
          -0.6804872,
          -1.8217113,
          0.82191044,
          1.5155468,
          0.15504402,
          -1.7266041,
          1.8772992,
          -2.7918327,
          0.8219244,
          0.09555992,
          0.17006816,
          -1.0035521,
          0.47823638,
          3.506363,
          -2.4282327,
          0.2456077,
          -2.1975546,
          -0.8588195,
          10.743309,
          3.292954,
          11.33002,
          8.616249,
          8.70138,
          5.3691344,
          10.48357,
          9.980228,
          -8.554931,
          -0.2608143,
          11.600956,
          6.313887,
          9.973711,
          6.545487,
          -0.81442684,
          -3.0889683,
          7.4102483,
          0.89128953,
          -8.162593,
          -1.9286293,
          -2.3894858,
          -4.0925584,
          -1.160722,
          -2.7390342,
          -9.1403475,
          1.3894098,
          -2.47664,
          5.5354686,
          -1.0601274,
          -1.326104,
          -9.355351,
          3.4780824,
          -5.891177,
          2.5330975,
          -3.6113791,
          -0.7506375,
          -0.26071414,
          0.43429422,
          4.9849324,
          2.0772672,
          0.31827542,
          2.09727,
          1.7219759,
          1.5710033,
          -0.16330956,
          1.4667076,
          -0.38188022,
          1.6231451,
          2.2012293,
          -3.5906963,
          10.636354,
          -0.25063783,
          -1.542026,
          3.3337748,
          0.47190198,
          -9.616262,
          2.571597,
          -6.189741,
          3.313989,
          -9.141326,
          0.50317204,
          2.810002,
          2.4977245,
          -0.32639414,
          5.1606126,
          8.91596,
          -1.3552133,
          -6.173264,
          -6.854303,
          -7.680214,
          -1.8649023,
          1.9847919,
          1.3676441,
          -3.7870967,
          -4.5906186,
          7.698345,
          -9.439731,
          -10.117478,
          1.425913,
          -3.0410638,
          -9.747353,
          -0.0065179532,
          -0.9476436,
          -8.123145,
          -7.9747634,
          -4.3033757,
          1.8754164,
          10.814502,
          10.352648,
          10.221864,
          0.6851006,
          10.156932,
          5.2576427,
          -1.2380153,
          3.0996938,
          -0.4759999,
          0.40355068,
          3.9044054,
          -8.686563,
          -7.100271,
          -3.7094178,
          11.4382925,
          9.405701,
          -1.5367814,
          10.881602,
          6.4186354,
          0.68568385,
          2.8572364,
          -8.824604,
          5.7818537,
          10.126877,
          -3.6059144,
          -3.6717303,
          10.974796,
          -1.5408989,
          2.668781,
          0.21016009,
          10.503651,
          -7.0747776,
          -1.7753439,
          2.4440656,
          7.799338,
          2.5917587,
          -0.6323727,
          -0.85132444,
          4.8653207,
          4.63272,
          -6.7343655,
          -9.520389,
          2.8051388,
          -1.2749652,
          8.110413,
          7.2307773,
          2.4088395,
          11.602212,
          -9.48788,
          7.962121,
          8.499262,
          4.107059,
          10.315394,
          -5.6719155,
          2.581961,
          5.8055162,
          9.772639,
          -5.077124,
          2.4341652,
          1.7901576,
          -5.353299,
          8.880493,
          -0.4898995,
          -0.75636464,
          11.079126,
          8.893441,
          -10.478617,
          -10.145114,
          11.611155,
          -7.514083,
          11.4357815,
          9.616403,
          10.562024,
          -5.1066594,
          1.7920452,
          -7.4228578,
          7.416335,
          -9.151121,
          -9.835859,
          -8.39502,
          7.596899,
          6.772658,
          1.1572945,
          1.4303964,
          -10.215202,
          -8.965003,
          -5.6427455,
          -7.533443,
          3.290635,
          -2.9296212,
          10.942952,
          -2.9319434,
          7.97012,
          1.8260051,
          -9.779944,
          -9.680489,
          0.9629582,
          3.053141,
          0.038506858,
          -6.320567,
          8.788468,
          10.511634,
          3.6707172,
          -0.7515105,
          2.5837512,
          11.5009775,
          11.004083,
          2.1795733,
          3.4761245,
          2.2612505,
          2.037318,
          0.57832354,
          4.169892,
          9.474599,
          3.683302,
          2.9271622,
          3.655633,
          0.45492464,
          2.399597,
          -3.3890526,
          -1.4826386,
          -4.099147,
          8.376106,
          0.1765135,
          -2.2440565,
          2.0954583,
          4.570136,
          1.3387871,
          -3.2538643,
          -9.711082,
          2.591286,
          2.477381,
          3.4883835,
          8.064503,
          9.690946,
          0.20047866,
          2.6732023,
          0.43420953,
          -7.561566,
          11.277825,
          8.486342,
          1.5816524,
          -1.5854381,
          1.795921,
          -4.0232406,
          -9.111141,
          -0.79579836,
          6.9472275,
          2.9066198,
          -9.916273,
          -4.1031313,
          9.064513,
          8.017755,
          9.417503,
          10.615461,
          9.692997,
          3.1540017,
          3.4721067,
          -5.974476,
          -7.4363503,
          -8.353443,
          1.8301489,
          0.24021563,
          11.0073805,
          4.5021553,
          11.36663,
          0.8359765,
          3.4822848,
          -9.058846,
          -3.4509075,
          4.2320313,
          3.2403445,
          2.852809,
          -6.6667542,
          3.7214227,
          -6.187614,
          -1.1476539,
          -6.518394,
          -0.85066247,
          -7.6352053,
          -1.1851536,
          1.8295285,
          -0.59796214,
          -1.5729461,
          -1.1915728,
          -2.8475165,
          -3.8028166,
          -7.010113,
          -3.0061193,
          -5.074907,
          0.61167574,
          -2.4430532,
          -7.5849957,
          11.814463,
          -10.270361,
          1.1515216,
          3.248346,
          -6.827597,
          1.246774,
          -0.71824163,
          2.1600287,
          -8.872765,
          -0.66537327,
          -0.25822216,
          8.196427,
          -6.69142,
          -4.39846,
          9.65469,
          -5.5291247,
          11.628823,
          -10.288465,
          1.5783194,
          -2.419029,
          7.3804865,
          -7.158942,
          -7.584301,
          10.586362,
          -8.291963,
          -6.558594,
          9.906391,
          1.387873,
          -3.669387,
          10.738525,
          -1.9067308,
          3.3812387,
          -2.229465,
          -4.5051656,
          10.8789015,
          -1.1508319,
          -2.5306973,
          10.627158,
          6.6892004,
          -0.50547975,
          5.585897,
          -7.699393,
          -9.14943,
          3.7847412,
          -0.6603758,
          0.7236373,
          2.3740468,
          -0.54435855,
          0.084054165,
          10.406494,
          11.857689,
          10.045398,
          -0.038133256,
          1.6096741,
          10.774514,
          0.0965263,
          1.4801987,
          -1.8161594,
          -6.7344394,
          5.7585754,
          -1.3980646,
          -10.439583,
          -9.211824,
          6.7482724,
          0.9230536,
          -0.2726882,
          11.441028,
          -2.8085508,
          6.1539254,
          -3.7280407,
          -2.4874465,
          -1.1333834,
          2.5522854,
          0.27792823,
          -4.7671423,
          9.449528,
          -9.14203,
          8.331262,
          -7.991672,
          10.696466,
          -1.6276355,
          0.6847576,
          5.7361674,
          1.8360871,
          9.939092,
          -10.058807,
          -4.666138,
          11.497498,
          -6.180967,
          -5.370969,
          7.4560037,
          -1.4112362,
          11.563895,
          9.439561,
          -2.3548656,
          -8.944214,
          -6.826488,
          -3.3106875,
          -7.0953636,
          -5.5370784,
          8.711336,
          -5.3550587,
          -1.1745068,
          0.88623,
          3.0128088,
          1.4317379,
          -1.2369484,
          -2.982466,
          -7.2411947,
          11.358974,
          -7.6138544,
          -9.394214,
          -2.8320847,
          -9.541717,
          2.6689746,
          10.762529,
          -6.676886,
          -5.9712634,
          -5.6044264,
          11.349718,
          8.989287,
          -8.672074,
          0.89510816,
          2.7839239,
          -8.969178,
          -1.9033486,
          -5.971061,
          -3.5324268,
          -8.304272,
          -2.9685788,
          -3.943342,
          11.7975855,
          -9.112016,
          11.13811,
          -8.663516,
          -6.8922076,
          -3.857077,
          -7.2465143,
          0.75535357,
          -3.6426213,
          1.5482868,
          -2.8908014,
          -7.5071206,
          10.311698,
          5.189009,
          0.07115862,
          -5.798334,
          -2.8176847,
          -6.9891596,
          7.813463,
          -5.0320845,
          -6.781339,
          -1.2946086,
          4.858886,
          0.18822296,
          6.062813,
          4.8198423,
          -9.922226,
          -6.700989,
          -9.389218,
          6.5841537,
          1.0736583,
          8.5193205,
          -8.6101265,
          -7.090449,
          1.0557743,
          5.56431,
          -0.29877937,
          -5.9110794,
          6.55018,
          9.38671,
          0.934472,
          4.8747215,
          2.4571671,
          -7.7794824,
          -6.013434,
          -7.449067,
          -4.4603662,
          0.10512267,
          10.836295,
          1.6643531,
          -7.186545,
          -5.5234427,
          7.116711,
          2.8451762,
          -0.77589184,
          7.190495,
          -6.8459682,
          -7.4285383,
          3.9180658,
          -7.269243,
          -7.32129,
          10.412116,
          -8.088849,
          5.674486
         ]
        }
       ],
       "layout": {
        "coloraxis": {
         "colorbar": {
          "title": {
           "text": "Anomaly"
          }
         },
         "colorscale": [
          [
           0,
           "#0d0887"
          ],
          [
           0.1111111111111111,
           "#46039f"
          ],
          [
           0.2222222222222222,
           "#7201a8"
          ],
          [
           0.3333333333333333,
           "#9c179e"
          ],
          [
           0.4444444444444444,
           "#bd3786"
          ],
          [
           0.5555555555555556,
           "#d8576b"
          ],
          [
           0.6666666666666666,
           "#ed7953"
          ],
          [
           0.7777777777777778,
           "#fb9f3a"
          ],
          [
           0.8888888888888888,
           "#fdca26"
          ],
          [
           1,
           "#f0f921"
          ]
         ]
        },
        "height": 800,
        "legend": {
         "tracegroupgap": 0
        },
        "scene": {
         "domain": {
          "x": [
           0,
           1
          ],
          "y": [
           0,
           1
          ]
         },
         "xaxis": {
          "title": {
           "text": "0"
          }
         },
         "yaxis": {
          "title": {
           "text": "1"
          }
         },
         "zaxis": {
          "title": {
           "text": "2"
          }
         }
        },
        "template": {
         "data": {
          "bar": [
           {
            "error_x": {
             "color": "#2a3f5f"
            },
            "error_y": {
             "color": "#2a3f5f"
            },
            "marker": {
             "line": {
              "color": "#E5ECF6",
              "width": 0.5
             },
             "pattern": {
              "fillmode": "overlay",
              "size": 10,
              "solidity": 0.2
             }
            },
            "type": "bar"
           }
          ],
          "barpolar": [
           {
            "marker": {
             "line": {
              "color": "#E5ECF6",
              "width": 0.5
             },
             "pattern": {
              "fillmode": "overlay",
              "size": 10,
              "solidity": 0.2
             }
            },
            "type": "barpolar"
           }
          ],
          "carpet": [
           {
            "aaxis": {
             "endlinecolor": "#2a3f5f",
             "gridcolor": "white",
             "linecolor": "white",
             "minorgridcolor": "white",
             "startlinecolor": "#2a3f5f"
            },
            "baxis": {
             "endlinecolor": "#2a3f5f",
             "gridcolor": "white",
             "linecolor": "white",
             "minorgridcolor": "white",
             "startlinecolor": "#2a3f5f"
            },
            "type": "carpet"
           }
          ],
          "choropleth": [
           {
            "colorbar": {
             "outlinewidth": 0,
             "ticks": ""
            },
            "type": "choropleth"
           }
          ],
          "contour": [
           {
            "colorbar": {
             "outlinewidth": 0,
             "ticks": ""
            },
            "colorscale": [
             [
              0,
              "#0d0887"
             ],
             [
              0.1111111111111111,
              "#46039f"
             ],
             [
              0.2222222222222222,
              "#7201a8"
             ],
             [
              0.3333333333333333,
              "#9c179e"
             ],
             [
              0.4444444444444444,
              "#bd3786"
             ],
             [
              0.5555555555555556,
              "#d8576b"
             ],
             [
              0.6666666666666666,
              "#ed7953"
             ],
             [
              0.7777777777777778,
              "#fb9f3a"
             ],
             [
              0.8888888888888888,
              "#fdca26"
             ],
             [
              1,
              "#f0f921"
             ]
            ],
            "type": "contour"
           }
          ],
          "contourcarpet": [
           {
            "colorbar": {
             "outlinewidth": 0,
             "ticks": ""
            },
            "type": "contourcarpet"
           }
          ],
          "heatmap": [
           {
            "colorbar": {
             "outlinewidth": 0,
             "ticks": ""
            },
            "colorscale": [
             [
              0,
              "#0d0887"
             ],
             [
              0.1111111111111111,
              "#46039f"
             ],
             [
              0.2222222222222222,
              "#7201a8"
             ],
             [
              0.3333333333333333,
              "#9c179e"
             ],
             [
              0.4444444444444444,
              "#bd3786"
             ],
             [
              0.5555555555555556,
              "#d8576b"
             ],
             [
              0.6666666666666666,
              "#ed7953"
             ],
             [
              0.7777777777777778,
              "#fb9f3a"
             ],
             [
              0.8888888888888888,
              "#fdca26"
             ],
             [
              1,
              "#f0f921"
             ]
            ],
            "type": "heatmap"
           }
          ],
          "heatmapgl": [
           {
            "colorbar": {
             "outlinewidth": 0,
             "ticks": ""
            },
            "colorscale": [
             [
              0,
              "#0d0887"
             ],
             [
              0.1111111111111111,
              "#46039f"
             ],
             [
              0.2222222222222222,
              "#7201a8"
             ],
             [
              0.3333333333333333,
              "#9c179e"
             ],
             [
              0.4444444444444444,
              "#bd3786"
             ],
             [
              0.5555555555555556,
              "#d8576b"
             ],
             [
              0.6666666666666666,
              "#ed7953"
             ],
             [
              0.7777777777777778,
              "#fb9f3a"
             ],
             [
              0.8888888888888888,
              "#fdca26"
             ],
             [
              1,
              "#f0f921"
             ]
            ],
            "type": "heatmapgl"
           }
          ],
          "histogram": [
           {
            "marker": {
             "pattern": {
              "fillmode": "overlay",
              "size": 10,
              "solidity": 0.2
             }
            },
            "type": "histogram"
           }
          ],
          "histogram2d": [
           {
            "colorbar": {
             "outlinewidth": 0,
             "ticks": ""
            },
            "colorscale": [
             [
              0,
              "#0d0887"
             ],
             [
              0.1111111111111111,
              "#46039f"
             ],
             [
              0.2222222222222222,
              "#7201a8"
             ],
             [
              0.3333333333333333,
              "#9c179e"
             ],
             [
              0.4444444444444444,
              "#bd3786"
             ],
             [
              0.5555555555555556,
              "#d8576b"
             ],
             [
              0.6666666666666666,
              "#ed7953"
             ],
             [
              0.7777777777777778,
              "#fb9f3a"
             ],
             [
              0.8888888888888888,
              "#fdca26"
             ],
             [
              1,
              "#f0f921"
             ]
            ],
            "type": "histogram2d"
           }
          ],
          "histogram2dcontour": [
           {
            "colorbar": {
             "outlinewidth": 0,
             "ticks": ""
            },
            "colorscale": [
             [
              0,
              "#0d0887"
             ],
             [
              0.1111111111111111,
              "#46039f"
             ],
             [
              0.2222222222222222,
              "#7201a8"
             ],
             [
              0.3333333333333333,
              "#9c179e"
             ],
             [
              0.4444444444444444,
              "#bd3786"
             ],
             [
              0.5555555555555556,
              "#d8576b"
             ],
             [
              0.6666666666666666,
              "#ed7953"
             ],
             [
              0.7777777777777778,
              "#fb9f3a"
             ],
             [
              0.8888888888888888,
              "#fdca26"
             ],
             [
              1,
              "#f0f921"
             ]
            ],
            "type": "histogram2dcontour"
           }
          ],
          "mesh3d": [
           {
            "colorbar": {
             "outlinewidth": 0,
             "ticks": ""
            },
            "type": "mesh3d"
           }
          ],
          "parcoords": [
           {
            "line": {
             "colorbar": {
              "outlinewidth": 0,
              "ticks": ""
             }
            },
            "type": "parcoords"
           }
          ],
          "pie": [
           {
            "automargin": true,
            "type": "pie"
           }
          ],
          "scatter": [
           {
            "fillpattern": {
             "fillmode": "overlay",
             "size": 10,
             "solidity": 0.2
            },
            "type": "scatter"
           }
          ],
          "scatter3d": [
           {
            "line": {
             "colorbar": {
              "outlinewidth": 0,
              "ticks": ""
             }
            },
            "marker": {
             "colorbar": {
              "outlinewidth": 0,
              "ticks": ""
             }
            },
            "type": "scatter3d"
           }
          ],
          "scattercarpet": [
           {
            "marker": {
             "colorbar": {
              "outlinewidth": 0,
              "ticks": ""
             }
            },
            "type": "scattercarpet"
           }
          ],
          "scattergeo": [
           {
            "marker": {
             "colorbar": {
              "outlinewidth": 0,
              "ticks": ""
             }
            },
            "type": "scattergeo"
           }
          ],
          "scattergl": [
           {
            "marker": {
             "colorbar": {
              "outlinewidth": 0,
              "ticks": ""
             }
            },
            "type": "scattergl"
           }
          ],
          "scattermapbox": [
           {
            "marker": {
             "colorbar": {
              "outlinewidth": 0,
              "ticks": ""
             }
            },
            "type": "scattermapbox"
           }
          ],
          "scatterpolar": [
           {
            "marker": {
             "colorbar": {
              "outlinewidth": 0,
              "ticks": ""
             }
            },
            "type": "scatterpolar"
           }
          ],
          "scatterpolargl": [
           {
            "marker": {
             "colorbar": {
              "outlinewidth": 0,
              "ticks": ""
             }
            },
            "type": "scatterpolargl"
           }
          ],
          "scatterternary": [
           {
            "marker": {
             "colorbar": {
              "outlinewidth": 0,
              "ticks": ""
             }
            },
            "type": "scatterternary"
           }
          ],
          "surface": [
           {
            "colorbar": {
             "outlinewidth": 0,
             "ticks": ""
            },
            "colorscale": [
             [
              0,
              "#0d0887"
             ],
             [
              0.1111111111111111,
              "#46039f"
             ],
             [
              0.2222222222222222,
              "#7201a8"
             ],
             [
              0.3333333333333333,
              "#9c179e"
             ],
             [
              0.4444444444444444,
              "#bd3786"
             ],
             [
              0.5555555555555556,
              "#d8576b"
             ],
             [
              0.6666666666666666,
              "#ed7953"
             ],
             [
              0.7777777777777778,
              "#fb9f3a"
             ],
             [
              0.8888888888888888,
              "#fdca26"
             ],
             [
              1,
              "#f0f921"
             ]
            ],
            "type": "surface"
           }
          ],
          "table": [
           {
            "cells": {
             "fill": {
              "color": "#EBF0F8"
             },
             "line": {
              "color": "white"
             }
            },
            "header": {
             "fill": {
              "color": "#C8D4E3"
             },
             "line": {
              "color": "white"
             }
            },
            "type": "table"
           }
          ]
         },
         "layout": {
          "annotationdefaults": {
           "arrowcolor": "#2a3f5f",
           "arrowhead": 0,
           "arrowwidth": 1
          },
          "autotypenumbers": "strict",
          "coloraxis": {
           "colorbar": {
            "outlinewidth": 0,
            "ticks": ""
           }
          },
          "colorscale": {
           "diverging": [
            [
             0,
             "#8e0152"
            ],
            [
             0.1,
             "#c51b7d"
            ],
            [
             0.2,
             "#de77ae"
            ],
            [
             0.3,
             "#f1b6da"
            ],
            [
             0.4,
             "#fde0ef"
            ],
            [
             0.5,
             "#f7f7f7"
            ],
            [
             0.6,
             "#e6f5d0"
            ],
            [
             0.7,
             "#b8e186"
            ],
            [
             0.8,
             "#7fbc41"
            ],
            [
             0.9,
             "#4d9221"
            ],
            [
             1,
             "#276419"
            ]
           ],
           "sequential": [
            [
             0,
             "#0d0887"
            ],
            [
             0.1111111111111111,
             "#46039f"
            ],
            [
             0.2222222222222222,
             "#7201a8"
            ],
            [
             0.3333333333333333,
             "#9c179e"
            ],
            [
             0.4444444444444444,
             "#bd3786"
            ],
            [
             0.5555555555555556,
             "#d8576b"
            ],
            [
             0.6666666666666666,
             "#ed7953"
            ],
            [
             0.7777777777777778,
             "#fb9f3a"
            ],
            [
             0.8888888888888888,
             "#fdca26"
            ],
            [
             1,
             "#f0f921"
            ]
           ],
           "sequentialminus": [
            [
             0,
             "#0d0887"
            ],
            [
             0.1111111111111111,
             "#46039f"
            ],
            [
             0.2222222222222222,
             "#7201a8"
            ],
            [
             0.3333333333333333,
             "#9c179e"
            ],
            [
             0.4444444444444444,
             "#bd3786"
            ],
            [
             0.5555555555555556,
             "#d8576b"
            ],
            [
             0.6666666666666666,
             "#ed7953"
            ],
            [
             0.7777777777777778,
             "#fb9f3a"
            ],
            [
             0.8888888888888888,
             "#fdca26"
            ],
            [
             1,
             "#f0f921"
            ]
           ]
          },
          "colorway": [
           "#636efa",
           "#EF553B",
           "#00cc96",
           "#ab63fa",
           "#FFA15A",
           "#19d3f3",
           "#FF6692",
           "#B6E880",
           "#FF97FF",
           "#FECB52"
          ],
          "font": {
           "color": "#2a3f5f"
          },
          "geo": {
           "bgcolor": "white",
           "lakecolor": "white",
           "landcolor": "#E5ECF6",
           "showlakes": true,
           "showland": true,
           "subunitcolor": "white"
          },
          "hoverlabel": {
           "align": "left"
          },
          "hovermode": "closest",
          "mapbox": {
           "style": "light"
          },
          "paper_bgcolor": "white",
          "plot_bgcolor": "#E5ECF6",
          "polar": {
           "angularaxis": {
            "gridcolor": "white",
            "linecolor": "white",
            "ticks": ""
           },
           "bgcolor": "#E5ECF6",
           "radialaxis": {
            "gridcolor": "white",
            "linecolor": "white",
            "ticks": ""
           }
          },
          "scene": {
           "xaxis": {
            "backgroundcolor": "#E5ECF6",
            "gridcolor": "white",
            "gridwidth": 2,
            "linecolor": "white",
            "showbackground": true,
            "ticks": "",
            "zerolinecolor": "white"
           },
           "yaxis": {
            "backgroundcolor": "#E5ECF6",
            "gridcolor": "white",
            "gridwidth": 2,
            "linecolor": "white",
            "showbackground": true,
            "ticks": "",
            "zerolinecolor": "white"
           },
           "zaxis": {
            "backgroundcolor": "#E5ECF6",
            "gridcolor": "white",
            "gridwidth": 2,
            "linecolor": "white",
            "showbackground": true,
            "ticks": "",
            "zerolinecolor": "white"
           }
          },
          "shapedefaults": {
           "line": {
            "color": "#2a3f5f"
           }
          },
          "ternary": {
           "aaxis": {
            "gridcolor": "white",
            "linecolor": "white",
            "ticks": ""
           },
           "baxis": {
            "gridcolor": "white",
            "linecolor": "white",
            "ticks": ""
           },
           "bgcolor": "#E5ECF6",
           "caxis": {
            "gridcolor": "white",
            "linecolor": "white",
            "ticks": ""
           }
          },
          "title": {
           "x": 0.05
          },
          "xaxis": {
           "automargin": true,
           "gridcolor": "white",
           "linecolor": "white",
           "ticks": "",
           "title": {
            "standoff": 15
           },
           "zerolinecolor": "white",
           "zerolinewidth": 2
          },
          "yaxis": {
           "automargin": true,
           "gridcolor": "white",
           "linecolor": "white",
           "ticks": "",
           "title": {
            "standoff": 15
           },
           "zerolinecolor": "white",
           "zerolinewidth": 2
          }
         }
        },
        "title": {
         "text": "3d TSNE Plot for Outliers"
        },
        "width": 900
       }
      }
     },
     "metadata": {},
     "output_type": "display_data"
    }
   ],
   "source": [
    "# Analyze model\n",
    "s.plot_model(iforest, plot = 'tsne')"
   ]
  },
  {
   "cell_type": "code",
   "execution_count": 11,
   "metadata": {},
   "outputs": [
    {
     "data": {
      "text/html": [],
      "text/plain": [
       "<IPython.core.display.HTML object>"
      ]
     },
     "metadata": {},
     "output_type": "display_data"
    },
    {
     "data": {
      "application/vnd.plotly.v1+json": {
       "config": {
        "plotlyServerURL": "https://plot.ly"
       },
       "data": [
        {
         "customdata": [
          [
           "2014-12-29 22:57:49"
          ],
          [
           "2014-12-30 21:17:50"
          ],
          [
           "2014-12-30 22:42:49"
          ],
          [
           "2014-12-31 22:31:01"
          ],
          [
           "2015-01-01 22:12:10"
          ],
          [
           "2015-01-03 00:34:57"
          ],
          [
           "2015-01-04 00:23:06"
          ],
          [
           "2015-01-04 21:34:44"
          ],
          [
           "2015-01-05 21:32:25"
          ],
          [
           "2015-01-06 21:24:56"
          ],
          [
           "2015-01-07 20:59:58"
          ],
          [
           "2015-01-08 22:58:18"
          ],
          [
           "2015-01-09 22:27:58"
          ],
          [
           "2015-01-10 22:38:24"
          ],
          [
           "2015-01-11 22:12:07"
          ],
          [
           "2015-01-12 21:01:46"
          ],
          [
           "2015-01-13 22:14:29"
          ],
          [
           "2015-01-14 21:48:26"
          ],
          [
           "2015-01-15 21:32:07"
          ],
          [
           "2015-01-17 02:11:57"
          ],
          [
           "2015-01-17 23:55:16"
          ],
          [
           "2015-01-18 21:51:53"
          ],
          [
           "2015-01-19 05:06:38"
          ],
          [
           "2015-01-19 21:45:19"
          ],
          [
           "2015-01-20 21:42:37"
          ],
          [
           "2015-01-21 22:34:35"
          ],
          [
           "2015-01-25 20:55:02"
          ],
          [
           "2015-01-26 22:36:21"
          ],
          [
           "2015-01-28 21:43:16"
          ],
          [
           "2015-01-29 22:23:40"
          ],
          [
           "2015-01-31 00:13:46"
          ],
          [
           "2015-02-01 21:55:59"
          ],
          [
           "2015-02-02 22:30:35"
          ],
          [
           "2015-02-03 22:47:33"
          ],
          [
           "2015-02-04 23:03:06"
          ],
          [
           "2015-02-08 22:30:34"
          ],
          [
           "2015-02-09 21:55:43"
          ],
          [
           "2015-02-10 22:20:46"
          ],
          [
           "2015-02-11 21:53:45"
          ],
          [
           "2015-02-12 22:34:54"
          ],
          [
           "2015-02-15 22:16:27"
          ],
          [
           "2015-02-17 00:02:30"
          ],
          [
           "2015-02-17 22:20:00"
          ],
          [
           "2015-02-19 22:39:45"
          ],
          [
           "2015-02-21 00:31:24"
          ],
          [
           "2015-02-21 22:54:00"
          ],
          [
           "2015-02-22 22:18:00"
          ],
          [
           "2015-02-24 22:30:11"
          ],
          [
           "2015-02-26 01:22:32"
          ],
          [
           "2015-02-26 21:42:32"
          ],
          [
           "2015-03-01 20:14:26"
          ],
          [
           "2015-03-03 21:47:16"
          ],
          [
           "2015-03-04 20:53:47"
          ],
          [
           "2015-03-05 22:29:33"
          ],
          [
           "2015-03-08 22:54:58"
          ],
          [
           "2015-03-09 21:28:08"
          ],
          [
           "2015-03-10 22:17:17"
          ],
          [
           "2015-03-11 21:39:44"
          ],
          [
           "2015-03-12 21:44:36"
          ],
          [
           "2015-03-15 21:50:56"
          ],
          [
           "2015-03-16 21:48:42"
          ],
          [
           "2015-03-17 23:57:46"
          ],
          [
           "2015-03-21 01:10:15"
          ],
          [
           "2015-03-22 23:07:46"
          ],
          [
           "2015-03-24 22:11:07"
          ],
          [
           "2015-03-25 22:00:06"
          ],
          [
           "2015-03-26 21:23:43"
          ],
          [
           "2015-03-30 22:30:48"
          ],
          [
           "2015-03-31 22:17:15"
          ],
          [
           "2015-04-04 23:13:30"
          ],
          [
           "2015-04-06 21:22:37"
          ],
          [
           "2015-04-07 21:17:36"
          ],
          [
           "2015-04-08 22:09:38"
          ],
          [
           "2015-04-09 21:56:08"
          ],
          [
           "2015-04-10 23:51:30"
          ],
          [
           "2015-04-11 23:16:56"
          ],
          [
           "2015-04-12 22:04:59"
          ],
          [
           "2015-04-13 22:19:39"
          ],
          [
           "2015-04-15 00:28:55"
          ],
          [
           "2015-04-16 23:20:50"
          ],
          [
           "2015-04-17 23:50:04"
          ],
          [
           "2015-04-20 22:37:59"
          ],
          [
           "2015-04-22 21:31:35"
          ],
          [
           "2015-04-23 21:46:46"
          ],
          [
           "2015-04-25 22:53:27"
          ],
          [
           "2015-04-26 21:51:16"
          ],
          [
           "2015-04-27 21:35:56"
          ],
          [
           "2015-04-28 21:41:45"
          ],
          [
           "2015-04-30 23:13:44"
          ],
          [
           "2015-05-01 22:20:45"
          ],
          [
           "2015-05-05 22:23:26"
          ],
          [
           "2015-05-06 21:47:25"
          ],
          [
           "2015-05-07 21:22:59"
          ],
          [
           "2015-05-09 01:58:47"
          ],
          [
           "2015-05-10 22:11:42"
          ],
          [
           "2015-05-11 21:57:02"
          ],
          [
           "2015-05-12 22:04:51"
          ],
          [
           "2015-05-14 22:49:01"
          ],
          [
           "2015-05-17 21:03:11"
          ],
          [
           "2015-05-18 22:39:06"
          ],
          [
           "2015-05-20 22:22:50"
          ],
          [
           "2015-05-21 22:47:04"
          ],
          [
           "2015-05-24 00:01:49"
          ],
          [
           "2015-05-24 22:58:17"
          ],
          [
           "2015-05-25 22:05:49"
          ],
          [
           "2015-05-26 22:18:17"
          ],
          [
           "2015-05-28 23:10:34"
          ],
          [
           "2015-05-31 23:16:56"
          ],
          [
           "2015-06-01 22:20:07"
          ],
          [
           "2015-06-03 22:19:31"
          ],
          [
           "2015-06-04 22:20:19"
          ],
          [
           "2015-06-05 03:45:52"
          ],
          [
           "2015-06-07 22:01:10"
          ],
          [
           "2015-06-08 21:57:12"
          ],
          [
           "2015-06-09 21:07:02"
          ],
          [
           "2015-06-10 21:12:48"
          ],
          [
           "2015-06-11 22:54:00"
          ],
          [
           "2015-06-14 22:38:25"
          ],
          [
           "2015-06-15 22:31:51"
          ],
          [
           "2015-06-16 22:21:15"
          ],
          [
           "2015-06-17 21:28:17"
          ],
          [
           "2015-06-18 22:26:07"
          ],
          [
           "2015-06-22 21:54:38"
          ],
          [
           "2015-06-23 22:09:26"
          ],
          [
           "2015-06-24 04:58:36"
          ],
          [
           "2015-06-24 22:37:23"
          ],
          [
           "2015-07-11 22:29:21"
          ],
          [
           "2015-07-19 21:38:23"
          ],
          [
           "2015-07-20 22:01:21"
          ],
          [
           "2015-07-21 22:02:34"
          ],
          [
           "2015-07-23 22:29:37"
          ],
          [
           "2015-07-26 22:29:51"
          ],
          [
           "2015-07-28 21:32:08"
          ],
          [
           "2015-07-29 23:06:06"
          ],
          [
           "2015-07-30 21:40:08"
          ],
          [
           "2015-08-01 01:41:20"
          ],
          [
           "2015-08-01 22:55:10"
          ],
          [
           "2015-08-02 23:45:43"
          ],
          [
           "2015-08-03 00:26:02"
          ],
          [
           "2015-08-03 21:46:15"
          ],
          [
           "2015-08-04 21:17:10"
          ],
          [
           "2015-08-05 21:35:13"
          ],
          [
           "2015-08-08 00:19:09"
          ],
          [
           "2015-08-10 00:01:12"
          ],
          [
           "2015-08-10 21:11:19"
          ],
          [
           "2015-08-15 23:41:21"
          ],
          [
           "2015-08-16 21:44:20"
          ],
          [
           "2015-08-17 22:13:05"
          ],
          [
           "2015-08-18 22:33:21"
          ],
          [
           "2015-08-19 21:48:50"
          ],
          [
           "2015-08-20 22:36:23"
          ],
          [
           "2015-08-21 21:52:41"
          ],
          [
           "2015-08-22 21:59:47"
          ],
          [
           "2015-08-23 21:59:05"
          ],
          [
           "2015-08-25 21:57:25"
          ],
          [
           "2015-08-26 21:14:31"
          ],
          [
           "2015-08-27 21:19:00"
          ],
          [
           "2015-08-28 22:01:03"
          ],
          [
           "2015-08-30 22:00:05"
          ],
          [
           "2015-08-31 22:14:35"
          ],
          [
           "2015-09-01 22:00:12"
          ],
          [
           "2015-09-02 23:36:43"
          ],
          [
           "2015-09-05 22:54:41"
          ],
          [
           "2015-09-07 22:45:57"
          ],
          [
           "2015-09-08 22:03:28"
          ],
          [
           "2015-09-09 22:40:40"
          ],
          [
           "2015-09-10 22:10:47"
          ],
          [
           "2015-09-12 00:06:20"
          ],
          [
           "2015-09-13 22:03:28"
          ],
          [
           "2015-09-14 22:33:49"
          ],
          [
           "2015-09-15 22:14:42"
          ],
          [
           "2015-09-16 21:59:14"
          ],
          [
           "2015-09-17 22:57:35"
          ],
          [
           "2015-09-19 00:31:33"
          ],
          [
           "2015-09-19 22:01:37"
          ],
          [
           "2015-09-20 22:07:26"
          ],
          [
           "2015-09-22 21:34:08"
          ],
          [
           "2015-09-23 21:37:35"
          ],
          [
           "2015-09-24 22:37:41"
          ],
          [
           "2015-09-27 22:57:29"
          ],
          [
           "2015-09-28 21:12:50"
          ],
          [
           "2015-09-29 22:54:50"
          ],
          [
           "2015-09-30 23:57:47"
          ],
          [
           "2015-10-03 00:09:08"
          ],
          [
           "2015-10-11 00:27:25"
          ],
          [
           "2015-10-12 21:59:10"
          ],
          [
           "2015-10-13 22:19:10"
          ],
          [
           "2015-10-14 05:00:29"
          ],
          [
           "2015-10-14 22:40:34"
          ],
          [
           "2015-10-15 22:12:48"
          ],
          [
           "2015-10-17 00:45:53"
          ],
          [
           "2015-10-18 21:52:46"
          ],
          [
           "2015-10-20 21:38:02"
          ],
          [
           "2015-10-21 22:41:23"
          ],
          [
           "2015-10-22 21:46:35"
          ],
          [
           "2015-10-24 00:32:20"
          ],
          [
           "2015-10-24 22:38:13"
          ],
          [
           "2015-10-26 23:09:15"
          ],
          [
           "2015-10-27 21:34:17"
          ],
          [
           "2015-10-28 22:28:47"
          ],
          [
           "2015-10-29 22:30:45"
          ],
          [
           "2015-10-31 01:01:48"
          ],
          [
           "2015-11-02 22:00:53"
          ],
          [
           "2015-11-03 22:46:00"
          ],
          [
           "2015-11-04 22:49:17"
          ],
          [
           "2015-11-05 21:36:52"
          ],
          [
           "2015-11-07 00:19:42"
          ],
          [
           "2015-11-08 23:28:38"
          ],
          [
           "2015-11-09 21:59:54"
          ],
          [
           "2015-11-10 22:56:22"
          ],
          [
           "2015-11-11 22:57:35"
          ],
          [
           "2015-11-13 22:59:58"
          ],
          [
           "2015-11-15 22:17:12"
          ],
          [
           "2015-11-18 22:07:28"
          ],
          [
           "2015-11-19 23:10:23"
          ],
          [
           "2015-11-22 21:57:39"
          ],
          [
           "2015-11-23 22:15:24"
          ],
          [
           "2015-11-24 22:33:40"
          ],
          [
           "2015-11-25 23:26:02"
          ],
          [
           "2015-11-26 22:25:29"
          ],
          [
           "2015-11-28 01:20:50"
          ],
          [
           "2015-11-29 22:20:20"
          ],
          [
           "2015-11-30 21:23:47"
          ],
          [
           "2015-12-01 23:03:32"
          ],
          [
           "2015-12-02 22:19:31"
          ],
          [
           "2015-12-03 22:51:20"
          ],
          [
           "2015-12-06 22:10:17"
          ],
          [
           "2015-12-07 21:20:30"
          ],
          [
           "2015-12-08 22:17:33"
          ],
          [
           "2015-12-09 21:57:33"
          ],
          [
           "2015-12-13 00:08:26"
          ],
          [
           "2015-12-13 22:07:01"
          ],
          [
           "2015-12-15 22:32:48"
          ],
          [
           "2015-12-16 22:20:47"
          ],
          [
           "2015-12-17 21:07:49"
          ],
          [
           "2015-12-20 22:19:20"
          ],
          [
           "2015-12-21 22:06:14"
          ],
          [
           "2015-12-22 21:41:31"
          ],
          [
           "2015-12-23 22:33:13"
          ],
          [
           "2015-12-29 22:44:12"
          ],
          [
           "2016-01-01 23:53:45"
          ],
          [
           "2016-01-02 23:49:43"
          ],
          [
           "2016-01-03 21:44:08"
          ],
          [
           "2016-01-04 22:17:03"
          ],
          [
           "2016-01-05 22:18:45"
          ],
          [
           "2016-01-13 22:44:29"
          ],
          [
           "2016-01-14 22:10:58"
          ],
          [
           "2016-01-17 22:00:46"
          ],
          [
           "2016-01-18 21:56:26"
          ],
          [
           "2016-01-19 22:46:50"
          ],
          [
           "2016-01-20 21:13:40"
          ],
          [
           "2016-01-21 21:33:27"
          ],
          [
           "2016-01-22 22:17:12"
          ],
          [
           "2016-01-24 22:06:59"
          ],
          [
           "2016-01-25 22:27:55"
          ],
          [
           "2016-01-26 22:58:16"
          ],
          [
           "2016-01-27 22:02:27"
          ],
          [
           "2016-01-28 22:11:17"
          ],
          [
           "2016-01-29 21:47:34"
          ],
          [
           "2016-01-31 22:58:22"
          ],
          [
           "2016-02-01 22:02:40"
          ],
          [
           "2016-02-02 21:47:43"
          ],
          [
           "2016-02-03 22:54:38"
          ],
          [
           "2016-02-04 22:17:56"
          ],
          [
           "2016-02-05 23:45:36"
          ],
          [
           "2016-02-06 22:55:30"
          ],
          [
           "2016-02-08 00:44:15"
          ],
          [
           "2016-02-08 22:43:49"
          ],
          [
           "2016-02-09 21:57:50"
          ],
          [
           "2016-02-13 23:41:34"
          ],
          [
           "2016-02-14 22:07:58"
          ],
          [
           "2016-02-15 22:07:07"
          ],
          [
           "2016-02-16 22:20:30"
          ],
          [
           "2016-02-17 21:33:26"
          ],
          [
           "2016-02-18 22:47:46"
          ],
          [
           "2016-02-20 23:12:47"
          ],
          [
           "2016-02-22 22:04:12"
          ],
          [
           "2016-02-23 22:18:26"
          ],
          [
           "2016-02-24 21:59:00"
          ],
          [
           "2016-02-26 00:15:25"
          ],
          [
           "2016-02-27 23:33:23"
          ],
          [
           "2016-02-28 22:19:47"
          ],
          [
           "2016-02-29 21:55:44"
          ],
          [
           "2016-03-01 23:22:16"
          ],
          [
           "2016-03-02 22:15:14"
          ],
          [
           "2016-03-03 22:01:33"
          ],
          [
           "2016-03-05 23:20:01"
          ],
          [
           "2016-03-06 23:08:20"
          ],
          [
           "2016-03-07 22:50:22"
          ],
          [
           "2016-03-08 21:40:38"
          ],
          [
           "2016-03-09 22:40:25"
          ],
          [
           "2016-03-10 21:35:17"
          ],
          [
           "2016-03-12 01:33:16"
          ],
          [
           "2016-03-12 23:44:03"
          ],
          [
           "2016-03-13 22:47:36"
          ],
          [
           "2016-03-14 22:16:43"
          ],
          [
           "2016-03-15 22:41:40"
          ],
          [
           "2016-03-16 22:25:40"
          ],
          [
           "2016-03-17 22:46:35"
          ],
          [
           "2016-03-18 22:17:45"
          ],
          [
           "2016-03-20 22:13:36"
          ],
          [
           "2016-03-21 22:37:03"
          ],
          [
           "2016-03-22 21:22:46"
          ],
          [
           "2016-03-23 22:06:49"
          ],
          [
           "2016-03-27 23:28:20"
          ],
          [
           "2016-03-28 23:32:44"
          ],
          [
           "2016-03-29 23:12:02"
          ],
          [
           "2016-03-30 22:58:49"
          ],
          [
           "2016-03-31 22:47:19"
          ],
          [
           "2016-04-02 21:20:49"
          ],
          [
           "2016-04-03 21:44:29"
          ],
          [
           "2016-04-04 21:23:59"
          ],
          [
           "2016-04-05 21:13:24"
          ],
          [
           "2016-04-06 23:00:14"
          ],
          [
           "2016-04-07 21:48:56"
          ],
          [
           "2016-04-09 00:51:24"
          ],
          [
           "2016-04-09 22:59:45"
          ],
          [
           "2016-04-10 22:04:13"
          ],
          [
           "2016-04-11 22:35:10"
          ],
          [
           "2016-04-12 22:18:30"
          ],
          [
           "2016-04-13 22:27:46"
          ],
          [
           "2016-04-14 21:43:30"
          ],
          [
           "2016-04-15 22:38:27"
          ],
          [
           "2016-04-17 21:34:35"
          ],
          [
           "2016-04-19 21:21:02"
          ],
          [
           "2016-04-20 21:25:56"
          ],
          [
           "2016-04-21 21:54:28"
          ],
          [
           "2016-04-22 05:37:46"
          ],
          [
           "2016-04-23 00:46:44"
          ],
          [
           "2016-04-24 22:30:35"
          ],
          [
           "2016-04-25 22:07:57"
          ],
          [
           "2016-04-26 22:48:24"
          ],
          [
           "2016-04-27 22:24:10"
          ],
          [
           "2016-04-28 22:23:37"
          ],
          [
           "2016-04-29 22:47:32"
          ],
          [
           "2016-05-01 21:27:20"
          ],
          [
           "2016-05-02 21:50:53"
          ],
          [
           "2016-05-03 22:19:12"
          ],
          [
           "2016-05-04 22:16:31"
          ],
          [
           "2016-05-05 22:20:43"
          ],
          [
           "2016-05-06 23:07:56"
          ],
          [
           "2016-05-07 23:20:36"
          ],
          [
           "2016-05-08 23:44:12"
          ],
          [
           "2016-05-09 22:10:46"
          ],
          [
           "2016-05-10 23:10:06"
          ],
          [
           "2016-05-11 22:43:49"
          ],
          [
           "2016-05-12 23:50:20"
          ],
          [
           "2016-05-13 23:08:55"
          ],
          [
           "2016-05-15 21:34:13"
          ],
          [
           "2016-05-16 21:34:47"
          ],
          [
           "2016-05-17 20:53:27"
          ],
          [
           "2016-05-18 22:26:07"
          ],
          [
           "2016-05-20 00:00:10"
          ],
          [
           "2016-05-20 23:14:26"
          ],
          [
           "2016-05-23 22:34:58"
          ],
          [
           "2016-05-24 22:00:00"
          ],
          [
           "2016-05-25 22:21:34"
          ],
          [
           "2016-05-26 22:08:30"
          ],
          [
           "2016-05-28 00:19:46"
          ],
          [
           "2016-05-29 22:04:35"
          ],
          [
           "2016-05-30 22:07:42"
          ],
          [
           "2016-05-31 23:02:52"
          ],
          [
           "2016-06-01 23:01:17"
          ],
          [
           "2016-06-02 22:51:43"
          ],
          [
           "2016-06-05 22:33:14"
          ],
          [
           "2016-06-06 23:26:26"
          ],
          [
           "2016-06-07 22:32:35"
          ],
          [
           "2016-06-08 21:56:14"
          ],
          [
           "2016-06-09 22:07:31"
          ],
          [
           "2016-06-11 22:42:30"
          ],
          [
           "2016-06-12 22:52:30"
          ],
          [
           "2016-06-13 22:03:24"
          ],
          [
           "2016-06-14 22:32:22"
          ],
          [
           "2016-06-16 00:46:59"
          ],
          [
           "2016-06-16 22:06:06"
          ],
          [
           "2016-06-17 23:28:36"
          ],
          [
           "2016-06-19 23:00:43"
          ],
          [
           "2016-06-20 22:34:58"
          ],
          [
           "2016-06-21 22:11:24"
          ],
          [
           "2016-06-22 22:41:04"
          ],
          [
           "2016-06-23 22:32:02"
          ],
          [
           "2016-06-26 22:16:19"
          ],
          [
           "2016-06-27 23:48:29"
          ],
          [
           "2016-06-28 23:10:25"
          ],
          [
           "2016-06-29 22:32:29"
          ],
          [
           "2016-07-01 23:32:46"
          ],
          [
           "2016-07-03 21:49:41"
          ],
          [
           "2016-07-04 21:39:08"
          ],
          [
           "2016-07-05 22:48:36"
          ],
          [
           "2016-07-06 22:13:30"
          ],
          [
           "2016-07-07 22:53:15"
          ],
          [
           "2016-07-10 22:18:13"
          ],
          [
           "2016-07-11 21:24:42"
          ],
          [
           "2016-07-12 22:02:38"
          ],
          [
           "2016-07-13 23:13:10"
          ],
          [
           "2016-07-14 22:39:55"
          ],
          [
           "2016-07-16 00:32:25"
          ],
          [
           "2016-07-16 23:20:56"
          ],
          [
           "2016-07-17 22:23:36"
          ],
          [
           "2016-07-18 22:57:22"
          ],
          [
           "2016-07-19 22:36:11"
          ],
          [
           "2016-07-20 22:25:37"
          ],
          [
           "2016-07-21 23:07:32"
          ],
          [
           "2016-07-22 22:20:48"
          ],
          [
           "2016-07-23 23:47:33"
          ],
          [
           "2016-07-24 22:45:58"
          ],
          [
           "2016-07-25 21:54:39"
          ],
          [
           "2016-07-26 23:03:39"
          ],
          [
           "2016-07-27 22:49:44"
          ],
          [
           "2016-07-28 22:25:20"
          ],
          [
           "2016-08-16 22:05:56"
          ],
          [
           "2016-08-17 22:42:29"
          ],
          [
           "2016-08-18 21:58:44"
          ],
          [
           "2016-08-20 22:04:29"
          ],
          [
           "2016-08-21 22:08:40"
          ],
          [
           "2016-08-22 22:13:35"
          ],
          [
           "2016-08-23 23:08:06"
          ],
          [
           "2016-08-24 21:51:35"
          ],
          [
           "2016-08-25 22:06:03"
          ],
          [
           "2016-08-26 23:49:26"
          ],
          [
           "2016-08-27 23:52:04"
          ],
          [
           "2016-08-28 22:52:01"
          ],
          [
           "2016-08-29 22:10:33"
          ],
          [
           "2016-08-30 22:21:42"
          ],
          [
           "2016-08-31 22:33:07"
          ],
          [
           "2016-09-01 23:08:05"
          ],
          [
           "2016-09-02 22:38:01"
          ],
          [
           "2016-09-04 23:28:38"
          ],
          [
           "2016-09-05 21:00:08"
          ],
          [
           "2016-09-06 22:11:10"
          ],
          [
           "2016-09-07 22:31:00"
          ],
          [
           "2016-09-08 22:28:57"
          ],
          [
           "2016-09-10 00:45:06"
          ],
          [
           "2016-09-10 22:44:13"
          ],
          [
           "2016-09-11 23:05:56"
          ],
          [
           "2016-09-12 22:46:00"
          ],
          [
           "2016-09-13 21:55:44"
          ],
          [
           "2016-09-14 22:26:52"
          ],
          [
           "2016-09-17 22:26:00"
          ],
          [
           "2016-09-18 22:28:43"
          ],
          [
           "2016-09-19 22:14:12"
          ],
          [
           "2016-09-20 22:39:22"
          ],
          [
           "2016-09-21 22:11:55"
          ],
          [
           "2016-09-22 22:26:20"
          ],
          [
           "2016-09-25 22:53:08"
          ],
          [
           "2016-09-26 22:17:19"
          ],
          [
           "2016-09-27 22:22:09"
          ],
          [
           "2016-09-28 23:10:52"
          ],
          [
           "2016-09-29 22:50:50"
          ],
          [
           "2016-10-01 00:06:21"
          ],
          [
           "2016-10-01 23:23:45"
          ],
          [
           "2016-10-02 23:29:07"
          ],
          [
           "2016-10-03 22:24:38"
          ],
          [
           "2016-10-04 21:53:10"
          ],
          [
           "2016-10-05 22:33:02"
          ],
          [
           "2016-10-07 00:07:25"
          ],
          [
           "2016-10-07 23:18:12"
          ],
          [
           "2016-10-10 22:38:44"
          ],
          [
           "2016-10-11 22:28:30"
          ],
          [
           "2016-10-12 22:48:24"
          ],
          [
           "2016-10-13 22:26:35"
          ],
          [
           "2016-10-15 23:00:24"
          ],
          [
           "2016-10-16 22:52:39"
          ],
          [
           "2016-10-17 22:53:05"
          ],
          [
           "2016-10-18 22:34:56"
          ],
          [
           "2016-10-19 22:13:21"
          ],
          [
           "2016-10-20 22:14:18"
          ],
          [
           "2016-10-22 01:38:50"
          ],
          [
           "2016-10-23 00:07:46"
          ],
          [
           "2016-10-23 22:21:35"
          ],
          [
           "2016-10-24 23:04:24"
          ],
          [
           "2016-10-25 22:48:36"
          ],
          [
           "2016-10-26 22:55:13"
          ],
          [
           "2016-10-27 23:03:27"
          ],
          [
           "2016-10-29 00:16:28"
          ],
          [
           "2016-10-30 22:46:10"
          ],
          [
           "2016-11-01 22:19:52"
          ],
          [
           "2016-11-02 22:52:01"
          ],
          [
           "2016-11-04 00:13:27"
          ],
          [
           "2016-11-04 22:49:41"
          ],
          [
           "2016-11-06 21:58:25"
          ],
          [
           "2016-11-07 22:16:20"
          ],
          [
           "2016-11-08 22:51:28"
          ],
          [
           "2016-11-09 22:37:37"
          ],
          [
           "2016-11-10 23:58:36"
          ],
          [
           "2016-11-11 23:25:33"
          ],
          [
           "2016-11-15 22:14:54"
          ],
          [
           "2016-11-16 23:10:58"
          ],
          [
           "2016-11-17 23:15:24"
          ],
          [
           "2016-11-18 23:37:14"
          ],
          [
           "2016-11-19 23:47:47"
          ],
          [
           "2016-11-20 23:00:56"
          ],
          [
           "2016-11-21 22:38:54"
          ],
          [
           "2016-11-22 21:26:49"
          ],
          [
           "2016-11-23 22:44:23"
          ],
          [
           "2016-11-24 22:00:35"
          ],
          [
           "2016-11-25 23:09:40"
          ],
          [
           "2016-11-27 22:01:16"
          ],
          [
           "2016-11-28 22:35:53"
          ],
          [
           "2016-11-29 23:33:57"
          ],
          [
           "2016-11-30 21:12:34"
          ],
          [
           "2016-12-01 05:14:26"
          ],
          [
           "2016-12-01 21:40:00"
          ],
          [
           "2016-12-04 01:18:30"
          ],
          [
           "2016-12-04 21:45:14"
          ],
          [
           "2016-12-05 21:44:42"
          ],
          [
           "2016-12-06 22:13:52"
          ],
          [
           "2016-12-07 22:46:53"
          ],
          [
           "2016-12-08 23:32:15"
          ],
          [
           "2016-12-09 22:48:02"
          ],
          [
           "2016-12-11 01:07:36"
          ],
          [
           "2016-12-11 22:14:46"
          ],
          [
           "2016-12-12 22:56:32"
          ],
          [
           "2016-12-13 22:02:53"
          ],
          [
           "2016-12-14 21:57:40"
          ],
          [
           "2016-12-15 21:29:37"
          ],
          [
           "2016-12-18 22:35:39"
          ],
          [
           "2016-12-19 21:49:28"
          ],
          [
           "2016-12-20 23:48:48"
          ],
          [
           "2016-12-21 23:56:08"
          ],
          [
           "2016-12-22 23:07:02"
          ],
          [
           "2016-12-27 23:17:04"
          ],
          [
           "2016-12-30 23:25:36"
          ],
          [
           "2017-01-02 22:35:54"
          ],
          [
           "2017-01-03 05:11:12"
          ],
          [
           "2017-01-03 21:47:36"
          ],
          [
           "2017-01-04 22:40:41"
          ],
          [
           "2017-01-05 22:39:33"
          ],
          [
           "2017-01-06 23:14:42"
          ],
          [
           "2017-01-08 00:34:09"
          ],
          [
           "2017-01-08 22:07:26"
          ],
          [
           "2017-01-09 22:42:26"
          ],
          [
           "2017-01-10 22:20:00"
          ],
          [
           "2017-01-11 22:14:13"
          ],
          [
           "2017-01-12 22:13:43"
          ],
          [
           "2017-01-13 23:27:43"
          ],
          [
           "2017-01-15 23:25:52"
          ],
          [
           "2017-01-16 21:58:38"
          ],
          [
           "2017-01-17 05:12:01"
          ],
          [
           "2017-01-17 22:23:54"
          ],
          [
           "2017-01-18 22:22:23"
          ],
          [
           "2017-01-19 22:14:59"
          ],
          [
           "2017-01-20 23:07:08"
          ],
          [
           "2017-01-21 23:12:38"
          ],
          [
           "2017-01-22 22:03:13"
          ],
          [
           "2017-01-23 22:34:02"
          ],
          [
           "2017-01-24 22:55:44"
          ],
          [
           "2017-01-25 20:54:01"
          ],
          [
           "2017-01-26 22:12:44"
          ],
          [
           "2017-01-27 04:58:17"
          ],
          [
           "2017-01-27 23:22:46"
          ],
          [
           "2017-01-30 23:27:29"
          ],
          [
           "2017-01-31 22:44:33"
          ],
          [
           "2017-02-01 22:41:03"
          ],
          [
           "2017-02-02 22:19:54"
          ],
          [
           "2017-02-03 23:58:49"
          ],
          [
           "2017-02-04 23:45:02"
          ],
          [
           "2017-02-05 22:53:55"
          ],
          [
           "2017-02-06 22:30:15"
          ],
          [
           "2017-02-07 23:34:51"
          ],
          [
           "2017-02-08 23:46:48"
          ],
          [
           "2017-02-09 22:31:43"
          ],
          [
           "2017-02-10 05:00:41"
          ],
          [
           "2017-02-10 22:37:33"
          ],
          [
           "2017-02-12 21:49:33"
          ],
          [
           "2017-02-13 21:51:58"
          ],
          [
           "2017-02-14 05:02:55"
          ],
          [
           "2017-02-14 23:17:25"
          ],
          [
           "2017-02-15 22:36:26"
          ],
          [
           "2017-02-16 22:33:17"
          ],
          [
           "2017-02-17 23:49:14"
          ],
          [
           "2017-02-19 00:28:17"
          ],
          [
           "2017-02-19 22:12:40"
          ],
          [
           "2017-02-20 22:43:58"
          ],
          [
           "2017-02-21 23:14:34"
          ],
          [
           "2017-02-22 21:30:46"
          ],
          [
           "2017-02-23 22:15:13"
          ],
          [
           "2017-02-24 05:34:46"
          ],
          [
           "2017-02-25 02:46:24"
          ],
          [
           "2017-02-26 00:40:06"
          ],
          [
           "2017-02-27 22:16:11"
          ],
          [
           "2017-02-28 21:39:30"
          ],
          [
           "2017-03-01 05:43:20"
          ],
          [
           "2017-03-01 22:23:16"
          ],
          [
           "2017-03-02 22:22:27"
          ],
          [
           "2017-03-05 00:12:24"
          ],
          [
           "2017-03-05 22:01:00"
          ],
          [
           "2017-03-06 22:01:27"
          ],
          [
           "2017-03-07 22:13:31"
          ],
          [
           "2017-03-08 21:13:09"
          ],
          [
           "2017-03-09 21:48:29"
          ],
          [
           "2017-03-10 22:42:49"
          ],
          [
           "2017-03-12 22:39:47"
          ],
          [
           "2017-03-13 21:20:30"
          ],
          [
           "2017-03-14 21:06:21"
          ],
          [
           "2017-03-15 22:33:27"
          ],
          [
           "2017-03-16 22:33:05"
          ],
          [
           "2017-03-17 22:55:16"
          ],
          [
           "2017-03-18 22:26:50"
          ],
          [
           "2017-03-20 00:02:06"
          ],
          [
           "2017-03-20 23:35:25"
          ],
          [
           "2017-03-21 23:20:23"
          ],
          [
           "2017-03-22 22:02:27"
          ],
          [
           "2017-03-23 22:20:49"
          ],
          [
           "2017-03-25 23:19:31"
          ],
          [
           "2017-03-26 22:03:26"
          ],
          [
           "2017-03-27 21:19:26"
          ],
          [
           "2017-03-28 22:29:53"
          ],
          [
           "2017-03-29 22:29:26"
          ],
          [
           "2017-03-30 22:42:12"
          ],
          [
           "2017-04-01 02:10:07"
          ],
          [
           "2017-04-01 21:22:18"
          ],
          [
           "2017-04-02 22:01:10"
          ],
          [
           "2017-04-03 21:58:04"
          ],
          [
           "2017-04-04 22:01:48"
          ],
          [
           "2017-04-05 23:45:02"
          ],
          [
           "2017-04-06 23:12:55"
          ],
          [
           "2017-04-08 00:00:47"
          ],
          [
           "2017-04-10 00:52:01"
          ],
          [
           "2017-04-10 22:21:48"
          ],
          [
           "2017-04-11 06:03:43"
          ],
          [
           "2017-04-11 22:39:32"
          ],
          [
           "2017-04-12 21:42:46"
          ],
          [
           "2017-04-13 23:52:36"
          ],
          [
           "2017-04-14 21:45:29"
          ],
          [
           "2017-04-15 23:23:33"
          ],
          [
           "2017-04-17 00:06:45"
          ],
          [
           "2017-04-17 22:12:26"
          ],
          [
           "2017-04-18 22:43:50"
          ],
          [
           "2017-04-19 21:39:14"
          ],
          [
           "2017-04-20 22:15:07"
          ],
          [
           "2017-04-21 22:36:25"
          ],
          [
           "2017-04-23 00:53:51"
          ],
          [
           "2017-04-23 22:31:31"
          ],
          [
           "2017-04-24 23:07:26"
          ],
          [
           "2017-04-25 22:20:09"
          ],
          [
           "2017-04-26 22:25:19"
          ],
          [
           "2017-04-27 22:48:26"
          ],
          [
           "2017-04-28 23:39:58"
          ],
          [
           "2017-04-29 23:39:22"
          ],
          [
           "2017-04-30 22:28:38"
          ],
          [
           "2017-05-01 22:00:53"
          ],
          [
           "2017-05-02 21:47:56"
          ],
          [
           "2017-05-03 22:59:05"
          ],
          [
           "2017-05-04 22:37:37"
          ],
          [
           "2017-05-06 00:25:02"
          ],
          [
           "2017-05-07 21:51:42"
          ],
          [
           "2017-05-08 22:28:29"
          ],
          [
           "2017-05-09 23:33:31"
          ],
          [
           "2017-05-10 06:04:51"
          ],
          [
           "2017-05-10 22:43:36"
          ],
          [
           "2017-05-11 21:52:42"
          ],
          [
           "2017-05-13 00:42:34"
          ],
          [
           "2017-05-14 00:04:29"
          ],
          [
           "2017-05-14 21:57:30"
          ],
          [
           "2017-05-15 22:55:59"
          ],
          [
           "2017-05-16 22:41:34"
          ],
          [
           "2017-05-17 22:44:16"
          ],
          [
           "2017-05-18 23:17:42"
          ],
          [
           "2017-05-20 01:04:03"
          ],
          [
           "2017-05-22 22:29:18"
          ],
          [
           "2017-05-24 00:14:39"
          ],
          [
           "2017-05-24 22:09:30"
          ],
          [
           "2017-05-25 22:19:48"
          ],
          [
           "2017-05-28 00:18:11"
          ],
          [
           "2017-05-28 22:37:11"
          ],
          [
           "2017-05-29 22:28:43"
          ],
          [
           "2017-05-30 21:59:14"
          ],
          [
           "2017-05-31 22:26:34"
          ],
          [
           "2017-06-01 22:59:29"
          ],
          [
           "2017-06-02 22:05:31"
          ],
          [
           "2017-06-03 21:56:57"
          ],
          [
           "2017-06-04 23:14:35"
          ],
          [
           "2017-06-05 22:30:09"
          ],
          [
           "2017-06-06 21:38:46"
          ],
          [
           "2017-06-07 22:54:08"
          ],
          [
           "2017-06-08 21:47:22"
          ],
          [
           "2017-06-10 00:07:56"
          ],
          [
           "2017-06-11 22:18:20"
          ],
          [
           "2017-06-12 21:44:54"
          ],
          [
           "2017-06-13 22:18:02"
          ],
          [
           "2017-06-14 22:34:54"
          ],
          [
           "2017-06-15 22:19:07"
          ],
          [
           "2017-06-18 05:01:21"
          ],
          [
           "2017-06-18 07:35:10"
          ],
          [
           "2017-06-18 22:22:20"
          ],
          [
           "2017-06-19 22:57:14"
          ],
          [
           "2017-06-20 22:31:36"
          ],
          [
           "2017-06-21 06:16:05"
          ],
          [
           "2017-06-21 22:32:49"
          ],
          [
           "2017-06-22 23:37:40"
          ],
          [
           "2017-06-23 23:26:37"
          ],
          [
           "2017-06-25 22:08:35"
          ],
          [
           "2017-06-26 21:24:01"
          ],
          [
           "2017-06-27 21:52:15"
          ],
          [
           "2017-06-28 21:53:16"
          ],
          [
           "2017-06-29 22:32:41"
          ],
          [
           "2017-07-03 00:31:28"
          ],
          [
           "2017-07-03 22:37:36"
          ],
          [
           "2017-07-04 22:07:02"
          ],
          [
           "2017-07-05 21:48:16"
          ],
          [
           "2017-07-06 22:33:57"
          ],
          [
           "2017-07-09 22:36:36"
          ],
          [
           "2017-07-10 22:25:58"
          ],
          [
           "2017-07-11 21:39:56"
          ],
          [
           "2017-07-12 23:12:08"
          ],
          [
           "2017-07-13 22:30:55"
          ],
          [
           "2017-07-15 01:10:44"
          ],
          [
           "2017-07-16 02:12:50"
          ],
          [
           "2017-07-16 22:08:10"
          ],
          [
           "2017-07-17 22:51:14"
          ],
          [
           "2017-07-18 22:00:00"
          ],
          [
           "2017-07-19 21:45:40"
          ],
          [
           "2017-07-22 01:06:17"
          ],
          [
           "2017-07-22 23:13:07"
          ],
          [
           "2017-07-23 21:57:52"
          ],
          [
           "2017-07-25 05:34:23"
          ],
          [
           "2017-07-25 22:04:25"
          ],
          [
           "2017-07-26 22:29:46"
          ],
          [
           "2017-07-27 21:53:02"
          ],
          [
           "2017-07-28 23:29:02"
          ],
          [
           "2017-07-29 22:00:52"
          ],
          [
           "2017-07-30 23:20:22"
          ],
          [
           "2017-07-31 22:39:28"
          ],
          [
           "2017-08-01 23:15:08"
          ],
          [
           "2017-08-02 22:32:50"
          ],
          [
           "2017-08-03 23:14:21"
          ],
          [
           "2017-08-04 22:59:14"
          ],
          [
           "2017-08-05 23:37:59"
          ],
          [
           "2017-08-06 23:03:23"
          ],
          [
           "2017-08-07 23:14:29"
          ],
          [
           "2017-08-08 22:34:04"
          ],
          [
           "2017-08-09 23:22:48"
          ],
          [
           "2017-08-12 22:58:37"
          ],
          [
           "2017-08-13 22:46:18"
          ],
          [
           "2017-08-14 22:32:46"
          ],
          [
           "2017-08-15 21:56:15"
          ],
          [
           "2017-08-16 22:01:52"
          ],
          [
           "2017-08-17 20:36:10"
          ],
          [
           "2017-08-25 23:37:21"
          ],
          [
           "2017-08-27 22:15:33"
          ],
          [
           "2017-08-28 22:03:24"
          ],
          [
           "2017-08-30 23:01:16"
          ],
          [
           "2017-08-31 23:01:05"
          ],
          [
           "2017-09-01 22:33:45"
          ],
          [
           "2017-09-03 00:46:32"
          ],
          [
           "2017-09-03 23:07:20"
          ],
          [
           "2017-09-04 22:49:42"
          ],
          [
           "2017-09-05 22:38:20"
          ],
          [
           "2017-09-06 22:02:41"
          ],
          [
           "2017-09-07 22:26:23"
          ],
          [
           "2017-09-09 21:24:16"
          ],
          [
           "2017-09-11 22:39:00"
          ],
          [
           "2017-09-12 22:03:48"
          ],
          [
           "2017-09-13 23:43:45"
          ],
          [
           "2017-09-14 22:06:34"
          ],
          [
           "2017-09-16 00:18:13"
          ],
          [
           "2017-09-17 22:50:59"
          ],
          [
           "2017-09-18 22:19:43"
          ],
          [
           "2017-09-19 22:16:47"
          ],
          [
           "2017-09-20 22:04:28"
          ],
          [
           "2017-09-21 22:23:28"
          ],
          [
           "2017-09-24 21:44:24"
          ],
          [
           "2017-09-25 22:17:38"
          ],
          [
           "2017-09-26 23:01:43"
          ],
          [
           "2017-09-27 22:06:02"
          ],
          [
           "2017-09-28 23:36:21"
          ],
          [
           "2017-09-29 23:14:44"
          ],
          [
           "2017-10-01 00:03:39"
          ],
          [
           "2017-10-01 21:44:19"
          ],
          [
           "2017-10-02 22:55:18"
          ],
          [
           "2017-10-03 21:41:07"
          ],
          [
           "2017-10-04 22:44:21"
          ],
          [
           "2017-10-05 21:24:20"
          ],
          [
           "2017-10-06 22:56:47"
          ],
          [
           "2017-10-07 21:57:55"
          ],
          [
           "2017-10-09 22:27:21"
          ],
          [
           "2017-10-10 22:23:41"
          ],
          [
           "2017-10-11 22:32:30"
          ],
          [
           "2017-10-12 22:22:18"
          ],
          [
           "2017-10-13 23:03:57"
          ],
          [
           "2017-10-14 22:58:56"
          ],
          [
           "2017-10-15 22:47:15"
          ],
          [
           "2017-10-16 21:51:31"
          ],
          [
           "2017-10-17 21:41:00"
          ],
          [
           "2017-10-19 00:01:27"
          ],
          [
           "2017-10-19 21:13:33"
          ],
          [
           "2017-10-21 00:05:16"
          ],
          [
           "2017-10-22 00:25:34"
          ],
          [
           "2017-10-22 21:50:11"
          ],
          [
           "2017-10-23 22:18:50"
          ],
          [
           "2017-10-24 22:15:22"
          ],
          [
           "2017-10-25 21:55:37"
          ],
          [
           "2017-10-27 01:50:09"
          ],
          [
           "2017-10-28 22:51:22"
          ],
          [
           "2017-10-29 22:26:09"
          ],
          [
           "2017-10-30 22:52:29"
          ],
          [
           "2017-10-31 23:29:23"
          ],
          [
           "2017-11-02 21:25:12"
          ],
          [
           "2017-11-03 23:23:48"
          ],
          [
           "2017-11-05 22:30:18"
          ],
          [
           "2017-11-06 22:08:49"
          ],
          [
           "2017-11-07 21:01:59"
          ],
          [
           "2017-11-08 23:11:50"
          ],
          [
           "2017-11-09 22:04:06"
          ],
          [
           "2017-11-10 23:29:46"
          ],
          [
           "2017-11-11 23:06:26"
          ],
          [
           "2017-11-12 23:39:58"
          ],
          [
           "2017-11-14 21:16:47"
          ],
          [
           "2017-11-15 21:23:57"
          ],
          [
           "2017-11-16 22:33:27"
          ],
          [
           "2017-11-17 23:08:36"
          ],
          [
           "2017-11-19 21:58:13"
          ],
          [
           "2017-11-20 22:26:32"
          ],
          [
           "2017-11-21 22:26:00"
          ],
          [
           "2017-11-22 22:34:51"
          ],
          [
           "2017-11-23 22:56:54"
          ],
          [
           "2017-11-25 23:14:12"
          ],
          [
           "2017-11-26 22:10:04"
          ],
          [
           "2017-11-27 22:36:02"
          ],
          [
           "2017-11-28 22:54:56"
          ],
          [
           "2017-11-29 22:33:33"
          ],
          [
           "2017-11-30 20:54:34"
          ],
          [
           "2017-12-03 23:10:31"
          ],
          [
           "2017-12-04 21:20:58"
          ],
          [
           "2017-12-05 22:56:23"
          ],
          [
           "2017-12-06 21:56:53"
          ],
          [
           "2017-12-07 22:04:25"
          ],
          [
           "2017-12-09 23:39:39"
          ],
          [
           "2017-12-10 22:16:12"
          ],
          [
           "2017-12-11 21:47:09"
          ],
          [
           "2017-12-12 22:09:55"
          ],
          [
           "2017-12-14 22:47:44"
          ],
          [
           "2017-12-17 21:35:13"
          ],
          [
           "2017-12-18 21:39:40"
          ],
          [
           "2017-12-19 22:05:48"
          ],
          [
           "2017-12-20 21:30:02"
          ],
          [
           "2017-12-21 22:10:42"
          ],
          [
           "2017-12-26 21:19:56"
          ],
          [
           "2017-12-29 00:06:23"
          ],
          [
           "2017-12-29 22:00:17"
          ],
          [
           "2018-01-01 21:30:48"
          ],
          [
           "2018-01-02 22:31:35"
          ],
          [
           "2018-01-03 20:28:55"
          ],
          [
           "2018-01-04 22:19:49"
          ],
          [
           "2018-01-06 23:13:54"
          ],
          [
           "2018-01-07 22:09:01"
          ],
          [
           "2018-01-08 22:53:56"
          ],
          [
           "2018-01-09 22:22:48"
          ],
          [
           "2018-01-10 21:31:25"
          ],
          [
           "2018-01-11 21:54:18"
          ],
          [
           "2018-01-12 21:50:07"
          ],
          [
           "2018-01-13 22:07:20"
          ],
          [
           "2018-01-14 22:02:09"
          ],
          [
           "2018-01-15 22:45:03"
          ],
          [
           "2018-01-16 22:09:46"
          ],
          [
           "2018-01-17 22:45:11"
          ],
          [
           "2018-01-18 22:46:26"
          ],
          [
           "2018-01-19 22:21:24"
          ],
          [
           "2018-01-20 23:44:10"
          ],
          [
           "2018-01-21 22:04:55"
          ],
          [
           "2018-01-22 23:15:57"
          ],
          [
           "2018-01-23 21:41:50"
          ],
          [
           "2018-01-24 20:58:39"
          ],
          [
           "2018-01-25 23:17:03"
          ],
          [
           "2018-01-26 22:13:41"
          ],
          [
           "2018-01-28 01:21:47"
          ],
          [
           "2018-01-28 21:30:54"
          ],
          [
           "2018-01-29 21:37:33"
          ],
          [
           "2018-01-30 22:18:44"
          ],
          [
           "2018-01-31 22:29:56"
          ],
          [
           "2018-02-01 21:25:06"
          ],
          [
           "2018-02-03 02:20:39"
          ],
          [
           "2018-02-03 08:32:14"
          ],
          [
           "2018-02-03 22:29:00"
          ],
          [
           "2018-02-04 23:09:25"
          ],
          [
           "2018-02-05 22:02:05"
          ],
          [
           "2018-02-06 21:44:05"
          ],
          [
           "2018-02-07 23:18:52"
          ],
          [
           "2018-02-08 22:41:38"
          ],
          [
           "2018-02-09 23:07:55"
          ],
          [
           "2018-02-11 22:44:25"
          ],
          [
           "2018-02-12 21:54:14"
          ],
          [
           "2018-02-13 23:49:19"
          ],
          [
           "2018-02-14 21:24:05"
          ],
          [
           "2018-02-15 21:36:32"
          ],
          [
           "2018-02-16 22:52:29"
          ]
         ],
         "hovertemplate": "0=%{x}<br>1=%{y}<br>Feature=%{customdata[0]}<br>Anomaly=%{marker.color}<extra></extra>",
         "legendgroup": "",
         "marker": {
          "color": [
           0,
           0,
           0,
           0,
           0,
           0,
           0,
           0,
           0,
           0,
           0,
           0,
           0,
           0,
           0,
           0,
           0,
           0,
           0,
           0,
           0,
           0,
           0,
           0,
           0,
           0,
           0,
           0,
           0,
           1,
           0,
           0,
           0,
           0,
           0,
           1,
           0,
           0,
           1,
           0,
           0,
           0,
           0,
           1,
           0,
           0,
           0,
           0,
           0,
           0,
           0,
           0,
           0,
           0,
           0,
           0,
           0,
           0,
           0,
           0,
           0,
           0,
           0,
           0,
           0,
           0,
           0,
           0,
           0,
           0,
           0,
           0,
           0,
           0,
           0,
           0,
           1,
           0,
           0,
           0,
           0,
           1,
           0,
           0,
           0,
           0,
           0,
           0,
           0,
           0,
           0,
           0,
           0,
           0,
           0,
           0,
           0,
           0,
           0,
           0,
           0,
           0,
           0,
           0,
           0,
           0,
           0,
           0,
           0,
           0,
           0,
           0,
           0,
           0,
           0,
           0,
           0,
           0,
           0,
           0,
           0,
           1,
           0,
           0,
           0,
           1,
           0,
           0,
           0,
           0,
           1,
           0,
           0,
           1,
           0,
           1,
           0,
           0,
           0,
           1,
           0,
           0,
           0,
           0,
           0,
           0,
           0,
           0,
           0,
           0,
           0,
           0,
           0,
           0,
           0,
           0,
           0,
           0,
           0,
           1,
           0,
           0,
           0,
           0,
           0,
           0,
           0,
           0,
           0,
           0,
           0,
           0,
           0,
           0,
           0,
           0,
           0,
           1,
           0,
           0,
           0,
           0,
           0,
           0,
           0,
           0,
           0,
           0,
           0,
           0,
           0,
           0,
           0,
           0,
           1,
           1,
           0,
           0,
           0,
           0,
           0,
           0,
           0,
           0,
           0,
           1,
           0,
           0,
           0,
           0,
           0,
           0,
           0,
           0,
           0,
           0,
           0,
           0,
           0,
           0,
           0,
           0,
           1,
           0,
           0,
           0,
           0,
           0,
           0,
           0,
           0,
           0,
           0,
           0,
           0,
           0,
           0,
           0,
           0,
           0,
           0,
           0,
           0,
           0,
           0,
           0,
           0,
           0,
           0,
           0,
           0,
           0,
           0,
           0,
           0,
           0,
           0,
           0,
           0,
           0,
           1,
           0,
           0,
           1,
           0,
           0,
           0,
           1,
           0,
           0,
           0,
           0,
           0,
           0,
           1,
           0,
           0,
           0,
           0,
           0,
           0,
           0,
           0,
           0,
           0,
           0,
           0,
           0,
           0,
           0,
           0,
           0,
           0,
           0,
           0,
           0,
           0,
           0,
           0,
           0,
           0,
           0,
           0,
           0,
           0,
           0,
           0,
           0,
           0,
           0,
           0,
           0,
           0,
           0,
           0,
           0,
           0,
           0,
           0,
           0,
           1,
           0,
           0,
           0,
           0,
           0,
           0,
           0,
           0,
           0,
           0,
           0,
           0,
           0,
           0,
           0,
           0,
           0,
           0,
           0,
           0,
           0,
           0,
           0,
           0,
           0,
           0,
           0,
           0,
           0,
           0,
           0,
           0,
           0,
           0,
           0,
           0,
           0,
           0,
           0,
           0,
           0,
           0,
           0,
           0,
           0,
           1,
           0,
           0,
           0,
           0,
           0,
           0,
           0,
           0,
           0,
           0,
           0,
           0,
           0,
           0,
           0,
           1,
           0,
           0,
           1,
           0,
           0,
           0,
           0,
           0,
           0,
           0,
           0,
           0,
           0,
           0,
           0,
           0,
           1,
           0,
           0,
           0,
           0,
           0,
           0,
           0,
           0,
           0,
           0,
           0,
           0,
           0,
           0,
           0,
           0,
           0,
           0,
           0,
           0,
           0,
           0,
           0,
           0,
           0,
           0,
           0,
           0,
           0,
           0,
           0,
           0,
           0,
           0,
           0,
           0,
           0,
           1,
           0,
           0,
           0,
           0,
           0,
           0,
           0,
           0,
           0,
           0,
           0,
           0,
           0,
           0,
           0,
           0,
           0,
           0,
           1,
           1,
           0,
           0,
           0,
           0,
           0,
           0,
           1,
           0,
           0,
           0,
           0,
           0,
           0,
           0,
           0,
           0,
           0,
           0,
           0,
           0,
           0,
           0,
           0,
           0,
           0,
           0,
           0,
           0,
           0,
           0,
           0,
           0,
           0,
           0,
           0,
           0,
           0,
           0,
           0,
           0,
           0,
           0,
           0,
           0,
           0,
           0,
           0,
           0,
           0,
           0,
           0,
           0,
           0,
           0,
           0,
           0,
           0,
           0,
           0,
           0,
           0,
           0,
           0,
           0,
           0,
           0,
           0,
           0,
           0,
           0,
           0,
           0,
           0,
           0,
           0,
           0,
           0,
           0,
           0,
           0,
           0,
           0,
           0,
           0,
           0,
           0,
           0,
           0,
           0,
           0,
           0,
           0,
           0,
           0,
           0,
           0,
           0,
           0,
           1,
           0,
           0,
           0,
           0,
           0,
           0,
           0,
           0,
           0,
           0,
           0,
           0,
           0,
           0,
           0,
           0,
           0,
           0,
           0,
           0,
           0,
           0,
           1,
           0,
           0,
           0,
           0,
           0,
           0,
           0,
           0,
           0,
           0,
           1,
           0,
           0,
           0,
           0,
           1,
           0,
           0,
           0,
           0,
           0,
           0,
           0,
           0,
           0,
           0,
           0,
           0,
           0,
           0,
           0,
           0,
           0,
           0,
           0,
           0,
           0,
           0,
           0,
           0,
           0,
           0,
           0,
           0,
           0,
           0,
           0,
           0,
           1,
           0,
           0,
           0,
           0,
           0,
           0,
           0,
           0,
           0,
           0,
           0,
           0,
           0,
           0,
           0,
           0,
           0,
           0,
           1,
           0,
           0,
           0,
           0,
           0,
           0,
           0,
           0,
           0,
           0,
           0,
           0,
           0,
           0,
           0,
           0,
           0,
           0,
           0,
           0,
           0,
           0,
           0,
           0,
           0,
           0,
           0,
           0,
           0,
           0,
           0,
           0,
           0,
           0,
           0,
           0,
           0,
           0,
           0,
           0,
           0,
           0,
           0,
           0,
           0,
           0,
           0,
           0,
           0,
           0,
           0,
           0,
           0,
           0,
           0,
           0,
           0,
           0,
           0,
           0,
           0,
           0,
           0,
           0,
           0,
           0,
           0,
           0,
           0,
           1,
           1,
           1,
           0,
           0,
           0,
           0,
           0,
           0,
           0,
           0,
           0,
           0,
           0,
           0,
           0,
           0,
           0,
           0,
           0,
           0,
           0,
           0,
           0,
           0,
           0,
           0,
           0,
           0,
           0,
           0,
           0,
           0,
           0,
           0,
           0,
           0,
           0,
           0,
           0,
           0,
           0,
           0,
           0,
           1,
           0,
           0,
           0,
           0,
           0,
           0,
           0,
           0,
           0,
           0,
           0,
           0,
           0,
           0,
           0,
           0,
           1,
           0,
           0,
           0,
           0,
           0,
           0,
           0,
           0,
           0,
           0,
           0,
           0,
           0,
           0,
           0,
           0,
           0,
           0,
           0,
           0,
           0,
           0,
           0,
           0,
           0,
           0,
           0,
           0,
           0,
           0,
           0,
           0,
           0,
           0,
           0,
           0,
           0,
           0,
           0,
           0,
           0,
           0,
           1,
           0,
           0,
           0,
           0,
           0,
           0,
           0,
           0,
           0,
           0,
           0,
           0,
           0,
           0,
           0,
           0,
           0,
           0,
           0,
           0,
           0,
           0,
           0,
           0,
           0,
           0,
           0,
           1,
           0,
           0,
           0,
           0,
           0,
           0,
           0,
           0,
           1,
           0,
           0,
           0,
           0,
           0,
           0,
           0,
           0,
           0,
           0,
           0,
           0,
           0,
           0,
           0,
           0,
           0,
           0,
           0,
           0,
           0,
           0,
           0,
           0,
           0,
           0,
           0,
           0
          ],
          "coloraxis": "coloraxis",
          "opacity": 0.7,
          "symbol": "circle"
         },
         "mode": "markers",
         "name": "",
         "orientation": "v",
         "showlegend": false,
         "type": "scatter",
         "x": [
          13.413636,
          9.853959,
          9.000941,
          9.104329,
          14.347117,
          14.180022,
          9.459646,
          12.924361,
          12.255871,
          9.964013,
          13.052177,
          14.332779,
          9.560791,
          9.580868,
          13.055016,
          13.625891,
          13.586361,
          12.069337,
          12.651653,
          14.129434,
          13.430216,
          11.726977,
          13.419928,
          10.866217,
          10.963207,
          11.995105,
          11.795021,
          10.223237,
          13.034205,
          12.564724,
          13.205592,
          14.319242,
          13.17287,
          14.188002,
          13.557319,
          14.269043,
          11.193594,
          11.586941,
          12.413994,
          12.348687,
          11.724425,
          12.551334,
          13.900507,
          13.332653,
          12.492166,
          14.196986,
          11.707422,
          14.079001,
          9.518428,
          13.443983,
          11.610069,
          12.376367,
          12.422209,
          13.900602,
          11.5294895,
          14.171474,
          13.255385,
          13.732263,
          12.434264,
          13.334088,
          14.303836,
          12.455868,
          11.6901865,
          14.271081,
          11.57457,
          12.504865,
          13.655737,
          11.570322,
          12.269108,
          14.213685,
          14.261383,
          13.158453,
          12.897735,
          12.141184,
          13.583244,
          14.149851,
          14.1508665,
          13.56162,
          12.584994,
          13.720561,
          12.447556,
          13.586584,
          13.247884,
          12.372188,
          13.667965,
          11.741608,
          13.631769,
          11.719736,
          13.25452,
          11.619597,
          12.292389,
          13.276781,
          13.604869,
          12.402367,
          12.386909,
          13.49892,
          13.516865,
          14.079865,
          13.271768,
          13.376661,
          13.642188,
          12.38733,
          11.542674,
          14.21805,
          14.15446,
          12.276086,
          12.678958,
          11.561233,
          12.461448,
          13.98446,
          10.649599,
          13.410612,
          11.419306,
          12.319319,
          12.235758,
          13.585151,
          11.804248,
          13.636669,
          12.120387,
          12.419459,
          11.583938,
          11.706148,
          11.579382,
          12.530296,
          13.410772,
          13.138953,
          12.848038,
          11.677482,
          12.465601,
          11.715471,
          13.419786,
          11.851345,
          12.433418,
          12.446976,
          11.682922,
          12.719473,
          11.769898,
          10.452856,
          11.729773,
          12.878113,
          12.677612,
          12.399886,
          11.752732,
          11.615713,
          12.399159,
          11.4528,
          11.712783,
          11.638305,
          12.12553,
          11.314043,
          11.484678,
          12.383181,
          11.591132,
          12.3506,
          11.31524,
          12.939481,
          9.044897,
          14.04218,
          11.232129,
          11.89231,
          13.067727,
          11.964172,
          11.815166,
          14.134708,
          13.5772705,
          12.17869,
          12.558788,
          11.688158,
          11.846731,
          13.061102,
          11.629759,
          12.058347,
          12.638608,
          11.644695,
          11.704528,
          11.865862,
          12.589043,
          12.465844,
          12.849496,
          13.095464,
          13.525055,
          13.147274,
          12.300768,
          11.698879,
          13.177807,
          13.001518,
          11.76911,
          13.41164,
          13.555081,
          12.382404,
          14.235354,
          10.3492365,
          9.451311,
          13.636146,
          12.181412,
          12.80723,
          13.843974,
          14.066422,
          10.228069,
          9.949857,
          9.819573,
          14.121599,
          10.495761,
          10.875109,
          10.563755,
          10.54518,
          12.369265,
          14.307293,
          12.129333,
          12.380089,
          14.176622,
          14.245725,
          14.251628,
          12.938318,
          12.144144,
          12.934168,
          12.333234,
          12.22618,
          12.19785,
          12.626139,
          12.076442,
          12.961906,
          12.104153,
          11.927418,
          14.327157,
          11.665036,
          13.978991,
          13.534482,
          12.46643,
          13.439427,
          11.777034,
          11.650033,
          11.255461,
          13.09779,
          13.123321,
          10.765922,
          9.997822,
          13.046757,
          14.169481,
          10.484736,
          9.388592,
          14.110762,
          11.55461,
          10.105814,
          10.649535,
          10.351954,
          10.952009,
          11.938078,
          9.8447075,
          11.026544,
          9.629868,
          10.153426,
          9.933519,
          11.183779,
          10.336944,
          10.506596,
          11.343951,
          11.805564,
          11.794615,
          10.177415,
          10.466738,
          10.359571,
          10.264777,
          10.057159,
          10.409209,
          9.504074,
          9.4201975,
          10.48324,
          10.526939,
          10.310705,
          10.189177,
          10.968048,
          10.55608,
          10.052013,
          10.552528,
          10.8488035,
          10.5200815,
          10.114238,
          9.815372,
          9.804052,
          10.432171,
          9.506955,
          9.765414,
          9.873457,
          10.596748,
          9.88735,
          9.453099,
          9.488282,
          9.755945,
          9.825767,
          9.585628,
          9.869529,
          10.462683,
          9.499864,
          9.825375,
          9.872485,
          11.222071,
          10.494172,
          9.420036,
          10.595947,
          10.373155,
          10.421633,
          9.426781,
          10.243228,
          10.398395,
          10.078446,
          10.469185,
          10.895125,
          11.114753,
          10.353555,
          10.549605,
          10.200648,
          10.241747,
          10.926334,
          10.173721,
          10.671722,
          10.617671,
          9.483728,
          10.222925,
          11.169694,
          10.620427,
          10.403987,
          9.542921,
          14.343262,
          10.699808,
          10.07375,
          9.201297,
          8.982807,
          10.400295,
          9.524746,
          10.220297,
          10.318601,
          10.675106,
          10.579483,
          12.564025,
          10.07323,
          10.119025,
          10.082447,
          10.324147,
          10.750044,
          10.308202,
          9.418277,
          9.548825,
          10.483312,
          10.238815,
          11.041953,
          10.472572,
          10.693519,
          9.464036,
          10.034379,
          10.217973,
          9.903857,
          10.731179,
          10.05055,
          10.503043,
          10.519718,
          11.057516,
          10.460593,
          10.400124,
          10.499898,
          10.286278,
          10.45917,
          10.222725,
          10.137169,
          11.406627,
          10.583452,
          10.427173,
          10.735918,
          10.257652,
          9.39572,
          9.423708,
          9.836321,
          9.456432,
          10.744301,
          10.546726,
          10.57728,
          10.253167,
          10.27994,
          10.251417,
          10.323227,
          10.14762,
          10.326621,
          10.090883,
          10.096288,
          10.002779,
          10.325984,
          9.084345,
          10.114526,
          10.115935,
          10.231259,
          10.177499,
          10.479097,
          10.272604,
          10.134657,
          9.964329,
          10.036797,
          10.205831,
          10.250403,
          10.947886,
          10.0176735,
          9.885265,
          10.631396,
          10.177112,
          10.366062,
          10.180835,
          10.460264,
          9.98264,
          10.197013,
          10.066283,
          10.282063,
          10.092723,
          -4.3444157,
          3.3769667,
          -3.3838928,
          1.9375683,
          6.0842957,
          -0.299615,
          6.883159,
          4.946447,
          1.1226497,
          -3.2540374,
          -1.0156658,
          2.266255,
          -0.96836215,
          0.20358838,
          -0.88759536,
          -1.4224722,
          7.9606814,
          6.5713754,
          -4.0847144,
          -3.3522944,
          -4.5365806,
          -4.5973206,
          -4.707299,
          7.898288,
          -4.606942,
          -4.013419,
          -2.4164417,
          7.911422,
          6.9052725,
          -0.36409065,
          -0.55891615,
          -3.574659,
          -3.3147542,
          8.73794,
          -2.9475229,
          -4.6717486,
          -0.87819064,
          -4.338607,
          -4.2758,
          -1.5736665,
          -2.765661,
          -2.2890208,
          -3.0158212,
          -3.015705,
          -2.9305625,
          -0.87510824,
          -0.22477245,
          -1.0158063,
          -2.4114301,
          -3.0951426,
          8.006493,
          1.030842,
          -0.97267646,
          -0.6652411,
          -3.229569,
          -4.2708693,
          -4.263662,
          -3.61946,
          -5.0449796,
          -3.170495,
          -4.8704066,
          -2.3452396,
          -3.368052,
          -3.0160143,
          7.909767,
          -1.485624,
          5.648105,
          -0.6970191,
          -5.000759,
          -5.025829,
          -5.024661,
          -4.513759,
          -2.7581882,
          -4.1361547,
          7.987249,
          -2.256624,
          6.0844774,
          -3.7269025,
          -4.0628343,
          7.9220595,
          7.916249,
          -4.42407,
          -0.6608321,
          -0.9342489,
          -4.9567523,
          -3.2581444,
          8.515407,
          -3.80245,
          4.381051,
          2.004318,
          1.9972707,
          -0.89532644,
          4.5351505,
          -1.3575268,
          -4.525162,
          -3.614079,
          -0.7042476,
          -2.3913133,
          -1.6444145,
          -3.5839162,
          8.978926,
          -4.6672816,
          3.3570511,
          -0.060291685,
          -4.519691,
          3.5450597,
          6.8301654,
          -4.226339,
          -3.088451,
          -3.452362,
          -1.311768,
          1.1944611,
          -2.0979474,
          -2.0921037,
          2.3310874,
          -0.5606684,
          -3.5350366,
          -0.9182131,
          4.86494,
          8.967708,
          -4.5345826,
          8.226487,
          6.5582337,
          -3.2559252,
          -0.29541802,
          -0.3522262,
          -1.4368002,
          -1.4501739,
          8.972811,
          -4.8138237,
          8.232364,
          -1.3759527,
          -0.32173848,
          -0.74801195,
          -1.0037612,
          3.1232607,
          -4.173932,
          -0.24127796,
          -0.2983236,
          -1.6072601,
          4.2915425,
          -2.4723735,
          -3.8317304,
          6.881176,
          5.0417547,
          -4.9014735,
          -3.6407552,
          -3.8307374,
          -2.4507535,
          0.000079429425,
          -0.2432844,
          -0.26067024,
          3.411235,
          5.8049645,
          -4.1517,
          -4.167306,
          2.6948,
          -3.12795,
          4.056733,
          4.9885,
          3.74647,
          8.675986,
          -4.0734134,
          -3.0179129,
          -0.44083828,
          -3.818228,
          -3.826097,
          -4.884546,
          -0.4692806,
          6.599245,
          -4.133002,
          -4.1291304,
          -4.3324223,
          -4.88474,
          -4.9709797,
          8.962997,
          -1.6081799,
          -4.631132,
          2.0644846,
          -4.6108394,
          6.1047163,
          7.9497247,
          -4.6083784,
          -3.9713433,
          -2.4658709,
          -3.4016733,
          -0.67237467,
          8.824333,
          5.8342977,
          2.2423985,
          8.395395,
          -4.497213,
          -3.517692,
          2.8307552,
          2.7914395,
          -3.8127894,
          -3.493634,
          -3.6060088,
          -3.0227234,
          -2.331238,
          -1.6262277,
          5.687169,
          8.388098,
          -3.1206431,
          -3.3518856,
          -0.24847054,
          -3.0155604,
          8.000941,
          -0.4244183,
          8.987715,
          -0.148471,
          7.9182596,
          7.8773828,
          -0.97407264,
          -1.6213048,
          7.9044385,
          7.977705,
          -4.6709623,
          -3.1926286,
          -3.403894,
          -3.2865937,
          6.0787416,
          4.9574094,
          -0.9456168,
          -3.1388752,
          -4.1389275,
          -5.0212293,
          3.7737267,
          6.1420527,
          -3.8440983,
          -0.36329132,
          -0.9547596,
          -4.682754,
          -3.9790418,
          -0.44848388,
          -0.54293656,
          -3.0321133,
          -4.2813225,
          9.000215,
          5.7157536,
          -0.4921091,
          0.08744024,
          4.0383863,
          0.9172076,
          -3.7060611,
          8.348986,
          -4.995877,
          9.192315,
          -3.21182,
          -2.845747,
          -0.24809001,
          1.1163948,
          -1.5990071,
          1.9575986,
          7.9526486,
          -3.608129,
          -4.9260645,
          -4.662677,
          -1.5603297,
          8.36612,
          -3.2014306,
          -5.022378,
          -3.4804463,
          -2.5373282,
          -0.63544613,
          8.911588,
          -0.8273767,
          -5.024386,
          -0.9254297,
          -2.4391305,
          -1.3625742,
          -4.5735016,
          -0.2982136,
          7.94968,
          -2.1843293,
          -5.021965,
          -4.605536,
          8.956295,
          -0.9359662,
          -4.5874577,
          9.094732,
          3.477224,
          -4.287166,
          -2.779811,
          -3.5350337,
          -3.0727255,
          -0.20615919,
          -0.684078,
          -3.8613887,
          -4.9152665,
          -0.4421934,
          -0.35016853,
          -0.4267749,
          -3.0054798,
          -4.69188,
          0.9934065,
          -2.44038,
          2.0412896,
          -3.944643,
          -0.8901806,
          -1.8861138,
          -0.74773073,
          9.0303755,
          -3.1456838,
          1.0770974,
          -4.994111,
          -2.9086158,
          5.587062,
          7.8897824,
          -2.0981789,
          1.4965612,
          7.9033575,
          8.364328,
          7.9080653,
          -2.2818995,
          2.7158747,
          7.894985,
          -1.8270906,
          4.9355483,
          6.7230077,
          -4.383388,
          -1.2582785,
          -3.050786,
          -4.631229,
          -3.369968,
          -1.3887471,
          -2.4597516,
          -3.782231,
          -0.6279935,
          -0.25479004,
          1.0373828,
          3.931269,
          5.021704,
          -4.23357,
          -0.93597955,
          4.329908,
          7.9138875,
          -2.777216,
          -1.5339584,
          -2.958054,
          6.861317,
          -0.34525314,
          -4.3272934,
          -4.3271413,
          -0.95786935,
          -0.89208335,
          -4.3639417,
          2.4625902,
          -1.946882,
          -1.1499368,
          -2.187029,
          -1.8268553,
          -1.4034723,
          8.24254,
          -0.9824106,
          -2.3950636,
          5.7605166,
          -4.6319895,
          5.861453,
          -3.1120367,
          2.1505446,
          -4.5796432,
          -0.8924957,
          -1.3332493,
          7.9605923,
          0.9553215,
          -3.9177957,
          -2.410575,
          4.2825027,
          8.740928,
          8.687765,
          -0.5088656,
          -4.534292,
          3.8959668,
          0.043228094,
          7.910039,
          -3.9270108,
          9.287032,
          -2.0687163,
          -5.0080123,
          -2.4522092,
          -0.081108905,
          -2.4690905,
          7.9041266,
          7.9205422,
          -3.776306,
          -2.413503,
          -1.3732975,
          7.962147,
          -3.0257266,
          2.2234526,
          9.034981,
          -4.3176484,
          7.9347157,
          -3.944506,
          8.2408,
          1.9014992,
          9.390642,
          9.438,
          8.689256,
          4.085377,
          -0.12280613,
          -4.995236,
          -2.2793162,
          -3.7814636,
          -3.5225127,
          -1.7347438,
          9.425286,
          9.049782,
          -4.9270687,
          9.462834,
          9.007065,
          3.5414135,
          -4.1819096,
          4.4386315,
          -4.8220153,
          8.945359,
          9.051457,
          9.194372,
          -4.1217194,
          -4.660353,
          7.944813,
          -1.951799,
          9.260165,
          4.890882,
          -1.5728698,
          7.899816,
          8.711406,
          -1.8983749,
          9.332431,
          6.560269,
          8.651367,
          9.404642,
          -1.446454,
          6.946895,
          7.934674,
          6.888914,
          -1.4209205,
          -4.6127343,
          9.409113,
          -4.753132,
          6.7035813,
          -2.4592283,
          5.689943,
          -3.54808,
          -5.028212,
          -2.2698348,
          -1.1853263,
          -4.263761,
          9.442253,
          6.8589993,
          5.662335,
          -0.87873083,
          6.8828673,
          8.228285,
          -5.0093193,
          9.445449,
          9.097248,
          -2.2938101,
          7.9133883,
          3.9892077,
          -0.93052953,
          8.995975,
          8.736406,
          6.578727,
          -3.34887,
          -1.3928711,
          6.703723,
          9.29027,
          -3.199925,
          8.381759,
          9.385,
          9.356726,
          3.9502409,
          -5.002411,
          6.878134
         ],
         "xaxis": "x",
         "y": [
          11.148584,
          8.540102,
          8.801536,
          8.867114,
          9.772857,
          9.401427,
          8.241039,
          9.999938,
          10.571237,
          9.193047,
          9.158517,
          9.548176,
          9.588499,
          9.4457855,
          10.67356,
          10.636019,
          10.717781,
          10.264167,
          10.734314,
          9.930914,
          9.254044,
          11.732975,
          11.291943,
          9.578453,
          9.8777485,
          10.214554,
          11.424659,
          8.947918,
          9.115846,
          9.987832,
          9.214579,
          9.865456,
          10.597474,
          9.978928,
          10.481169,
          9.921364,
          11.328396,
          11.553527,
          10.059627,
          10.433633,
          11.663126,
          10.015819,
          9.786405,
          9.390624,
          10.197879,
          9.7550535,
          11.588899,
          9.855628,
          9.528655,
          10.5883465,
          11.436033,
          10.041747,
          10.988207,
          9.74273,
          11.357204,
          9.684761,
          10.266685,
          9.713249,
          9.983993,
          11.080794,
          10.021898,
          9.933726,
          11.247276,
          9.9052,
          11.126375,
          9.806677,
          10.367856,
          7.938093,
          9.90662,
          9.7782,
          9.583269,
          10.784447,
          10.7601,
          9.977137,
          10.494913,
          9.776982,
          9.774003,
          10.405082,
          9.077758,
          10.1415415,
          10.902066,
          9.684499,
          9.243449,
          10.949954,
          10.79016,
          8.714607,
          10.337383,
          8.069928,
          9.281829,
          8.007879,
          9.684725,
          10.0355015,
          10.399596,
          10.948081,
          9.778991,
          10.460048,
          10.489945,
          9.573602,
          9.180574,
          11.277724,
          10.417682,
          10.143333,
          7.9406824,
          9.740815,
          10.216421,
          10.535925,
          9.097399,
          11.381406,
          9.723961,
          9.879591,
          9.258627,
          11.284067,
          11.447225,
          10.556014,
          9.426519,
          9.589929,
          8.158755,
          10.008851,
          10.311168,
          10.906488,
          11.593099,
          8.124734,
          7.9919825,
          9.60915,
          11.26819,
          10.190502,
          10.788042,
          11.460248,
          10.181673,
          9.807532,
          9.83274,
          8.069973,
          10.90932,
          9.759404,
          8.126983,
          9.690397,
          8.082283,
          7.5062995,
          8.19326,
          9.751469,
          9.05655,
          10.094439,
          8.074048,
          11.56029,
          10.050578,
          11.288848,
          11.660306,
          9.558008,
          9.78738,
          7.9749265,
          11.444181,
          10.724662,
          11.517033,
          9.475387,
          11.397845,
          10.840516,
          8.80216,
          10.3539715,
          11.219877,
          11.220121,
          10.721242,
          11.297254,
          11.397632,
          9.715221,
          10.358405,
          9.482314,
          9.619916,
          8.145591,
          11.309103,
          9.87416,
          8.071899,
          9.993906,
          9.909588,
          11.567373,
          11.603328,
          9.741858,
          9.08604,
          9.657817,
          9.956341,
          10.719574,
          10.496163,
          10.071867,
          9.867142,
          8.119311,
          10.92463,
          10.185767,
          8.14895,
          11.286922,
          10.392125,
          9.965812,
          9.969519,
          10.718812,
          9.520111,
          9.650049,
          9.847668,
          9.7014475,
          10.009243,
          9.682894,
          7.8197103,
          8.868032,
          8.922898,
          9.927303,
          9.052738,
          9.545163,
          9.321494,
          9.423264,
          9.66347,
          9.7551155,
          10.191955,
          9.600066,
          9.791598,
          9.678046,
          9.6393,
          9.984735,
          9.807731,
          10.533764,
          10.0646305,
          10.050942,
          10.566262,
          9.106481,
          9.743201,
          10.706609,
          9.747904,
          9.904872,
          10.134976,
          8.695064,
          9.674867,
          9.691484,
          10.9039755,
          9.327272,
          11.514617,
          11.5978985,
          9.724062,
          9.212353,
          10.843642,
          9.379692,
          8.081495,
          10.355474,
          9.608402,
          10.823315,
          9.237104,
          10.163303,
          11.464684,
          9.43379,
          7.672236,
          8.708203,
          9.339236,
          9.473148,
          8.143238,
          9.61711,
          9.66365,
          10.960714,
          8.176706,
          9.451957,
          10.942988,
          8.926407,
          9.870143,
          9.52732,
          10.116069,
          10.798445,
          8.819013,
          7.5096655,
          8.014692,
          9.804723,
          10.879827,
          8.230457,
          9.534896,
          9.425622,
          7.5475307,
          10.910301,
          9.1940975,
          7.800431,
          7.8442283,
          9.759676,
          9.425952,
          11.182328,
          11.061119,
          7.5079517,
          8.994989,
          9.0864935,
          10.99782,
          8.225205,
          8.76221,
          8.894194,
          9.479822,
          9.03967,
          8.259584,
          9.524086,
          9.0728445,
          8.931555,
          8.396313,
          8.978604,
          7.4444475,
          8.451714,
          8.937048,
          8.927496,
          9.431951,
          8.063777,
          9.449311,
          10.948118,
          10.944495,
          10.837101,
          9.520421,
          9.395393,
          10.82987,
          9.8305235,
          7.559914,
          9.503336,
          9.355768,
          10.873513,
          10.89684,
          10.858749,
          7.8553743,
          9.408248,
          8.387093,
          9.278007,
          9.322717,
          8.204615,
          8.609026,
          9.405574,
          9.392837,
          8.578479,
          9.478258,
          10.143053,
          9.297256,
          8.360101,
          8.770116,
          8.778913,
          9.374784,
          8.364593,
          8.303417,
          9.596639,
          9.118704,
          9.530246,
          9.031739,
          7.65511,
          7.5513225,
          8.107571,
          9.032961,
          8.972369,
          8.491827,
          9.367107,
          9.572852,
          9.041106,
          9.55848,
          9.703004,
          9.132942,
          9.516931,
          8.252389,
          7.6198187,
          7.8378477,
          8.504108,
          7.7310295,
          7.649965,
          10.990235,
          8.397302,
          8.055718,
          7.5976834,
          7.7337484,
          10.959188,
          8.657266,
          7.804689,
          7.6136,
          7.760669,
          8.291111,
          7.7191224,
          7.8892336,
          7.681543,
          8.306588,
          8.365887,
          8.332417,
          8.884163,
          9.492391,
          9.341487,
          9.015366,
          9.130165,
          10.786667,
          7.789096,
          7.820189,
          7.6610045,
          7.6355424,
          10.903168,
          9.864852,
          7.710686,
          9.551338,
          10.918736,
          8.721527,
          7.619549,
          9.82484,
          7.6359367,
          7.617361,
          10.957807,
          7.4251075,
          7.6360283,
          7.6467767,
          9.666881,
          7.892377,
          7.6405287,
          7.7507734,
          9.742612,
          7.9946723,
          7.89575,
          8.115306,
          11.1060705,
          10.618535,
          8.141652,
          7.683602,
          7.635997,
          9.720165,
          10.829129,
          8.720518,
          7.430607,
          -9.394443,
          10.794153,
          -9.170627,
          -7.7278075,
          -8.028909,
          -6.655437,
          -8.876589,
          -8.907012,
          0.058915555,
          16.006023,
          -9.299156,
          -7.4225445,
          -8.379107,
          -7.4983773,
          -2.7159333,
          1.737573,
          -7.079613,
          8.21662,
          0.19973618,
          6.6297812,
          6.019827,
          5.542826,
          1.1404116,
          5.9008946,
          1.4501294,
          13.682225,
          1.5526726,
          -6.643524,
          17.077436,
          16.64049,
          0.57743204,
          11.138253,
          2.9509866,
          12.45437,
          5.6212325,
          16.15584,
          7.5299726,
          7.657866,
          -6.8021927,
          12.874299,
          13.867888,
          12.304038,
          12.30912,
          12.49006,
          16.151972,
          17.330402,
          16.005022,
          13.695271,
          11.918485,
          1.831728,
          -8.851304,
          16.04978,
          16.473454,
          11.434829,
          7.67898,
          2.0175722,
          9.9172535,
          4.662122,
          11.674291,
          3.4657748,
          13.77491,
          10.977614,
          12.305772,
          0.7615279,
          -6.900416,
          -8.239193,
          16.43265,
          4.676518,
          4.4345217,
          4.339461,
          6.660802,
          12.887989,
          8.195105,
          1.8114666,
          -1.7439712,
          -7.7266474,
          0.87568486,
          1.5714444,
          0.23160796,
          1.6657519,
          2.427792,
          16.490479,
          16.094265,
          4.054259,
          0.06620499,
          2.612726,
          9.103349,
          -9.156155,
          -9.191069,
          -9.18468,
          -5.14465,
          -9.069132,
          -7.038774,
          6.706093,
          9.943986,
          16.430805,
          13.722158,
          -6.6902475,
          0.5966527,
          3.5815222,
          5.621592,
          -9.369205,
          -8.2031,
          6.6473117,
          -9.341179,
          -6.740816,
          7.792227,
          12.012734,
          0.38264546,
          -7.0851936,
          -8.9303875,
          -1.9848762,
          -1.9905603,
          -9.309115,
          16.636644,
          10.268622,
          16.11227,
          -8.908541,
          3.5582352,
          6.6736226,
          -0.42816955,
          -7.0966754,
          11.221798,
          17.27275,
          17.230064,
          -6.953664,
          -6.9352126,
          3.5716724,
          3.4073584,
          -0.43645078,
          -2.760866,
          -8.007575,
          -7.630196,
          -5.2655816,
          -9.355315,
          1.8683873,
          -8.069808,
          -8.023992,
          -6.7575736,
          -9.196626,
          -1.3821446,
          9.129138,
          -6.682202,
          -8.7783785,
          5.0197086,
          9.84842,
          9.202582,
          -1.4202756,
          -8.247947,
          17.320541,
          17.305649,
          -9.353015,
          -8.067005,
          1.8176091,
          1.8370879,
          -9.325995,
          -0.122429565,
          -9.278586,
          -8.83846,
          -9.3378,
          2.8541884,
          8.322977,
          -0.278547,
          -7.9118776,
          1.0420164,
          1.0555714,
          3.498339,
          -7.8903766,
          -7.042813,
          8.13037,
          8.133733,
          2.1698394,
          3.4983065,
          4.7990503,
          3.5737436,
          -6.6865277,
          5.7436814,
          -9.203672,
          5.9242945,
          -7.707262,
          0.17911771,
          2.9256923,
          1.3201832,
          13.6096115,
          10.750204,
          16.467966,
          3.1083033,
          -8.033969,
          -9.263364,
          -0.6830923,
          6.825532,
          10.330763,
          -9.338933,
          -9.319582,
          9.207089,
          10.413721,
          9.977022,
          12.315543,
          13.794396,
          -6.7224646,
          -8.197389,
          -0.6690533,
          11.86554,
          10.94522,
          17.304361,
          12.304259,
          1.8155793,
          16.88836,
          8.78906,
          -8.137194,
          0.72096163,
          1.548751,
          -5.2315288,
          -6.7378454,
          0.29489106,
          1.792201,
          3.079213,
          11.528247,
          10.803138,
          11.2122345,
          -7.7286057,
          -8.849765,
          16.080347,
          11.789063,
          8.113903,
          4.1539197,
          -9.318996,
          -7.667222,
          9.054155,
          17.055302,
          -5.196355,
          5.587047,
          1.4238681,
          16.834597,
          -7.828259,
          12.27001,
          2.0779936,
          8.808671,
          -8.1719265,
          -7.867636,
          -8.319455,
          -9.307393,
          -8.770016,
          9.735724,
          -0.62049866,
          4.72261,
          4.0392895,
          -0.007338357,
          12.742124,
          17.307537,
          -8.891104,
          -6.7704773,
          -9.17092,
          0.43655977,
          9.969249,
          3.598356,
          5.6416764,
          -6.8143044,
          -0.6422204,
          11.5381,
          4.626065,
          10.431567,
          -1.2914003,
          16.51054,
          3.3974667,
          16.220255,
          3.9945343,
          16.091677,
          13.643612,
          -2.7853742,
          6.6003814,
          17.265257,
          1.7506177,
          -1.8617649,
          4.5641723,
          5.8325324,
          8.785169,
          -5.1854825,
          6.1337304,
          3.8124337,
          -9.339321,
          2.0473492,
          12.8383465,
          10.295951,
          -0.2252896,
          17.358208,
          16.470963,
          9.011068,
          3.6015346,
          16.829954,
          17.213758,
          -7.926236,
          -0.28977057,
          5.5661654,
          -8.811526,
          -1.4326601,
          -9.184296,
          1.2873468,
          -5.1405063,
          -2.231936,
          -7.6318336,
          3.6706836,
          -0.089587435,
          -8.878252,
          3.935138,
          -0.4416563,
          -8.299977,
          0.26169997,
          -1.9867253,
          -9.032821,
          1.3701202,
          -0.630738,
          1.5654076,
          -1.7060711,
          -9.329946,
          1.1288977,
          -2.2947426,
          -8.8600235,
          -6.878767,
          7.3085947,
          -7.139545,
          -0.22776885,
          3.006017,
          10.876567,
          -2.7495434,
          13.618474,
          9.255642,
          16.538374,
          17.305988,
          -8.849175,
          -9.355979,
          -8.794255,
          7.747011,
          -5.1850467,
          -9.179832,
          0.7075123,
          12.843311,
          -2.598089,
          -0.3555027,
          -6.694582,
          17.190016,
          2.1222723,
          2.136509,
          -7.4306335,
          -5.16125,
          7.4445987,
          -9.317016,
          -2.1667027,
          -7.243447,
          -1.8588083,
          -2.297776,
          -2.7331555,
          -0.4424092,
          16.04043,
          -1.5010109,
          -8.113623,
          2.9958177,
          -8.006955,
          -0.1454,
          -9.236843,
          6.558992,
          -5.139884,
          -7.065008,
          0.15599136,
          -8.789751,
          1.2479644,
          -1.4875675,
          -9.196587,
          2.955435,
          2.8860443,
          -7.8558483,
          6.681015,
          -9.329073,
          -8.284384,
          1.5036454,
          1.2527341,
          4.184443,
          -2.0209613,
          4.427428,
          -1.414209,
          -8.186002,
          -1.3906095,
          1.2097279,
          0.4609887,
          9.303393,
          13.69033,
          -2.7642252,
          1.7626806,
          -0.27561268,
          -9.24518,
          3.677354,
          2.1371155,
          1.6843083,
          1.2795303,
          -0.4354659,
          -9.15173,
          4.3766885,
          4.719685,
          2.8765142,
          -9.27625,
          -8.160378,
          3.9415672,
          13.846238,
          9.2537365,
          0.5031688,
          -2.3911774,
          4.7590446,
          8.825143,
          3.5855398,
          8.817399,
          8.823448,
          -9.340167,
          1.8579232,
          -9.123082,
          3.380807,
          3.5150967,
          8.804297,
          3.981296,
          8.128325,
          5.6485195,
          0.17697613,
          -2.1632333,
          4.149797,
          -8.888361,
          -6.800523,
          0.74130744,
          2.9120495,
          -2.2204318,
          4.2520623,
          -7.0935698,
          2.8191698,
          4.435431,
          -2.6896145,
          -6.5942593,
          0.7384061,
          -6.666539,
          -6.9733167,
          2.9494932,
          4.430632,
          3.2315316,
          -6.896924,
          13.625498,
          -8.197007,
          0.53563225,
          4.4073033,
          13.870507,
          -7.2084494,
          7.6617923,
          4.76627,
          -6.704633,
          -8.22389,
          -5.1279325,
          -6.667074,
          -0.43268552,
          4.044935,
          4.670997,
          3.8438325,
          -1.6911733,
          0.75003123,
          -9.3281355,
          -5.179412,
          3.6203148,
          2.9366558,
          -7.071466,
          10.976323,
          -2.745224,
          -6.905288,
          4.195944,
          -0.0164141,
          -0.6615686,
          4.348559,
          4.2378426,
          -9.372878,
          4.1299415,
          -6.6861267
         ],
         "yaxis": "y"
        }
       ],
       "layout": {
        "coloraxis": {
         "colorbar": {
          "title": {
           "text": "Anomaly"
          }
         },
         "colorscale": [
          [
           0,
           "#0d0887"
          ],
          [
           0.1111111111111111,
           "#46039f"
          ],
          [
           0.2222222222222222,
           "#7201a8"
          ],
          [
           0.3333333333333333,
           "#9c179e"
          ],
          [
           0.4444444444444444,
           "#bd3786"
          ],
          [
           0.5555555555555556,
           "#d8576b"
          ],
          [
           0.6666666666666666,
           "#ed7953"
          ],
          [
           0.7777777777777778,
           "#fb9f3a"
          ],
          [
           0.8888888888888888,
           "#fdca26"
          ],
          [
           1,
           "#f0f921"
          ]
         ]
        },
        "height": 800,
        "legend": {
         "tracegroupgap": 0
        },
        "template": {
         "data": {
          "bar": [
           {
            "error_x": {
             "color": "#2a3f5f"
            },
            "error_y": {
             "color": "#2a3f5f"
            },
            "marker": {
             "line": {
              "color": "#E5ECF6",
              "width": 0.5
             },
             "pattern": {
              "fillmode": "overlay",
              "size": 10,
              "solidity": 0.2
             }
            },
            "type": "bar"
           }
          ],
          "barpolar": [
           {
            "marker": {
             "line": {
              "color": "#E5ECF6",
              "width": 0.5
             },
             "pattern": {
              "fillmode": "overlay",
              "size": 10,
              "solidity": 0.2
             }
            },
            "type": "barpolar"
           }
          ],
          "carpet": [
           {
            "aaxis": {
             "endlinecolor": "#2a3f5f",
             "gridcolor": "white",
             "linecolor": "white",
             "minorgridcolor": "white",
             "startlinecolor": "#2a3f5f"
            },
            "baxis": {
             "endlinecolor": "#2a3f5f",
             "gridcolor": "white",
             "linecolor": "white",
             "minorgridcolor": "white",
             "startlinecolor": "#2a3f5f"
            },
            "type": "carpet"
           }
          ],
          "choropleth": [
           {
            "colorbar": {
             "outlinewidth": 0,
             "ticks": ""
            },
            "type": "choropleth"
           }
          ],
          "contour": [
           {
            "colorbar": {
             "outlinewidth": 0,
             "ticks": ""
            },
            "colorscale": [
             [
              0,
              "#0d0887"
             ],
             [
              0.1111111111111111,
              "#46039f"
             ],
             [
              0.2222222222222222,
              "#7201a8"
             ],
             [
              0.3333333333333333,
              "#9c179e"
             ],
             [
              0.4444444444444444,
              "#bd3786"
             ],
             [
              0.5555555555555556,
              "#d8576b"
             ],
             [
              0.6666666666666666,
              "#ed7953"
             ],
             [
              0.7777777777777778,
              "#fb9f3a"
             ],
             [
              0.8888888888888888,
              "#fdca26"
             ],
             [
              1,
              "#f0f921"
             ]
            ],
            "type": "contour"
           }
          ],
          "contourcarpet": [
           {
            "colorbar": {
             "outlinewidth": 0,
             "ticks": ""
            },
            "type": "contourcarpet"
           }
          ],
          "heatmap": [
           {
            "colorbar": {
             "outlinewidth": 0,
             "ticks": ""
            },
            "colorscale": [
             [
              0,
              "#0d0887"
             ],
             [
              0.1111111111111111,
              "#46039f"
             ],
             [
              0.2222222222222222,
              "#7201a8"
             ],
             [
              0.3333333333333333,
              "#9c179e"
             ],
             [
              0.4444444444444444,
              "#bd3786"
             ],
             [
              0.5555555555555556,
              "#d8576b"
             ],
             [
              0.6666666666666666,
              "#ed7953"
             ],
             [
              0.7777777777777778,
              "#fb9f3a"
             ],
             [
              0.8888888888888888,
              "#fdca26"
             ],
             [
              1,
              "#f0f921"
             ]
            ],
            "type": "heatmap"
           }
          ],
          "heatmapgl": [
           {
            "colorbar": {
             "outlinewidth": 0,
             "ticks": ""
            },
            "colorscale": [
             [
              0,
              "#0d0887"
             ],
             [
              0.1111111111111111,
              "#46039f"
             ],
             [
              0.2222222222222222,
              "#7201a8"
             ],
             [
              0.3333333333333333,
              "#9c179e"
             ],
             [
              0.4444444444444444,
              "#bd3786"
             ],
             [
              0.5555555555555556,
              "#d8576b"
             ],
             [
              0.6666666666666666,
              "#ed7953"
             ],
             [
              0.7777777777777778,
              "#fb9f3a"
             ],
             [
              0.8888888888888888,
              "#fdca26"
             ],
             [
              1,
              "#f0f921"
             ]
            ],
            "type": "heatmapgl"
           }
          ],
          "histogram": [
           {
            "marker": {
             "pattern": {
              "fillmode": "overlay",
              "size": 10,
              "solidity": 0.2
             }
            },
            "type": "histogram"
           }
          ],
          "histogram2d": [
           {
            "colorbar": {
             "outlinewidth": 0,
             "ticks": ""
            },
            "colorscale": [
             [
              0,
              "#0d0887"
             ],
             [
              0.1111111111111111,
              "#46039f"
             ],
             [
              0.2222222222222222,
              "#7201a8"
             ],
             [
              0.3333333333333333,
              "#9c179e"
             ],
             [
              0.4444444444444444,
              "#bd3786"
             ],
             [
              0.5555555555555556,
              "#d8576b"
             ],
             [
              0.6666666666666666,
              "#ed7953"
             ],
             [
              0.7777777777777778,
              "#fb9f3a"
             ],
             [
              0.8888888888888888,
              "#fdca26"
             ],
             [
              1,
              "#f0f921"
             ]
            ],
            "type": "histogram2d"
           }
          ],
          "histogram2dcontour": [
           {
            "colorbar": {
             "outlinewidth": 0,
             "ticks": ""
            },
            "colorscale": [
             [
              0,
              "#0d0887"
             ],
             [
              0.1111111111111111,
              "#46039f"
             ],
             [
              0.2222222222222222,
              "#7201a8"
             ],
             [
              0.3333333333333333,
              "#9c179e"
             ],
             [
              0.4444444444444444,
              "#bd3786"
             ],
             [
              0.5555555555555556,
              "#d8576b"
             ],
             [
              0.6666666666666666,
              "#ed7953"
             ],
             [
              0.7777777777777778,
              "#fb9f3a"
             ],
             [
              0.8888888888888888,
              "#fdca26"
             ],
             [
              1,
              "#f0f921"
             ]
            ],
            "type": "histogram2dcontour"
           }
          ],
          "mesh3d": [
           {
            "colorbar": {
             "outlinewidth": 0,
             "ticks": ""
            },
            "type": "mesh3d"
           }
          ],
          "parcoords": [
           {
            "line": {
             "colorbar": {
              "outlinewidth": 0,
              "ticks": ""
             }
            },
            "type": "parcoords"
           }
          ],
          "pie": [
           {
            "automargin": true,
            "type": "pie"
           }
          ],
          "scatter": [
           {
            "fillpattern": {
             "fillmode": "overlay",
             "size": 10,
             "solidity": 0.2
            },
            "type": "scatter"
           }
          ],
          "scatter3d": [
           {
            "line": {
             "colorbar": {
              "outlinewidth": 0,
              "ticks": ""
             }
            },
            "marker": {
             "colorbar": {
              "outlinewidth": 0,
              "ticks": ""
             }
            },
            "type": "scatter3d"
           }
          ],
          "scattercarpet": [
           {
            "marker": {
             "colorbar": {
              "outlinewidth": 0,
              "ticks": ""
             }
            },
            "type": "scattercarpet"
           }
          ],
          "scattergeo": [
           {
            "marker": {
             "colorbar": {
              "outlinewidth": 0,
              "ticks": ""
             }
            },
            "type": "scattergeo"
           }
          ],
          "scattergl": [
           {
            "marker": {
             "colorbar": {
              "outlinewidth": 0,
              "ticks": ""
             }
            },
            "type": "scattergl"
           }
          ],
          "scattermapbox": [
           {
            "marker": {
             "colorbar": {
              "outlinewidth": 0,
              "ticks": ""
             }
            },
            "type": "scattermapbox"
           }
          ],
          "scatterpolar": [
           {
            "marker": {
             "colorbar": {
              "outlinewidth": 0,
              "ticks": ""
             }
            },
            "type": "scatterpolar"
           }
          ],
          "scatterpolargl": [
           {
            "marker": {
             "colorbar": {
              "outlinewidth": 0,
              "ticks": ""
             }
            },
            "type": "scatterpolargl"
           }
          ],
          "scatterternary": [
           {
            "marker": {
             "colorbar": {
              "outlinewidth": 0,
              "ticks": ""
             }
            },
            "type": "scatterternary"
           }
          ],
          "surface": [
           {
            "colorbar": {
             "outlinewidth": 0,
             "ticks": ""
            },
            "colorscale": [
             [
              0,
              "#0d0887"
             ],
             [
              0.1111111111111111,
              "#46039f"
             ],
             [
              0.2222222222222222,
              "#7201a8"
             ],
             [
              0.3333333333333333,
              "#9c179e"
             ],
             [
              0.4444444444444444,
              "#bd3786"
             ],
             [
              0.5555555555555556,
              "#d8576b"
             ],
             [
              0.6666666666666666,
              "#ed7953"
             ],
             [
              0.7777777777777778,
              "#fb9f3a"
             ],
             [
              0.8888888888888888,
              "#fdca26"
             ],
             [
              1,
              "#f0f921"
             ]
            ],
            "type": "surface"
           }
          ],
          "table": [
           {
            "cells": {
             "fill": {
              "color": "#EBF0F8"
             },
             "line": {
              "color": "white"
             }
            },
            "header": {
             "fill": {
              "color": "#C8D4E3"
             },
             "line": {
              "color": "white"
             }
            },
            "type": "table"
           }
          ]
         },
         "layout": {
          "annotationdefaults": {
           "arrowcolor": "#2a3f5f",
           "arrowhead": 0,
           "arrowwidth": 1
          },
          "autotypenumbers": "strict",
          "coloraxis": {
           "colorbar": {
            "outlinewidth": 0,
            "ticks": ""
           }
          },
          "colorscale": {
           "diverging": [
            [
             0,
             "#8e0152"
            ],
            [
             0.1,
             "#c51b7d"
            ],
            [
             0.2,
             "#de77ae"
            ],
            [
             0.3,
             "#f1b6da"
            ],
            [
             0.4,
             "#fde0ef"
            ],
            [
             0.5,
             "#f7f7f7"
            ],
            [
             0.6,
             "#e6f5d0"
            ],
            [
             0.7,
             "#b8e186"
            ],
            [
             0.8,
             "#7fbc41"
            ],
            [
             0.9,
             "#4d9221"
            ],
            [
             1,
             "#276419"
            ]
           ],
           "sequential": [
            [
             0,
             "#0d0887"
            ],
            [
             0.1111111111111111,
             "#46039f"
            ],
            [
             0.2222222222222222,
             "#7201a8"
            ],
            [
             0.3333333333333333,
             "#9c179e"
            ],
            [
             0.4444444444444444,
             "#bd3786"
            ],
            [
             0.5555555555555556,
             "#d8576b"
            ],
            [
             0.6666666666666666,
             "#ed7953"
            ],
            [
             0.7777777777777778,
             "#fb9f3a"
            ],
            [
             0.8888888888888888,
             "#fdca26"
            ],
            [
             1,
             "#f0f921"
            ]
           ],
           "sequentialminus": [
            [
             0,
             "#0d0887"
            ],
            [
             0.1111111111111111,
             "#46039f"
            ],
            [
             0.2222222222222222,
             "#7201a8"
            ],
            [
             0.3333333333333333,
             "#9c179e"
            ],
            [
             0.4444444444444444,
             "#bd3786"
            ],
            [
             0.5555555555555556,
             "#d8576b"
            ],
            [
             0.6666666666666666,
             "#ed7953"
            ],
            [
             0.7777777777777778,
             "#fb9f3a"
            ],
            [
             0.8888888888888888,
             "#fdca26"
            ],
            [
             1,
             "#f0f921"
            ]
           ]
          },
          "colorway": [
           "#636efa",
           "#EF553B",
           "#00cc96",
           "#ab63fa",
           "#FFA15A",
           "#19d3f3",
           "#FF6692",
           "#B6E880",
           "#FF97FF",
           "#FECB52"
          ],
          "font": {
           "color": "#2a3f5f"
          },
          "geo": {
           "bgcolor": "white",
           "lakecolor": "white",
           "landcolor": "#E5ECF6",
           "showlakes": true,
           "showland": true,
           "subunitcolor": "white"
          },
          "hoverlabel": {
           "align": "left"
          },
          "hovermode": "closest",
          "mapbox": {
           "style": "light"
          },
          "paper_bgcolor": "white",
          "plot_bgcolor": "#E5ECF6",
          "polar": {
           "angularaxis": {
            "gridcolor": "white",
            "linecolor": "white",
            "ticks": ""
           },
           "bgcolor": "#E5ECF6",
           "radialaxis": {
            "gridcolor": "white",
            "linecolor": "white",
            "ticks": ""
           }
          },
          "scene": {
           "xaxis": {
            "backgroundcolor": "#E5ECF6",
            "gridcolor": "white",
            "gridwidth": 2,
            "linecolor": "white",
            "showbackground": true,
            "ticks": "",
            "zerolinecolor": "white"
           },
           "yaxis": {
            "backgroundcolor": "#E5ECF6",
            "gridcolor": "white",
            "gridwidth": 2,
            "linecolor": "white",
            "showbackground": true,
            "ticks": "",
            "zerolinecolor": "white"
           },
           "zaxis": {
            "backgroundcolor": "#E5ECF6",
            "gridcolor": "white",
            "gridwidth": 2,
            "linecolor": "white",
            "showbackground": true,
            "ticks": "",
            "zerolinecolor": "white"
           }
          },
          "shapedefaults": {
           "line": {
            "color": "#2a3f5f"
           }
          },
          "ternary": {
           "aaxis": {
            "gridcolor": "white",
            "linecolor": "white",
            "ticks": ""
           },
           "baxis": {
            "gridcolor": "white",
            "linecolor": "white",
            "ticks": ""
           },
           "bgcolor": "#E5ECF6",
           "caxis": {
            "gridcolor": "white",
            "linecolor": "white",
            "ticks": ""
           }
          },
          "title": {
           "x": 0.05
          },
          "xaxis": {
           "automargin": true,
           "gridcolor": "white",
           "linecolor": "white",
           "ticks": "",
           "title": {
            "standoff": 15
           },
           "zerolinecolor": "white",
           "zerolinewidth": 2
          },
          "yaxis": {
           "automargin": true,
           "gridcolor": "white",
           "linecolor": "white",
           "ticks": "",
           "title": {
            "standoff": 15
           },
           "zerolinecolor": "white",
           "zerolinewidth": 2
          }
         }
        },
        "title": {
         "text": "uMAP Plot for Outliers"
        },
        "width": 900,
        "xaxis": {
         "anchor": "y",
         "domain": [
          0,
          1
         ],
         "title": {
          "text": "0"
         }
        },
        "yaxis": {
         "anchor": "x",
         "domain": [
          0,
          1
         ],
         "title": {
          "text": "1"
         }
        }
       }
      }
     },
     "metadata": {},
     "output_type": "display_data"
    }
   ],
   "source": [
    "# Analyze model\n",
    "s.plot_model(iforest, plot = 'umap')"
   ]
  },
  {
   "cell_type": "code",
   "execution_count": 12,
   "metadata": {},
   "outputs": [
    {
     "data": {
      "text/html": [
       "<div>\n",
       "<style scoped>\n",
       "    .dataframe tbody tr th:only-of-type {\n",
       "        vertical-align: middle;\n",
       "    }\n",
       "\n",
       "    .dataframe tbody tr th {\n",
       "        vertical-align: top;\n",
       "    }\n",
       "\n",
       "    .dataframe thead th {\n",
       "        text-align: right;\n",
       "    }\n",
       "</style>\n",
       "<table border=\"1\" class=\"dataframe\">\n",
       "  <thead>\n",
       "    <tr style=\"text-align: right;\">\n",
       "      <th></th>\n",
       "      <th>Start</th>\n",
       "      <th>End</th>\n",
       "      <th>Sleep quality</th>\n",
       "      <th>Time in bed</th>\n",
       "      <th>Wake up</th>\n",
       "      <th>Sleep Notes</th>\n",
       "      <th>Activity (steps)</th>\n",
       "      <th>Anomaly</th>\n",
       "      <th>Anomaly_Score</th>\n",
       "    </tr>\n",
       "  </thead>\n",
       "  <tbody>\n",
       "    <tr>\n",
       "      <th>0</th>\n",
       "      <td>2014-12-29 22:57:49</td>\n",
       "      <td>2014-12-30 07:30:13</td>\n",
       "      <td>100%</td>\n",
       "      <td>8:32</td>\n",
       "      <td>1.0</td>\n",
       "      <td>0</td>\n",
       "      <td>0</td>\n",
       "      <td>0</td>\n",
       "      <td>-0.014576</td>\n",
       "    </tr>\n",
       "    <tr>\n",
       "      <th>1</th>\n",
       "      <td>2014-12-30 21:17:50</td>\n",
       "      <td>2014-12-30 21:33:54</td>\n",
       "      <td>3%</td>\n",
       "      <td>0:16</td>\n",
       "      <td>0.0</td>\n",
       "      <td>Stressful day</td>\n",
       "      <td>0</td>\n",
       "      <td>0</td>\n",
       "      <td>-0.007940</td>\n",
       "    </tr>\n",
       "    <tr>\n",
       "      <th>2</th>\n",
       "      <td>2014-12-30 22:42:49</td>\n",
       "      <td>2014-12-31 07:13:31</td>\n",
       "      <td>98%</td>\n",
       "      <td>8:30</td>\n",
       "      <td>0.0</td>\n",
       "      <td>0</td>\n",
       "      <td>0</td>\n",
       "      <td>0</td>\n",
       "      <td>-0.007432</td>\n",
       "    </tr>\n",
       "    <tr>\n",
       "      <th>3</th>\n",
       "      <td>2014-12-31 22:31:01</td>\n",
       "      <td>2015-01-01 06:03:01</td>\n",
       "      <td>65%</td>\n",
       "      <td>7:32</td>\n",
       "      <td>0.0</td>\n",
       "      <td>0</td>\n",
       "      <td>0</td>\n",
       "      <td>0</td>\n",
       "      <td>-0.009125</td>\n",
       "    </tr>\n",
       "    <tr>\n",
       "      <th>4</th>\n",
       "      <td>2015-01-01 22:12:10</td>\n",
       "      <td>2015-01-02 04:56:35</td>\n",
       "      <td>72%</td>\n",
       "      <td>6:44</td>\n",
       "      <td>1.0</td>\n",
       "      <td>Drank coffee:Drank tea</td>\n",
       "      <td>0</td>\n",
       "      <td>0</td>\n",
       "      <td>-0.005515</td>\n",
       "    </tr>\n",
       "  </tbody>\n",
       "</table>\n",
       "</div>"
      ],
      "text/plain": [
       "                 Start                  End Sleep quality Time in bed  \\\n",
       "0  2014-12-29 22:57:49  2014-12-30 07:30:13          100%        8:32   \n",
       "1  2014-12-30 21:17:50  2014-12-30 21:33:54            3%        0:16   \n",
       "2  2014-12-30 22:42:49  2014-12-31 07:13:31           98%        8:30   \n",
       "3  2014-12-31 22:31:01  2015-01-01 06:03:01           65%        7:32   \n",
       "4  2015-01-01 22:12:10  2015-01-02 04:56:35           72%        6:44   \n",
       "\n",
       "   Wake up             Sleep Notes  Activity (steps)  Anomaly  Anomaly_Score  \n",
       "0      1.0                       0                 0        0      -0.014576  \n",
       "1      0.0           Stressful day                 0        0      -0.007940  \n",
       "2      0.0                       0                 0        0      -0.007432  \n",
       "3      0.0                       0                 0        0      -0.009125  \n",
       "4      1.0  Drank coffee:Drank tea                 0        0      -0.005515  "
      ]
     },
     "execution_count": 12,
     "metadata": {},
     "output_type": "execute_result"
    }
   ],
   "source": [
    "# Assign model\n",
    "result = s.assign_model(iforest)\n",
    "result.head()"
   ]
  },
  {
   "cell_type": "code",
   "execution_count": 15,
   "metadata": {},
   "outputs": [
    {
     "data": {
      "text/html": [
       "<div>\n",
       "<style scoped>\n",
       "    .dataframe tbody tr th:only-of-type {\n",
       "        vertical-align: middle;\n",
       "    }\n",
       "\n",
       "    .dataframe tbody tr th {\n",
       "        vertical-align: top;\n",
       "    }\n",
       "\n",
       "    .dataframe thead th {\n",
       "        text-align: right;\n",
       "    }\n",
       "</style>\n",
       "<table border=\"1\" class=\"dataframe\">\n",
       "  <thead>\n",
       "    <tr style=\"text-align: right;\">\n",
       "      <th></th>\n",
       "      <th>Start_2014-12-29 22:57:49</th>\n",
       "      <th>Start_2014-12-30 21:17:50</th>\n",
       "      <th>Start_2014-12-30 22:42:49</th>\n",
       "      <th>Start_2014-12-31 22:31:01</th>\n",
       "      <th>Start_2015-01-01 22:12:10</th>\n",
       "      <th>Start_2015-01-03 00:34:57</th>\n",
       "      <th>Start_2015-01-04 00:23:06</th>\n",
       "      <th>Start_2015-01-04 21:34:44</th>\n",
       "      <th>Start_2015-01-05 21:32:25</th>\n",
       "      <th>Start_2015-01-06 21:24:56</th>\n",
       "      <th>...</th>\n",
       "      <th>Sleep Notes_Drank tea:Stressful day</th>\n",
       "      <th>Sleep Notes_Drank tea:Stressful day:Worked out</th>\n",
       "      <th>Sleep Notes_Drank coffee:Stressful day:Worked out</th>\n",
       "      <th>Sleep Notes_Drank coffee:Stressful day</th>\n",
       "      <th>Sleep Notes_Ate late:Drank coffee:Drank tea:Stressful day</th>\n",
       "      <th>Sleep Notes_Worked out</th>\n",
       "      <th>Sleep Notes_Ate late:Drank coffee:Worked out</th>\n",
       "      <th>Activity (steps)</th>\n",
       "      <th>Anomaly</th>\n",
       "      <th>Anomaly_Score</th>\n",
       "    </tr>\n",
       "  </thead>\n",
       "  <tbody>\n",
       "    <tr>\n",
       "      <th>29</th>\n",
       "      <td>0.0</td>\n",
       "      <td>0.0</td>\n",
       "      <td>0.0</td>\n",
       "      <td>0.0</td>\n",
       "      <td>0.0</td>\n",
       "      <td>0.0</td>\n",
       "      <td>0.0</td>\n",
       "      <td>0.0</td>\n",
       "      <td>0.0</td>\n",
       "      <td>0.0</td>\n",
       "      <td>...</td>\n",
       "      <td>0.0</td>\n",
       "      <td>0.0</td>\n",
       "      <td>0.0</td>\n",
       "      <td>0.0</td>\n",
       "      <td>0.0</td>\n",
       "      <td>0.0</td>\n",
       "      <td>0.0</td>\n",
       "      <td>0.0</td>\n",
       "      <td>1</td>\n",
       "      <td>0.008175</td>\n",
       "    </tr>\n",
       "    <tr>\n",
       "      <th>35</th>\n",
       "      <td>0.0</td>\n",
       "      <td>0.0</td>\n",
       "      <td>0.0</td>\n",
       "      <td>0.0</td>\n",
       "      <td>0.0</td>\n",
       "      <td>0.0</td>\n",
       "      <td>0.0</td>\n",
       "      <td>0.0</td>\n",
       "      <td>0.0</td>\n",
       "      <td>0.0</td>\n",
       "      <td>...</td>\n",
       "      <td>0.0</td>\n",
       "      <td>0.0</td>\n",
       "      <td>0.0</td>\n",
       "      <td>0.0</td>\n",
       "      <td>0.0</td>\n",
       "      <td>0.0</td>\n",
       "      <td>0.0</td>\n",
       "      <td>0.0</td>\n",
       "      <td>1</td>\n",
       "      <td>0.002967</td>\n",
       "    </tr>\n",
       "    <tr>\n",
       "      <th>38</th>\n",
       "      <td>0.0</td>\n",
       "      <td>0.0</td>\n",
       "      <td>0.0</td>\n",
       "      <td>0.0</td>\n",
       "      <td>0.0</td>\n",
       "      <td>0.0</td>\n",
       "      <td>0.0</td>\n",
       "      <td>0.0</td>\n",
       "      <td>0.0</td>\n",
       "      <td>0.0</td>\n",
       "      <td>...</td>\n",
       "      <td>0.0</td>\n",
       "      <td>0.0</td>\n",
       "      <td>0.0</td>\n",
       "      <td>0.0</td>\n",
       "      <td>0.0</td>\n",
       "      <td>0.0</td>\n",
       "      <td>0.0</td>\n",
       "      <td>0.0</td>\n",
       "      <td>1</td>\n",
       "      <td>0.006749</td>\n",
       "    </tr>\n",
       "    <tr>\n",
       "      <th>43</th>\n",
       "      <td>0.0</td>\n",
       "      <td>0.0</td>\n",
       "      <td>0.0</td>\n",
       "      <td>0.0</td>\n",
       "      <td>0.0</td>\n",
       "      <td>0.0</td>\n",
       "      <td>0.0</td>\n",
       "      <td>0.0</td>\n",
       "      <td>0.0</td>\n",
       "      <td>0.0</td>\n",
       "      <td>...</td>\n",
       "      <td>0.0</td>\n",
       "      <td>0.0</td>\n",
       "      <td>0.0</td>\n",
       "      <td>0.0</td>\n",
       "      <td>0.0</td>\n",
       "      <td>0.0</td>\n",
       "      <td>0.0</td>\n",
       "      <td>0.0</td>\n",
       "      <td>1</td>\n",
       "      <td>0.001528</td>\n",
       "    </tr>\n",
       "    <tr>\n",
       "      <th>76</th>\n",
       "      <td>0.0</td>\n",
       "      <td>0.0</td>\n",
       "      <td>0.0</td>\n",
       "      <td>0.0</td>\n",
       "      <td>0.0</td>\n",
       "      <td>0.0</td>\n",
       "      <td>0.0</td>\n",
       "      <td>0.0</td>\n",
       "      <td>0.0</td>\n",
       "      <td>0.0</td>\n",
       "      <td>...</td>\n",
       "      <td>0.0</td>\n",
       "      <td>0.0</td>\n",
       "      <td>0.0</td>\n",
       "      <td>0.0</td>\n",
       "      <td>0.0</td>\n",
       "      <td>0.0</td>\n",
       "      <td>0.0</td>\n",
       "      <td>0.0</td>\n",
       "      <td>1</td>\n",
       "      <td>0.001206</td>\n",
       "    </tr>\n",
       "    <tr>\n",
       "      <th>81</th>\n",
       "      <td>0.0</td>\n",
       "      <td>0.0</td>\n",
       "      <td>0.0</td>\n",
       "      <td>0.0</td>\n",
       "      <td>0.0</td>\n",
       "      <td>0.0</td>\n",
       "      <td>0.0</td>\n",
       "      <td>0.0</td>\n",
       "      <td>0.0</td>\n",
       "      <td>0.0</td>\n",
       "      <td>...</td>\n",
       "      <td>0.0</td>\n",
       "      <td>0.0</td>\n",
       "      <td>0.0</td>\n",
       "      <td>0.0</td>\n",
       "      <td>0.0</td>\n",
       "      <td>0.0</td>\n",
       "      <td>0.0</td>\n",
       "      <td>0.0</td>\n",
       "      <td>1</td>\n",
       "      <td>0.001262</td>\n",
       "    </tr>\n",
       "    <tr>\n",
       "      <th>121</th>\n",
       "      <td>0.0</td>\n",
       "      <td>0.0</td>\n",
       "      <td>0.0</td>\n",
       "      <td>0.0</td>\n",
       "      <td>0.0</td>\n",
       "      <td>0.0</td>\n",
       "      <td>0.0</td>\n",
       "      <td>0.0</td>\n",
       "      <td>0.0</td>\n",
       "      <td>0.0</td>\n",
       "      <td>...</td>\n",
       "      <td>0.0</td>\n",
       "      <td>0.0</td>\n",
       "      <td>0.0</td>\n",
       "      <td>0.0</td>\n",
       "      <td>0.0</td>\n",
       "      <td>0.0</td>\n",
       "      <td>0.0</td>\n",
       "      <td>0.0</td>\n",
       "      <td>1</td>\n",
       "      <td>0.000148</td>\n",
       "    </tr>\n",
       "    <tr>\n",
       "      <th>125</th>\n",
       "      <td>0.0</td>\n",
       "      <td>0.0</td>\n",
       "      <td>0.0</td>\n",
       "      <td>0.0</td>\n",
       "      <td>0.0</td>\n",
       "      <td>0.0</td>\n",
       "      <td>0.0</td>\n",
       "      <td>0.0</td>\n",
       "      <td>0.0</td>\n",
       "      <td>0.0</td>\n",
       "      <td>...</td>\n",
       "      <td>0.0</td>\n",
       "      <td>0.0</td>\n",
       "      <td>1.0</td>\n",
       "      <td>0.0</td>\n",
       "      <td>0.0</td>\n",
       "      <td>0.0</td>\n",
       "      <td>0.0</td>\n",
       "      <td>0.0</td>\n",
       "      <td>1</td>\n",
       "      <td>0.000666</td>\n",
       "    </tr>\n",
       "    <tr>\n",
       "      <th>130</th>\n",
       "      <td>0.0</td>\n",
       "      <td>0.0</td>\n",
       "      <td>0.0</td>\n",
       "      <td>0.0</td>\n",
       "      <td>0.0</td>\n",
       "      <td>0.0</td>\n",
       "      <td>0.0</td>\n",
       "      <td>0.0</td>\n",
       "      <td>0.0</td>\n",
       "      <td>0.0</td>\n",
       "      <td>...</td>\n",
       "      <td>0.0</td>\n",
       "      <td>0.0</td>\n",
       "      <td>1.0</td>\n",
       "      <td>0.0</td>\n",
       "      <td>0.0</td>\n",
       "      <td>0.0</td>\n",
       "      <td>0.0</td>\n",
       "      <td>0.0</td>\n",
       "      <td>1</td>\n",
       "      <td>0.001542</td>\n",
       "    </tr>\n",
       "    <tr>\n",
       "      <th>133</th>\n",
       "      <td>0.0</td>\n",
       "      <td>0.0</td>\n",
       "      <td>0.0</td>\n",
       "      <td>0.0</td>\n",
       "      <td>0.0</td>\n",
       "      <td>0.0</td>\n",
       "      <td>0.0</td>\n",
       "      <td>0.0</td>\n",
       "      <td>0.0</td>\n",
       "      <td>0.0</td>\n",
       "      <td>...</td>\n",
       "      <td>0.0</td>\n",
       "      <td>0.0</td>\n",
       "      <td>0.0</td>\n",
       "      <td>0.0</td>\n",
       "      <td>0.0</td>\n",
       "      <td>0.0</td>\n",
       "      <td>0.0</td>\n",
       "      <td>0.0</td>\n",
       "      <td>1</td>\n",
       "      <td>0.002406</td>\n",
       "    </tr>\n",
       "    <tr>\n",
       "      <th>135</th>\n",
       "      <td>0.0</td>\n",
       "      <td>0.0</td>\n",
       "      <td>0.0</td>\n",
       "      <td>0.0</td>\n",
       "      <td>0.0</td>\n",
       "      <td>0.0</td>\n",
       "      <td>0.0</td>\n",
       "      <td>0.0</td>\n",
       "      <td>0.0</td>\n",
       "      <td>0.0</td>\n",
       "      <td>...</td>\n",
       "      <td>0.0</td>\n",
       "      <td>0.0</td>\n",
       "      <td>0.0</td>\n",
       "      <td>0.0</td>\n",
       "      <td>0.0</td>\n",
       "      <td>0.0</td>\n",
       "      <td>0.0</td>\n",
       "      <td>0.0</td>\n",
       "      <td>1</td>\n",
       "      <td>0.001315</td>\n",
       "    </tr>\n",
       "    <tr>\n",
       "      <th>139</th>\n",
       "      <td>0.0</td>\n",
       "      <td>0.0</td>\n",
       "      <td>0.0</td>\n",
       "      <td>0.0</td>\n",
       "      <td>0.0</td>\n",
       "      <td>0.0</td>\n",
       "      <td>0.0</td>\n",
       "      <td>0.0</td>\n",
       "      <td>0.0</td>\n",
       "      <td>0.0</td>\n",
       "      <td>...</td>\n",
       "      <td>0.0</td>\n",
       "      <td>0.0</td>\n",
       "      <td>1.0</td>\n",
       "      <td>0.0</td>\n",
       "      <td>0.0</td>\n",
       "      <td>0.0</td>\n",
       "      <td>0.0</td>\n",
       "      <td>0.0</td>\n",
       "      <td>1</td>\n",
       "      <td>0.003956</td>\n",
       "    </tr>\n",
       "    <tr>\n",
       "      <th>159</th>\n",
       "      <td>0.0</td>\n",
       "      <td>0.0</td>\n",
       "      <td>0.0</td>\n",
       "      <td>0.0</td>\n",
       "      <td>0.0</td>\n",
       "      <td>0.0</td>\n",
       "      <td>0.0</td>\n",
       "      <td>0.0</td>\n",
       "      <td>0.0</td>\n",
       "      <td>0.0</td>\n",
       "      <td>...</td>\n",
       "      <td>0.0</td>\n",
       "      <td>0.0</td>\n",
       "      <td>0.0</td>\n",
       "      <td>0.0</td>\n",
       "      <td>0.0</td>\n",
       "      <td>0.0</td>\n",
       "      <td>0.0</td>\n",
       "      <td>0.0</td>\n",
       "      <td>1</td>\n",
       "      <td>0.000565</td>\n",
       "    </tr>\n",
       "    <tr>\n",
       "      <th>177</th>\n",
       "      <td>0.0</td>\n",
       "      <td>0.0</td>\n",
       "      <td>0.0</td>\n",
       "      <td>0.0</td>\n",
       "      <td>0.0</td>\n",
       "      <td>0.0</td>\n",
       "      <td>0.0</td>\n",
       "      <td>0.0</td>\n",
       "      <td>0.0</td>\n",
       "      <td>0.0</td>\n",
       "      <td>...</td>\n",
       "      <td>0.0</td>\n",
       "      <td>0.0</td>\n",
       "      <td>0.0</td>\n",
       "      <td>0.0</td>\n",
       "      <td>0.0</td>\n",
       "      <td>0.0</td>\n",
       "      <td>0.0</td>\n",
       "      <td>0.0</td>\n",
       "      <td>1</td>\n",
       "      <td>0.000375</td>\n",
       "    </tr>\n",
       "    <tr>\n",
       "      <th>194</th>\n",
       "      <td>0.0</td>\n",
       "      <td>0.0</td>\n",
       "      <td>0.0</td>\n",
       "      <td>0.0</td>\n",
       "      <td>0.0</td>\n",
       "      <td>0.0</td>\n",
       "      <td>0.0</td>\n",
       "      <td>0.0</td>\n",
       "      <td>0.0</td>\n",
       "      <td>0.0</td>\n",
       "      <td>...</td>\n",
       "      <td>0.0</td>\n",
       "      <td>0.0</td>\n",
       "      <td>0.0</td>\n",
       "      <td>0.0</td>\n",
       "      <td>0.0</td>\n",
       "      <td>0.0</td>\n",
       "      <td>0.0</td>\n",
       "      <td>0.0</td>\n",
       "      <td>1</td>\n",
       "      <td>0.003866</td>\n",
       "    </tr>\n",
       "    <tr>\n",
       "      <th>195</th>\n",
       "      <td>0.0</td>\n",
       "      <td>0.0</td>\n",
       "      <td>0.0</td>\n",
       "      <td>0.0</td>\n",
       "      <td>0.0</td>\n",
       "      <td>0.0</td>\n",
       "      <td>0.0</td>\n",
       "      <td>0.0</td>\n",
       "      <td>0.0</td>\n",
       "      <td>0.0</td>\n",
       "      <td>...</td>\n",
       "      <td>0.0</td>\n",
       "      <td>0.0</td>\n",
       "      <td>0.0</td>\n",
       "      <td>0.0</td>\n",
       "      <td>0.0</td>\n",
       "      <td>0.0</td>\n",
       "      <td>0.0</td>\n",
       "      <td>0.0</td>\n",
       "      <td>1</td>\n",
       "      <td>0.000042</td>\n",
       "    </tr>\n",
       "    <tr>\n",
       "      <th>205</th>\n",
       "      <td>0.0</td>\n",
       "      <td>0.0</td>\n",
       "      <td>0.0</td>\n",
       "      <td>0.0</td>\n",
       "      <td>0.0</td>\n",
       "      <td>0.0</td>\n",
       "      <td>0.0</td>\n",
       "      <td>0.0</td>\n",
       "      <td>0.0</td>\n",
       "      <td>0.0</td>\n",
       "      <td>...</td>\n",
       "      <td>0.0</td>\n",
       "      <td>0.0</td>\n",
       "      <td>0.0</td>\n",
       "      <td>0.0</td>\n",
       "      <td>0.0</td>\n",
       "      <td>0.0</td>\n",
       "      <td>0.0</td>\n",
       "      <td>0.0</td>\n",
       "      <td>1</td>\n",
       "      <td>0.005524</td>\n",
       "    </tr>\n",
       "    <tr>\n",
       "      <th>222</th>\n",
       "      <td>0.0</td>\n",
       "      <td>0.0</td>\n",
       "      <td>0.0</td>\n",
       "      <td>0.0</td>\n",
       "      <td>0.0</td>\n",
       "      <td>0.0</td>\n",
       "      <td>0.0</td>\n",
       "      <td>0.0</td>\n",
       "      <td>0.0</td>\n",
       "      <td>0.0</td>\n",
       "      <td>...</td>\n",
       "      <td>0.0</td>\n",
       "      <td>0.0</td>\n",
       "      <td>0.0</td>\n",
       "      <td>0.0</td>\n",
       "      <td>0.0</td>\n",
       "      <td>0.0</td>\n",
       "      <td>0.0</td>\n",
       "      <td>0.0</td>\n",
       "      <td>1</td>\n",
       "      <td>0.000986</td>\n",
       "    </tr>\n",
       "    <tr>\n",
       "      <th>260</th>\n",
       "      <td>0.0</td>\n",
       "      <td>0.0</td>\n",
       "      <td>0.0</td>\n",
       "      <td>0.0</td>\n",
       "      <td>0.0</td>\n",
       "      <td>0.0</td>\n",
       "      <td>0.0</td>\n",
       "      <td>0.0</td>\n",
       "      <td>0.0</td>\n",
       "      <td>0.0</td>\n",
       "      <td>...</td>\n",
       "      <td>0.0</td>\n",
       "      <td>0.0</td>\n",
       "      <td>0.0</td>\n",
       "      <td>0.0</td>\n",
       "      <td>0.0</td>\n",
       "      <td>0.0</td>\n",
       "      <td>0.0</td>\n",
       "      <td>0.0</td>\n",
       "      <td>1</td>\n",
       "      <td>0.000555</td>\n",
       "    </tr>\n",
       "    <tr>\n",
       "      <th>263</th>\n",
       "      <td>0.0</td>\n",
       "      <td>0.0</td>\n",
       "      <td>0.0</td>\n",
       "      <td>0.0</td>\n",
       "      <td>0.0</td>\n",
       "      <td>0.0</td>\n",
       "      <td>0.0</td>\n",
       "      <td>0.0</td>\n",
       "      <td>0.0</td>\n",
       "      <td>0.0</td>\n",
       "      <td>...</td>\n",
       "      <td>0.0</td>\n",
       "      <td>0.0</td>\n",
       "      <td>1.0</td>\n",
       "      <td>0.0</td>\n",
       "      <td>0.0</td>\n",
       "      <td>0.0</td>\n",
       "      <td>0.0</td>\n",
       "      <td>0.0</td>\n",
       "      <td>1</td>\n",
       "      <td>0.000390</td>\n",
       "    </tr>\n",
       "    <tr>\n",
       "      <th>267</th>\n",
       "      <td>0.0</td>\n",
       "      <td>0.0</td>\n",
       "      <td>0.0</td>\n",
       "      <td>0.0</td>\n",
       "      <td>0.0</td>\n",
       "      <td>0.0</td>\n",
       "      <td>0.0</td>\n",
       "      <td>0.0</td>\n",
       "      <td>0.0</td>\n",
       "      <td>0.0</td>\n",
       "      <td>...</td>\n",
       "      <td>0.0</td>\n",
       "      <td>0.0</td>\n",
       "      <td>0.0</td>\n",
       "      <td>0.0</td>\n",
       "      <td>0.0</td>\n",
       "      <td>0.0</td>\n",
       "      <td>0.0</td>\n",
       "      <td>0.0</td>\n",
       "      <td>1</td>\n",
       "      <td>0.000600</td>\n",
       "    </tr>\n",
       "    <tr>\n",
       "      <th>274</th>\n",
       "      <td>0.0</td>\n",
       "      <td>0.0</td>\n",
       "      <td>0.0</td>\n",
       "      <td>0.0</td>\n",
       "      <td>0.0</td>\n",
       "      <td>0.0</td>\n",
       "      <td>0.0</td>\n",
       "      <td>0.0</td>\n",
       "      <td>0.0</td>\n",
       "      <td>0.0</td>\n",
       "      <td>...</td>\n",
       "      <td>0.0</td>\n",
       "      <td>0.0</td>\n",
       "      <td>0.0</td>\n",
       "      <td>0.0</td>\n",
       "      <td>0.0</td>\n",
       "      <td>0.0</td>\n",
       "      <td>0.0</td>\n",
       "      <td>0.0</td>\n",
       "      <td>1</td>\n",
       "      <td>0.001661</td>\n",
       "    </tr>\n",
       "    <tr>\n",
       "      <th>320</th>\n",
       "      <td>0.0</td>\n",
       "      <td>0.0</td>\n",
       "      <td>0.0</td>\n",
       "      <td>0.0</td>\n",
       "      <td>0.0</td>\n",
       "      <td>0.0</td>\n",
       "      <td>0.0</td>\n",
       "      <td>0.0</td>\n",
       "      <td>0.0</td>\n",
       "      <td>0.0</td>\n",
       "      <td>...</td>\n",
       "      <td>0.0</td>\n",
       "      <td>0.0</td>\n",
       "      <td>0.0</td>\n",
       "      <td>0.0</td>\n",
       "      <td>0.0</td>\n",
       "      <td>0.0</td>\n",
       "      <td>0.0</td>\n",
       "      <td>0.0</td>\n",
       "      <td>1</td>\n",
       "      <td>0.008185</td>\n",
       "    </tr>\n",
       "    <tr>\n",
       "      <th>366</th>\n",
       "      <td>0.0</td>\n",
       "      <td>0.0</td>\n",
       "      <td>0.0</td>\n",
       "      <td>0.0</td>\n",
       "      <td>0.0</td>\n",
       "      <td>0.0</td>\n",
       "      <td>0.0</td>\n",
       "      <td>0.0</td>\n",
       "      <td>0.0</td>\n",
       "      <td>0.0</td>\n",
       "      <td>...</td>\n",
       "      <td>0.0</td>\n",
       "      <td>0.0</td>\n",
       "      <td>0.0</td>\n",
       "      <td>0.0</td>\n",
       "      <td>0.0</td>\n",
       "      <td>0.0</td>\n",
       "      <td>0.0</td>\n",
       "      <td>0.0</td>\n",
       "      <td>1</td>\n",
       "      <td>0.000811</td>\n",
       "    </tr>\n",
       "    <tr>\n",
       "      <th>382</th>\n",
       "      <td>0.0</td>\n",
       "      <td>0.0</td>\n",
       "      <td>0.0</td>\n",
       "      <td>0.0</td>\n",
       "      <td>0.0</td>\n",
       "      <td>0.0</td>\n",
       "      <td>0.0</td>\n",
       "      <td>0.0</td>\n",
       "      <td>0.0</td>\n",
       "      <td>0.0</td>\n",
       "      <td>...</td>\n",
       "      <td>0.0</td>\n",
       "      <td>0.0</td>\n",
       "      <td>1.0</td>\n",
       "      <td>0.0</td>\n",
       "      <td>0.0</td>\n",
       "      <td>0.0</td>\n",
       "      <td>0.0</td>\n",
       "      <td>0.0</td>\n",
       "      <td>1</td>\n",
       "      <td>0.002073</td>\n",
       "    </tr>\n",
       "    <tr>\n",
       "      <th>385</th>\n",
       "      <td>0.0</td>\n",
       "      <td>0.0</td>\n",
       "      <td>0.0</td>\n",
       "      <td>0.0</td>\n",
       "      <td>0.0</td>\n",
       "      <td>0.0</td>\n",
       "      <td>0.0</td>\n",
       "      <td>0.0</td>\n",
       "      <td>0.0</td>\n",
       "      <td>0.0</td>\n",
       "      <td>...</td>\n",
       "      <td>0.0</td>\n",
       "      <td>0.0</td>\n",
       "      <td>0.0</td>\n",
       "      <td>0.0</td>\n",
       "      <td>0.0</td>\n",
       "      <td>0.0</td>\n",
       "      <td>0.0</td>\n",
       "      <td>0.0</td>\n",
       "      <td>1</td>\n",
       "      <td>0.004936</td>\n",
       "    </tr>\n",
       "    <tr>\n",
       "      <th>399</th>\n",
       "      <td>0.0</td>\n",
       "      <td>0.0</td>\n",
       "      <td>0.0</td>\n",
       "      <td>0.0</td>\n",
       "      <td>0.0</td>\n",
       "      <td>0.0</td>\n",
       "      <td>0.0</td>\n",
       "      <td>0.0</td>\n",
       "      <td>0.0</td>\n",
       "      <td>0.0</td>\n",
       "      <td>...</td>\n",
       "      <td>0.0</td>\n",
       "      <td>0.0</td>\n",
       "      <td>1.0</td>\n",
       "      <td>0.0</td>\n",
       "      <td>0.0</td>\n",
       "      <td>0.0</td>\n",
       "      <td>0.0</td>\n",
       "      <td>0.0</td>\n",
       "      <td>1</td>\n",
       "      <td>0.004340</td>\n",
       "    </tr>\n",
       "    <tr>\n",
       "      <th>437</th>\n",
       "      <td>0.0</td>\n",
       "      <td>0.0</td>\n",
       "      <td>0.0</td>\n",
       "      <td>0.0</td>\n",
       "      <td>0.0</td>\n",
       "      <td>0.0</td>\n",
       "      <td>0.0</td>\n",
       "      <td>0.0</td>\n",
       "      <td>0.0</td>\n",
       "      <td>0.0</td>\n",
       "      <td>...</td>\n",
       "      <td>0.0</td>\n",
       "      <td>0.0</td>\n",
       "      <td>0.0</td>\n",
       "      <td>0.0</td>\n",
       "      <td>0.0</td>\n",
       "      <td>0.0</td>\n",
       "      <td>0.0</td>\n",
       "      <td>9243.0</td>\n",
       "      <td>1</td>\n",
       "      <td>0.000616</td>\n",
       "    </tr>\n",
       "    <tr>\n",
       "      <th>456</th>\n",
       "      <td>0.0</td>\n",
       "      <td>0.0</td>\n",
       "      <td>0.0</td>\n",
       "      <td>0.0</td>\n",
       "      <td>0.0</td>\n",
       "      <td>0.0</td>\n",
       "      <td>0.0</td>\n",
       "      <td>0.0</td>\n",
       "      <td>0.0</td>\n",
       "      <td>0.0</td>\n",
       "      <td>...</td>\n",
       "      <td>0.0</td>\n",
       "      <td>0.0</td>\n",
       "      <td>0.0</td>\n",
       "      <td>0.0</td>\n",
       "      <td>0.0</td>\n",
       "      <td>0.0</td>\n",
       "      <td>0.0</td>\n",
       "      <td>10375.0</td>\n",
       "      <td>1</td>\n",
       "      <td>0.002367</td>\n",
       "    </tr>\n",
       "    <tr>\n",
       "      <th>457</th>\n",
       "      <td>0.0</td>\n",
       "      <td>0.0</td>\n",
       "      <td>0.0</td>\n",
       "      <td>0.0</td>\n",
       "      <td>0.0</td>\n",
       "      <td>0.0</td>\n",
       "      <td>0.0</td>\n",
       "      <td>0.0</td>\n",
       "      <td>0.0</td>\n",
       "      <td>0.0</td>\n",
       "      <td>...</td>\n",
       "      <td>0.0</td>\n",
       "      <td>0.0</td>\n",
       "      <td>0.0</td>\n",
       "      <td>0.0</td>\n",
       "      <td>0.0</td>\n",
       "      <td>0.0</td>\n",
       "      <td>0.0</td>\n",
       "      <td>21870.0</td>\n",
       "      <td>1</td>\n",
       "      <td>0.001361</td>\n",
       "    </tr>\n",
       "    <tr>\n",
       "      <th>464</th>\n",
       "      <td>0.0</td>\n",
       "      <td>0.0</td>\n",
       "      <td>0.0</td>\n",
       "      <td>0.0</td>\n",
       "      <td>0.0</td>\n",
       "      <td>0.0</td>\n",
       "      <td>0.0</td>\n",
       "      <td>0.0</td>\n",
       "      <td>0.0</td>\n",
       "      <td>0.0</td>\n",
       "      <td>...</td>\n",
       "      <td>0.0</td>\n",
       "      <td>0.0</td>\n",
       "      <td>1.0</td>\n",
       "      <td>0.0</td>\n",
       "      <td>0.0</td>\n",
       "      <td>0.0</td>\n",
       "      <td>0.0</td>\n",
       "      <td>10540.0</td>\n",
       "      <td>1</td>\n",
       "      <td>0.005011</td>\n",
       "    </tr>\n",
       "    <tr>\n",
       "      <th>556</th>\n",
       "      <td>0.0</td>\n",
       "      <td>0.0</td>\n",
       "      <td>0.0</td>\n",
       "      <td>0.0</td>\n",
       "      <td>0.0</td>\n",
       "      <td>0.0</td>\n",
       "      <td>0.0</td>\n",
       "      <td>0.0</td>\n",
       "      <td>0.0</td>\n",
       "      <td>0.0</td>\n",
       "      <td>...</td>\n",
       "      <td>0.0</td>\n",
       "      <td>0.0</td>\n",
       "      <td>0.0</td>\n",
       "      <td>0.0</td>\n",
       "      <td>0.0</td>\n",
       "      <td>0.0</td>\n",
       "      <td>0.0</td>\n",
       "      <td>6833.0</td>\n",
       "      <td>1</td>\n",
       "      <td>0.005062</td>\n",
       "    </tr>\n",
       "    <tr>\n",
       "      <th>579</th>\n",
       "      <td>0.0</td>\n",
       "      <td>0.0</td>\n",
       "      <td>0.0</td>\n",
       "      <td>0.0</td>\n",
       "      <td>0.0</td>\n",
       "      <td>0.0</td>\n",
       "      <td>0.0</td>\n",
       "      <td>0.0</td>\n",
       "      <td>0.0</td>\n",
       "      <td>0.0</td>\n",
       "      <td>...</td>\n",
       "      <td>0.0</td>\n",
       "      <td>0.0</td>\n",
       "      <td>0.0</td>\n",
       "      <td>0.0</td>\n",
       "      <td>0.0</td>\n",
       "      <td>0.0</td>\n",
       "      <td>0.0</td>\n",
       "      <td>4275.0</td>\n",
       "      <td>1</td>\n",
       "      <td>0.004426</td>\n",
       "    </tr>\n",
       "    <tr>\n",
       "      <th>590</th>\n",
       "      <td>0.0</td>\n",
       "      <td>0.0</td>\n",
       "      <td>0.0</td>\n",
       "      <td>0.0</td>\n",
       "      <td>0.0</td>\n",
       "      <td>0.0</td>\n",
       "      <td>0.0</td>\n",
       "      <td>0.0</td>\n",
       "      <td>0.0</td>\n",
       "      <td>0.0</td>\n",
       "      <td>...</td>\n",
       "      <td>0.0</td>\n",
       "      <td>0.0</td>\n",
       "      <td>0.0</td>\n",
       "      <td>0.0</td>\n",
       "      <td>0.0</td>\n",
       "      <td>0.0</td>\n",
       "      <td>0.0</td>\n",
       "      <td>7028.0</td>\n",
       "      <td>1</td>\n",
       "      <td>0.001796</td>\n",
       "    </tr>\n",
       "    <tr>\n",
       "      <th>595</th>\n",
       "      <td>0.0</td>\n",
       "      <td>0.0</td>\n",
       "      <td>0.0</td>\n",
       "      <td>0.0</td>\n",
       "      <td>0.0</td>\n",
       "      <td>0.0</td>\n",
       "      <td>0.0</td>\n",
       "      <td>0.0</td>\n",
       "      <td>0.0</td>\n",
       "      <td>0.0</td>\n",
       "      <td>...</td>\n",
       "      <td>0.0</td>\n",
       "      <td>0.0</td>\n",
       "      <td>0.0</td>\n",
       "      <td>0.0</td>\n",
       "      <td>0.0</td>\n",
       "      <td>0.0</td>\n",
       "      <td>0.0</td>\n",
       "      <td>9185.0</td>\n",
       "      <td>1</td>\n",
       "      <td>0.011820</td>\n",
       "    </tr>\n",
       "    <tr>\n",
       "      <th>628</th>\n",
       "      <td>0.0</td>\n",
       "      <td>0.0</td>\n",
       "      <td>0.0</td>\n",
       "      <td>0.0</td>\n",
       "      <td>0.0</td>\n",
       "      <td>0.0</td>\n",
       "      <td>0.0</td>\n",
       "      <td>0.0</td>\n",
       "      <td>0.0</td>\n",
       "      <td>0.0</td>\n",
       "      <td>...</td>\n",
       "      <td>0.0</td>\n",
       "      <td>0.0</td>\n",
       "      <td>0.0</td>\n",
       "      <td>0.0</td>\n",
       "      <td>0.0</td>\n",
       "      <td>0.0</td>\n",
       "      <td>0.0</td>\n",
       "      <td>6284.0</td>\n",
       "      <td>1</td>\n",
       "      <td>0.001254</td>\n",
       "    </tr>\n",
       "    <tr>\n",
       "      <th>647</th>\n",
       "      <td>0.0</td>\n",
       "      <td>0.0</td>\n",
       "      <td>0.0</td>\n",
       "      <td>0.0</td>\n",
       "      <td>0.0</td>\n",
       "      <td>0.0</td>\n",
       "      <td>0.0</td>\n",
       "      <td>0.0</td>\n",
       "      <td>0.0</td>\n",
       "      <td>0.0</td>\n",
       "      <td>...</td>\n",
       "      <td>0.0</td>\n",
       "      <td>0.0</td>\n",
       "      <td>0.0</td>\n",
       "      <td>0.0</td>\n",
       "      <td>0.0</td>\n",
       "      <td>0.0</td>\n",
       "      <td>0.0</td>\n",
       "      <td>8598.0</td>\n",
       "      <td>1</td>\n",
       "      <td>0.000010</td>\n",
       "    </tr>\n",
       "    <tr>\n",
       "      <th>717</th>\n",
       "      <td>0.0</td>\n",
       "      <td>0.0</td>\n",
       "      <td>0.0</td>\n",
       "      <td>0.0</td>\n",
       "      <td>0.0</td>\n",
       "      <td>0.0</td>\n",
       "      <td>0.0</td>\n",
       "      <td>0.0</td>\n",
       "      <td>0.0</td>\n",
       "      <td>0.0</td>\n",
       "      <td>...</td>\n",
       "      <td>0.0</td>\n",
       "      <td>0.0</td>\n",
       "      <td>0.0</td>\n",
       "      <td>0.0</td>\n",
       "      <td>0.0</td>\n",
       "      <td>0.0</td>\n",
       "      <td>0.0</td>\n",
       "      <td>5451.0</td>\n",
       "      <td>1</td>\n",
       "      <td>0.001761</td>\n",
       "    </tr>\n",
       "    <tr>\n",
       "      <th>718</th>\n",
       "      <td>0.0</td>\n",
       "      <td>0.0</td>\n",
       "      <td>0.0</td>\n",
       "      <td>0.0</td>\n",
       "      <td>0.0</td>\n",
       "      <td>0.0</td>\n",
       "      <td>0.0</td>\n",
       "      <td>0.0</td>\n",
       "      <td>0.0</td>\n",
       "      <td>0.0</td>\n",
       "      <td>...</td>\n",
       "      <td>0.0</td>\n",
       "      <td>0.0</td>\n",
       "      <td>0.0</td>\n",
       "      <td>0.0</td>\n",
       "      <td>0.0</td>\n",
       "      <td>0.0</td>\n",
       "      <td>0.0</td>\n",
       "      <td>2899.0</td>\n",
       "      <td>1</td>\n",
       "      <td>0.001968</td>\n",
       "    </tr>\n",
       "    <tr>\n",
       "      <th>719</th>\n",
       "      <td>0.0</td>\n",
       "      <td>0.0</td>\n",
       "      <td>0.0</td>\n",
       "      <td>0.0</td>\n",
       "      <td>0.0</td>\n",
       "      <td>0.0</td>\n",
       "      <td>0.0</td>\n",
       "      <td>0.0</td>\n",
       "      <td>0.0</td>\n",
       "      <td>0.0</td>\n",
       "      <td>...</td>\n",
       "      <td>0.0</td>\n",
       "      <td>0.0</td>\n",
       "      <td>0.0</td>\n",
       "      <td>0.0</td>\n",
       "      <td>0.0</td>\n",
       "      <td>0.0</td>\n",
       "      <td>0.0</td>\n",
       "      <td>1552.0</td>\n",
       "      <td>1</td>\n",
       "      <td>0.002130</td>\n",
       "    </tr>\n",
       "    <tr>\n",
       "      <th>761</th>\n",
       "      <td>0.0</td>\n",
       "      <td>0.0</td>\n",
       "      <td>0.0</td>\n",
       "      <td>0.0</td>\n",
       "      <td>0.0</td>\n",
       "      <td>0.0</td>\n",
       "      <td>0.0</td>\n",
       "      <td>0.0</td>\n",
       "      <td>0.0</td>\n",
       "      <td>0.0</td>\n",
       "      <td>...</td>\n",
       "      <td>0.0</td>\n",
       "      <td>0.0</td>\n",
       "      <td>0.0</td>\n",
       "      <td>0.0</td>\n",
       "      <td>0.0</td>\n",
       "      <td>0.0</td>\n",
       "      <td>0.0</td>\n",
       "      <td>5242.0</td>\n",
       "      <td>1</td>\n",
       "      <td>0.000420</td>\n",
       "    </tr>\n",
       "    <tr>\n",
       "      <th>778</th>\n",
       "      <td>0.0</td>\n",
       "      <td>0.0</td>\n",
       "      <td>0.0</td>\n",
       "      <td>0.0</td>\n",
       "      <td>0.0</td>\n",
       "      <td>0.0</td>\n",
       "      <td>0.0</td>\n",
       "      <td>0.0</td>\n",
       "      <td>0.0</td>\n",
       "      <td>0.0</td>\n",
       "      <td>...</td>\n",
       "      <td>0.0</td>\n",
       "      <td>0.0</td>\n",
       "      <td>0.0</td>\n",
       "      <td>0.0</td>\n",
       "      <td>0.0</td>\n",
       "      <td>0.0</td>\n",
       "      <td>0.0</td>\n",
       "      <td>5314.0</td>\n",
       "      <td>1</td>\n",
       "      <td>0.000888</td>\n",
       "    </tr>\n",
       "    <tr>\n",
       "      <th>821</th>\n",
       "      <td>0.0</td>\n",
       "      <td>0.0</td>\n",
       "      <td>0.0</td>\n",
       "      <td>0.0</td>\n",
       "      <td>0.0</td>\n",
       "      <td>0.0</td>\n",
       "      <td>0.0</td>\n",
       "      <td>0.0</td>\n",
       "      <td>0.0</td>\n",
       "      <td>0.0</td>\n",
       "      <td>...</td>\n",
       "      <td>0.0</td>\n",
       "      <td>0.0</td>\n",
       "      <td>0.0</td>\n",
       "      <td>0.0</td>\n",
       "      <td>0.0</td>\n",
       "      <td>0.0</td>\n",
       "      <td>0.0</td>\n",
       "      <td>0.0</td>\n",
       "      <td>1</td>\n",
       "      <td>0.004213</td>\n",
       "    </tr>\n",
       "    <tr>\n",
       "      <th>849</th>\n",
       "      <td>0.0</td>\n",
       "      <td>0.0</td>\n",
       "      <td>0.0</td>\n",
       "      <td>0.0</td>\n",
       "      <td>0.0</td>\n",
       "      <td>0.0</td>\n",
       "      <td>0.0</td>\n",
       "      <td>0.0</td>\n",
       "      <td>0.0</td>\n",
       "      <td>0.0</td>\n",
       "      <td>...</td>\n",
       "      <td>0.0</td>\n",
       "      <td>0.0</td>\n",
       "      <td>0.0</td>\n",
       "      <td>0.0</td>\n",
       "      <td>0.0</td>\n",
       "      <td>0.0</td>\n",
       "      <td>0.0</td>\n",
       "      <td>6224.0</td>\n",
       "      <td>1</td>\n",
       "      <td>0.002556</td>\n",
       "    </tr>\n",
       "    <tr>\n",
       "      <th>858</th>\n",
       "      <td>0.0</td>\n",
       "      <td>0.0</td>\n",
       "      <td>0.0</td>\n",
       "      <td>0.0</td>\n",
       "      <td>0.0</td>\n",
       "      <td>0.0</td>\n",
       "      <td>0.0</td>\n",
       "      <td>0.0</td>\n",
       "      <td>0.0</td>\n",
       "      <td>0.0</td>\n",
       "      <td>...</td>\n",
       "      <td>0.0</td>\n",
       "      <td>0.0</td>\n",
       "      <td>0.0</td>\n",
       "      <td>0.0</td>\n",
       "      <td>0.0</td>\n",
       "      <td>0.0</td>\n",
       "      <td>0.0</td>\n",
       "      <td>4454.0</td>\n",
       "      <td>1</td>\n",
       "      <td>0.001358</td>\n",
       "    </tr>\n",
       "  </tbody>\n",
       "</table>\n",
       "<p>45 rows × 2106 columns</p>\n",
       "</div>"
      ],
      "text/plain": [
       "     Start_2014-12-29 22:57:49  Start_2014-12-30 21:17:50  \\\n",
       "29                         0.0                        0.0   \n",
       "35                         0.0                        0.0   \n",
       "38                         0.0                        0.0   \n",
       "43                         0.0                        0.0   \n",
       "76                         0.0                        0.0   \n",
       "81                         0.0                        0.0   \n",
       "121                        0.0                        0.0   \n",
       "125                        0.0                        0.0   \n",
       "130                        0.0                        0.0   \n",
       "133                        0.0                        0.0   \n",
       "135                        0.0                        0.0   \n",
       "139                        0.0                        0.0   \n",
       "159                        0.0                        0.0   \n",
       "177                        0.0                        0.0   \n",
       "194                        0.0                        0.0   \n",
       "195                        0.0                        0.0   \n",
       "205                        0.0                        0.0   \n",
       "222                        0.0                        0.0   \n",
       "260                        0.0                        0.0   \n",
       "263                        0.0                        0.0   \n",
       "267                        0.0                        0.0   \n",
       "274                        0.0                        0.0   \n",
       "320                        0.0                        0.0   \n",
       "366                        0.0                        0.0   \n",
       "382                        0.0                        0.0   \n",
       "385                        0.0                        0.0   \n",
       "399                        0.0                        0.0   \n",
       "437                        0.0                        0.0   \n",
       "456                        0.0                        0.0   \n",
       "457                        0.0                        0.0   \n",
       "464                        0.0                        0.0   \n",
       "556                        0.0                        0.0   \n",
       "579                        0.0                        0.0   \n",
       "590                        0.0                        0.0   \n",
       "595                        0.0                        0.0   \n",
       "628                        0.0                        0.0   \n",
       "647                        0.0                        0.0   \n",
       "717                        0.0                        0.0   \n",
       "718                        0.0                        0.0   \n",
       "719                        0.0                        0.0   \n",
       "761                        0.0                        0.0   \n",
       "778                        0.0                        0.0   \n",
       "821                        0.0                        0.0   \n",
       "849                        0.0                        0.0   \n",
       "858                        0.0                        0.0   \n",
       "\n",
       "     Start_2014-12-30 22:42:49  Start_2014-12-31 22:31:01  \\\n",
       "29                         0.0                        0.0   \n",
       "35                         0.0                        0.0   \n",
       "38                         0.0                        0.0   \n",
       "43                         0.0                        0.0   \n",
       "76                         0.0                        0.0   \n",
       "81                         0.0                        0.0   \n",
       "121                        0.0                        0.0   \n",
       "125                        0.0                        0.0   \n",
       "130                        0.0                        0.0   \n",
       "133                        0.0                        0.0   \n",
       "135                        0.0                        0.0   \n",
       "139                        0.0                        0.0   \n",
       "159                        0.0                        0.0   \n",
       "177                        0.0                        0.0   \n",
       "194                        0.0                        0.0   \n",
       "195                        0.0                        0.0   \n",
       "205                        0.0                        0.0   \n",
       "222                        0.0                        0.0   \n",
       "260                        0.0                        0.0   \n",
       "263                        0.0                        0.0   \n",
       "267                        0.0                        0.0   \n",
       "274                        0.0                        0.0   \n",
       "320                        0.0                        0.0   \n",
       "366                        0.0                        0.0   \n",
       "382                        0.0                        0.0   \n",
       "385                        0.0                        0.0   \n",
       "399                        0.0                        0.0   \n",
       "437                        0.0                        0.0   \n",
       "456                        0.0                        0.0   \n",
       "457                        0.0                        0.0   \n",
       "464                        0.0                        0.0   \n",
       "556                        0.0                        0.0   \n",
       "579                        0.0                        0.0   \n",
       "590                        0.0                        0.0   \n",
       "595                        0.0                        0.0   \n",
       "628                        0.0                        0.0   \n",
       "647                        0.0                        0.0   \n",
       "717                        0.0                        0.0   \n",
       "718                        0.0                        0.0   \n",
       "719                        0.0                        0.0   \n",
       "761                        0.0                        0.0   \n",
       "778                        0.0                        0.0   \n",
       "821                        0.0                        0.0   \n",
       "849                        0.0                        0.0   \n",
       "858                        0.0                        0.0   \n",
       "\n",
       "     Start_2015-01-01 22:12:10  Start_2015-01-03 00:34:57  \\\n",
       "29                         0.0                        0.0   \n",
       "35                         0.0                        0.0   \n",
       "38                         0.0                        0.0   \n",
       "43                         0.0                        0.0   \n",
       "76                         0.0                        0.0   \n",
       "81                         0.0                        0.0   \n",
       "121                        0.0                        0.0   \n",
       "125                        0.0                        0.0   \n",
       "130                        0.0                        0.0   \n",
       "133                        0.0                        0.0   \n",
       "135                        0.0                        0.0   \n",
       "139                        0.0                        0.0   \n",
       "159                        0.0                        0.0   \n",
       "177                        0.0                        0.0   \n",
       "194                        0.0                        0.0   \n",
       "195                        0.0                        0.0   \n",
       "205                        0.0                        0.0   \n",
       "222                        0.0                        0.0   \n",
       "260                        0.0                        0.0   \n",
       "263                        0.0                        0.0   \n",
       "267                        0.0                        0.0   \n",
       "274                        0.0                        0.0   \n",
       "320                        0.0                        0.0   \n",
       "366                        0.0                        0.0   \n",
       "382                        0.0                        0.0   \n",
       "385                        0.0                        0.0   \n",
       "399                        0.0                        0.0   \n",
       "437                        0.0                        0.0   \n",
       "456                        0.0                        0.0   \n",
       "457                        0.0                        0.0   \n",
       "464                        0.0                        0.0   \n",
       "556                        0.0                        0.0   \n",
       "579                        0.0                        0.0   \n",
       "590                        0.0                        0.0   \n",
       "595                        0.0                        0.0   \n",
       "628                        0.0                        0.0   \n",
       "647                        0.0                        0.0   \n",
       "717                        0.0                        0.0   \n",
       "718                        0.0                        0.0   \n",
       "719                        0.0                        0.0   \n",
       "761                        0.0                        0.0   \n",
       "778                        0.0                        0.0   \n",
       "821                        0.0                        0.0   \n",
       "849                        0.0                        0.0   \n",
       "858                        0.0                        0.0   \n",
       "\n",
       "     Start_2015-01-04 00:23:06  Start_2015-01-04 21:34:44  \\\n",
       "29                         0.0                        0.0   \n",
       "35                         0.0                        0.0   \n",
       "38                         0.0                        0.0   \n",
       "43                         0.0                        0.0   \n",
       "76                         0.0                        0.0   \n",
       "81                         0.0                        0.0   \n",
       "121                        0.0                        0.0   \n",
       "125                        0.0                        0.0   \n",
       "130                        0.0                        0.0   \n",
       "133                        0.0                        0.0   \n",
       "135                        0.0                        0.0   \n",
       "139                        0.0                        0.0   \n",
       "159                        0.0                        0.0   \n",
       "177                        0.0                        0.0   \n",
       "194                        0.0                        0.0   \n",
       "195                        0.0                        0.0   \n",
       "205                        0.0                        0.0   \n",
       "222                        0.0                        0.0   \n",
       "260                        0.0                        0.0   \n",
       "263                        0.0                        0.0   \n",
       "267                        0.0                        0.0   \n",
       "274                        0.0                        0.0   \n",
       "320                        0.0                        0.0   \n",
       "366                        0.0                        0.0   \n",
       "382                        0.0                        0.0   \n",
       "385                        0.0                        0.0   \n",
       "399                        0.0                        0.0   \n",
       "437                        0.0                        0.0   \n",
       "456                        0.0                        0.0   \n",
       "457                        0.0                        0.0   \n",
       "464                        0.0                        0.0   \n",
       "556                        0.0                        0.0   \n",
       "579                        0.0                        0.0   \n",
       "590                        0.0                        0.0   \n",
       "595                        0.0                        0.0   \n",
       "628                        0.0                        0.0   \n",
       "647                        0.0                        0.0   \n",
       "717                        0.0                        0.0   \n",
       "718                        0.0                        0.0   \n",
       "719                        0.0                        0.0   \n",
       "761                        0.0                        0.0   \n",
       "778                        0.0                        0.0   \n",
       "821                        0.0                        0.0   \n",
       "849                        0.0                        0.0   \n",
       "858                        0.0                        0.0   \n",
       "\n",
       "     Start_2015-01-05 21:32:25  Start_2015-01-06 21:24:56  ...  \\\n",
       "29                         0.0                        0.0  ...   \n",
       "35                         0.0                        0.0  ...   \n",
       "38                         0.0                        0.0  ...   \n",
       "43                         0.0                        0.0  ...   \n",
       "76                         0.0                        0.0  ...   \n",
       "81                         0.0                        0.0  ...   \n",
       "121                        0.0                        0.0  ...   \n",
       "125                        0.0                        0.0  ...   \n",
       "130                        0.0                        0.0  ...   \n",
       "133                        0.0                        0.0  ...   \n",
       "135                        0.0                        0.0  ...   \n",
       "139                        0.0                        0.0  ...   \n",
       "159                        0.0                        0.0  ...   \n",
       "177                        0.0                        0.0  ...   \n",
       "194                        0.0                        0.0  ...   \n",
       "195                        0.0                        0.0  ...   \n",
       "205                        0.0                        0.0  ...   \n",
       "222                        0.0                        0.0  ...   \n",
       "260                        0.0                        0.0  ...   \n",
       "263                        0.0                        0.0  ...   \n",
       "267                        0.0                        0.0  ...   \n",
       "274                        0.0                        0.0  ...   \n",
       "320                        0.0                        0.0  ...   \n",
       "366                        0.0                        0.0  ...   \n",
       "382                        0.0                        0.0  ...   \n",
       "385                        0.0                        0.0  ...   \n",
       "399                        0.0                        0.0  ...   \n",
       "437                        0.0                        0.0  ...   \n",
       "456                        0.0                        0.0  ...   \n",
       "457                        0.0                        0.0  ...   \n",
       "464                        0.0                        0.0  ...   \n",
       "556                        0.0                        0.0  ...   \n",
       "579                        0.0                        0.0  ...   \n",
       "590                        0.0                        0.0  ...   \n",
       "595                        0.0                        0.0  ...   \n",
       "628                        0.0                        0.0  ...   \n",
       "647                        0.0                        0.0  ...   \n",
       "717                        0.0                        0.0  ...   \n",
       "718                        0.0                        0.0  ...   \n",
       "719                        0.0                        0.0  ...   \n",
       "761                        0.0                        0.0  ...   \n",
       "778                        0.0                        0.0  ...   \n",
       "821                        0.0                        0.0  ...   \n",
       "849                        0.0                        0.0  ...   \n",
       "858                        0.0                        0.0  ...   \n",
       "\n",
       "     Sleep Notes_Drank tea:Stressful day  \\\n",
       "29                                   0.0   \n",
       "35                                   0.0   \n",
       "38                                   0.0   \n",
       "43                                   0.0   \n",
       "76                                   0.0   \n",
       "81                                   0.0   \n",
       "121                                  0.0   \n",
       "125                                  0.0   \n",
       "130                                  0.0   \n",
       "133                                  0.0   \n",
       "135                                  0.0   \n",
       "139                                  0.0   \n",
       "159                                  0.0   \n",
       "177                                  0.0   \n",
       "194                                  0.0   \n",
       "195                                  0.0   \n",
       "205                                  0.0   \n",
       "222                                  0.0   \n",
       "260                                  0.0   \n",
       "263                                  0.0   \n",
       "267                                  0.0   \n",
       "274                                  0.0   \n",
       "320                                  0.0   \n",
       "366                                  0.0   \n",
       "382                                  0.0   \n",
       "385                                  0.0   \n",
       "399                                  0.0   \n",
       "437                                  0.0   \n",
       "456                                  0.0   \n",
       "457                                  0.0   \n",
       "464                                  0.0   \n",
       "556                                  0.0   \n",
       "579                                  0.0   \n",
       "590                                  0.0   \n",
       "595                                  0.0   \n",
       "628                                  0.0   \n",
       "647                                  0.0   \n",
       "717                                  0.0   \n",
       "718                                  0.0   \n",
       "719                                  0.0   \n",
       "761                                  0.0   \n",
       "778                                  0.0   \n",
       "821                                  0.0   \n",
       "849                                  0.0   \n",
       "858                                  0.0   \n",
       "\n",
       "     Sleep Notes_Drank tea:Stressful day:Worked out  \\\n",
       "29                                              0.0   \n",
       "35                                              0.0   \n",
       "38                                              0.0   \n",
       "43                                              0.0   \n",
       "76                                              0.0   \n",
       "81                                              0.0   \n",
       "121                                             0.0   \n",
       "125                                             0.0   \n",
       "130                                             0.0   \n",
       "133                                             0.0   \n",
       "135                                             0.0   \n",
       "139                                             0.0   \n",
       "159                                             0.0   \n",
       "177                                             0.0   \n",
       "194                                             0.0   \n",
       "195                                             0.0   \n",
       "205                                             0.0   \n",
       "222                                             0.0   \n",
       "260                                             0.0   \n",
       "263                                             0.0   \n",
       "267                                             0.0   \n",
       "274                                             0.0   \n",
       "320                                             0.0   \n",
       "366                                             0.0   \n",
       "382                                             0.0   \n",
       "385                                             0.0   \n",
       "399                                             0.0   \n",
       "437                                             0.0   \n",
       "456                                             0.0   \n",
       "457                                             0.0   \n",
       "464                                             0.0   \n",
       "556                                             0.0   \n",
       "579                                             0.0   \n",
       "590                                             0.0   \n",
       "595                                             0.0   \n",
       "628                                             0.0   \n",
       "647                                             0.0   \n",
       "717                                             0.0   \n",
       "718                                             0.0   \n",
       "719                                             0.0   \n",
       "761                                             0.0   \n",
       "778                                             0.0   \n",
       "821                                             0.0   \n",
       "849                                             0.0   \n",
       "858                                             0.0   \n",
       "\n",
       "     Sleep Notes_Drank coffee:Stressful day:Worked out  \\\n",
       "29                                                 0.0   \n",
       "35                                                 0.0   \n",
       "38                                                 0.0   \n",
       "43                                                 0.0   \n",
       "76                                                 0.0   \n",
       "81                                                 0.0   \n",
       "121                                                0.0   \n",
       "125                                                1.0   \n",
       "130                                                1.0   \n",
       "133                                                0.0   \n",
       "135                                                0.0   \n",
       "139                                                1.0   \n",
       "159                                                0.0   \n",
       "177                                                0.0   \n",
       "194                                                0.0   \n",
       "195                                                0.0   \n",
       "205                                                0.0   \n",
       "222                                                0.0   \n",
       "260                                                0.0   \n",
       "263                                                1.0   \n",
       "267                                                0.0   \n",
       "274                                                0.0   \n",
       "320                                                0.0   \n",
       "366                                                0.0   \n",
       "382                                                1.0   \n",
       "385                                                0.0   \n",
       "399                                                1.0   \n",
       "437                                                0.0   \n",
       "456                                                0.0   \n",
       "457                                                0.0   \n",
       "464                                                1.0   \n",
       "556                                                0.0   \n",
       "579                                                0.0   \n",
       "590                                                0.0   \n",
       "595                                                0.0   \n",
       "628                                                0.0   \n",
       "647                                                0.0   \n",
       "717                                                0.0   \n",
       "718                                                0.0   \n",
       "719                                                0.0   \n",
       "761                                                0.0   \n",
       "778                                                0.0   \n",
       "821                                                0.0   \n",
       "849                                                0.0   \n",
       "858                                                0.0   \n",
       "\n",
       "     Sleep Notes_Drank coffee:Stressful day  \\\n",
       "29                                      0.0   \n",
       "35                                      0.0   \n",
       "38                                      0.0   \n",
       "43                                      0.0   \n",
       "76                                      0.0   \n",
       "81                                      0.0   \n",
       "121                                     0.0   \n",
       "125                                     0.0   \n",
       "130                                     0.0   \n",
       "133                                     0.0   \n",
       "135                                     0.0   \n",
       "139                                     0.0   \n",
       "159                                     0.0   \n",
       "177                                     0.0   \n",
       "194                                     0.0   \n",
       "195                                     0.0   \n",
       "205                                     0.0   \n",
       "222                                     0.0   \n",
       "260                                     0.0   \n",
       "263                                     0.0   \n",
       "267                                     0.0   \n",
       "274                                     0.0   \n",
       "320                                     0.0   \n",
       "366                                     0.0   \n",
       "382                                     0.0   \n",
       "385                                     0.0   \n",
       "399                                     0.0   \n",
       "437                                     0.0   \n",
       "456                                     0.0   \n",
       "457                                     0.0   \n",
       "464                                     0.0   \n",
       "556                                     0.0   \n",
       "579                                     0.0   \n",
       "590                                     0.0   \n",
       "595                                     0.0   \n",
       "628                                     0.0   \n",
       "647                                     0.0   \n",
       "717                                     0.0   \n",
       "718                                     0.0   \n",
       "719                                     0.0   \n",
       "761                                     0.0   \n",
       "778                                     0.0   \n",
       "821                                     0.0   \n",
       "849                                     0.0   \n",
       "858                                     0.0   \n",
       "\n",
       "     Sleep Notes_Ate late:Drank coffee:Drank tea:Stressful day  \\\n",
       "29                                                 0.0           \n",
       "35                                                 0.0           \n",
       "38                                                 0.0           \n",
       "43                                                 0.0           \n",
       "76                                                 0.0           \n",
       "81                                                 0.0           \n",
       "121                                                0.0           \n",
       "125                                                0.0           \n",
       "130                                                0.0           \n",
       "133                                                0.0           \n",
       "135                                                0.0           \n",
       "139                                                0.0           \n",
       "159                                                0.0           \n",
       "177                                                0.0           \n",
       "194                                                0.0           \n",
       "195                                                0.0           \n",
       "205                                                0.0           \n",
       "222                                                0.0           \n",
       "260                                                0.0           \n",
       "263                                                0.0           \n",
       "267                                                0.0           \n",
       "274                                                0.0           \n",
       "320                                                0.0           \n",
       "366                                                0.0           \n",
       "382                                                0.0           \n",
       "385                                                0.0           \n",
       "399                                                0.0           \n",
       "437                                                0.0           \n",
       "456                                                0.0           \n",
       "457                                                0.0           \n",
       "464                                                0.0           \n",
       "556                                                0.0           \n",
       "579                                                0.0           \n",
       "590                                                0.0           \n",
       "595                                                0.0           \n",
       "628                                                0.0           \n",
       "647                                                0.0           \n",
       "717                                                0.0           \n",
       "718                                                0.0           \n",
       "719                                                0.0           \n",
       "761                                                0.0           \n",
       "778                                                0.0           \n",
       "821                                                0.0           \n",
       "849                                                0.0           \n",
       "858                                                0.0           \n",
       "\n",
       "     Sleep Notes_Worked out  Sleep Notes_Ate late:Drank coffee:Worked out  \\\n",
       "29                      0.0                                           0.0   \n",
       "35                      0.0                                           0.0   \n",
       "38                      0.0                                           0.0   \n",
       "43                      0.0                                           0.0   \n",
       "76                      0.0                                           0.0   \n",
       "81                      0.0                                           0.0   \n",
       "121                     0.0                                           0.0   \n",
       "125                     0.0                                           0.0   \n",
       "130                     0.0                                           0.0   \n",
       "133                     0.0                                           0.0   \n",
       "135                     0.0                                           0.0   \n",
       "139                     0.0                                           0.0   \n",
       "159                     0.0                                           0.0   \n",
       "177                     0.0                                           0.0   \n",
       "194                     0.0                                           0.0   \n",
       "195                     0.0                                           0.0   \n",
       "205                     0.0                                           0.0   \n",
       "222                     0.0                                           0.0   \n",
       "260                     0.0                                           0.0   \n",
       "263                     0.0                                           0.0   \n",
       "267                     0.0                                           0.0   \n",
       "274                     0.0                                           0.0   \n",
       "320                     0.0                                           0.0   \n",
       "366                     0.0                                           0.0   \n",
       "382                     0.0                                           0.0   \n",
       "385                     0.0                                           0.0   \n",
       "399                     0.0                                           0.0   \n",
       "437                     0.0                                           0.0   \n",
       "456                     0.0                                           0.0   \n",
       "457                     0.0                                           0.0   \n",
       "464                     0.0                                           0.0   \n",
       "556                     0.0                                           0.0   \n",
       "579                     0.0                                           0.0   \n",
       "590                     0.0                                           0.0   \n",
       "595                     0.0                                           0.0   \n",
       "628                     0.0                                           0.0   \n",
       "647                     0.0                                           0.0   \n",
       "717                     0.0                                           0.0   \n",
       "718                     0.0                                           0.0   \n",
       "719                     0.0                                           0.0   \n",
       "761                     0.0                                           0.0   \n",
       "778                     0.0                                           0.0   \n",
       "821                     0.0                                           0.0   \n",
       "849                     0.0                                           0.0   \n",
       "858                     0.0                                           0.0   \n",
       "\n",
       "     Activity (steps)  Anomaly  Anomaly_Score  \n",
       "29                0.0        1       0.008175  \n",
       "35                0.0        1       0.002967  \n",
       "38                0.0        1       0.006749  \n",
       "43                0.0        1       0.001528  \n",
       "76                0.0        1       0.001206  \n",
       "81                0.0        1       0.001262  \n",
       "121               0.0        1       0.000148  \n",
       "125               0.0        1       0.000666  \n",
       "130               0.0        1       0.001542  \n",
       "133               0.0        1       0.002406  \n",
       "135               0.0        1       0.001315  \n",
       "139               0.0        1       0.003956  \n",
       "159               0.0        1       0.000565  \n",
       "177               0.0        1       0.000375  \n",
       "194               0.0        1       0.003866  \n",
       "195               0.0        1       0.000042  \n",
       "205               0.0        1       0.005524  \n",
       "222               0.0        1       0.000986  \n",
       "260               0.0        1       0.000555  \n",
       "263               0.0        1       0.000390  \n",
       "267               0.0        1       0.000600  \n",
       "274               0.0        1       0.001661  \n",
       "320               0.0        1       0.008185  \n",
       "366               0.0        1       0.000811  \n",
       "382               0.0        1       0.002073  \n",
       "385               0.0        1       0.004936  \n",
       "399               0.0        1       0.004340  \n",
       "437            9243.0        1       0.000616  \n",
       "456           10375.0        1       0.002367  \n",
       "457           21870.0        1       0.001361  \n",
       "464           10540.0        1       0.005011  \n",
       "556            6833.0        1       0.005062  \n",
       "579            4275.0        1       0.004426  \n",
       "590            7028.0        1       0.001796  \n",
       "595            9185.0        1       0.011820  \n",
       "628            6284.0        1       0.001254  \n",
       "647            8598.0        1       0.000010  \n",
       "717            5451.0        1       0.001761  \n",
       "718            2899.0        1       0.001968  \n",
       "719            1552.0        1       0.002130  \n",
       "761            5242.0        1       0.000420  \n",
       "778            5314.0        1       0.000888  \n",
       "821               0.0        1       0.004213  \n",
       "849            6224.0        1       0.002556  \n",
       "858            4454.0        1       0.001358  \n",
       "\n",
       "[45 rows x 2106 columns]"
      ]
     },
     "execution_count": 15,
     "metadata": {},
     "output_type": "execute_result"
    }
   ],
   "source": [
    "# Predict model\n",
    "predictions = s.predict_model(iforest, data = df)\n",
    "\n",
    "predictions[predictions[\"Anomaly\"] == 1]"
   ]
  },
  {
   "cell_type": "code",
   "execution_count": null,
   "metadata": {},
   "outputs": [],
   "source": []
  }
 ],
 "metadata": {
  "kernelspec": {
   "display_name": "Python 3",
   "language": "python",
   "name": "python3"
  },
  "language_info": {
   "codemirror_mode": {
    "name": "ipython",
    "version": 3
   },
   "file_extension": ".py",
   "mimetype": "text/x-python",
   "name": "python",
   "nbconvert_exporter": "python",
   "pygments_lexer": "ipython3",
   "version": "3.8.17"
  },
  "orig_nbformat": 4
 },
 "nbformat": 4,
 "nbformat_minor": 2
}

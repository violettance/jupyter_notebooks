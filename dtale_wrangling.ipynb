{
 "cells": [
  {
   "cell_type": "markdown",
   "id": "099f6f6e",
   "metadata": {},
   "source": [
    "## Package Installation"
   ]
  },
  {
   "cell_type": "code",
   "execution_count": 1,
   "id": "51ca7dfa",
   "metadata": {
    "scrolled": true
   },
   "outputs": [
    {
     "name": "stdout",
     "output_type": "stream",
     "text": [
      "Requirement already satisfied: dtale in /Users/iremkurt/anaconda3/lib/python3.11/site-packages (3.2.0)\n",
      "Requirement already satisfied: dash-colorscales in /Users/iremkurt/anaconda3/lib/python3.11/site-packages (from dtale) (0.0.4)\n",
      "Requirement already satisfied: dash-daq in /Users/iremkurt/anaconda3/lib/python3.11/site-packages (from dtale) (0.5.0)\n",
      "Requirement already satisfied: Flask-Compress in /Users/iremkurt/anaconda3/lib/python3.11/site-packages (from dtale) (1.13)\n",
      "Requirement already satisfied: future>=0.14.0 in /Users/iremkurt/anaconda3/lib/python3.11/site-packages (from dtale) (0.18.3)\n",
      "Requirement already satisfied: kaleido in /Users/iremkurt/anaconda3/lib/python3.11/site-packages (from dtale) (0.2.1)\n",
      "Requirement already satisfied: missingno<=0.4.2 in /Users/iremkurt/anaconda3/lib/python3.11/site-packages (from dtale) (0.4.2)\n",
      "Requirement already satisfied: pandas in /Users/iremkurt/anaconda3/lib/python3.11/site-packages (from dtale) (1.5.3)\n",
      "Requirement already satisfied: squarify in /Users/iremkurt/anaconda3/lib/python3.11/site-packages (from dtale) (0.4.3)\n",
      "Requirement already satisfied: strsimpy in /Users/iremkurt/anaconda3/lib/python3.11/site-packages (from dtale) (0.2.1)\n",
      "Requirement already satisfied: six in /Users/iremkurt/anaconda3/lib/python3.11/site-packages (from dtale) (1.16.0)\n",
      "Requirement already satisfied: xlrd in /Users/iremkurt/anaconda3/lib/python3.11/site-packages (from dtale) (2.0.1)\n",
      "Requirement already satisfied: beautifulsoup4 in /Users/iremkurt/anaconda3/lib/python3.11/site-packages (from dtale) (4.12.2)\n",
      "Requirement already satisfied: certifi in /Users/iremkurt/anaconda3/lib/python3.11/site-packages (from dtale) (2023.5.7)\n",
      "Requirement already satisfied: cycler in /Users/iremkurt/anaconda3/lib/python3.11/site-packages (from dtale) (0.11.0)\n",
      "Requirement already satisfied: flask-ngrok in /Users/iremkurt/anaconda3/lib/python3.11/site-packages (from dtale) (0.0.25)\n",
      "Requirement already satisfied: lz4 in /Users/iremkurt/anaconda3/lib/python3.11/site-packages (from dtale) (4.3.2)\n",
      "Requirement already satisfied: dash-bootstrap-components<=1.3.1 in /Users/iremkurt/anaconda3/lib/python3.11/site-packages (from dtale) (1.3.1)\n",
      "Requirement already satisfied: seaborn in /Users/iremkurt/anaconda3/lib/python3.11/site-packages (from dtale) (0.12.2)\n",
      "Requirement already satisfied: networkx in /Users/iremkurt/anaconda3/lib/python3.11/site-packages (from dtale) (2.8.4)\n",
      "Requirement already satisfied: scikit-learn in /Users/iremkurt/anaconda3/lib/python3.11/site-packages (from dtale) (1.2.2)\n",
      "Requirement already satisfied: statsmodels in /Users/iremkurt/anaconda3/lib/python3.11/site-packages (from dtale) (0.13.5)\n",
      "Requirement already satisfied: matplotlib<=3.6.3 in /Users/iremkurt/anaconda3/lib/python3.11/site-packages (from dtale) (3.6.3)\n",
      "Requirement already satisfied: numpy in /Users/iremkurt/anaconda3/lib/python3.11/site-packages (from dtale) (1.24.3)\n",
      "Requirement already satisfied: openpyxl!=3.2.0b1 in /Users/iremkurt/anaconda3/lib/python3.11/site-packages (from dtale) (3.0.10)\n",
      "Requirement already satisfied: xarray in /Users/iremkurt/anaconda3/lib/python3.11/site-packages (from dtale) (2022.11.0)\n",
      "Requirement already satisfied: dash in /Users/iremkurt/anaconda3/lib/python3.11/site-packages (from dtale) (2.11.1)\n",
      "Requirement already satisfied: et-xmlfile in /Users/iremkurt/anaconda3/lib/python3.11/site-packages (from dtale) (1.1.0)\n",
      "Requirement already satisfied: plotly in /Users/iremkurt/anaconda3/lib/python3.11/site-packages (from dtale) (5.9.0)\n",
      "Requirement already satisfied: Flask<2.3 in /Users/iremkurt/anaconda3/lib/python3.11/site-packages (from dtale) (2.2.2)\n",
      "Requirement already satisfied: itsdangerous in /Users/iremkurt/anaconda3/lib/python3.11/site-packages (from dtale) (2.0.1)\n",
      "Requirement already satisfied: requests in /Users/iremkurt/anaconda3/lib/python3.11/site-packages (from dtale) (2.29.0)\n",
      "Requirement already satisfied: werkzeug<2.3 in /Users/iremkurt/anaconda3/lib/python3.11/site-packages (from dtale) (2.2.3)\n",
      "Requirement already satisfied: scipy<=1.9.3 in /Users/iremkurt/anaconda3/lib/python3.11/site-packages (from dtale) (1.9.3)\n",
      "Requirement already satisfied: dash-html-components==2.0.0 in /Users/iremkurt/anaconda3/lib/python3.11/site-packages (from dash->dtale) (2.0.0)\n",
      "Requirement already satisfied: dash-core-components==2.0.0 in /Users/iremkurt/anaconda3/lib/python3.11/site-packages (from dash->dtale) (2.0.0)\n",
      "Requirement already satisfied: dash-table==5.0.0 in /Users/iremkurt/anaconda3/lib/python3.11/site-packages (from dash->dtale) (5.0.0)\n",
      "Requirement already satisfied: typing-extensions>=4.1.1 in /Users/iremkurt/anaconda3/lib/python3.11/site-packages (from dash->dtale) (4.6.3)\n",
      "Requirement already satisfied: retrying in /Users/iremkurt/anaconda3/lib/python3.11/site-packages (from dash->dtale) (1.3.4)\n",
      "Requirement already satisfied: ansi2html in /Users/iremkurt/anaconda3/lib/python3.11/site-packages (from dash->dtale) (1.8.0)\n",
      "Requirement already satisfied: nest-asyncio in /Users/iremkurt/anaconda3/lib/python3.11/site-packages (from dash->dtale) (1.5.6)\n",
      "Requirement already satisfied: Jinja2>=3.0 in /Users/iremkurt/anaconda3/lib/python3.11/site-packages (from Flask<2.3->dtale) (3.1.2)\n",
      "Requirement already satisfied: click>=8.0 in /Users/iremkurt/anaconda3/lib/python3.11/site-packages (from Flask<2.3->dtale) (8.0.4)\n",
      "Requirement already satisfied: contourpy>=1.0.1 in /Users/iremkurt/anaconda3/lib/python3.11/site-packages (from matplotlib<=3.6.3->dtale) (1.0.5)\n",
      "Requirement already satisfied: fonttools>=4.22.0 in /Users/iremkurt/anaconda3/lib/python3.11/site-packages (from matplotlib<=3.6.3->dtale) (4.25.0)\n",
      "Requirement already satisfied: kiwisolver>=1.0.1 in /Users/iremkurt/anaconda3/lib/python3.11/site-packages (from matplotlib<=3.6.3->dtale) (1.4.4)\n",
      "Requirement already satisfied: packaging>=20.0 in /Users/iremkurt/anaconda3/lib/python3.11/site-packages (from matplotlib<=3.6.3->dtale) (23.0)\n",
      "Requirement already satisfied: pillow>=6.2.0 in /Users/iremkurt/anaconda3/lib/python3.11/site-packages (from matplotlib<=3.6.3->dtale) (9.4.0)\n",
      "Requirement already satisfied: pyparsing>=2.2.1 in /Users/iremkurt/anaconda3/lib/python3.11/site-packages (from matplotlib<=3.6.3->dtale) (3.0.9)\n",
      "Requirement already satisfied: python-dateutil>=2.7 in /Users/iremkurt/anaconda3/lib/python3.11/site-packages (from matplotlib<=3.6.3->dtale) (2.8.2)\n",
      "Requirement already satisfied: tenacity>=6.2.0 in /Users/iremkurt/anaconda3/lib/python3.11/site-packages (from plotly->dtale) (8.2.2)\n",
      "Requirement already satisfied: MarkupSafe>=2.1.1 in /Users/iremkurt/anaconda3/lib/python3.11/site-packages (from werkzeug<2.3->dtale) (2.1.1)\n",
      "Requirement already satisfied: soupsieve>1.2 in /Users/iremkurt/anaconda3/lib/python3.11/site-packages (from beautifulsoup4->dtale) (2.4)\n",
      "Requirement already satisfied: brotli in /Users/iremkurt/anaconda3/lib/python3.11/site-packages (from Flask-Compress->dtale) (1.0.9)\n",
      "Requirement already satisfied: pytz>=2020.1 in /Users/iremkurt/anaconda3/lib/python3.11/site-packages (from pandas->dtale) (2022.7)\n",
      "Requirement already satisfied: charset-normalizer<4,>=2 in /Users/iremkurt/anaconda3/lib/python3.11/site-packages (from requests->dtale) (2.0.4)\n",
      "Requirement already satisfied: idna<4,>=2.5 in /Users/iremkurt/anaconda3/lib/python3.11/site-packages (from requests->dtale) (3.4)\n",
      "Requirement already satisfied: urllib3<1.27,>=1.21.1 in /Users/iremkurt/anaconda3/lib/python3.11/site-packages (from requests->dtale) (1.26.16)\n",
      "Requirement already satisfied: joblib>=1.1.1 in /Users/iremkurt/anaconda3/lib/python3.11/site-packages (from scikit-learn->dtale) (1.1.1)\n",
      "Requirement already satisfied: threadpoolctl>=2.0.0 in /Users/iremkurt/anaconda3/lib/python3.11/site-packages (from scikit-learn->dtale) (2.2.0)\n",
      "Requirement already satisfied: patsy>=0.5.2 in /Users/iremkurt/anaconda3/lib/python3.11/site-packages (from statsmodels->dtale) (0.5.3)\n"
     ]
    }
   ],
   "source": [
    "!pip install dtale"
   ]
  },
  {
   "cell_type": "markdown",
   "id": "2b5fa9d5",
   "metadata": {},
   "source": [
    "## Importing Libraries"
   ]
  },
  {
   "cell_type": "code",
   "execution_count": 2,
   "id": "61759fbc",
   "metadata": {},
   "outputs": [],
   "source": [
    "import pandas as pd\n",
    "import dtale\n",
    "import matplotlib.pyplot as plt\n",
    "import numpy as np"
   ]
  },
  {
   "cell_type": "markdown",
   "id": "99c09129",
   "metadata": {},
   "source": [
    "## Read Dataset"
   ]
  },
  {
   "cell_type": "code",
   "execution_count": 3,
   "id": "9d3bb50d",
   "metadata": {},
   "outputs": [],
   "source": [
    "df = pd.read_csv(\"housing_in_london_yearly_variables.csv\")"
   ]
  },
  {
   "cell_type": "markdown",
   "id": "db6cca72",
   "metadata": {},
   "source": [
    "## View & Analyze"
   ]
  },
  {
   "cell_type": "code",
   "execution_count": 4,
   "id": "890f7d7a",
   "metadata": {
    "scrolled": false
   },
   "outputs": [
    {
     "name": "stderr",
     "output_type": "stream",
     "text": [
      "/Users/iremkurt/anaconda3/lib/python3.11/site-packages/dtale/views.py:778: FutureWarning:\n",
      "\n",
      "['recycling_pct'] did not aggregate successfully. If any error is raised this will raise in a future version of pandas. Drop these columns/ops to avoid this warning.\n",
      "\n"
     ]
    },
    {
     "data": {
      "text/html": [
       "\n",
       "        <iframe\n",
       "            width=\"100%\"\n",
       "            height=\"475\"\n",
       "            src=\"http://Irem-MacBook-Air.local:40000/dtale/iframe/1\"\n",
       "            frameborder=\"0\"\n",
       "            allowfullscreen\n",
       "            \n",
       "        ></iframe>\n",
       "        "
      ],
      "text/plain": [
       "<IPython.lib.display.IFrame at 0x134cba5d0>"
      ]
     },
     "metadata": {},
     "output_type": "display_data"
    },
    {
     "data": {
      "text/plain": []
     },
     "execution_count": 4,
     "metadata": {},
     "output_type": "execute_result"
    }
   ],
   "source": [
    "dtale.show(df)"
   ]
  },
  {
   "cell_type": "markdown",
   "id": "9655eda0",
   "metadata": {},
   "source": [
    "## Questions"
   ]
  },
  {
   "cell_type": "markdown",
   "id": "ce173904",
   "metadata": {},
   "source": [
    "### 1- Is there a correlation between the median salary and the life satisfaction for residents in London's boroughs?\n",
    "\n",
    "Answer: The correlation coefficient of -0.21936922410940793 suggests a weak negative correlation between \"median_salary\" and \"life_satisfaction\" in the dataset. "
   ]
  },
  {
   "cell_type": "code",
   "execution_count": 5,
   "id": "cd3a4c05",
   "metadata": {},
   "outputs": [
    {
     "data": {
      "text/plain": [
       "1071"
      ]
     },
     "execution_count": 5,
     "metadata": {},
     "output_type": "execute_result"
    }
   ],
   "source": [
    "# Calculate how many rows in dataset\n",
    "df.shape[0]"
   ]
  },
  {
   "cell_type": "code",
   "execution_count": 6,
   "id": "6aa33cbe",
   "metadata": {},
   "outputs": [
    {
     "data": {
      "text/plain": [
       "1049"
      ]
     },
     "execution_count": 6,
     "metadata": {},
     "output_type": "execute_result"
    }
   ],
   "source": [
    "# Calculate the total number of values in \"median_salary\" column\n",
    "median_salary_total_count = df[\"median_salary\"].count()\n",
    "median_salary_total_count"
   ]
  },
  {
   "cell_type": "code",
   "execution_count": 7,
   "id": "a9eea5c6",
   "metadata": {},
   "outputs": [
    {
     "data": {
      "text/plain": [
       "22"
      ]
     },
     "execution_count": 7,
     "metadata": {},
     "output_type": "execute_result"
    }
   ],
   "source": [
    "# Calculate the total number of null values in \"median_salary\" column\n",
    "median_salary_null_count = df[\"median_salary\"].isnull().sum()\n",
    "median_salary_null_count"
   ]
  },
  {
   "cell_type": "code",
   "execution_count": 8,
   "id": "67c584ba",
   "metadata": {},
   "outputs": [
    {
     "data": {
      "text/plain": [
       "1049"
      ]
     },
     "execution_count": 8,
     "metadata": {},
     "output_type": "execute_result"
    }
   ],
   "source": [
    "# Calculate the total number of values in \"life_satisfaction\" column\n",
    "life_satisfaction_total_count = df[\"median_salary\"].count()\n",
    "life_satisfaction_total_count"
   ]
  },
  {
   "cell_type": "code",
   "execution_count": 9,
   "id": "b8bc80e7",
   "metadata": {},
   "outputs": [
    {
     "data": {
      "text/plain": [
       "719"
      ]
     },
     "execution_count": 9,
     "metadata": {},
     "output_type": "execute_result"
    }
   ],
   "source": [
    "# Calculate the total number of null values in \"life_satisfaction\" column\n",
    "life_satisfaction_null_count = df[\"life_satisfaction\"].isnull().sum()\n",
    "life_satisfaction_null_count"
   ]
  },
  {
   "cell_type": "code",
   "execution_count": 10,
   "id": "fad09b5a",
   "metadata": {},
   "outputs": [
    {
     "data": {
      "text/plain": [
       "719"
      ]
     },
     "execution_count": 10,
     "metadata": {},
     "output_type": "execute_result"
    }
   ],
   "source": [
    "# Calculate the mean of \"life_satisfaction\" column\n",
    "life_satisfaction_mean = df[\"life_satisfaction\"].mean()\n",
    "\n",
    "# Fill null values with the mean\n",
    "df[\"life_satisfaction\"].fillna(life_satisfaction_mean, inplace=False)\n",
    "\n",
    "life_satisfaction_null_count"
   ]
  },
  {
   "cell_type": "code",
   "execution_count": 11,
   "id": "f78153e0",
   "metadata": {},
   "outputs": [
    {
     "data": {
      "image/png": "[encoded data removed]",
      "text/plain": [
       "<Figure size 640x480 with 1 Axes>"
      ]
     },
     "metadata": {},
     "output_type": "display_data"
    }
   ],
   "source": [
    "# Plot histogram for \"median_salary\" column\n",
    "plt.hist(df[\"median_salary\"], bins=10)\n",
    "plt.xlabel(\"Median Salary\")\n",
    "plt.ylabel(\"Frequency\")\n",
    "plt.title(\"Histogram of Median Salary\")\n",
    "plt.show()"
   ]
  },
  {
   "cell_type": "code",
   "execution_count": 12,
   "id": "bf5838cd",
   "metadata": {},
   "outputs": [
    {
     "data": {
      "image/png": "[encoded data removed]",
      "text/plain": [
       "<Figure size 640x480 with 1 Axes>"
      ]
     },
     "metadata": {},
     "output_type": "display_data"
    }
   ],
   "source": [
    "# Plot histogram for \"life_satisfaction\" column\n",
    "plt.hist(df[\"life_satisfaction\"], bins=10)\n",
    "plt.xlabel(\"Life Satisfaction\")\n",
    "plt.ylabel(\"Frequency\")\n",
    "plt.title(\"Histogram of Life Satisfaction\")\n",
    "plt.show()"
   ]
  },
  {
   "cell_type": "code",
   "execution_count": 13,
   "id": "fcc235f1",
   "metadata": {},
   "outputs": [
    {
     "data": {
      "text/plain": [
       "-0.21936922410940793"
      ]
     },
     "execution_count": 13,
     "metadata": {},
     "output_type": "execute_result"
    }
   ],
   "source": [
    "# Calculate the Spearman's rank correlation coefficient between \"median_salary\" and \"life_satisfaction\"\n",
    "correlation_coefficient = df[\"median_salary\"].corr(df[\"life_satisfaction\"], method=\"spearman\")\n",
    "correlation_coefficient"
   ]
  },
  {
   "cell_type": "markdown",
   "id": "9439676d",
   "metadata": {},
   "source": [
    "### 2- How does the recycling percentage vary across different boroughs of London? Are there any patterns or trends?"
   ]
  },
  {
   "cell_type": "code",
   "execution_count": 14,
   "id": "d76432d3",
   "metadata": {},
   "outputs": [
    {
     "data": {
      "text/plain": [
       "dtype('float64')"
      ]
     },
     "execution_count": 14,
     "metadata": {},
     "output_type": "execute_result"
    }
   ],
   "source": [
    "# Convert the \"recycling_pct\" column to numeric type\n",
    "df[\"recycling_pct\"] = pd.to_numeric(df[\"recycling_pct\"], errors=\"coerce\")\n",
    "\n",
    "# Print the updated data type of the column\n",
    "df[\"recycling_pct\"].dtypes"
   ]
  },
  {
   "cell_type": "code",
   "execution_count": 15,
   "id": "90910448",
   "metadata": {
    "scrolled": true
   },
   "outputs": [
    {
     "data": {
      "text/plain": [
       "area\n",
       "barking and dagenham        18.700000\n",
       "barnet                      27.200000\n",
       "bexley                      41.500000\n",
       "brent                       25.350000\n",
       "bromley                     35.050000\n",
       "camden                      25.150000\n",
       "city of london              23.750000\n",
       "croydon                     27.800000\n",
       "ealing                      31.300000\n",
       "east                        38.150000\n",
       "east midlands               35.400000\n",
       "enfield                     27.650000\n",
       "england                     32.450000\n",
       "england and wales                 NaN\n",
       "great britain                     NaN\n",
       "greenwich                   26.750000\n",
       "hackney                     18.000000\n",
       "hammersmith and fulham      20.600000\n",
       "haringey                    22.650000\n",
       "harrow                      33.200000\n",
       "havering                    24.200000\n",
       "hillingdon                  34.100000\n",
       "hounslow                    25.900000\n",
       "inner london                      NaN\n",
       "islington                   22.000000\n",
       "kensington and chelsea      22.600000\n",
       "kingston upon thames        34.400000\n",
       "lambeth                     21.600000\n",
       "lewisham                    15.200000\n",
       "london                      24.900000\n",
       "merton                      28.450000\n",
       "newham                      12.400000\n",
       "north east                  26.000000\n",
       "north west                  31.600000\n",
       "northern ireland                  NaN\n",
       "outer london                      NaN\n",
       "redbridge                   21.650000\n",
       "richmond upon thames        35.421053\n",
       "scotland                          NaN\n",
       "south east                  34.750000\n",
       "south west                  36.850000\n",
       "southwark                   20.900000\n",
       "sutton                      32.950000\n",
       "tower hamlets               17.150000\n",
       "united kingdom                    NaN\n",
       "wales                             NaN\n",
       "waltham forest              24.500000\n",
       "wandsworth                  19.800000\n",
       "west midlands               30.850000\n",
       "westminster                 17.700000\n",
       "yorkshire and the humber    30.200000\n",
       "Name: recycling_pct, dtype: float64"
      ]
     },
     "execution_count": 15,
     "metadata": {},
     "output_type": "execute_result"
    }
   ],
   "source": [
    "# Group the DataFrame by \"area\" and calculate the mean recycling percentage for each area\n",
    "mean_recycling_pct = df.groupby(\"area\")[\"recycling_pct\"].mean()\n",
    "mean_recycling_pct"
   ]
  }
 ],
 "metadata": {
  "kernelspec": {
   "display_name": "Python 3 (ipykernel)",
   "language": "python",
   "name": "python3"
  },
  "language_info": {
   "codemirror_mode": {
    "name": "ipython",
    "version": 3
   },
   "file_extension": ".py",
   "mimetype": "text/x-python",
   "name": "python",
   "nbconvert_exporter": "python",
   "pygments_lexer": "ipython3",
   "version": "3.11.3"
  }
 },
 "nbformat": 4,
 "nbformat_minor": 5
}

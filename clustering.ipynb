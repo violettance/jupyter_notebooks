{
 "cells": [
  {
   "cell_type": "markdown",
   "metadata": {},
   "source": [
    "## Unveiling Musical Patterns: Song Analysis and Likeness Prediction"
   ]
  },
  {
   "cell_type": "markdown",
   "metadata": {},
   "source": [
    "Description: Spotify Web API enables the creation of applications that can interact with Spotify's streaming service, such as retrieving content metadata, getting recommendations, creating and managing playlists, or controlling playback."
   ]
  },
  {
   "cell_type": "markdown",
   "metadata": {},
   "source": [
    "### Summary\n",
    "\n",
    "[The data](https://developer.spotify.com/documentation/web-api) will be accessed through Spotify."
   ]
  },
  {
   "cell_type": "markdown",
   "metadata": {},
   "source": [
    "### Importing Libraries"
   ]
  },
  {
   "cell_type": "code",
   "execution_count": 1,
   "metadata": {},
   "outputs": [],
   "source": [
    "import pandas as pd\n",
    "import spotipy\n",
    "from spotipy.oauth2 import SpotifyOAuth\n",
    "from spotipy.oauth2 import SpotifyClientCredentials\n",
    "import sys\n",
    "from pycaret.clustering import ClusteringExperiment\n",
    "import requests\n",
    "from sklearn.model_selection import train_test_split\n",
    "from sklearn.ensemble import RandomForestClassifier\n",
    "from sklearn.metrics import accuracy_score, classification_report, confusion_matrix\n",
    "from pycaret.classification import setup, compare_models, pull, save_model\n",
    "import time"
   ]
  },
  {
   "cell_type": "markdown",
   "metadata": {},
   "source": [
    "### Getting Data from API"
   ]
  },
  {
   "cell_type": "code",
   "execution_count": 2,
   "metadata": {},
   "outputs": [
    {
     "name": "stdout",
     "output_type": "stream",
     "text": [
      "New Fires Christian Löffler\n",
      "Welcome To The Opera (with Grimes) Anyma\n",
      "How To Listen To This Album Stereoclip\n",
      "Moment - Mahmut Orhan Remix PaulWetz\n",
      "Sign of the Times Harry Styles\n",
      "Delichones Anatolian Sessions\n",
      "Elinari Anatolian Sessions\n",
      "Elegy Madota\n",
      "Caminando de Noche Niko Schwind\n",
      "Only We Can See Sam Koxx\n",
      "Vesaire - Sezer Uysal Mix Mahmut Orhan\n",
      "Ordinary Friend Bob Moses\n",
      "Before I Fall Bob Moses\n",
      "Time and Time Again - Single Edit Bob Moses\n",
      "Afterglow Bob Moses\n",
      "Danza Anfisa Letyago\n",
      "Rosso Profondo Anfisa Letyago\n",
      "Tears of Bliss Giorgia Angiuli\n",
      "Outomorrow - Anyma, Kevin de Vries Remix KAS:ST\n",
      "Quiet Distortion - Bart Skils Remix Gregor Tresher\n",
      "Too Little Too Late - Little Late Edit Joris Voorn\n",
      "Paradise - Âme Remix mOat\n",
      "Self Control Laura Branigan\n",
      "Suçlarımdan Biri Güneş\n",
      "Mektup Motive\n",
      "Paranoya UZI\n",
      "Umutsuz Aşk Sözlü - Yalı Çapkını Original Soundtrack Güldiyar Tanrıdağlı\n",
      "Kalmak Daha Zor Güneş\n",
      "Shades Of Night Einmusik\n",
      "All You Leave Behind Ross Tones\n",
      "Diet Mountain Dew Lana Del Rey\n",
      "Claire Anyma\n",
      "Consciousness Anyma\n",
      "My City's On Fire - Notre Dame Remix Jimi Jules\n",
      "Bukk Landhouse\n",
      "NKBİ X YAPAMAM - Remix Lvbel C5\n",
      "Gitme Bebé Güneş\n",
      "The Story About Us Sezer Uysal\n",
      "Love Me More Sam Smith\n",
      "Unholy (feat. Kim Petras) - Orchestral Version Sam Smith\n",
      "Unholy (feat. Kim Petras) Sam Smith\n",
      "Lacrimosa Matt Kent\n",
      "exile (feat. Bon Iver) Taylor Swift\n",
      "Kalbe Ben Ayse Hatun Onal\n",
      "Geçmiş Değişmez - Sezer Uysal Remix Deeperise\n",
      "My Own Time Darin Epsilon\n",
      "Indigo Night Tamino\n",
      "Where’s My Love - Alternate Version SYML\n",
      "Beauty And The Beast The Mayan Factor\n",
      "Rodrigo: Concierto de Aranjuez: II. Adagio Joaquín Rodrigo\n",
      "Danse Macabre, Op. 40, R.171 Camille Saint-Saëns\n",
      "Suite No. 3 in D Major, BWV 1068: II. Air Johann Sebastian Bach\n",
      "Kill Kill SLX1PUD\n",
      "Tulsa Jesus Freak Lana Del Rey\n",
      "Temperateness Monday in Neptune\n",
      "Paradise Rui Reis Maia\n",
      "Soldier of Fortune Opeth\n",
      "Alâim-i Semâ: The Cry of the Flamingos Şirin Pancaroğlu\n",
      "Fjäll Christian Löffler\n",
      "a new sun No Clear Mind\n",
      "Les Vitrines Kid Francescoli\n",
      "Blow Up Kid Francescoli\n",
      "Araf - Extended Mix Sezer Uysal\n",
      "Who Died and Made You King Sascha Braemer\n",
      "Robots Landhouse\n",
      "Breathing Ben Böhmer\n",
      "Istanbul BuVu\n",
      "Gamma NTO\n",
      "Moldau Christian Löffler\n",
      "Solo - Solomun Remix Christian Löffler\n",
      "Sorry Röyksopp\n",
      "A New Error Moderat\n",
      "Through The Echoes Paolo Nutini\n",
      "Moon After Moon WhoMadeWho\n",
      "Fata Morgana Deniz Bul\n",
      "Gravity Boris Brejcha\n",
      "Enfantillages pittoresques: II. Berceuse - Christian Löffler Rework (FRAGMENTS / Erik Satie) Christian Löffler\n",
      "Moldau Christian Löffler\n",
      "Eclipse MOTVS\n",
      "Amnesia - Slowed+Reverb LonMady\n",
      "Sıradan Hayat Canozan\n",
      "Eftelya - Akustik Canozan\n",
      "Hayat Gemileri Beyza Doğuç\n",
      "Bil ki Hedonutopia\n",
      "Kaçır aklımı yerinden Canozan\n",
      "The Craze Deniz Bul\n",
      "Picnic Digitalism\n",
      "The Labyrinth Song Asaf Avidan\n",
      "Za Milena J. Moriarty\n",
      "June Echonomist\n",
      "Loving You Like Always - Rodriguez Jr. Remix NTO\n",
      "Does She? Kid Francescoli\n",
      "el cielo no es de nadie - Edit Ela Minus\n",
      "Cosmic Information - Radio Edit RooneyNasr\n",
      "Synthetic Soul Jaffer\n",
      "Granville Frank Wiedemann\n",
      "Silence & Secrets - Frank Wiedemann Version WhoMadeWho\n",
      "Brain Wax Roy Blues\n",
      "Ubud - Original Pattern Drama\n",
      "Wrecked - 65daysofstatic Remix Kiasmos\n"
     ]
    }
   ],
   "source": [
    "# Replace YOUR_CLIENT_ID, YOUR_CLIENT_SECRET, and YOUR_REDIRECT_URI with your credentials\n",
    "sp = spotipy.Spotify(auth_manager=SpotifyOAuth(client_id='2b515c69e6d541daa25d644bb844de11',\n",
    "                                               client_secret='654ce05e3e19462c8964065e3887b80f',\n",
    "                                               redirect_uri='http://localhost:8080',\n",
    "                                               scope='user-library-read'))\n",
    "\n",
    "# Lists to store song names, artist names, and song details\n",
    "song_names = []\n",
    "artist_names = []\n",
    "song_details = []\n",
    "\n",
    "# Set the number of songs you want to retrieve (in this case, 700)\n",
    "desired_number_of_songs = 100\n",
    "songs_per_request = 50\n",
    "\n",
    "while len(song_names) < desired_number_of_songs:\n",
    "    remaining_songs = desired_number_of_songs - len(song_names)\n",
    "    current_limit = min(remaining_songs, songs_per_request)\n",
    "\n",
    "    results = sp.current_user_saved_tracks(limit=current_limit, offset=len(song_names))\n",
    "\n",
    "    if len(results['items']) == 0:\n",
    "        # No more songs to retrieve\n",
    "        break\n",
    "\n",
    "    for item in results['items']:\n",
    "        track = item['track']\n",
    "        song_names.append(track['name'])\n",
    "        artist_names.append(track['artists'][0]['name'])\n",
    "        song_details.append(track['id'])  # Store the track ID for getting details later\n",
    "        print(track['name'], track['artists'][0]['name'])\n",
    "\n",
    "    # Sleep for 45 seconds before the next batch request\n",
    "    time.sleep(30)"
   ]
  },
  {
   "cell_type": "code",
   "execution_count": 3,
   "metadata": {},
   "outputs": [],
   "source": [
    "# Get detailed information for each song using the audio_features endpoint\n",
    "song_audio_features = []\n",
    "chunk_size = 50  # Number of song IDs to request in each chunk\n",
    "\n",
    "for i in range(0, len(song_details), chunk_size):\n",
    "    chunk = song_details[i:i + chunk_size]\n",
    "    audio_features = sp.audio_features(tracks=chunk)\n",
    "    song_audio_features.extend(audio_features)\n",
    "    time.sleep(30)  # Sleep for 30 seconds between requests to avoid rate limiting\n",
    "\n",
    "# Create the DataFrame\n",
    "df = pd.DataFrame({'Song': song_names, 'Artist': artist_names, 'Details': song_audio_features})\n"
   ]
  },
  {
   "cell_type": "code",
   "execution_count": 4,
   "metadata": {},
   "outputs": [],
   "source": [
    "# Use the apply method to create separate columns for each audio feature\n",
    "df = pd.concat([df.drop(['Details'], axis=1), df['Details'].apply(pd.Series)], axis=1)"
   ]
  },
  {
   "cell_type": "markdown",
   "metadata": {},
   "source": [
    "### Clustering (k-means)"
   ]
  },
  {
   "cell_type": "code",
   "execution_count": 5,
   "metadata": {},
   "outputs": [
    {
     "data": {
      "text/html": [
       "<style type=\"text/css\">\n",
       "#T_9d37e_row5_col1, #T_9d37e_row11_col1 {\n",
       "  background-color: lightgreen;\n",
       "}\n",
       "</style>\n",
       "<table id=\"T_9d37e_\">\n",
       "  <thead>\n",
       "    <tr>\n",
       "      <th class=\"blank level0\" >&nbsp;</th>\n",
       "      <th class=\"col_heading level0 col0\" >Description</th>\n",
       "      <th class=\"col_heading level0 col1\" >Value</th>\n",
       "    </tr>\n",
       "  </thead>\n",
       "  <tbody>\n",
       "    <tr>\n",
       "      <th id=\"T_9d37e_level0_row0\" class=\"row_heading level0 row0\" >0</th>\n",
       "      <td id=\"T_9d37e_row0_col0\" class=\"data row0 col0\" >Session id</td>\n",
       "      <td id=\"T_9d37e_row0_col1\" class=\"data row0 col1\" >4318</td>\n",
       "    </tr>\n",
       "    <tr>\n",
       "      <th id=\"T_9d37e_level0_row1\" class=\"row_heading level0 row1\" >1</th>\n",
       "      <td id=\"T_9d37e_row1_col0\" class=\"data row1 col0\" >Original data shape</td>\n",
       "      <td id=\"T_9d37e_row1_col1\" class=\"data row1 col1\" >(100, 20)</td>\n",
       "    </tr>\n",
       "    <tr>\n",
       "      <th id=\"T_9d37e_level0_row2\" class=\"row_heading level0 row2\" >2</th>\n",
       "      <td id=\"T_9d37e_row2_col0\" class=\"data row2 col0\" >Transformed data shape</td>\n",
       "      <td id=\"T_9d37e_row2_col1\" class=\"data row2 col1\" >(100, 587)</td>\n",
       "    </tr>\n",
       "    <tr>\n",
       "      <th id=\"T_9d37e_level0_row3\" class=\"row_heading level0 row3\" >3</th>\n",
       "      <td id=\"T_9d37e_row3_col0\" class=\"data row3 col0\" >Numeric features</td>\n",
       "      <td id=\"T_9d37e_row3_col1\" class=\"data row3 col1\" >13</td>\n",
       "    </tr>\n",
       "    <tr>\n",
       "      <th id=\"T_9d37e_level0_row4\" class=\"row_heading level0 row4\" >4</th>\n",
       "      <td id=\"T_9d37e_row4_col0\" class=\"data row4 col0\" >Categorical features</td>\n",
       "      <td id=\"T_9d37e_row4_col1\" class=\"data row4 col1\" >7</td>\n",
       "    </tr>\n",
       "    <tr>\n",
       "      <th id=\"T_9d37e_level0_row5\" class=\"row_heading level0 row5\" >5</th>\n",
       "      <td id=\"T_9d37e_row5_col0\" class=\"data row5 col0\" >Preprocess</td>\n",
       "      <td id=\"T_9d37e_row5_col1\" class=\"data row5 col1\" >True</td>\n",
       "    </tr>\n",
       "    <tr>\n",
       "      <th id=\"T_9d37e_level0_row6\" class=\"row_heading level0 row6\" >6</th>\n",
       "      <td id=\"T_9d37e_row6_col0\" class=\"data row6 col0\" >Imputation type</td>\n",
       "      <td id=\"T_9d37e_row6_col1\" class=\"data row6 col1\" >simple</td>\n",
       "    </tr>\n",
       "    <tr>\n",
       "      <th id=\"T_9d37e_level0_row7\" class=\"row_heading level0 row7\" >7</th>\n",
       "      <td id=\"T_9d37e_row7_col0\" class=\"data row7 col0\" >Numeric imputation</td>\n",
       "      <td id=\"T_9d37e_row7_col1\" class=\"data row7 col1\" >mean</td>\n",
       "    </tr>\n",
       "    <tr>\n",
       "      <th id=\"T_9d37e_level0_row8\" class=\"row_heading level0 row8\" >8</th>\n",
       "      <td id=\"T_9d37e_row8_col0\" class=\"data row8 col0\" >Categorical imputation</td>\n",
       "      <td id=\"T_9d37e_row8_col1\" class=\"data row8 col1\" >mode</td>\n",
       "    </tr>\n",
       "    <tr>\n",
       "      <th id=\"T_9d37e_level0_row9\" class=\"row_heading level0 row9\" >9</th>\n",
       "      <td id=\"T_9d37e_row9_col0\" class=\"data row9 col0\" >Maximum one-hot encoding</td>\n",
       "      <td id=\"T_9d37e_row9_col1\" class=\"data row9 col1\" >-1</td>\n",
       "    </tr>\n",
       "    <tr>\n",
       "      <th id=\"T_9d37e_level0_row10\" class=\"row_heading level0 row10\" >10</th>\n",
       "      <td id=\"T_9d37e_row10_col0\" class=\"data row10 col0\" >Encoding method</td>\n",
       "      <td id=\"T_9d37e_row10_col1\" class=\"data row10 col1\" >None</td>\n",
       "    </tr>\n",
       "    <tr>\n",
       "      <th id=\"T_9d37e_level0_row11\" class=\"row_heading level0 row11\" >11</th>\n",
       "      <td id=\"T_9d37e_row11_col0\" class=\"data row11 col0\" >Normalize</td>\n",
       "      <td id=\"T_9d37e_row11_col1\" class=\"data row11 col1\" >True</td>\n",
       "    </tr>\n",
       "    <tr>\n",
       "      <th id=\"T_9d37e_level0_row12\" class=\"row_heading level0 row12\" >12</th>\n",
       "      <td id=\"T_9d37e_row12_col0\" class=\"data row12 col0\" >Normalize method</td>\n",
       "      <td id=\"T_9d37e_row12_col1\" class=\"data row12 col1\" >zscore</td>\n",
       "    </tr>\n",
       "    <tr>\n",
       "      <th id=\"T_9d37e_level0_row13\" class=\"row_heading level0 row13\" >13</th>\n",
       "      <td id=\"T_9d37e_row13_col0\" class=\"data row13 col0\" >CPU Jobs</td>\n",
       "      <td id=\"T_9d37e_row13_col1\" class=\"data row13 col1\" >-1</td>\n",
       "    </tr>\n",
       "    <tr>\n",
       "      <th id=\"T_9d37e_level0_row14\" class=\"row_heading level0 row14\" >14</th>\n",
       "      <td id=\"T_9d37e_row14_col0\" class=\"data row14 col0\" >Use GPU</td>\n",
       "      <td id=\"T_9d37e_row14_col1\" class=\"data row14 col1\" >False</td>\n",
       "    </tr>\n",
       "    <tr>\n",
       "      <th id=\"T_9d37e_level0_row15\" class=\"row_heading level0 row15\" >15</th>\n",
       "      <td id=\"T_9d37e_row15_col0\" class=\"data row15 col0\" >Log Experiment</td>\n",
       "      <td id=\"T_9d37e_row15_col1\" class=\"data row15 col1\" >False</td>\n",
       "    </tr>\n",
       "    <tr>\n",
       "      <th id=\"T_9d37e_level0_row16\" class=\"row_heading level0 row16\" >16</th>\n",
       "      <td id=\"T_9d37e_row16_col0\" class=\"data row16 col0\" >Experiment Name</td>\n",
       "      <td id=\"T_9d37e_row16_col1\" class=\"data row16 col1\" >cluster-default-name</td>\n",
       "    </tr>\n",
       "    <tr>\n",
       "      <th id=\"T_9d37e_level0_row17\" class=\"row_heading level0 row17\" >17</th>\n",
       "      <td id=\"T_9d37e_row17_col0\" class=\"data row17 col0\" >USI</td>\n",
       "      <td id=\"T_9d37e_row17_col1\" class=\"data row17 col1\" >bc8f</td>\n",
       "    </tr>\n",
       "  </tbody>\n",
       "</table>\n"
      ],
      "text/plain": [
       "<pandas.io.formats.style.Styler at 0x7fd138226640>"
      ]
     },
     "metadata": {},
     "output_type": "display_data"
    },
    {
     "data": {
      "text/plain": [
       "<pycaret.clustering.oop.ClusteringExperiment at 0x7fd137933430>"
      ]
     },
     "execution_count": 5,
     "metadata": {},
     "output_type": "execute_result"
    }
   ],
   "source": [
    "# Initialize the ClusteringExperiment and set up the environment\n",
    "s = ClusteringExperiment()\n",
    "s.setup(df, normalize = True)"
   ]
  },
  {
   "cell_type": "code",
   "execution_count": 6,
   "metadata": {},
   "outputs": [
    {
     "data": {
      "text/html": [],
      "text/plain": [
       "<IPython.core.display.HTML object>"
      ]
     },
     "metadata": {},
     "output_type": "display_data"
    },
    {
     "data": {
      "text/html": [],
      "text/plain": [
       "<IPython.core.display.HTML object>"
      ]
     },
     "metadata": {},
     "output_type": "display_data"
    },
    {
     "data": {
      "application/vnd.jupyter.widget-view+json": {
       "model_id": "c1547c247da1493aa104f7378e42b341",
       "version_major": 2,
       "version_minor": 0
      },
      "text/plain": [
       "Processing:   0%|          | 0/3 [00:00<?, ?it/s]"
      ]
     },
     "metadata": {},
     "output_type": "display_data"
    }
   ],
   "source": [
    "# Create a KMeans clustering model\n",
    "kmeans = s.create_model('kmeans')"
   ]
  },
  {
   "cell_type": "code",
   "execution_count": 7,
   "metadata": {},
   "outputs": [
    {
     "data": {
      "application/vnd.jupyter.widget-view+json": {
       "model_id": "165e5888ecb646518a3bd95a532128cd",
       "version_major": 2,
       "version_minor": 0
      },
      "text/plain": [
       "interactive(children=(ToggleButtons(description='Plot Type:', icons=('',), options=(('Pipeline Plot', 'pipelin…"
      ]
     },
     "metadata": {},
     "output_type": "display_data"
    }
   ],
   "source": [
    "# Evaluate the KMeans model using internal metrics\n",
    "s.evaluate_model(kmeans)"
   ]
  },
  {
   "cell_type": "code",
   "execution_count": 8,
   "metadata": {},
   "outputs": [
    {
     "data": {
      "text/html": [],
      "text/plain": [
       "<IPython.core.display.HTML object>"
      ]
     },
     "metadata": {},
     "output_type": "display_data"
    },
    {
     "data": {
      "image/png": "[encoded data removed]",
      "text/plain": [
       "<Figure size 800x550 with 1 Axes>"
      ]
     },
     "metadata": {},
     "output_type": "display_data"
    }
   ],
   "source": [
    "# Plot the Elbow plot to find the optimal number of clusters\n",
    "s.plot_model(kmeans, plot = 'elbow')"
   ]
  },
  {
   "cell_type": "code",
   "execution_count": 9,
   "metadata": {},
   "outputs": [
    {
     "data": {
      "text/html": [
       "<div>\n",
       "<style scoped>\n",
       "    .dataframe tbody tr th:only-of-type {\n",
       "        vertical-align: middle;\n",
       "    }\n",
       "\n",
       "    .dataframe tbody tr th {\n",
       "        vertical-align: top;\n",
       "    }\n",
       "\n",
       "    .dataframe thead th {\n",
       "        text-align: right;\n",
       "    }\n",
       "</style>\n",
       "<table border=\"1\" class=\"dataframe\">\n",
       "  <thead>\n",
       "    <tr style=\"text-align: right;\">\n",
       "      <th></th>\n",
       "      <th>Song</th>\n",
       "      <th>Artist</th>\n",
       "      <th>danceability</th>\n",
       "      <th>energy</th>\n",
       "      <th>key</th>\n",
       "      <th>loudness</th>\n",
       "      <th>mode</th>\n",
       "      <th>speechiness</th>\n",
       "      <th>acousticness</th>\n",
       "      <th>instrumentalness</th>\n",
       "      <th>...</th>\n",
       "      <th>valence</th>\n",
       "      <th>tempo</th>\n",
       "      <th>type</th>\n",
       "      <th>id</th>\n",
       "      <th>uri</th>\n",
       "      <th>track_href</th>\n",
       "      <th>analysis_url</th>\n",
       "      <th>duration_ms</th>\n",
       "      <th>time_signature</th>\n",
       "      <th>Cluster</th>\n",
       "    </tr>\n",
       "  </thead>\n",
       "  <tbody>\n",
       "    <tr>\n",
       "      <th>0</th>\n",
       "      <td>New Fires</td>\n",
       "      <td>Christian Löffler</td>\n",
       "      <td>0.712</td>\n",
       "      <td>0.569</td>\n",
       "      <td>6</td>\n",
       "      <td>-10.819</td>\n",
       "      <td>0</td>\n",
       "      <td>0.0348</td>\n",
       "      <td>0.3460</td>\n",
       "      <td>0.492</td>\n",
       "      <td>...</td>\n",
       "      <td>0.2410</td>\n",
       "      <td>116.015999</td>\n",
       "      <td>audio_features</td>\n",
       "      <td>6I7nESv5d9zf9DcEA9I25u</td>\n",
       "      <td>spotify:track:6I7nESv5d9zf9DcEA9I25u</td>\n",
       "      <td>https://api.spotify.com/v1/tracks/6I7nESv5d9zf...</td>\n",
       "      <td>https://api.spotify.com/v1/audio-analysis/6I7n...</td>\n",
       "      <td>251591</td>\n",
       "      <td>4</td>\n",
       "      <td>Cluster 1</td>\n",
       "    </tr>\n",
       "    <tr>\n",
       "      <th>1</th>\n",
       "      <td>Welcome To The Opera (with Grimes)</td>\n",
       "      <td>Anyma</td>\n",
       "      <td>0.455</td>\n",
       "      <td>0.897</td>\n",
       "      <td>5</td>\n",
       "      <td>-6.345</td>\n",
       "      <td>0</td>\n",
       "      <td>0.0507</td>\n",
       "      <td>0.0073</td>\n",
       "      <td>0.259</td>\n",
       "      <td>...</td>\n",
       "      <td>0.0578</td>\n",
       "      <td>124.976997</td>\n",
       "      <td>audio_features</td>\n",
       "      <td>3XgtRplaKaBn8lxBCAhfwI</td>\n",
       "      <td>spotify:track:3XgtRplaKaBn8lxBCAhfwI</td>\n",
       "      <td>https://api.spotify.com/v1/tracks/3XgtRplaKaBn...</td>\n",
       "      <td>https://api.spotify.com/v1/audio-analysis/3Xgt...</td>\n",
       "      <td>245280</td>\n",
       "      <td>4</td>\n",
       "      <td>Cluster 1</td>\n",
       "    </tr>\n",
       "    <tr>\n",
       "      <th>2</th>\n",
       "      <td>How To Listen To This Album</td>\n",
       "      <td>Stereoclip</td>\n",
       "      <td>0.551</td>\n",
       "      <td>0.712</td>\n",
       "      <td>9</td>\n",
       "      <td>-10.032</td>\n",
       "      <td>0</td>\n",
       "      <td>0.0514</td>\n",
       "      <td>0.2850</td>\n",
       "      <td>0.440</td>\n",
       "      <td>...</td>\n",
       "      <td>0.0746</td>\n",
       "      <td>123.058998</td>\n",
       "      <td>audio_features</td>\n",
       "      <td>0Py4iHLT1CPUOB6UJCrKeq</td>\n",
       "      <td>spotify:track:0Py4iHLT1CPUOB6UJCrKeq</td>\n",
       "      <td>https://api.spotify.com/v1/tracks/0Py4iHLT1CPU...</td>\n",
       "      <td>https://api.spotify.com/v1/audio-analysis/0Py4...</td>\n",
       "      <td>150462</td>\n",
       "      <td>4</td>\n",
       "      <td>Cluster 1</td>\n",
       "    </tr>\n",
       "    <tr>\n",
       "      <th>3</th>\n",
       "      <td>Moment - Mahmut Orhan Remix</td>\n",
       "      <td>PaulWetz</td>\n",
       "      <td>0.814</td>\n",
       "      <td>0.518</td>\n",
       "      <td>1</td>\n",
       "      <td>-9.994</td>\n",
       "      <td>0</td>\n",
       "      <td>0.0751</td>\n",
       "      <td>0.1410</td>\n",
       "      <td>0.415</td>\n",
       "      <td>...</td>\n",
       "      <td>0.3270</td>\n",
       "      <td>123.028999</td>\n",
       "      <td>audio_features</td>\n",
       "      <td>3M6U1RZt2xU6GuVk80pIO0</td>\n",
       "      <td>spotify:track:3M6U1RZt2xU6GuVk80pIO0</td>\n",
       "      <td>https://api.spotify.com/v1/tracks/3M6U1RZt2xU6...</td>\n",
       "      <td>https://api.spotify.com/v1/audio-analysis/3M6U...</td>\n",
       "      <td>230046</td>\n",
       "      <td>4</td>\n",
       "      <td>Cluster 1</td>\n",
       "    </tr>\n",
       "    <tr>\n",
       "      <th>4</th>\n",
       "      <td>Sign of the Times</td>\n",
       "      <td>Harry Styles</td>\n",
       "      <td>0.516</td>\n",
       "      <td>0.595</td>\n",
       "      <td>5</td>\n",
       "      <td>-4.630</td>\n",
       "      <td>1</td>\n",
       "      <td>0.0313</td>\n",
       "      <td>0.0275</td>\n",
       "      <td>0.000</td>\n",
       "      <td>...</td>\n",
       "      <td>0.2220</td>\n",
       "      <td>119.972000</td>\n",
       "      <td>audio_features</td>\n",
       "      <td>5Ohxk2dO5COHF1krpoPigN</td>\n",
       "      <td>spotify:track:5Ohxk2dO5COHF1krpoPigN</td>\n",
       "      <td>https://api.spotify.com/v1/tracks/5Ohxk2dO5COH...</td>\n",
       "      <td>https://api.spotify.com/v1/audio-analysis/5Ohx...</td>\n",
       "      <td>340707</td>\n",
       "      <td>4</td>\n",
       "      <td>Cluster 1</td>\n",
       "    </tr>\n",
       "  </tbody>\n",
       "</table>\n",
       "<p>5 rows × 21 columns</p>\n",
       "</div>"
      ],
      "text/plain": [
       "                                 Song             Artist  danceability  \\\n",
       "0                           New Fires  Christian Löffler         0.712   \n",
       "1  Welcome To The Opera (with Grimes)              Anyma         0.455   \n",
       "2         How To Listen To This Album         Stereoclip         0.551   \n",
       "3         Moment - Mahmut Orhan Remix           PaulWetz         0.814   \n",
       "4                   Sign of the Times       Harry Styles         0.516   \n",
       "\n",
       "   energy  key  loudness  mode  speechiness  acousticness  instrumentalness  \\\n",
       "0   0.569    6   -10.819     0       0.0348        0.3460             0.492   \n",
       "1   0.897    5    -6.345     0       0.0507        0.0073             0.259   \n",
       "2   0.712    9   -10.032     0       0.0514        0.2850             0.440   \n",
       "3   0.518    1    -9.994     0       0.0751        0.1410             0.415   \n",
       "4   0.595    5    -4.630     1       0.0313        0.0275             0.000   \n",
       "\n",
       "   ...  valence       tempo            type                      id  \\\n",
       "0  ...   0.2410  116.015999  audio_features  6I7nESv5d9zf9DcEA9I25u   \n",
       "1  ...   0.0578  124.976997  audio_features  3XgtRplaKaBn8lxBCAhfwI   \n",
       "2  ...   0.0746  123.058998  audio_features  0Py4iHLT1CPUOB6UJCrKeq   \n",
       "3  ...   0.3270  123.028999  audio_features  3M6U1RZt2xU6GuVk80pIO0   \n",
       "4  ...   0.2220  119.972000  audio_features  5Ohxk2dO5COHF1krpoPigN   \n",
       "\n",
       "                                    uri  \\\n",
       "0  spotify:track:6I7nESv5d9zf9DcEA9I25u   \n",
       "1  spotify:track:3XgtRplaKaBn8lxBCAhfwI   \n",
       "2  spotify:track:0Py4iHLT1CPUOB6UJCrKeq   \n",
       "3  spotify:track:3M6U1RZt2xU6GuVk80pIO0   \n",
       "4  spotify:track:5Ohxk2dO5COHF1krpoPigN   \n",
       "\n",
       "                                          track_href  \\\n",
       "0  https://api.spotify.com/v1/tracks/6I7nESv5d9zf...   \n",
       "1  https://api.spotify.com/v1/tracks/3XgtRplaKaBn...   \n",
       "2  https://api.spotify.com/v1/tracks/0Py4iHLT1CPU...   \n",
       "3  https://api.spotify.com/v1/tracks/3M6U1RZt2xU6...   \n",
       "4  https://api.spotify.com/v1/tracks/5Ohxk2dO5COH...   \n",
       "\n",
       "                                        analysis_url duration_ms  \\\n",
       "0  https://api.spotify.com/v1/audio-analysis/6I7n...      251591   \n",
       "1  https://api.spotify.com/v1/audio-analysis/3Xgt...      245280   \n",
       "2  https://api.spotify.com/v1/audio-analysis/0Py4...      150462   \n",
       "3  https://api.spotify.com/v1/audio-analysis/3M6U...      230046   \n",
       "4  https://api.spotify.com/v1/audio-analysis/5Ohx...      340707   \n",
       "\n",
       "   time_signature    Cluster  \n",
       "0               4  Cluster 1  \n",
       "1               4  Cluster 1  \n",
       "2               4  Cluster 1  \n",
       "3               4  Cluster 1  \n",
       "4               4  Cluster 1  \n",
       "\n",
       "[5 rows x 21 columns]"
      ]
     },
     "execution_count": 9,
     "metadata": {},
     "output_type": "execute_result"
    }
   ],
   "source": [
    "# Assign clusters to the data using the KMeans model\n",
    "result = s.assign_model(kmeans)\n",
    "result.head()"
   ]
  },
  {
   "cell_type": "markdown",
   "metadata": {},
   "source": [
    "### Clustering (dbscan)"
   ]
  },
  {
   "cell_type": "code",
   "execution_count": 10,
   "metadata": {},
   "outputs": [
    {
     "data": {
      "text/html": [],
      "text/plain": [
       "<IPython.core.display.HTML object>"
      ]
     },
     "metadata": {},
     "output_type": "display_data"
    },
    {
     "data": {
      "text/html": [],
      "text/plain": [
       "<IPython.core.display.HTML object>"
      ]
     },
     "metadata": {},
     "output_type": "display_data"
    },
    {
     "data": {
      "application/vnd.jupyter.widget-view+json": {
       "model_id": "af8e6330813547998fdc8a971b95b2c6",
       "version_major": 2,
       "version_minor": 0
      },
      "text/plain": [
       "Processing:   0%|          | 0/3 [00:00<?, ?it/s]"
      ]
     },
     "metadata": {},
     "output_type": "display_data"
    }
   ],
   "source": [
    "# Create a KMeans clustering model\n",
    "dbscan = s.create_model('dbscan')"
   ]
  },
  {
   "cell_type": "code",
   "execution_count": 11,
   "metadata": {},
   "outputs": [
    {
     "data": {
      "application/vnd.jupyter.widget-view+json": {
       "model_id": "7393603484304a48825be1ae0f4dbbcc",
       "version_major": 2,
       "version_minor": 0
      },
      "text/plain": [
       "interactive(children=(ToggleButtons(description='Plot Type:', icons=('',), options=(('Pipeline Plot', 'pipelin…"
      ]
     },
     "metadata": {},
     "output_type": "display_data"
    }
   ],
   "source": [
    "# Evaluate model\n",
    "s.evaluate_model(dbscan)"
   ]
  },
  {
   "cell_type": "markdown",
   "metadata": {},
   "source": [
    "### Model Evaluation"
   ]
  },
  {
   "cell_type": "code",
   "execution_count": 21,
   "metadata": {},
   "outputs": [
    {
     "name": "stdout",
     "output_type": "stream",
     "text": [
      "Found: 'What's Your Name' by 'Us Two' from the album 'What's Your Name'\n",
      "\n",
      "Audio Features:\n",
      "danceability: 0.777\n",
      "energy: 0.802\n",
      "key: 8\n",
      "loudness: -9.746\n",
      "mode: 1\n",
      "speechiness: 0.0466\n",
      "acousticness: 0.000495\n",
      "instrumentalness: 0.64\n",
      "liveness: 0.0937\n",
      "valence: 0.632\n",
      "tempo: 135.006\n",
      "type: audio_features\n",
      "id: 2hGFAk0wIN0HYOnKXLopC3\n",
      "uri: spotify:track:2hGFAk0wIN0HYOnKXLopC3\n",
      "track_href: https://api.spotify.com/v1/tracks/2hGFAk0wIN0HYOnKXLopC3\n",
      "analysis_url: https://api.spotify.com/v1/audio-analysis/2hGFAk0wIN0HYOnKXLopC3\n",
      "duration_ms: 444445\n",
      "time_signature: 4\n"
     ]
    }
   ],
   "source": [
    "# Create a Spotipy client with authentication\n",
    "auth_manager = SpotifyClientCredentials(client_id=\"2b515c69e6d541daa25d644bb844de11\", client_secret=\"654ce05e3e19462c8964065e3887b80f\")\n",
    "sp = spotipy.Spotify(auth_manager=auth_manager)\n",
    "\n",
    "# Define the artist and song name\n",
    "artist_name = \"Two Us\"\n",
    "song_name = \"What's Your Name\"\n",
    "\n",
    "# Search for the song\n",
    "results = sp.search(q=f\"artist:{artist_name} track:{song_name}\", type=\"track\", limit=1)\n",
    "\n",
    "# Check if any results were found\n",
    "if results[\"tracks\"][\"items\"]:\n",
    "    track = results[\"tracks\"][\"items\"][0]\n",
    "    track_name = track[\"name\"]\n",
    "    artist_name = track[\"artists\"][0][\"name\"]\n",
    "    album_name = track[\"album\"][\"name\"]\n",
    "    \n",
    "    # Print the basic track information\n",
    "    print(f\"Found: '{track_name}' by '{artist_name}' from the album '{album_name}'\")\n",
    "\n",
    "    # Get the track ID\n",
    "    track_id = track[\"id\"]\n",
    "\n",
    "    # Retrieve the audio features for the track\n",
    "    audio_features = sp.audio_features([track_id])[0]\n",
    "\n",
    "    # Print the audio features\n",
    "    print(\"\\nAudio Features:\")\n",
    "    for key, value in audio_features.items():\n",
    "        print(f\"{key}: {value}\")\n",
    "else:\n",
    "    print(\"Song not found.\")"
   ]
  },
  {
   "cell_type": "code",
   "execution_count": 22,
   "metadata": {},
   "outputs": [
    {
     "data": {
      "text/html": [
       "<div>\n",
       "<style scoped>\n",
       "    .dataframe tbody tr th:only-of-type {\n",
       "        vertical-align: middle;\n",
       "    }\n",
       "\n",
       "    .dataframe tbody tr th {\n",
       "        vertical-align: top;\n",
       "    }\n",
       "\n",
       "    .dataframe thead th {\n",
       "        text-align: right;\n",
       "    }\n",
       "</style>\n",
       "<table border=\"1\" class=\"dataframe\">\n",
       "  <thead>\n",
       "    <tr style=\"text-align: right;\">\n",
       "      <th></th>\n",
       "      <th>danceability</th>\n",
       "      <th>energy</th>\n",
       "      <th>key</th>\n",
       "      <th>loudness</th>\n",
       "      <th>mode</th>\n",
       "      <th>speechiness</th>\n",
       "      <th>acousticness</th>\n",
       "      <th>instrumentalness</th>\n",
       "      <th>liveness</th>\n",
       "      <th>valence</th>\n",
       "      <th>tempo</th>\n",
       "      <th>type</th>\n",
       "      <th>id</th>\n",
       "      <th>uri</th>\n",
       "      <th>track_href</th>\n",
       "      <th>analysis_url</th>\n",
       "      <th>duration_ms</th>\n",
       "      <th>time_signature</th>\n",
       "    </tr>\n",
       "  </thead>\n",
       "  <tbody>\n",
       "    <tr>\n",
       "      <th>0</th>\n",
       "      <td>0.777</td>\n",
       "      <td>0.802</td>\n",
       "      <td>8</td>\n",
       "      <td>-9.746</td>\n",
       "      <td>1</td>\n",
       "      <td>0.0466</td>\n",
       "      <td>0.000495</td>\n",
       "      <td>0.64</td>\n",
       "      <td>0.0937</td>\n",
       "      <td>0.632</td>\n",
       "      <td>135.006</td>\n",
       "      <td>audio_features</td>\n",
       "      <td>2hGFAk0wIN0HYOnKXLopC3</td>\n",
       "      <td>spotify:track:2hGFAk0wIN0HYOnKXLopC3</td>\n",
       "      <td>https://api.spotify.com/v1/tracks/2hGFAk0wIN0H...</td>\n",
       "      <td>https://api.spotify.com/v1/audio-analysis/2hGF...</td>\n",
       "      <td>444445</td>\n",
       "      <td>4</td>\n",
       "    </tr>\n",
       "  </tbody>\n",
       "</table>\n",
       "</div>"
      ],
      "text/plain": [
       "   danceability  energy  key  loudness  mode  speechiness  acousticness  \\\n",
       "0         0.777   0.802    8    -9.746     1       0.0466      0.000495   \n",
       "\n",
       "   instrumentalness  liveness  valence    tempo            type  \\\n",
       "0              0.64    0.0937    0.632  135.006  audio_features   \n",
       "\n",
       "                       id                                   uri  \\\n",
       "0  2hGFAk0wIN0HYOnKXLopC3  spotify:track:2hGFAk0wIN0HYOnKXLopC3   \n",
       "\n",
       "                                          track_href  \\\n",
       "0  https://api.spotify.com/v1/tracks/2hGFAk0wIN0H...   \n",
       "\n",
       "                                        analysis_url  duration_ms  \\\n",
       "0  https://api.spotify.com/v1/audio-analysis/2hGF...       444445   \n",
       "\n",
       "   time_signature  \n",
       "0               4  "
      ]
     },
     "execution_count": 22,
     "metadata": {},
     "output_type": "execute_result"
    }
   ],
   "source": [
    "# Create a dictionary to store the track information and audio features\n",
    "df_test = {\n",
    "        \"Track Name\": track_name,\n",
    "        \"Artist Name\": artist_name,\n",
    "        \"Album Name\": album_name\n",
    "        }\n",
    "results.update(audio_features)\n",
    "\n",
    "# Convert the dictionary to a DataFrame\n",
    "df_test = pd.DataFrame([results])\n",
    "\n",
    "# Dropping the \"tracks\" column\n",
    "df_test.drop(columns=['tracks'], inplace=True)\n",
    "df_test"
   ]
  },
  {
   "cell_type": "code",
   "execution_count": 23,
   "metadata": {},
   "outputs": [],
   "source": [
    "# Add \"Song\" and \"Artist\" column\n",
    "df_test.insert(0, 'Song', \"What's Your Name\")\n",
    "df_test.insert(1, 'Artist', \"Us Two\")"
   ]
  },
  {
   "cell_type": "code",
   "execution_count": 24,
   "metadata": {},
   "outputs": [],
   "source": [
    "# Add \"Cluster\" column\n",
    "df_test.insert(20, 'Cluster', \"\")"
   ]
  },
  {
   "cell_type": "code",
   "execution_count": 25,
   "metadata": {},
   "outputs": [
    {
     "data": {
      "text/plain": [
       "RandomForestClassifier(random_state=26)"
      ]
     },
     "execution_count": 25,
     "metadata": {},
     "output_type": "execute_result"
    }
   ],
   "source": [
    "# Split the data into features (X) and the target variable (y)\n",
    "X = result.drop(\"Cluster\", axis=1)\n",
    "y = result[\"Cluster\"]\n",
    "\n",
    "# Convert categorical variables into numerical using one-hot encoding\n",
    "X = pd.get_dummies(X)\n",
    "\n",
    "# Split the data into training and testing sets (80% train, 20% test)\n",
    "X_train, X_test, y_train, y_test = train_test_split(X, y, test_size=0.2, random_state=42)\n",
    "\n",
    "# Initialize the Random Forest Classifier\n",
    "rf_classifier = RandomForestClassifier(random_state=26)\n",
    "\n",
    "# Train the classifier on the training data\n",
    "rf_classifier.fit(X_train, y_train)"
   ]
  },
  {
   "cell_type": "code",
   "execution_count": 26,
   "metadata": {},
   "outputs": [
    {
     "name": "stdout",
     "output_type": "stream",
     "text": [
      "Accuracy: 0.9222222222222223\n",
      "Classification Report:\n",
      "              precision    recall  f1-score   support\n",
      "\n",
      "   Cluster 0       0.00      0.00      0.00         1\n",
      "   Cluster 1       0.94      0.93      0.93       100\n",
      "   Cluster 3       0.90      0.92      0.91        79\n",
      "\n",
      "    accuracy                           0.92       180\n",
      "   macro avg       0.61      0.62      0.62       180\n",
      "weighted avg       0.92      0.92      0.92       180\n",
      "\n"
     ]
    }
   ],
   "source": [
    "# Make predictions on the test set\n",
    "y_pred = rf_classifier.predict(X_test)\n",
    "\n",
    "# Calculate accuracy\n",
    "accuracy = accuracy_score(y_test, y_pred)\n",
    "print(\"Accuracy:\", accuracy)\n",
    "\n",
    "# Generate a classification report\n",
    "print(\"Classification Report:\")\n",
    "print(classification_report(y_test, y_pred))"
   ]
  },
  {
   "cell_type": "code",
   "execution_count": 27,
   "metadata": {},
   "outputs": [
    {
     "name": "stdout",
     "output_type": "stream",
     "text": [
      "Predicted Cluster: Cluster 1\n"
     ]
    }
   ],
   "source": [
    "# It turns the categorical variables (like workclass, education, etc.) into numerical values \n",
    "df_test = pd.get_dummies(df_test)\n",
    "\n",
    "# Reorder the columns in test_df to match the order in X_train\n",
    "df_test = df_test.reindex(columns=X.columns, fill_value=0)\n",
    "\n",
    "# Make predictions using the trained classifier\n",
    "predicted_cluster = rf_classifier.predict(df_test)\n",
    "\n",
    "print(\"Predicted Cluster:\", predicted_cluster[0])"
   ]
  },
  {
   "cell_type": "code",
   "execution_count": 32,
   "metadata": {},
   "outputs": [],
   "source": [
    "# Updated data\n",
    "result.to_csv(\"assets/output/spotify_clustering.csv\")"
   ]
  }
 ],
 "metadata": {
  "kernelspec": {
   "display_name": "Python 3",
   "language": "python",
   "name": "python3"
  },
  "language_info": {
   "codemirror_mode": {
    "name": "ipython",
    "version": 3
   },
   "file_extension": ".py",
   "mimetype": "text/x-python",
   "name": "python",
   "nbconvert_exporter": "python",
   "pygments_lexer": "ipython3",
   "version": "3.9.13"
  },
  "orig_nbformat": 4
 },
 "nbformat": 4,
 "nbformat_minor": 2
}

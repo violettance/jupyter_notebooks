{
 "cells": [
  {
   "cell_type": "markdown",
   "metadata": {},
   "source": [
    "## Unveiling Musical Patterns: Song Analysis and Likeness Prediction"
   ]
  },
  {
   "cell_type": "markdown",
   "metadata": {},
   "source": [
    "Description: Spotify Web API enables the creation of applications that can interact with Spotify's streaming service, such as retrieving content metadata, getting recommendations, creating and managing playlists, or controlling playback."
   ]
  },
  {
   "cell_type": "markdown",
   "metadata": {},
   "source": [
    "### Summary\n",
    "\n",
    "[The data](https://developer.spotify.com/documentation/web-api) will be accessed through Spotify."
   ]
  },
  {
   "cell_type": "markdown",
   "metadata": {},
   "source": [
    "### Importing Libraries"
   ]
  },
  {
   "cell_type": "code",
   "execution_count": 122,
   "metadata": {},
   "outputs": [],
   "source": [
    "import pandas as pd\n",
    "import spotipy\n",
    "from spotipy.oauth2 import SpotifyOAuth\n",
    "from spotipy.oauth2 import SpotifyClientCredentials\n",
    "import sys\n",
    "from pycaret.clustering import ClusteringExperiment\n",
    "import requests\n",
    "from sklearn.model_selection import train_test_split\n",
    "from sklearn.ensemble import RandomForestClassifier\n",
    "from sklearn.metrics import accuracy_score, classification_report, confusion_matrix\n",
    "from pycaret.classification import setup, compare_models, pull, save_model\n",
    "import time"
   ]
  },
  {
   "cell_type": "markdown",
   "metadata": {},
   "source": [
    "### Getting Data from API"
   ]
  },
  {
   "cell_type": "code",
   "execution_count": 132,
   "metadata": {},
   "outputs": [
    {
     "name": "stdout",
     "output_type": "stream",
     "text": [
      "New Fires Christian Löffler\n",
      "Welcome To The Opera (with Grimes) Anyma\n",
      "How To Listen To This Album Stereoclip\n",
      "Moment - Mahmut Orhan Remix PaulWetz\n",
      "Sign of the Times Harry Styles\n",
      "Delichones Anatolian Sessions\n",
      "Elinari Anatolian Sessions\n",
      "Elegy Madota\n",
      "Caminando de Noche Niko Schwind\n",
      "Only We Can See Sam Koxx\n",
      "Vesaire - Sezer Uysal Mix Mahmut Orhan\n",
      "Ordinary Friend Bob Moses\n",
      "Before I Fall Bob Moses\n",
      "Time and Time Again - Single Edit Bob Moses\n",
      "Afterglow Bob Moses\n",
      "Danza Anfisa Letyago\n",
      "Rosso Profondo Anfisa Letyago\n",
      "Tears of Bliss Giorgia Angiuli\n",
      "Outomorrow - Anyma, Kevin de Vries Remix KAS:ST\n",
      "Quiet Distortion - Bart Skils Remix Gregor Tresher\n",
      "Too Little Too Late - Little Late Edit Joris Voorn\n",
      "Paradise - Âme Remix mOat\n",
      "Self Control Laura Branigan\n",
      "Suçlarımdan Biri Güneş\n",
      "Mektup Motive\n",
      "Paranoya UZI\n",
      "Umutsuz Aşk Sözlü - Yalı Çapkını Original Soundtrack Güldiyar Tanrıdağlı\n",
      "Kalmak Daha Zor Güneş\n",
      "Shades Of Night Einmusik\n",
      "All You Leave Behind Ross Tones\n",
      "Diet Mountain Dew Lana Del Rey\n",
      "Claire Anyma\n",
      "Consciousness Anyma\n",
      "My City's On Fire - Notre Dame Remix Jimi Jules\n",
      "Bukk Landhouse\n",
      "NKBİ X YAPAMAM - Remix Lvbel C5\n",
      "Gitme Bebé Güneş\n",
      "The Story About Us Sezer Uysal\n",
      "Love Me More Sam Smith\n",
      "Unholy (feat. Kim Petras) - Orchestral Version Sam Smith\n",
      "Unholy (feat. Kim Petras) Sam Smith\n",
      "Lacrimosa Matt Kent\n",
      "exile (feat. Bon Iver) Taylor Swift\n",
      "Kalbe Ben Ayse Hatun Onal\n",
      "Geçmiş Değişmez - Sezer Uysal Remix Deeperise\n",
      "My Own Time Darin Epsilon\n",
      "Indigo Night Tamino\n",
      "Where’s My Love - Alternate Version SYML\n",
      "Beauty And The Beast The Mayan Factor\n",
      "Rodrigo: Concierto de Aranjuez: II. Adagio Joaquín Rodrigo\n",
      "Danse Macabre, Op. 40, R.171 Camille Saint-Saëns\n",
      "Suite No. 3 in D Major, BWV 1068: II. Air Johann Sebastian Bach\n",
      "Kill Kill SLX1PUD\n",
      "Tulsa Jesus Freak Lana Del Rey\n",
      "Temperateness Monday in Neptune\n",
      "Paradise Rui Reis Maia\n",
      "Soldier of Fortune Opeth\n",
      "Alâim-i Semâ: The Cry of the Flamingos Şirin Pancaroğlu\n",
      "Fjäll Christian Löffler\n",
      "a new sun No Clear Mind\n",
      "Les Vitrines Kid Francescoli\n",
      "Blow Up Kid Francescoli\n",
      "Araf - Extended Mix Sezer Uysal\n",
      "Who Died and Made You King Sascha Braemer\n",
      "Robots Landhouse\n",
      "Breathing Ben Böhmer\n",
      "Istanbul BuVu\n",
      "Gamma NTO\n",
      "Moldau Christian Löffler\n",
      "Solo - Solomun Remix Christian Löffler\n",
      "Sorry Röyksopp\n",
      "A New Error Moderat\n",
      "Through The Echoes Paolo Nutini\n",
      "Moon After Moon WhoMadeWho\n",
      "Fata Morgana Deniz Bul\n",
      "Gravity Boris Brejcha\n",
      "Enfantillages pittoresques: II. Berceuse - Christian Löffler Rework (FRAGMENTS / Erik Satie) Christian Löffler\n",
      "Moldau Christian Löffler\n",
      "Eclipse MOTVS\n",
      "Amnesia - Slowed+Reverb LonMady\n",
      "Sıradan Hayat Canozan\n",
      "Eftelya - Akustik Canozan\n",
      "Hayat Gemileri Beyza Doğuç\n",
      "Bil ki Hedonutopia\n",
      "Kaçır aklımı yerinden Canozan\n",
      "The Craze Deniz Bul\n",
      "Picnic Digitalism\n",
      "The Labyrinth Song Asaf Avidan\n",
      "Za Milena J. Moriarty\n",
      "June Echonomist\n",
      "Loving You Like Always - Rodriguez Jr. Remix NTO\n",
      "Does She? Kid Francescoli\n",
      "el cielo no es de nadie - Edit Ela Minus\n",
      "Cosmic Information - Radio Edit RooneyNasr\n",
      "Synthetic Soul Jaffer\n",
      "Granville Frank Wiedemann\n",
      "Silence & Secrets - Frank Wiedemann Version WhoMadeWho\n",
      "Brain Wax Roy Blues\n",
      "Ubud - Original Pattern Drama\n",
      "Wrecked - 65daysofstatic Remix Kiasmos\n"
     ]
    }
   ],
   "source": [
    "# Replace YOUR_CLIENT_ID, YOUR_CLIENT_SECRET, and YOUR_REDIRECT_URI with your credentials\n",
    "sp = spotipy.Spotify(auth_manager=SpotifyOAuth(client_id='2b515c69e6d541daa25d644bb844de11',\n",
    "                                               client_secret='654ce05e3e19462c8964065e3887b80f',\n",
    "                                               redirect_uri='http://localhost:8080',\n",
    "                                               scope='user-library-read'))\n",
    "\n",
    "# Lists to store song names, artist names, and song details\n",
    "song_names = []\n",
    "artist_names = []\n",
    "song_details = []\n",
    "\n",
    "# Set the number of songs you want to retrieve (in this case, 700)\n",
    "desired_number_of_songs = 100\n",
    "songs_per_request = 50\n",
    "\n",
    "while len(song_names) < desired_number_of_songs:\n",
    "    remaining_songs = desired_number_of_songs - len(song_names)\n",
    "    current_limit = min(remaining_songs, songs_per_request)\n",
    "\n",
    "    results = sp.current_user_saved_tracks(limit=current_limit, offset=len(song_names))\n",
    "\n",
    "    if len(results['items']) == 0:\n",
    "        # No more songs to retrieve\n",
    "        break\n",
    "\n",
    "    for item in results['items']:\n",
    "        track = item['track']\n",
    "        song_names.append(track['name'])\n",
    "        artist_names.append(track['artists'][0]['name'])\n",
    "        song_details.append(track['id'])  # Store the track ID for getting details later\n",
    "        print(track['name'], track['artists'][0]['name'])\n",
    "\n",
    "    # Sleep for 45 seconds before the next batch request\n",
    "    time.sleep(30)"
   ]
  },
  {
   "cell_type": "code",
   "execution_count": null,
   "metadata": {},
   "outputs": [],
   "source": [
    "# Get detailed information for each song using the audio_features endpoint\n",
    "song_audio_features = sp.audio_features(tracks=song_details)\n",
    "\n",
    "# Create the DataFrame\n",
    "df = pd.DataFrame({'Song': song_names, 'Artist': artist_names, 'Details': song_audio_features})\n",
    "df"
   ]
  },
  {
   "cell_type": "code",
   "execution_count": null,
   "metadata": {},
   "outputs": [],
   "source": [
    "# Use the apply method to create separate columns for each audio feature\n",
    "df = pd.concat([df.drop(['Details'], axis=1), df['Details'].apply(pd.Series)], axis=1)"
   ]
  },
  {
   "cell_type": "markdown",
   "metadata": {},
   "source": [
    "### Clustering (k-means)"
   ]
  },
  {
   "cell_type": "code",
   "execution_count": null,
   "metadata": {},
   "outputs": [
    {
     "data": {
      "text/html": [
       "<style type=\"text/css\">\n",
       "#T_5830b_row5_col1, #T_5830b_row11_col1 {\n",
       "  background-color: lightgreen;\n",
       "}\n",
       "</style>\n",
       "<table id=\"T_5830b_\">\n",
       "  <thead>\n",
       "    <tr>\n",
       "      <th class=\"blank level0\" >&nbsp;</th>\n",
       "      <th class=\"col_heading level0 col0\" >Description</th>\n",
       "      <th class=\"col_heading level0 col1\" >Value</th>\n",
       "    </tr>\n",
       "  </thead>\n",
       "  <tbody>\n",
       "    <tr>\n",
       "      <th id=\"T_5830b_level0_row0\" class=\"row_heading level0 row0\" >0</th>\n",
       "      <td id=\"T_5830b_row0_col0\" class=\"data row0 col0\" >Session id</td>\n",
       "      <td id=\"T_5830b_row0_col1\" class=\"data row0 col1\" >4454</td>\n",
       "    </tr>\n",
       "    <tr>\n",
       "      <th id=\"T_5830b_level0_row1\" class=\"row_heading level0 row1\" >1</th>\n",
       "      <td id=\"T_5830b_row1_col0\" class=\"data row1 col0\" >Original data shape</td>\n",
       "      <td id=\"T_5830b_row1_col1\" class=\"data row1 col1\" >(50, 20)</td>\n",
       "    </tr>\n",
       "    <tr>\n",
       "      <th id=\"T_5830b_level0_row2\" class=\"row_heading level0 row2\" >2</th>\n",
       "      <td id=\"T_5830b_row2_col0\" class=\"data row2 col0\" >Transformed data shape</td>\n",
       "      <td id=\"T_5830b_row2_col1\" class=\"data row2 col1\" >(50, 303)</td>\n",
       "    </tr>\n",
       "    <tr>\n",
       "      <th id=\"T_5830b_level0_row3\" class=\"row_heading level0 row3\" >3</th>\n",
       "      <td id=\"T_5830b_row3_col0\" class=\"data row3 col0\" >Numeric features</td>\n",
       "      <td id=\"T_5830b_row3_col1\" class=\"data row3 col1\" >13</td>\n",
       "    </tr>\n",
       "    <tr>\n",
       "      <th id=\"T_5830b_level0_row4\" class=\"row_heading level0 row4\" >4</th>\n",
       "      <td id=\"T_5830b_row4_col0\" class=\"data row4 col0\" >Categorical features</td>\n",
       "      <td id=\"T_5830b_row4_col1\" class=\"data row4 col1\" >7</td>\n",
       "    </tr>\n",
       "    <tr>\n",
       "      <th id=\"T_5830b_level0_row5\" class=\"row_heading level0 row5\" >5</th>\n",
       "      <td id=\"T_5830b_row5_col0\" class=\"data row5 col0\" >Preprocess</td>\n",
       "      <td id=\"T_5830b_row5_col1\" class=\"data row5 col1\" >True</td>\n",
       "    </tr>\n",
       "    <tr>\n",
       "      <th id=\"T_5830b_level0_row6\" class=\"row_heading level0 row6\" >6</th>\n",
       "      <td id=\"T_5830b_row6_col0\" class=\"data row6 col0\" >Imputation type</td>\n",
       "      <td id=\"T_5830b_row6_col1\" class=\"data row6 col1\" >simple</td>\n",
       "    </tr>\n",
       "    <tr>\n",
       "      <th id=\"T_5830b_level0_row7\" class=\"row_heading level0 row7\" >7</th>\n",
       "      <td id=\"T_5830b_row7_col0\" class=\"data row7 col0\" >Numeric imputation</td>\n",
       "      <td id=\"T_5830b_row7_col1\" class=\"data row7 col1\" >mean</td>\n",
       "    </tr>\n",
       "    <tr>\n",
       "      <th id=\"T_5830b_level0_row8\" class=\"row_heading level0 row8\" >8</th>\n",
       "      <td id=\"T_5830b_row8_col0\" class=\"data row8 col0\" >Categorical imputation</td>\n",
       "      <td id=\"T_5830b_row8_col1\" class=\"data row8 col1\" >mode</td>\n",
       "    </tr>\n",
       "    <tr>\n",
       "      <th id=\"T_5830b_level0_row9\" class=\"row_heading level0 row9\" >9</th>\n",
       "      <td id=\"T_5830b_row9_col0\" class=\"data row9 col0\" >Maximum one-hot encoding</td>\n",
       "      <td id=\"T_5830b_row9_col1\" class=\"data row9 col1\" >-1</td>\n",
       "    </tr>\n",
       "    <tr>\n",
       "      <th id=\"T_5830b_level0_row10\" class=\"row_heading level0 row10\" >10</th>\n",
       "      <td id=\"T_5830b_row10_col0\" class=\"data row10 col0\" >Encoding method</td>\n",
       "      <td id=\"T_5830b_row10_col1\" class=\"data row10 col1\" >None</td>\n",
       "    </tr>\n",
       "    <tr>\n",
       "      <th id=\"T_5830b_level0_row11\" class=\"row_heading level0 row11\" >11</th>\n",
       "      <td id=\"T_5830b_row11_col0\" class=\"data row11 col0\" >Normalize</td>\n",
       "      <td id=\"T_5830b_row11_col1\" class=\"data row11 col1\" >True</td>\n",
       "    </tr>\n",
       "    <tr>\n",
       "      <th id=\"T_5830b_level0_row12\" class=\"row_heading level0 row12\" >12</th>\n",
       "      <td id=\"T_5830b_row12_col0\" class=\"data row12 col0\" >Normalize method</td>\n",
       "      <td id=\"T_5830b_row12_col1\" class=\"data row12 col1\" >zscore</td>\n",
       "    </tr>\n",
       "    <tr>\n",
       "      <th id=\"T_5830b_level0_row13\" class=\"row_heading level0 row13\" >13</th>\n",
       "      <td id=\"T_5830b_row13_col0\" class=\"data row13 col0\" >CPU Jobs</td>\n",
       "      <td id=\"T_5830b_row13_col1\" class=\"data row13 col1\" >-1</td>\n",
       "    </tr>\n",
       "    <tr>\n",
       "      <th id=\"T_5830b_level0_row14\" class=\"row_heading level0 row14\" >14</th>\n",
       "      <td id=\"T_5830b_row14_col0\" class=\"data row14 col0\" >Use GPU</td>\n",
       "      <td id=\"T_5830b_row14_col1\" class=\"data row14 col1\" >False</td>\n",
       "    </tr>\n",
       "    <tr>\n",
       "      <th id=\"T_5830b_level0_row15\" class=\"row_heading level0 row15\" >15</th>\n",
       "      <td id=\"T_5830b_row15_col0\" class=\"data row15 col0\" >Log Experiment</td>\n",
       "      <td id=\"T_5830b_row15_col1\" class=\"data row15 col1\" >False</td>\n",
       "    </tr>\n",
       "    <tr>\n",
       "      <th id=\"T_5830b_level0_row16\" class=\"row_heading level0 row16\" >16</th>\n",
       "      <td id=\"T_5830b_row16_col0\" class=\"data row16 col0\" >Experiment Name</td>\n",
       "      <td id=\"T_5830b_row16_col1\" class=\"data row16 col1\" >cluster-default-name</td>\n",
       "    </tr>\n",
       "    <tr>\n",
       "      <th id=\"T_5830b_level0_row17\" class=\"row_heading level0 row17\" >17</th>\n",
       "      <td id=\"T_5830b_row17_col0\" class=\"data row17 col0\" >USI</td>\n",
       "      <td id=\"T_5830b_row17_col1\" class=\"data row17 col1\" >74a0</td>\n",
       "    </tr>\n",
       "  </tbody>\n",
       "</table>\n"
      ],
      "text/plain": [
       "<pandas.io.formats.style.Styler at 0x7f9fcd8d9430>"
      ]
     },
     "metadata": {},
     "output_type": "display_data"
    },
    {
     "data": {
      "text/plain": [
       "<pycaret.clustering.oop.ClusteringExperiment at 0x7f9fcd8d4af0>"
      ]
     },
     "execution_count": 114,
     "metadata": {},
     "output_type": "execute_result"
    }
   ],
   "source": [
    "# Initialize the ClusteringExperiment and set up the environment\n",
    "s = ClusteringExperiment()\n",
    "s.setup(df, normalize = True)"
   ]
  },
  {
   "cell_type": "code",
   "execution_count": null,
   "metadata": {},
   "outputs": [
    {
     "data": {
      "text/html": [],
      "text/plain": [
       "<IPython.core.display.HTML object>"
      ]
     },
     "metadata": {},
     "output_type": "display_data"
    },
    {
     "data": {
      "text/html": [],
      "text/plain": [
       "<IPython.core.display.HTML object>"
      ]
     },
     "metadata": {},
     "output_type": "display_data"
    },
    {
     "data": {
      "application/vnd.jupyter.widget-view+json": {
       "model_id": "b6d5bef40788415eade0ba00c3752d1b",
       "version_major": 2,
       "version_minor": 0
      },
      "text/plain": [
       "Processing:   0%|          | 0/3 [00:00<?, ?it/s]"
      ]
     },
     "metadata": {},
     "output_type": "display_data"
    }
   ],
   "source": [
    "# Create a KMeans clustering model\n",
    "kmeans = s.create_model('kmeans')"
   ]
  },
  {
   "cell_type": "code",
   "execution_count": null,
   "metadata": {},
   "outputs": [
    {
     "data": {
      "application/vnd.jupyter.widget-view+json": {
       "model_id": "b2ba57fe0acb48c5a4317526fc3ed1dd",
       "version_major": 2,
       "version_minor": 0
      },
      "text/plain": [
       "interactive(children=(ToggleButtons(description='Plot Type:', icons=('',), options=(('Pipeline Plot', 'pipelin…"
      ]
     },
     "metadata": {},
     "output_type": "display_data"
    },
    {
     "data": {
      "application/vnd.plotly.v1+json": {
       "config": {
        "plotlyServerURL": "https://plot.ly"
       },
       "data": [
        {
         "customdata": [
          [
           "Lacrimosa"
          ]
         ],
         "hovertemplate": "Cluster=Cluster 0<br>0=%{x}<br>1=%{y}<br>2=%{z}<br>Feature=%{customdata[0]}<extra></extra>",
         "legendgroup": "Cluster 0",
         "marker": {
          "color": "#636efa",
          "opacity": 0.7,
          "symbol": "circle"
         },
         "mode": "markers",
         "name": "Cluster 0",
         "scene": "scene",
         "showlegend": true,
         "type": "scatter3d",
         "x": [
          -155.88466
         ],
         "y": [
          -62.9264
         ],
         "z": [
          17.888712
         ]
        },
        {
         "customdata": [
          [
           "Danza"
          ],
          [
           "Rosso Profondo"
          ],
          [
           "Diet Mountain Dew"
          ]
         ],
         "hovertemplate": "Cluster=Cluster 1<br>0=%{x}<br>1=%{y}<br>2=%{z}<br>Feature=%{customdata[0]}<extra></extra>",
         "legendgroup": "Cluster 1",
         "marker": {
          "color": "#EF553B",
          "opacity": 0.7,
          "symbol": "circle"
         },
         "mode": "markers",
         "name": "Cluster 1",
         "scene": "scene",
         "showlegend": true,
         "type": "scatter3d",
         "x": [
          173.98409,
          141.92747,
          236.2812
         ],
         "y": [
          -50.69448,
          0.57023436,
          77.99598
         ],
         "z": [
          -60.955074,
          216.67735,
          -129.46268
         ]
        },
        {
         "customdata": [
          [
           "Sign of the Times"
          ],
          [
           "Kalmak Daha Zor"
          ],
          [
           "My City's On Fire - Notre Dame Remix"
          ],
          [
           "Paranoya"
          ],
          [
           "Beauty And The Beast"
          ],
          [
           "Suçlarımdan Biri"
          ],
          [
           "Self Control"
          ],
          [
           "NKBİ X YAPAMAM - Remix"
          ],
          [
           "Gitme Bebé"
          ],
          [
           "Afterglow"
          ],
          [
           "Love Me More"
          ],
          [
           "Before I Fall"
          ],
          [
           "Ordinary Friend"
          ],
          [
           "Unholy (feat. Kim Petras) - Orchestral Version"
          ],
          [
           "exile (feat. Bon Iver)"
          ],
          [
           "Time and Time Again - Single Edit"
          ],
          [
           "Mektup"
          ]
         ],
         "hovertemplate": "Cluster=Cluster 2<br>0=%{x}<br>1=%{y}<br>2=%{z}<br>Feature=%{customdata[0]}<extra></extra>",
         "legendgroup": "Cluster 2",
         "marker": {
          "color": "#00cc96",
          "opacity": 0.7,
          "symbol": "circle"
         },
         "mode": "markers",
         "name": "Cluster 2",
         "scene": "scene",
         "showlegend": true,
         "type": "scatter3d",
         "x": [
          122.601234,
          -186.05754,
          -51.357735,
          -105.339066,
          -230.76863,
          56.874912,
          112.10961,
          -129.92068,
          -145.15826,
          -225.24771,
          -166.28192,
          -91.95594,
          32.045185,
          104.92463,
          -6.7624745,
          605.91205,
          111.45097
         ],
         "y": [
          14.021814,
          49.42946,
          -131.00351,
          156.90443,
          49.02095,
          -111.20503,
          76.758545,
          224.76654,
          117.61635,
          173.77649,
          -148.34552,
          320.60742,
          262.4903,
          5.280498,
          -149.53326,
          -426.06882,
          -95.78071
         ],
         "z": [
          68.06215,
          -28.594784,
          69.79438,
          142.78928,
          98.6539,
          262.757,
          -53.68185,
          26.844736,
          -94.946396,
          -33.69946,
          127.09407,
          -142.29578,
          -32.384743,
          -171.05965,
          -224.17355,
          446.5373,
          141.56113
         ]
        },
        {
         "customdata": [
          [
           "Claire"
          ],
          [
           "Where’s My Love - Alternate Version"
          ],
          [
           "My Own Time"
          ],
          [
           "The Story About Us"
          ],
          [
           "Bukk"
          ],
          [
           "Unholy (feat. Kim Petras)"
          ],
          [
           "Indigo Night"
          ],
          [
           "Kalbe Ben"
          ],
          [
           "Geçmiş Değişmez - Sezer Uysal Remix"
          ],
          [
           "Consciousness"
          ],
          [
           "New Fires"
          ],
          [
           "Shades Of Night"
          ],
          [
           "Welcome To The Opera (with Grimes)"
          ],
          [
           "How To Listen To This Album"
          ],
          [
           "Moment - Mahmut Orhan Remix"
          ],
          [
           "Delichones"
          ],
          [
           "Elinari"
          ],
          [
           "Elegy"
          ],
          [
           "Caminando de Noche"
          ],
          [
           "Only We Can See"
          ],
          [
           "Vesaire - Sezer Uysal Mix"
          ],
          [
           "Tears of Bliss"
          ],
          [
           "Outomorrow - Anyma, Kevin de Vries Remix"
          ],
          [
           "Quiet Distortion - Bart Skils Remix"
          ],
          [
           "Too Little Too Late - Little Late Edit"
          ],
          [
           "Paradise - Âme Remix"
          ],
          [
           "Umutsuz Aşk Sözlü - Yalı Çapkını Original Soundtrack"
          ],
          [
           "All You Leave Behind"
          ],
          [
           "Rodrigo: Concierto de Aranjuez: II. Adagio"
          ]
         ],
         "hovertemplate": "Cluster=Cluster 3<br>0=%{x}<br>1=%{y}<br>2=%{z}<br>Feature=%{customdata[0]}<extra></extra>",
         "legendgroup": "Cluster 3",
         "marker": {
          "color": "#ab63fa",
          "opacity": 0.7,
          "symbol": "circle"
         },
         "mode": "markers",
         "name": "Cluster 3",
         "scene": "scene",
         "showlegend": true,
         "type": "scatter3d",
         "x": [
          942.46967,
          -152.65211,
          184.30482,
          55.21617,
          24.31121,
          69.95451,
          -72.292145,
          154.63428,
          -278.37527,
          257.07315,
          -81.048996,
          -83.51275,
          233.85252,
          153.78606,
          -139.73907,
          11.58082,
          -3.032422,
          82.12093,
          31.50171,
          -15.9139805,
          -45.00263,
          60.258972,
          13.695218,
          -21.485077,
          -34.223072,
          96.20027,
          -58.38598,
          -117.345436,
          -197.03424
         ],
         "y": [
          604.9186,
          -207.9872,
          -172.87375,
          229.4221,
          -240.89555,
          121.35169,
          -220.57524,
          124.99346,
          -66.99746,
          -37.280754,
          60.044605,
          -81.50294,
          76.29856,
          203.26088,
          1.067801,
          95.4824,
          7.5375786,
          -226.16193,
          116.76771,
          -9.967424,
          75.76985,
          -100.263565,
          -10.791558,
          -9.844385,
          177.0261,
          -141.23344,
          -148.42137,
          103.73388,
          -25.415648
         ],
         "z": [
          320.9787,
          -2.3879611,
          14.939304,
          114.41896,
          -4.940011,
          -170.53421,
          -111.894585,
          156.0375,
          -34.643806,
          40.94758,
          21.266502,
          -102.910614,
          26.527578,
          -37.033382,
          197.82301,
          177.63731,
          224.62146,
          136.1847,
          43.926792,
          96.07514,
          -130.75073,
          12.725719,
          -59.453503,
          -224.90303,
          -60.10388,
          -124.90146,
          207.39192,
          -247.74004,
          -166.8671
         ]
        }
       ],
       "layout": {
        "height": 800,
        "legend": {
         "title": {
          "text": "Cluster"
         },
         "tracegroupgap": 0
        },
        "scene": {
         "domain": {
          "x": [
           0,
           1
          ],
          "y": [
           0,
           1
          ]
         },
         "xaxis": {
          "title": {
           "text": "0"
          }
         },
         "yaxis": {
          "title": {
           "text": "1"
          }
         },
         "zaxis": {
          "title": {
           "text": "2"
          }
         }
        },
        "template": {
         "data": {
          "bar": [
           {
            "error_x": {
             "color": "#2a3f5f"
            },
            "error_y": {
             "color": "#2a3f5f"
            },
            "marker": {
             "line": {
              "color": "#E5ECF6",
              "width": 0.5
             },
             "pattern": {
              "fillmode": "overlay",
              "size": 10,
              "solidity": 0.2
             }
            },
            "type": "bar"
           }
          ],
          "barpolar": [
           {
            "marker": {
             "line": {
              "color": "#E5ECF6",
              "width": 0.5
             },
             "pattern": {
              "fillmode": "overlay",
              "size": 10,
              "solidity": 0.2
             }
            },
            "type": "barpolar"
           }
          ],
          "carpet": [
           {
            "aaxis": {
             "endlinecolor": "#2a3f5f",
             "gridcolor": "white",
             "linecolor": "white",
             "minorgridcolor": "white",
             "startlinecolor": "#2a3f5f"
            },
            "baxis": {
             "endlinecolor": "#2a3f5f",
             "gridcolor": "white",
             "linecolor": "white",
             "minorgridcolor": "white",
             "startlinecolor": "#2a3f5f"
            },
            "type": "carpet"
           }
          ],
          "choropleth": [
           {
            "colorbar": {
             "outlinewidth": 0,
             "ticks": ""
            },
            "type": "choropleth"
           }
          ],
          "contour": [
           {
            "colorbar": {
             "outlinewidth": 0,
             "ticks": ""
            },
            "colorscale": [
             [
              0,
              "#0d0887"
             ],
             [
              0.1111111111111111,
              "#46039f"
             ],
             [
              0.2222222222222222,
              "#7201a8"
             ],
             [
              0.3333333333333333,
              "#9c179e"
             ],
             [
              0.4444444444444444,
              "#bd3786"
             ],
             [
              0.5555555555555556,
              "#d8576b"
             ],
             [
              0.6666666666666666,
              "#ed7953"
             ],
             [
              0.7777777777777778,
              "#fb9f3a"
             ],
             [
              0.8888888888888888,
              "#fdca26"
             ],
             [
              1,
              "#f0f921"
             ]
            ],
            "type": "contour"
           }
          ],
          "contourcarpet": [
           {
            "colorbar": {
             "outlinewidth": 0,
             "ticks": ""
            },
            "type": "contourcarpet"
           }
          ],
          "heatmap": [
           {
            "colorbar": {
             "outlinewidth": 0,
             "ticks": ""
            },
            "colorscale": [
             [
              0,
              "#0d0887"
             ],
             [
              0.1111111111111111,
              "#46039f"
             ],
             [
              0.2222222222222222,
              "#7201a8"
             ],
             [
              0.3333333333333333,
              "#9c179e"
             ],
             [
              0.4444444444444444,
              "#bd3786"
             ],
             [
              0.5555555555555556,
              "#d8576b"
             ],
             [
              0.6666666666666666,
              "#ed7953"
             ],
             [
              0.7777777777777778,
              "#fb9f3a"
             ],
             [
              0.8888888888888888,
              "#fdca26"
             ],
             [
              1,
              "#f0f921"
             ]
            ],
            "type": "heatmap"
           }
          ],
          "heatmapgl": [
           {
            "colorbar": {
             "outlinewidth": 0,
             "ticks": ""
            },
            "colorscale": [
             [
              0,
              "#0d0887"
             ],
             [
              0.1111111111111111,
              "#46039f"
             ],
             [
              0.2222222222222222,
              "#7201a8"
             ],
             [
              0.3333333333333333,
              "#9c179e"
             ],
             [
              0.4444444444444444,
              "#bd3786"
             ],
             [
              0.5555555555555556,
              "#d8576b"
             ],
             [
              0.6666666666666666,
              "#ed7953"
             ],
             [
              0.7777777777777778,
              "#fb9f3a"
             ],
             [
              0.8888888888888888,
              "#fdca26"
             ],
             [
              1,
              "#f0f921"
             ]
            ],
            "type": "heatmapgl"
           }
          ],
          "histogram": [
           {
            "marker": {
             "pattern": {
              "fillmode": "overlay",
              "size": 10,
              "solidity": 0.2
             }
            },
            "type": "histogram"
           }
          ],
          "histogram2d": [
           {
            "colorbar": {
             "outlinewidth": 0,
             "ticks": ""
            },
            "colorscale": [
             [
              0,
              "#0d0887"
             ],
             [
              0.1111111111111111,
              "#46039f"
             ],
             [
              0.2222222222222222,
              "#7201a8"
             ],
             [
              0.3333333333333333,
              "#9c179e"
             ],
             [
              0.4444444444444444,
              "#bd3786"
             ],
             [
              0.5555555555555556,
              "#d8576b"
             ],
             [
              0.6666666666666666,
              "#ed7953"
             ],
             [
              0.7777777777777778,
              "#fb9f3a"
             ],
             [
              0.8888888888888888,
              "#fdca26"
             ],
             [
              1,
              "#f0f921"
             ]
            ],
            "type": "histogram2d"
           }
          ],
          "histogram2dcontour": [
           {
            "colorbar": {
             "outlinewidth": 0,
             "ticks": ""
            },
            "colorscale": [
             [
              0,
              "#0d0887"
             ],
             [
              0.1111111111111111,
              "#46039f"
             ],
             [
              0.2222222222222222,
              "#7201a8"
             ],
             [
              0.3333333333333333,
              "#9c179e"
             ],
             [
              0.4444444444444444,
              "#bd3786"
             ],
             [
              0.5555555555555556,
              "#d8576b"
             ],
             [
              0.6666666666666666,
              "#ed7953"
             ],
             [
              0.7777777777777778,
              "#fb9f3a"
             ],
             [
              0.8888888888888888,
              "#fdca26"
             ],
             [
              1,
              "#f0f921"
             ]
            ],
            "type": "histogram2dcontour"
           }
          ],
          "mesh3d": [
           {
            "colorbar": {
             "outlinewidth": 0,
             "ticks": ""
            },
            "type": "mesh3d"
           }
          ],
          "parcoords": [
           {
            "line": {
             "colorbar": {
              "outlinewidth": 0,
              "ticks": ""
             }
            },
            "type": "parcoords"
           }
          ],
          "pie": [
           {
            "automargin": true,
            "type": "pie"
           }
          ],
          "scatter": [
           {
            "fillpattern": {
             "fillmode": "overlay",
             "size": 10,
             "solidity": 0.2
            },
            "type": "scatter"
           }
          ],
          "scatter3d": [
           {
            "line": {
             "colorbar": {
              "outlinewidth": 0,
              "ticks": ""
             }
            },
            "marker": {
             "colorbar": {
              "outlinewidth": 0,
              "ticks": ""
             }
            },
            "type": "scatter3d"
           }
          ],
          "scattercarpet": [
           {
            "marker": {
             "colorbar": {
              "outlinewidth": 0,
              "ticks": ""
             }
            },
            "type": "scattercarpet"
           }
          ],
          "scattergeo": [
           {
            "marker": {
             "colorbar": {
              "outlinewidth": 0,
              "ticks": ""
             }
            },
            "type": "scattergeo"
           }
          ],
          "scattergl": [
           {
            "marker": {
             "colorbar": {
              "outlinewidth": 0,
              "ticks": ""
             }
            },
            "type": "scattergl"
           }
          ],
          "scattermapbox": [
           {
            "marker": {
             "colorbar": {
              "outlinewidth": 0,
              "ticks": ""
             }
            },
            "type": "scattermapbox"
           }
          ],
          "scatterpolar": [
           {
            "marker": {
             "colorbar": {
              "outlinewidth": 0,
              "ticks": ""
             }
            },
            "type": "scatterpolar"
           }
          ],
          "scatterpolargl": [
           {
            "marker": {
             "colorbar": {
              "outlinewidth": 0,
              "ticks": ""
             }
            },
            "type": "scatterpolargl"
           }
          ],
          "scatterternary": [
           {
            "marker": {
             "colorbar": {
              "outlinewidth": 0,
              "ticks": ""
             }
            },
            "type": "scatterternary"
           }
          ],
          "surface": [
           {
            "colorbar": {
             "outlinewidth": 0,
             "ticks": ""
            },
            "colorscale": [
             [
              0,
              "#0d0887"
             ],
             [
              0.1111111111111111,
              "#46039f"
             ],
             [
              0.2222222222222222,
              "#7201a8"
             ],
             [
              0.3333333333333333,
              "#9c179e"
             ],
             [
              0.4444444444444444,
              "#bd3786"
             ],
             [
              0.5555555555555556,
              "#d8576b"
             ],
             [
              0.6666666666666666,
              "#ed7953"
             ],
             [
              0.7777777777777778,
              "#fb9f3a"
             ],
             [
              0.8888888888888888,
              "#fdca26"
             ],
             [
              1,
              "#f0f921"
             ]
            ],
            "type": "surface"
           }
          ],
          "table": [
           {
            "cells": {
             "fill": {
              "color": "#EBF0F8"
             },
             "line": {
              "color": "white"
             }
            },
            "header": {
             "fill": {
              "color": "#C8D4E3"
             },
             "line": {
              "color": "white"
             }
            },
            "type": "table"
           }
          ]
         },
         "layout": {
          "annotationdefaults": {
           "arrowcolor": "#2a3f5f",
           "arrowhead": 0,
           "arrowwidth": 1
          },
          "autotypenumbers": "strict",
          "coloraxis": {
           "colorbar": {
            "outlinewidth": 0,
            "ticks": ""
           }
          },
          "colorscale": {
           "diverging": [
            [
             0,
             "#8e0152"
            ],
            [
             0.1,
             "#c51b7d"
            ],
            [
             0.2,
             "#de77ae"
            ],
            [
             0.3,
             "#f1b6da"
            ],
            [
             0.4,
             "#fde0ef"
            ],
            [
             0.5,
             "#f7f7f7"
            ],
            [
             0.6,
             "#e6f5d0"
            ],
            [
             0.7,
             "#b8e186"
            ],
            [
             0.8,
             "#7fbc41"
            ],
            [
             0.9,
             "#4d9221"
            ],
            [
             1,
             "#276419"
            ]
           ],
           "sequential": [
            [
             0,
             "#0d0887"
            ],
            [
             0.1111111111111111,
             "#46039f"
            ],
            [
             0.2222222222222222,
             "#7201a8"
            ],
            [
             0.3333333333333333,
             "#9c179e"
            ],
            [
             0.4444444444444444,
             "#bd3786"
            ],
            [
             0.5555555555555556,
             "#d8576b"
            ],
            [
             0.6666666666666666,
             "#ed7953"
            ],
            [
             0.7777777777777778,
             "#fb9f3a"
            ],
            [
             0.8888888888888888,
             "#fdca26"
            ],
            [
             1,
             "#f0f921"
            ]
           ],
           "sequentialminus": [
            [
             0,
             "#0d0887"
            ],
            [
             0.1111111111111111,
             "#46039f"
            ],
            [
             0.2222222222222222,
             "#7201a8"
            ],
            [
             0.3333333333333333,
             "#9c179e"
            ],
            [
             0.4444444444444444,
             "#bd3786"
            ],
            [
             0.5555555555555556,
             "#d8576b"
            ],
            [
             0.6666666666666666,
             "#ed7953"
            ],
            [
             0.7777777777777778,
             "#fb9f3a"
            ],
            [
             0.8888888888888888,
             "#fdca26"
            ],
            [
             1,
             "#f0f921"
            ]
           ]
          },
          "colorway": [
           "#636efa",
           "#EF553B",
           "#00cc96",
           "#ab63fa",
           "#FFA15A",
           "#19d3f3",
           "#FF6692",
           "#B6E880",
           "#FF97FF",
           "#FECB52"
          ],
          "font": {
           "color": "#2a3f5f"
          },
          "geo": {
           "bgcolor": "white",
           "lakecolor": "white",
           "landcolor": "#E5ECF6",
           "showlakes": true,
           "showland": true,
           "subunitcolor": "white"
          },
          "hoverlabel": {
           "align": "left"
          },
          "hovermode": "closest",
          "mapbox": {
           "style": "light"
          },
          "paper_bgcolor": "white",
          "plot_bgcolor": "#E5ECF6",
          "polar": {
           "angularaxis": {
            "gridcolor": "white",
            "linecolor": "white",
            "ticks": ""
           },
           "bgcolor": "#E5ECF6",
           "radialaxis": {
            "gridcolor": "white",
            "linecolor": "white",
            "ticks": ""
           }
          },
          "scene": {
           "xaxis": {
            "backgroundcolor": "#E5ECF6",
            "gridcolor": "white",
            "gridwidth": 2,
            "linecolor": "white",
            "showbackground": true,
            "ticks": "",
            "zerolinecolor": "white"
           },
           "yaxis": {
            "backgroundcolor": "#E5ECF6",
            "gridcolor": "white",
            "gridwidth": 2,
            "linecolor": "white",
            "showbackground": true,
            "ticks": "",
            "zerolinecolor": "white"
           },
           "zaxis": {
            "backgroundcolor": "#E5ECF6",
            "gridcolor": "white",
            "gridwidth": 2,
            "linecolor": "white",
            "showbackground": true,
            "ticks": "",
            "zerolinecolor": "white"
           }
          },
          "shapedefaults": {
           "line": {
            "color": "#2a3f5f"
           }
          },
          "ternary": {
           "aaxis": {
            "gridcolor": "white",
            "linecolor": "white",
            "ticks": ""
           },
           "baxis": {
            "gridcolor": "white",
            "linecolor": "white",
            "ticks": ""
           },
           "bgcolor": "#E5ECF6",
           "caxis": {
            "gridcolor": "white",
            "linecolor": "white",
            "ticks": ""
           }
          },
          "title": {
           "x": 0.05
          },
          "xaxis": {
           "automargin": true,
           "gridcolor": "white",
           "linecolor": "white",
           "ticks": "",
           "title": {
            "standoff": 15
           },
           "zerolinecolor": "white",
           "zerolinewidth": 2
          },
          "yaxis": {
           "automargin": true,
           "gridcolor": "white",
           "linecolor": "white",
           "ticks": "",
           "title": {
            "standoff": 15
           },
           "zerolinecolor": "white",
           "zerolinewidth": 2
          }
         }
        },
        "title": {
         "text": "3d TSNE Plot for Clusters"
        },
        "width": 900
       }
      }
     },
     "metadata": {},
     "output_type": "display_data"
    }
   ],
   "source": [
    "# Evaluate the KMeans model using internal metrics\n",
    "s.evaluate_model(kmeans)"
   ]
  },
  {
   "cell_type": "code",
   "execution_count": null,
   "metadata": {},
   "outputs": [
    {
     "data": {
      "text/html": [],
      "text/plain": [
       "<IPython.core.display.HTML object>"
      ]
     },
     "metadata": {},
     "output_type": "display_data"
    },
    {
     "data": {
      "image/png": "[encoded data removed]",
      "text/plain": [
       "<Figure size 800x550 with 1 Axes>"
      ]
     },
     "metadata": {},
     "output_type": "display_data"
    }
   ],
   "source": [
    "# Plot the Elbow plot to find the optimal number of clusters\n",
    "s.plot_model(kmeans, plot = 'elbow')"
   ]
  },
  {
   "cell_type": "code",
   "execution_count": null,
   "metadata": {},
   "outputs": [
    {
     "data": {
      "text/html": [
       "<div>\n",
       "<style scoped>\n",
       "    .dataframe tbody tr th:only-of-type {\n",
       "        vertical-align: middle;\n",
       "    }\n",
       "\n",
       "    .dataframe tbody tr th {\n",
       "        vertical-align: top;\n",
       "    }\n",
       "\n",
       "    .dataframe thead th {\n",
       "        text-align: right;\n",
       "    }\n",
       "</style>\n",
       "<table border=\"1\" class=\"dataframe\">\n",
       "  <thead>\n",
       "    <tr style=\"text-align: right;\">\n",
       "      <th></th>\n",
       "      <th>Song</th>\n",
       "      <th>Artist</th>\n",
       "      <th>danceability</th>\n",
       "      <th>energy</th>\n",
       "      <th>key</th>\n",
       "      <th>loudness</th>\n",
       "      <th>mode</th>\n",
       "      <th>speechiness</th>\n",
       "      <th>acousticness</th>\n",
       "      <th>instrumentalness</th>\n",
       "      <th>...</th>\n",
       "      <th>valence</th>\n",
       "      <th>tempo</th>\n",
       "      <th>type</th>\n",
       "      <th>id</th>\n",
       "      <th>uri</th>\n",
       "      <th>track_href</th>\n",
       "      <th>analysis_url</th>\n",
       "      <th>duration_ms</th>\n",
       "      <th>time_signature</th>\n",
       "      <th>Cluster</th>\n",
       "    </tr>\n",
       "  </thead>\n",
       "  <tbody>\n",
       "    <tr>\n",
       "      <th>0</th>\n",
       "      <td>New Fires</td>\n",
       "      <td>Christian Löffler</td>\n",
       "      <td>0.712</td>\n",
       "      <td>0.569</td>\n",
       "      <td>6</td>\n",
       "      <td>-10.819</td>\n",
       "      <td>0</td>\n",
       "      <td>0.0348</td>\n",
       "      <td>0.3460</td>\n",
       "      <td>0.492</td>\n",
       "      <td>...</td>\n",
       "      <td>0.2410</td>\n",
       "      <td>116.015999</td>\n",
       "      <td>audio_features</td>\n",
       "      <td>6I7nESv5d9zf9DcEA9I25u</td>\n",
       "      <td>spotify:track:6I7nESv5d9zf9DcEA9I25u</td>\n",
       "      <td>https://api.spotify.com/v1/tracks/6I7nESv5d9zf...</td>\n",
       "      <td>https://api.spotify.com/v1/audio-analysis/6I7n...</td>\n",
       "      <td>251591</td>\n",
       "      <td>4</td>\n",
       "      <td>Cluster 3</td>\n",
       "    </tr>\n",
       "    <tr>\n",
       "      <th>1</th>\n",
       "      <td>Welcome To The Opera (with Grimes)</td>\n",
       "      <td>Anyma</td>\n",
       "      <td>0.455</td>\n",
       "      <td>0.897</td>\n",
       "      <td>5</td>\n",
       "      <td>-6.345</td>\n",
       "      <td>0</td>\n",
       "      <td>0.0507</td>\n",
       "      <td>0.0073</td>\n",
       "      <td>0.259</td>\n",
       "      <td>...</td>\n",
       "      <td>0.0578</td>\n",
       "      <td>124.976997</td>\n",
       "      <td>audio_features</td>\n",
       "      <td>3XgtRplaKaBn8lxBCAhfwI</td>\n",
       "      <td>spotify:track:3XgtRplaKaBn8lxBCAhfwI</td>\n",
       "      <td>https://api.spotify.com/v1/tracks/3XgtRplaKaBn...</td>\n",
       "      <td>https://api.spotify.com/v1/audio-analysis/3Xgt...</td>\n",
       "      <td>245280</td>\n",
       "      <td>4</td>\n",
       "      <td>Cluster 3</td>\n",
       "    </tr>\n",
       "    <tr>\n",
       "      <th>2</th>\n",
       "      <td>How To Listen To This Album</td>\n",
       "      <td>Stereoclip</td>\n",
       "      <td>0.551</td>\n",
       "      <td>0.712</td>\n",
       "      <td>9</td>\n",
       "      <td>-10.032</td>\n",
       "      <td>0</td>\n",
       "      <td>0.0514</td>\n",
       "      <td>0.2850</td>\n",
       "      <td>0.440</td>\n",
       "      <td>...</td>\n",
       "      <td>0.0746</td>\n",
       "      <td>123.058998</td>\n",
       "      <td>audio_features</td>\n",
       "      <td>0Py4iHLT1CPUOB6UJCrKeq</td>\n",
       "      <td>spotify:track:0Py4iHLT1CPUOB6UJCrKeq</td>\n",
       "      <td>https://api.spotify.com/v1/tracks/0Py4iHLT1CPU...</td>\n",
       "      <td>https://api.spotify.com/v1/audio-analysis/0Py4...</td>\n",
       "      <td>150462</td>\n",
       "      <td>4</td>\n",
       "      <td>Cluster 3</td>\n",
       "    </tr>\n",
       "    <tr>\n",
       "      <th>3</th>\n",
       "      <td>Moment - Mahmut Orhan Remix</td>\n",
       "      <td>PaulWetz</td>\n",
       "      <td>0.814</td>\n",
       "      <td>0.518</td>\n",
       "      <td>1</td>\n",
       "      <td>-9.994</td>\n",
       "      <td>0</td>\n",
       "      <td>0.0751</td>\n",
       "      <td>0.1410</td>\n",
       "      <td>0.415</td>\n",
       "      <td>...</td>\n",
       "      <td>0.3270</td>\n",
       "      <td>123.028999</td>\n",
       "      <td>audio_features</td>\n",
       "      <td>3M6U1RZt2xU6GuVk80pIO0</td>\n",
       "      <td>spotify:track:3M6U1RZt2xU6GuVk80pIO0</td>\n",
       "      <td>https://api.spotify.com/v1/tracks/3M6U1RZt2xU6...</td>\n",
       "      <td>https://api.spotify.com/v1/audio-analysis/3M6U...</td>\n",
       "      <td>230046</td>\n",
       "      <td>4</td>\n",
       "      <td>Cluster 3</td>\n",
       "    </tr>\n",
       "    <tr>\n",
       "      <th>4</th>\n",
       "      <td>Sign of the Times</td>\n",
       "      <td>Harry Styles</td>\n",
       "      <td>0.516</td>\n",
       "      <td>0.595</td>\n",
       "      <td>5</td>\n",
       "      <td>-4.630</td>\n",
       "      <td>1</td>\n",
       "      <td>0.0313</td>\n",
       "      <td>0.0275</td>\n",
       "      <td>0.000</td>\n",
       "      <td>...</td>\n",
       "      <td>0.2220</td>\n",
       "      <td>119.972000</td>\n",
       "      <td>audio_features</td>\n",
       "      <td>5Ohxk2dO5COHF1krpoPigN</td>\n",
       "      <td>spotify:track:5Ohxk2dO5COHF1krpoPigN</td>\n",
       "      <td>https://api.spotify.com/v1/tracks/5Ohxk2dO5COH...</td>\n",
       "      <td>https://api.spotify.com/v1/audio-analysis/5Ohx...</td>\n",
       "      <td>340707</td>\n",
       "      <td>4</td>\n",
       "      <td>Cluster 2</td>\n",
       "    </tr>\n",
       "  </tbody>\n",
       "</table>\n",
       "<p>5 rows × 21 columns</p>\n",
       "</div>"
      ],
      "text/plain": [
       "                                 Song             Artist  danceability  \\\n",
       "0                           New Fires  Christian Löffler         0.712   \n",
       "1  Welcome To The Opera (with Grimes)              Anyma         0.455   \n",
       "2         How To Listen To This Album         Stereoclip         0.551   \n",
       "3         Moment - Mahmut Orhan Remix           PaulWetz         0.814   \n",
       "4                   Sign of the Times       Harry Styles         0.516   \n",
       "\n",
       "   energy  key  loudness  mode  speechiness  acousticness  instrumentalness  \\\n",
       "0   0.569    6   -10.819     0       0.0348        0.3460             0.492   \n",
       "1   0.897    5    -6.345     0       0.0507        0.0073             0.259   \n",
       "2   0.712    9   -10.032     0       0.0514        0.2850             0.440   \n",
       "3   0.518    1    -9.994     0       0.0751        0.1410             0.415   \n",
       "4   0.595    5    -4.630     1       0.0313        0.0275             0.000   \n",
       "\n",
       "   ...  valence       tempo            type                      id  \\\n",
       "0  ...   0.2410  116.015999  audio_features  6I7nESv5d9zf9DcEA9I25u   \n",
       "1  ...   0.0578  124.976997  audio_features  3XgtRplaKaBn8lxBCAhfwI   \n",
       "2  ...   0.0746  123.058998  audio_features  0Py4iHLT1CPUOB6UJCrKeq   \n",
       "3  ...   0.3270  123.028999  audio_features  3M6U1RZt2xU6GuVk80pIO0   \n",
       "4  ...   0.2220  119.972000  audio_features  5Ohxk2dO5COHF1krpoPigN   \n",
       "\n",
       "                                    uri  \\\n",
       "0  spotify:track:6I7nESv5d9zf9DcEA9I25u   \n",
       "1  spotify:track:3XgtRplaKaBn8lxBCAhfwI   \n",
       "2  spotify:track:0Py4iHLT1CPUOB6UJCrKeq   \n",
       "3  spotify:track:3M6U1RZt2xU6GuVk80pIO0   \n",
       "4  spotify:track:5Ohxk2dO5COHF1krpoPigN   \n",
       "\n",
       "                                          track_href  \\\n",
       "0  https://api.spotify.com/v1/tracks/6I7nESv5d9zf...   \n",
       "1  https://api.spotify.com/v1/tracks/3XgtRplaKaBn...   \n",
       "2  https://api.spotify.com/v1/tracks/0Py4iHLT1CPU...   \n",
       "3  https://api.spotify.com/v1/tracks/3M6U1RZt2xU6...   \n",
       "4  https://api.spotify.com/v1/tracks/5Ohxk2dO5COH...   \n",
       "\n",
       "                                        analysis_url duration_ms  \\\n",
       "0  https://api.spotify.com/v1/audio-analysis/6I7n...      251591   \n",
       "1  https://api.spotify.com/v1/audio-analysis/3Xgt...      245280   \n",
       "2  https://api.spotify.com/v1/audio-analysis/0Py4...      150462   \n",
       "3  https://api.spotify.com/v1/audio-analysis/3M6U...      230046   \n",
       "4  https://api.spotify.com/v1/audio-analysis/5Ohx...      340707   \n",
       "\n",
       "   time_signature    Cluster  \n",
       "0               4  Cluster 3  \n",
       "1               4  Cluster 3  \n",
       "2               4  Cluster 3  \n",
       "3               4  Cluster 3  \n",
       "4               4  Cluster 2  \n",
       "\n",
       "[5 rows x 21 columns]"
      ]
     },
     "execution_count": 118,
     "metadata": {},
     "output_type": "execute_result"
    }
   ],
   "source": [
    "# Assign clusters to the data using the KMeans model\n",
    "result = s.assign_model(kmeans)\n",
    "result.head()"
   ]
  },
  {
   "cell_type": "markdown",
   "metadata": {},
   "source": [
    "### Clustering (dbscan)"
   ]
  },
  {
   "cell_type": "code",
   "execution_count": null,
   "metadata": {},
   "outputs": [
    {
     "data": {
      "text/html": [],
      "text/plain": [
       "<IPython.core.display.HTML object>"
      ]
     },
     "metadata": {},
     "output_type": "display_data"
    },
    {
     "data": {
      "text/html": [
       "<style type=\"text/css\">\n",
       "</style>\n",
       "<table id=\"T_2f77a_\">\n",
       "  <thead>\n",
       "    <tr>\n",
       "      <th class=\"blank level0\" >&nbsp;</th>\n",
       "      <th class=\"col_heading level0 col0\" >Silhouette</th>\n",
       "      <th class=\"col_heading level0 col1\" >Calinski-Harabasz</th>\n",
       "      <th class=\"col_heading level0 col2\" >Davies-Bouldin</th>\n",
       "      <th class=\"col_heading level0 col3\" >Homogeneity</th>\n",
       "      <th class=\"col_heading level0 col4\" >Rand Index</th>\n",
       "      <th class=\"col_heading level0 col5\" >Completeness</th>\n",
       "    </tr>\n",
       "  </thead>\n",
       "  <tbody>\n",
       "    <tr>\n",
       "      <th id=\"T_2f77a_level0_row0\" class=\"row_heading level0 row0\" >0</th>\n",
       "      <td id=\"T_2f77a_row0_col0\" class=\"data row0 col0\" >0</td>\n",
       "      <td id=\"T_2f77a_row0_col1\" class=\"data row0 col1\" >0</td>\n",
       "      <td id=\"T_2f77a_row0_col2\" class=\"data row0 col2\" >0</td>\n",
       "      <td id=\"T_2f77a_row0_col3\" class=\"data row0 col3\" >0</td>\n",
       "      <td id=\"T_2f77a_row0_col4\" class=\"data row0 col4\" >0</td>\n",
       "      <td id=\"T_2f77a_row0_col5\" class=\"data row0 col5\" >0</td>\n",
       "    </tr>\n",
       "  </tbody>\n",
       "</table>\n"
      ],
      "text/plain": [
       "<pandas.io.formats.style.Styler at 0x7f9fcd9b5dc0>"
      ]
     },
     "metadata": {},
     "output_type": "display_data"
    },
    {
     "data": {
      "application/vnd.jupyter.widget-view+json": {
       "model_id": "6e4d18aebe9f444d805871f9c0421ed1",
       "version_major": 2,
       "version_minor": 0
      },
      "text/plain": [
       "Processing:   0%|          | 0/3 [00:00<?, ?it/s]"
      ]
     },
     "metadata": {},
     "output_type": "display_data"
    }
   ],
   "source": [
    "# Create a KMeans clustering model\n",
    "dbscan = s.create_model('dbscan')"
   ]
  },
  {
   "cell_type": "code",
   "execution_count": null,
   "metadata": {},
   "outputs": [
    {
     "data": {
      "application/vnd.jupyter.widget-view+json": {
       "model_id": "7ec62ee65b75482c9460aef63626d724",
       "version_major": 2,
       "version_minor": 0
      },
      "text/plain": [
       "interactive(children=(ToggleButtons(description='Plot Type:', icons=('',), options=(('Pipeline Plot', 'pipelin…"
      ]
     },
     "metadata": {},
     "output_type": "display_data"
    },
    {
     "data": {
      "application/vnd.plotly.v1+json": {
       "config": {
        "plotlyServerURL": "https://plot.ly"
       },
       "data": [
        {
         "customdata": [
          [
           "New Fires"
          ],
          [
           "Kalmak Daha Zor"
          ],
          [
           "Shades Of Night"
          ],
          [
           "All You Leave Behind"
          ],
          [
           "Diet Mountain Dew"
          ],
          [
           "Claire"
          ],
          [
           "Consciousness"
          ],
          [
           "My City's On Fire - Notre Dame Remix"
          ],
          [
           "Bukk"
          ],
          [
           "NKBİ X YAPAMAM - Remix"
          ],
          [
           "Gitme Bebé"
          ],
          [
           "The Story About Us"
          ],
          [
           "Love Me More"
          ],
          [
           "Unholy (feat. Kim Petras) - Orchestral Version"
          ],
          [
           "Unholy (feat. Kim Petras)"
          ],
          [
           "Lacrimosa"
          ],
          [
           "exile (feat. Bon Iver)"
          ],
          [
           "Kalbe Ben"
          ],
          [
           "Geçmiş Değişmez - Sezer Uysal Remix"
          ],
          [
           "My Own Time"
          ],
          [
           "Indigo Night"
          ],
          [
           "Where’s My Love - Alternate Version"
          ],
          [
           "Umutsuz Aşk Sözlü - Yalı Çapkını Original Soundtrack"
          ],
          [
           "Paranoya"
          ],
          [
           "Mektup"
          ],
          [
           "Suçlarımdan Biri"
          ],
          [
           "Welcome To The Opera (with Grimes)"
          ],
          [
           "How To Listen To This Album"
          ],
          [
           "Moment - Mahmut Orhan Remix"
          ],
          [
           "Sign of the Times"
          ],
          [
           "Delichones"
          ],
          [
           "Elinari"
          ],
          [
           "Elegy"
          ],
          [
           "Caminando de Noche"
          ],
          [
           "Only We Can See"
          ],
          [
           "Vesaire - Sezer Uysal Mix"
          ],
          [
           "Beauty And The Beast"
          ],
          [
           "Ordinary Friend"
          ],
          [
           "Time and Time Again - Single Edit"
          ],
          [
           "Afterglow"
          ],
          [
           "Danza"
          ],
          [
           "Rosso Profondo"
          ],
          [
           "Tears of Bliss"
          ],
          [
           "Outomorrow - Anyma, Kevin de Vries Remix"
          ],
          [
           "Quiet Distortion - Bart Skils Remix"
          ],
          [
           "Too Little Too Late - Little Late Edit"
          ],
          [
           "Paradise - Âme Remix"
          ],
          [
           "Self Control"
          ],
          [
           "Before I Fall"
          ],
          [
           "Rodrigo: Concierto de Aranjuez: II. Adagio"
          ]
         ],
         "hovertemplate": "Cluster=Cluster -1<br>PCA1=%{x}<br>PCA2=%{y}<br>Feature=%{customdata[0]}<extra></extra>",
         "legendgroup": "Cluster -1",
         "marker": {
          "color": "#636efa",
          "opacity": 0.5,
          "symbol": "circle"
         },
         "mode": "markers",
         "name": "Cluster -1",
         "orientation": "v",
         "showlegend": true,
         "textposition": "top center",
         "type": "scatter",
         "x": [
          1.2218813457878013,
          -1.0349720118606374,
          -1.069806197258138,
          0.0984258970146902,
          -4.200532965244206,
          0.5064714713095804,
          -1.4069597418311683,
          -1.9514898219413885,
          7.390089580744331,
          -0.5950628132144872,
          -0.16441377506797333,
          -1.220864619697989,
          -1.1102240455382564,
          -2.34256527939149,
          -2.9401786371725236,
          4.602364922229466,
          5.542970250345074,
          -1.0433142578579,
          -1.1743720681359562,
          -0.925057410737456,
          3.7831921279171823,
          6.0020828354871645,
          6.9962905388042715,
          -2.1159003007916053,
          -1.3156113011256938,
          -2.8855961928951728,
          -1.9883448152979595,
          0.42434279647210194,
          -1.5544823403883543,
          -0.8317305366516545,
          -0.5501809894386693,
          -0.3647717429185694,
          -0.2855255401605902,
          0.8354506011752397,
          0.8520038061443471,
          -0.12942831461669618,
          3.541706694988517,
          -2.180333432522964,
          -2.782131411588798,
          -2.060683588449982,
          -2.7971686498185133,
          -2.776230560657209,
          -0.9444511462570888,
          -2.1341737524415887,
          -1.0785005962444612,
          -0.8740371433088224,
          -1.427781961513217,
          -0.9177763756299155,
          0.1331143937458271,
          11.244267075501497
         ],
         "xaxis": "x",
         "y": [
          0.8469763192650469,
          -3.3393937215217497,
          3.8402209730363817,
          -1.069522334393627,
          -4.053104363059129,
          0.8603550629926673,
          -0.3476122884455082,
          0.722564050816643,
          5.212864856976336,
          -2.1803047989480886,
          -3.70038099472952,
          4.9350909845021445,
          -3.3714912881129266,
          -2.975124658321235,
          -2.9937391348273272,
          -4.57853028086071,
          -4.356446059056784,
          0.24446591079124672,
          2.9917864860838432,
          3.413289309334532,
          -1.8036008542872815,
          -3.357408097888918,
          -2.5182867890289695,
          -2.2189420001308906,
          -0.7806564988926693,
          -2.748686400080538,
          -1.7124134180757913,
          -0.8526525177644132,
          0.5489045762053716,
          -1.2697585951309605,
          4.056291381331351,
          4.3917363076868945,
          -0.843841245636867,
          4.650265618111659,
          0.22019052194578734,
          4.7104614093664186,
          -2.7019654711971293,
          -2.1444366881600834,
          -2.107713919781427,
          -1.0413140224638162,
          4.260649876625333,
          2.6366913946674484,
          1.7056772683707273,
          2.746755478536918,
          2.763696725662969,
          2.4268552090912654,
          0.9103954920392727,
          -0.9533469962633446,
          -2.5163445387250105,
          3.4408327623444617
         ],
         "yaxis": "y"
        }
       ],
       "layout": {
        "height": 600,
        "legend": {
         "title": {
          "text": "Cluster"
         },
         "tracegroupgap": 0
        },
        "margin": {
         "t": 60
        },
        "plot_bgcolor": "rgb(240,240,240)",
        "template": {
         "data": {
          "bar": [
           {
            "error_x": {
             "color": "#2a3f5f"
            },
            "error_y": {
             "color": "#2a3f5f"
            },
            "marker": {
             "line": {
              "color": "#E5ECF6",
              "width": 0.5
             },
             "pattern": {
              "fillmode": "overlay",
              "size": 10,
              "solidity": 0.2
             }
            },
            "type": "bar"
           }
          ],
          "barpolar": [
           {
            "marker": {
             "line": {
              "color": "#E5ECF6",
              "width": 0.5
             },
             "pattern": {
              "fillmode": "overlay",
              "size": 10,
              "solidity": 0.2
             }
            },
            "type": "barpolar"
           }
          ],
          "carpet": [
           {
            "aaxis": {
             "endlinecolor": "#2a3f5f",
             "gridcolor": "white",
             "linecolor": "white",
             "minorgridcolor": "white",
             "startlinecolor": "#2a3f5f"
            },
            "baxis": {
             "endlinecolor": "#2a3f5f",
             "gridcolor": "white",
             "linecolor": "white",
             "minorgridcolor": "white",
             "startlinecolor": "#2a3f5f"
            },
            "type": "carpet"
           }
          ],
          "choropleth": [
           {
            "colorbar": {
             "outlinewidth": 0,
             "ticks": ""
            },
            "type": "choropleth"
           }
          ],
          "contour": [
           {
            "colorbar": {
             "outlinewidth": 0,
             "ticks": ""
            },
            "colorscale": [
             [
              0,
              "#0d0887"
             ],
             [
              0.1111111111111111,
              "#46039f"
             ],
             [
              0.2222222222222222,
              "#7201a8"
             ],
             [
              0.3333333333333333,
              "#9c179e"
             ],
             [
              0.4444444444444444,
              "#bd3786"
             ],
             [
              0.5555555555555556,
              "#d8576b"
             ],
             [
              0.6666666666666666,
              "#ed7953"
             ],
             [
              0.7777777777777778,
              "#fb9f3a"
             ],
             [
              0.8888888888888888,
              "#fdca26"
             ],
             [
              1,
              "#f0f921"
             ]
            ],
            "type": "contour"
           }
          ],
          "contourcarpet": [
           {
            "colorbar": {
             "outlinewidth": 0,
             "ticks": ""
            },
            "type": "contourcarpet"
           }
          ],
          "heatmap": [
           {
            "colorbar": {
             "outlinewidth": 0,
             "ticks": ""
            },
            "colorscale": [
             [
              0,
              "#0d0887"
             ],
             [
              0.1111111111111111,
              "#46039f"
             ],
             [
              0.2222222222222222,
              "#7201a8"
             ],
             [
              0.3333333333333333,
              "#9c179e"
             ],
             [
              0.4444444444444444,
              "#bd3786"
             ],
             [
              0.5555555555555556,
              "#d8576b"
             ],
             [
              0.6666666666666666,
              "#ed7953"
             ],
             [
              0.7777777777777778,
              "#fb9f3a"
             ],
             [
              0.8888888888888888,
              "#fdca26"
             ],
             [
              1,
              "#f0f921"
             ]
            ],
            "type": "heatmap"
           }
          ],
          "heatmapgl": [
           {
            "colorbar": {
             "outlinewidth": 0,
             "ticks": ""
            },
            "colorscale": [
             [
              0,
              "#0d0887"
             ],
             [
              0.1111111111111111,
              "#46039f"
             ],
             [
              0.2222222222222222,
              "#7201a8"
             ],
             [
              0.3333333333333333,
              "#9c179e"
             ],
             [
              0.4444444444444444,
              "#bd3786"
             ],
             [
              0.5555555555555556,
              "#d8576b"
             ],
             [
              0.6666666666666666,
              "#ed7953"
             ],
             [
              0.7777777777777778,
              "#fb9f3a"
             ],
             [
              0.8888888888888888,
              "#fdca26"
             ],
             [
              1,
              "#f0f921"
             ]
            ],
            "type": "heatmapgl"
           }
          ],
          "histogram": [
           {
            "marker": {
             "pattern": {
              "fillmode": "overlay",
              "size": 10,
              "solidity": 0.2
             }
            },
            "type": "histogram"
           }
          ],
          "histogram2d": [
           {
            "colorbar": {
             "outlinewidth": 0,
             "ticks": ""
            },
            "colorscale": [
             [
              0,
              "#0d0887"
             ],
             [
              0.1111111111111111,
              "#46039f"
             ],
             [
              0.2222222222222222,
              "#7201a8"
             ],
             [
              0.3333333333333333,
              "#9c179e"
             ],
             [
              0.4444444444444444,
              "#bd3786"
             ],
             [
              0.5555555555555556,
              "#d8576b"
             ],
             [
              0.6666666666666666,
              "#ed7953"
             ],
             [
              0.7777777777777778,
              "#fb9f3a"
             ],
             [
              0.8888888888888888,
              "#fdca26"
             ],
             [
              1,
              "#f0f921"
             ]
            ],
            "type": "histogram2d"
           }
          ],
          "histogram2dcontour": [
           {
            "colorbar": {
             "outlinewidth": 0,
             "ticks": ""
            },
            "colorscale": [
             [
              0,
              "#0d0887"
             ],
             [
              0.1111111111111111,
              "#46039f"
             ],
             [
              0.2222222222222222,
              "#7201a8"
             ],
             [
              0.3333333333333333,
              "#9c179e"
             ],
             [
              0.4444444444444444,
              "#bd3786"
             ],
             [
              0.5555555555555556,
              "#d8576b"
             ],
             [
              0.6666666666666666,
              "#ed7953"
             ],
             [
              0.7777777777777778,
              "#fb9f3a"
             ],
             [
              0.8888888888888888,
              "#fdca26"
             ],
             [
              1,
              "#f0f921"
             ]
            ],
            "type": "histogram2dcontour"
           }
          ],
          "mesh3d": [
           {
            "colorbar": {
             "outlinewidth": 0,
             "ticks": ""
            },
            "type": "mesh3d"
           }
          ],
          "parcoords": [
           {
            "line": {
             "colorbar": {
              "outlinewidth": 0,
              "ticks": ""
             }
            },
            "type": "parcoords"
           }
          ],
          "pie": [
           {
            "automargin": true,
            "type": "pie"
           }
          ],
          "scatter": [
           {
            "fillpattern": {
             "fillmode": "overlay",
             "size": 10,
             "solidity": 0.2
            },
            "type": "scatter"
           }
          ],
          "scatter3d": [
           {
            "line": {
             "colorbar": {
              "outlinewidth": 0,
              "ticks": ""
             }
            },
            "marker": {
             "colorbar": {
              "outlinewidth": 0,
              "ticks": ""
             }
            },
            "type": "scatter3d"
           }
          ],
          "scattercarpet": [
           {
            "marker": {
             "colorbar": {
              "outlinewidth": 0,
              "ticks": ""
             }
            },
            "type": "scattercarpet"
           }
          ],
          "scattergeo": [
           {
            "marker": {
             "colorbar": {
              "outlinewidth": 0,
              "ticks": ""
             }
            },
            "type": "scattergeo"
           }
          ],
          "scattergl": [
           {
            "marker": {
             "colorbar": {
              "outlinewidth": 0,
              "ticks": ""
             }
            },
            "type": "scattergl"
           }
          ],
          "scattermapbox": [
           {
            "marker": {
             "colorbar": {
              "outlinewidth": 0,
              "ticks": ""
             }
            },
            "type": "scattermapbox"
           }
          ],
          "scatterpolar": [
           {
            "marker": {
             "colorbar": {
              "outlinewidth": 0,
              "ticks": ""
             }
            },
            "type": "scatterpolar"
           }
          ],
          "scatterpolargl": [
           {
            "marker": {
             "colorbar": {
              "outlinewidth": 0,
              "ticks": ""
             }
            },
            "type": "scatterpolargl"
           }
          ],
          "scatterternary": [
           {
            "marker": {
             "colorbar": {
              "outlinewidth": 0,
              "ticks": ""
             }
            },
            "type": "scatterternary"
           }
          ],
          "surface": [
           {
            "colorbar": {
             "outlinewidth": 0,
             "ticks": ""
            },
            "colorscale": [
             [
              0,
              "#0d0887"
             ],
             [
              0.1111111111111111,
              "#46039f"
             ],
             [
              0.2222222222222222,
              "#7201a8"
             ],
             [
              0.3333333333333333,
              "#9c179e"
             ],
             [
              0.4444444444444444,
              "#bd3786"
             ],
             [
              0.5555555555555556,
              "#d8576b"
             ],
             [
              0.6666666666666666,
              "#ed7953"
             ],
             [
              0.7777777777777778,
              "#fb9f3a"
             ],
             [
              0.8888888888888888,
              "#fdca26"
             ],
             [
              1,
              "#f0f921"
             ]
            ],
            "type": "surface"
           }
          ],
          "table": [
           {
            "cells": {
             "fill": {
              "color": "#EBF0F8"
             },
             "line": {
              "color": "white"
             }
            },
            "header": {
             "fill": {
              "color": "#C8D4E3"
             },
             "line": {
              "color": "white"
             }
            },
            "type": "table"
           }
          ]
         },
         "layout": {
          "annotationdefaults": {
           "arrowcolor": "#2a3f5f",
           "arrowhead": 0,
           "arrowwidth": 1
          },
          "autotypenumbers": "strict",
          "coloraxis": {
           "colorbar": {
            "outlinewidth": 0,
            "ticks": ""
           }
          },
          "colorscale": {
           "diverging": [
            [
             0,
             "#8e0152"
            ],
            [
             0.1,
             "#c51b7d"
            ],
            [
             0.2,
             "#de77ae"
            ],
            [
             0.3,
             "#f1b6da"
            ],
            [
             0.4,
             "#fde0ef"
            ],
            [
             0.5,
             "#f7f7f7"
            ],
            [
             0.6,
             "#e6f5d0"
            ],
            [
             0.7,
             "#b8e186"
            ],
            [
             0.8,
             "#7fbc41"
            ],
            [
             0.9,
             "#4d9221"
            ],
            [
             1,
             "#276419"
            ]
           ],
           "sequential": [
            [
             0,
             "#0d0887"
            ],
            [
             0.1111111111111111,
             "#46039f"
            ],
            [
             0.2222222222222222,
             "#7201a8"
            ],
            [
             0.3333333333333333,
             "#9c179e"
            ],
            [
             0.4444444444444444,
             "#bd3786"
            ],
            [
             0.5555555555555556,
             "#d8576b"
            ],
            [
             0.6666666666666666,
             "#ed7953"
            ],
            [
             0.7777777777777778,
             "#fb9f3a"
            ],
            [
             0.8888888888888888,
             "#fdca26"
            ],
            [
             1,
             "#f0f921"
            ]
           ],
           "sequentialminus": [
            [
             0,
             "#0d0887"
            ],
            [
             0.1111111111111111,
             "#46039f"
            ],
            [
             0.2222222222222222,
             "#7201a8"
            ],
            [
             0.3333333333333333,
             "#9c179e"
            ],
            [
             0.4444444444444444,
             "#bd3786"
            ],
            [
             0.5555555555555556,
             "#d8576b"
            ],
            [
             0.6666666666666666,
             "#ed7953"
            ],
            [
             0.7777777777777778,
             "#fb9f3a"
            ],
            [
             0.8888888888888888,
             "#fdca26"
            ],
            [
             1,
             "#f0f921"
            ]
           ]
          },
          "colorway": [
           "#636efa",
           "#EF553B",
           "#00cc96",
           "#ab63fa",
           "#FFA15A",
           "#19d3f3",
           "#FF6692",
           "#B6E880",
           "#FF97FF",
           "#FECB52"
          ],
          "font": {
           "color": "#2a3f5f"
          },
          "geo": {
           "bgcolor": "white",
           "lakecolor": "white",
           "landcolor": "#E5ECF6",
           "showlakes": true,
           "showland": true,
           "subunitcolor": "white"
          },
          "hoverlabel": {
           "align": "left"
          },
          "hovermode": "closest",
          "mapbox": {
           "style": "light"
          },
          "paper_bgcolor": "white",
          "plot_bgcolor": "#E5ECF6",
          "polar": {
           "angularaxis": {
            "gridcolor": "white",
            "linecolor": "white",
            "ticks": ""
           },
           "bgcolor": "#E5ECF6",
           "radialaxis": {
            "gridcolor": "white",
            "linecolor": "white",
            "ticks": ""
           }
          },
          "scene": {
           "xaxis": {
            "backgroundcolor": "#E5ECF6",
            "gridcolor": "white",
            "gridwidth": 2,
            "linecolor": "white",
            "showbackground": true,
            "ticks": "",
            "zerolinecolor": "white"
           },
           "yaxis": {
            "backgroundcolor": "#E5ECF6",
            "gridcolor": "white",
            "gridwidth": 2,
            "linecolor": "white",
            "showbackground": true,
            "ticks": "",
            "zerolinecolor": "white"
           },
           "zaxis": {
            "backgroundcolor": "#E5ECF6",
            "gridcolor": "white",
            "gridwidth": 2,
            "linecolor": "white",
            "showbackground": true,
            "ticks": "",
            "zerolinecolor": "white"
           }
          },
          "shapedefaults": {
           "line": {
            "color": "#2a3f5f"
           }
          },
          "ternary": {
           "aaxis": {
            "gridcolor": "white",
            "linecolor": "white",
            "ticks": ""
           },
           "baxis": {
            "gridcolor": "white",
            "linecolor": "white",
            "ticks": ""
           },
           "bgcolor": "#E5ECF6",
           "caxis": {
            "gridcolor": "white",
            "linecolor": "white",
            "ticks": ""
           }
          },
          "title": {
           "x": 0.05
          },
          "xaxis": {
           "automargin": true,
           "gridcolor": "white",
           "linecolor": "white",
           "ticks": "",
           "title": {
            "standoff": 15
           },
           "zerolinecolor": "white",
           "zerolinewidth": 2
          },
          "yaxis": {
           "automargin": true,
           "gridcolor": "white",
           "linecolor": "white",
           "ticks": "",
           "title": {
            "standoff": 15
           },
           "zerolinecolor": "white",
           "zerolinewidth": 2
          }
         }
        },
        "title": {
         "text": "2D Cluster PCA Plot"
        },
        "xaxis": {
         "anchor": "y",
         "domain": [
          0,
          1
         ],
         "title": {
          "text": "PCA1"
         }
        },
        "yaxis": {
         "anchor": "x",
         "domain": [
          0,
          1
         ],
         "title": {
          "text": "PCA2"
         }
        }
       }
      }
     },
     "metadata": {},
     "output_type": "display_data"
    }
   ],
   "source": [
    "s.evaluate_model(dbscan)"
   ]
  },
  {
   "cell_type": "markdown",
   "metadata": {},
   "source": [
    "### Model Evaluation"
   ]
  },
  {
   "cell_type": "code",
   "execution_count": null,
   "metadata": {},
   "outputs": [
    {
     "name": "stdout",
     "output_type": "stream",
     "text": [
      "Found: 'What's Your Name' by 'Us Two' from the album 'What's Your Name'\n",
      "\n",
      "Audio Features:\n",
      "danceability: 0.777\n",
      "energy: 0.802\n",
      "key: 8\n",
      "loudness: -9.746\n",
      "mode: 1\n",
      "speechiness: 0.0466\n",
      "acousticness: 0.000495\n",
      "instrumentalness: 0.64\n",
      "liveness: 0.0937\n",
      "valence: 0.632\n",
      "tempo: 135.006\n",
      "type: audio_features\n",
      "id: 2hGFAk0wIN0HYOnKXLopC3\n",
      "uri: spotify:track:2hGFAk0wIN0HYOnKXLopC3\n",
      "track_href: https://api.spotify.com/v1/tracks/2hGFAk0wIN0HYOnKXLopC3\n",
      "analysis_url: https://api.spotify.com/v1/audio-analysis/2hGFAk0wIN0HYOnKXLopC3\n",
      "duration_ms: 444445\n",
      "time_signature: 4\n"
     ]
    }
   ],
   "source": [
    "# Create a Spotipy client with authentication\n",
    "auth_manager = SpotifyClientCredentials(client_id=\"2b515c69e6d541daa25d644bb844de11\", client_secret=\"654ce05e3e19462c8964065e3887b80f\")\n",
    "sp = spotipy.Spotify(auth_manager=auth_manager)\n",
    "\n",
    "# Define the artist and song name\n",
    "artist_name = \"Two Us\"\n",
    "song_name = \"What's Your Name\"\n",
    "\n",
    "# Search for the song\n",
    "results = sp.search(q=f\"artist:{artist_name} track:{song_name}\", type=\"track\", limit=1)\n",
    "\n",
    "# Check if any results were found\n",
    "if results[\"tracks\"][\"items\"]:\n",
    "    track = results[\"tracks\"][\"items\"][0]\n",
    "    track_name = track[\"name\"]\n",
    "    artist_name = track[\"artists\"][0][\"name\"]\n",
    "    album_name = track[\"album\"][\"name\"]\n",
    "    \n",
    "    # Print the basic track information\n",
    "    print(f\"Found: '{track_name}' by '{artist_name}' from the album '{album_name}'\")\n",
    "\n",
    "    # Get the track ID\n",
    "    track_id = track[\"id\"]\n",
    "\n",
    "    # Retrieve the audio features for the track\n",
    "    audio_features = sp.audio_features([track_id])[0]\n",
    "\n",
    "    # Print the audio features\n",
    "    print(\"\\nAudio Features:\")\n",
    "    for key, value in audio_features.items():\n",
    "        print(f\"{key}: {value}\")\n",
    "else:\n",
    "    print(\"Song not found.\")"
   ]
  },
  {
   "cell_type": "code",
   "execution_count": null,
   "metadata": {},
   "outputs": [
    {
     "data": {
      "text/html": [
       "<div>\n",
       "<style scoped>\n",
       "    .dataframe tbody tr th:only-of-type {\n",
       "        vertical-align: middle;\n",
       "    }\n",
       "\n",
       "    .dataframe tbody tr th {\n",
       "        vertical-align: top;\n",
       "    }\n",
       "\n",
       "    .dataframe thead th {\n",
       "        text-align: right;\n",
       "    }\n",
       "</style>\n",
       "<table border=\"1\" class=\"dataframe\">\n",
       "  <thead>\n",
       "    <tr style=\"text-align: right;\">\n",
       "      <th></th>\n",
       "      <th>danceability</th>\n",
       "      <th>energy</th>\n",
       "      <th>key</th>\n",
       "      <th>loudness</th>\n",
       "      <th>mode</th>\n",
       "      <th>speechiness</th>\n",
       "      <th>acousticness</th>\n",
       "      <th>instrumentalness</th>\n",
       "      <th>liveness</th>\n",
       "      <th>valence</th>\n",
       "      <th>tempo</th>\n",
       "      <th>type</th>\n",
       "      <th>id</th>\n",
       "      <th>uri</th>\n",
       "      <th>track_href</th>\n",
       "      <th>analysis_url</th>\n",
       "      <th>duration_ms</th>\n",
       "      <th>time_signature</th>\n",
       "    </tr>\n",
       "  </thead>\n",
       "  <tbody>\n",
       "    <tr>\n",
       "      <th>0</th>\n",
       "      <td>0.777</td>\n",
       "      <td>0.802</td>\n",
       "      <td>8</td>\n",
       "      <td>-9.746</td>\n",
       "      <td>1</td>\n",
       "      <td>0.0466</td>\n",
       "      <td>0.000495</td>\n",
       "      <td>0.64</td>\n",
       "      <td>0.0937</td>\n",
       "      <td>0.632</td>\n",
       "      <td>135.006</td>\n",
       "      <td>audio_features</td>\n",
       "      <td>2hGFAk0wIN0HYOnKXLopC3</td>\n",
       "      <td>spotify:track:2hGFAk0wIN0HYOnKXLopC3</td>\n",
       "      <td>https://api.spotify.com/v1/tracks/2hGFAk0wIN0H...</td>\n",
       "      <td>https://api.spotify.com/v1/audio-analysis/2hGF...</td>\n",
       "      <td>444445</td>\n",
       "      <td>4</td>\n",
       "    </tr>\n",
       "  </tbody>\n",
       "</table>\n",
       "</div>"
      ],
      "text/plain": [
       "   danceability  energy  key  loudness  mode  speechiness  acousticness  \\\n",
       "0         0.777   0.802    8    -9.746     1       0.0466      0.000495   \n",
       "\n",
       "   instrumentalness  liveness  valence    tempo            type  \\\n",
       "0              0.64    0.0937    0.632  135.006  audio_features   \n",
       "\n",
       "                       id                                   uri  \\\n",
       "0  2hGFAk0wIN0HYOnKXLopC3  spotify:track:2hGFAk0wIN0HYOnKXLopC3   \n",
       "\n",
       "                                          track_href  \\\n",
       "0  https://api.spotify.com/v1/tracks/2hGFAk0wIN0H...   \n",
       "\n",
       "                                        analysis_url  duration_ms  \\\n",
       "0  https://api.spotify.com/v1/audio-analysis/2hGF...       444445   \n",
       "\n",
       "   time_signature  \n",
       "0               4  "
      ]
     },
     "execution_count": 102,
     "metadata": {},
     "output_type": "execute_result"
    }
   ],
   "source": [
    "# Create a dictionary to store the track information and audio features\n",
    "df_test = {\n",
    "        \"Track Name\": track_name,\n",
    "        \"Artist Name\": artist_name,\n",
    "        \"Album Name\": album_name\n",
    "        }\n",
    "results.update(audio_features)\n",
    "\n",
    "# Convert the dictionary to a DataFrame\n",
    "df_test = pd.DataFrame([results])\n",
    "\n",
    "# Dropping the \"tracks\" column\n",
    "df_test.drop(columns=['tracks'], inplace=True)\n",
    "df_test"
   ]
  },
  {
   "cell_type": "code",
   "execution_count": null,
   "metadata": {},
   "outputs": [],
   "source": [
    "# Add \"Song\" and \"Artist\" column\n",
    "df_test.insert(0, 'Song', \"What's Your Name\")\n",
    "df_test.insert(1, 'Artist', \"Us Two\")"
   ]
  },
  {
   "cell_type": "code",
   "execution_count": null,
   "metadata": {},
   "outputs": [],
   "source": [
    "# Add \"Cluster\" column\n",
    "df_test.insert(20, 'Cluster', \"\")"
   ]
  },
  {
   "cell_type": "code",
   "execution_count": null,
   "metadata": {},
   "outputs": [
    {
     "data": {
      "text/plain": [
       "RandomForestClassifier(random_state=26)"
      ]
     },
     "execution_count": 105,
     "metadata": {},
     "output_type": "execute_result"
    }
   ],
   "source": [
    "# Split the data into features (X) and the target variable (y)\n",
    "X = result.drop(\"Cluster\", axis=1)\n",
    "y = result[\"Cluster\"]\n",
    "\n",
    "# Convert categorical variables into numerical using one-hot encoding\n",
    "X = pd.get_dummies(X)\n",
    "\n",
    "# Split the data into training and testing sets (80% train, 20% test)\n",
    "X_train, X_test, y_train, y_test = train_test_split(X, y, test_size=0.2, random_state=42)\n",
    "\n",
    "# Initialize the Random Forest Classifier\n",
    "rf_classifier = RandomForestClassifier(random_state=26)\n",
    "\n",
    "# Train the classifier on the training data\n",
    "rf_classifier.fit(X_train, y_train)"
   ]
  },
  {
   "cell_type": "code",
   "execution_count": null,
   "metadata": {},
   "outputs": [
    {
     "name": "stdout",
     "output_type": "stream",
     "text": [
      "Accuracy: 0.75\n",
      "Classification Report:\n",
      "              precision    recall  f1-score   support\n",
      "\n",
      "   Cluster 0       0.74      1.00      0.85        14\n",
      "   Cluster 1       1.00      0.50      0.67         2\n",
      "   Cluster 2       0.00      0.00      0.00         1\n",
      "   Cluster 3       0.00      0.00      0.00         3\n",
      "\n",
      "    accuracy                           0.75        20\n",
      "   macro avg       0.43      0.38      0.38        20\n",
      "weighted avg       0.62      0.75      0.66        20\n",
      "\n"
     ]
    }
   ],
   "source": [
    "# Make predictions on the test set\n",
    "y_pred = rf_classifier.predict(X_test)\n",
    "\n",
    "# Calculate accuracy\n",
    "accuracy = accuracy_score(y_test, y_pred)\n",
    "print(\"Accuracy:\", accuracy)\n",
    "\n",
    "# Generate a classification report\n",
    "print(\"Classification Report:\")\n",
    "print(classification_report(y_test, y_pred))"
   ]
  },
  {
   "cell_type": "code",
   "execution_count": null,
   "metadata": {},
   "outputs": [
    {
     "name": "stdout",
     "output_type": "stream",
     "text": [
      "Predicted Cluster: Cluster 0\n"
     ]
    }
   ],
   "source": [
    "# It turns the categorical variables (like workclass, education, etc.) into numerical values \n",
    "df_test = pd.get_dummies(df_test)\n",
    "\n",
    "# Reorder the columns in test_df to match the order in X_train\n",
    "df_test = df_test.reindex(columns=X.columns, fill_value=0)\n",
    "\n",
    "# Make predictions using the trained classifier\n",
    "predicted_cluster = rf_classifier.predict(df_test)\n",
    "\n",
    "print(\"Predicted Cluster:\", predicted_cluster[0])"
   ]
  }
 ],
 "metadata": {
  "kernelspec": {
   "display_name": "Python 3",
   "language": "python",
   "name": "python3"
  },
  "language_info": {
   "codemirror_mode": {
    "name": "ipython",
    "version": 3
   },
   "file_extension": ".py",
   "mimetype": "text/x-python",
   "name": "python",
   "nbconvert_exporter": "python",
   "pygments_lexer": "ipython3",
   "version": "3.9.13"
  },
  "orig_nbformat": 4
 },
 "nbformat": 4,
 "nbformat_minor": 2
}
